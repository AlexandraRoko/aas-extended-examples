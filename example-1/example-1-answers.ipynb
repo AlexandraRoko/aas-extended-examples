{
 "cells": [
  {
   "cell_type": "markdown",
   "metadata": {},
   "source": [
    "# Flipping coins with Professor Mittens\n",
    "\n",
    "In this lab we will look at the binomial distribution, central limit theorem, and analyse two data sets collected by [Professor Mittens](https://en.wikipedia.org/wiki/Mittens_(cat)) helping him interrogate the bais in the results of coin flips. Some of the questions are open-ended by design. Partial solutions will be distributed at the end of the session. The imports below are used in the provided solutions, consider these suggestions, not constraints. The answers use `altair` but you can use any plotting library you are comfortable with."
   ]
  },
  {
   "cell_type": "code",
   "execution_count": 1,
   "metadata": {},
   "outputs": [],
   "source": [
    "import pandas as pd\n",
    "from scipy import stats\n",
    "import altair as alt\n",
    "from typing import List, Any, Tuple\n",
    "from functools import reduce\n",
    "from itertools import repeat\n",
    "import math as math"
   ]
  },
  {
   "cell_type": "markdown",
   "metadata": {},
   "source": [
    "## Parameter estimation of the binomial distribution\n",
    "\n",
    "Bernoulli and binomial random variables are the typical way to represent the outcome of coin flips. Below we consider estimates of the probability of heads based on a known number of successes in a given number of trials and also a confidence interval (CI) for this based on the Wald method will be given.\n",
    "\n",
    "Let $X$ be a binomial random variable (RV) which results from the number of heads when a coin is flipped $n$ times and the probability of coming up heads is $p$. For the time being we will assume that $n$ is know. The expected value of $X$ is $np$. So a simple way to estimate $p$ is to divide the number of heads, $X$, by the number of flips, $n$. This gives the estimate \n",
    "\n",
    "$$\n",
    "\\hat{p} = X / n.\n",
    "$$\n",
    "\n",
    "It turns out that this is a very sensible thing to do. The resulting estimate is called the maximum likelihood estimate (MLE) of $p$. It is also the result that one obtains via [the method of moments](https://en.wikipedia.org/wiki/Method_of_moments_(statistics)).\n",
    "\n",
    "Given an estimator though, we want to know how confident we are in the estimate it produces. Here we will use the Wald method to get the $95\\%$ CI. It is a very simple method but is acceptable when we have a fair bit of data. The estimated standard error of $\\hat{p}$ is $\\sqrt{\\hat{p}(1-\\hat{p})/n}$, so the Wald CI is given by\n",
    "\n",
    "$$\n",
    "\\hat{p} \\pm z \\sqrt{\\frac{\\hat{p}(1-\\hat{p})}{n}}\n",
    "$$\n",
    "\n",
    "where $z$ is the appropriate quantile of the standard normal distribution. In the case of a $95\\%$ distribution this is just $1.96$.\n",
    "\n",
    "This is stated on the [wikipedia](https://en.wikipedia.org/wiki/Binomial_distribution#Estimation_of_parameters) but there is also a reasonably clear description in [All of Statistics](https://link.springer.com/book/10.1007/978-0-387-21736-9) which you can get via SOLO."
   ]
  },
  {
   "cell_type": "markdown",
   "metadata": {},
   "source": [
    "### Exercise 1 part I\n",
    "\n",
    "Professor Mittens is not very familiar with the binomial distribution and wants you to justify the estimator used above. Convince yourself that the estimate given above, $X/n$, is a sensible choice. Prove that it is either the MLE or the method of moments estimator for $p$. State the limitations on the estimator we are using for the CI."
   ]
  },
  {
   "cell_type": "markdown",
   "metadata": {},
   "source": [
    "### Partial answer\n",
    "\n",
    "- Observe that the expected number of heads is $pn$ and solve for $p$.\n",
    "- Consider each flip as a Bernoulli trial and optimise the resulting log-likelihood function\n",
    "- The Wald estimate assumes you have enough data to justify an asymptotic solution so is unlikely to be accurate for small datasets."
   ]
  },
  {
   "cell_type": "markdown",
   "metadata": {},
   "source": [
    "### Exercise 1 part II\n",
    "\n",
    "Implement a function called `wald_estimate_and_ci` which takes two arguments: `num_trials` which is $n$ in the description above, and `num_success` which is $X$ above. The function should return `(p_hat,(wald_lower,wald_upper))` where `p_hat` is $\\hat{p}$ and `wald_x` are the limits on the $95\\%$ CI using the Wald method."
   ]
  },
  {
   "cell_type": "code",
   "execution_count": 2,
   "metadata": {},
   "outputs": [],
   "source": [
    "CI = Tuple[float,float]\n",
    "EstimateAndCI = Tuple[float,CI]\n",
    "\n",
    "def wald_estimate_and_ci(num_trials: int, num_success: int) -> EstimateAndCI:\n",
    "    p_hat = num_success / num_trials\n",
    "    z = 1.96\n",
    "    delta = z * math.sqrt(p_hat * (1 - p_hat) / num_trials)\n",
    "    return (p_hat,(p_hat - delta, p_hat + delta))"
   ]
  },
  {
   "cell_type": "markdown",
   "metadata": {},
   "source": [
    "### Exercise 2 part I\n",
    "\n",
    "Look up how to simulate a random variable from a binomial distribution (it tells you [here](https://docs.scipy.org/doc/scipy/reference/generated/scipy.stats.binom.html#scipy.stats.binom) if you want to use `scipy`). Then simulate a binomial random variable with $n=100$ and $p=0.6$. Then use the value and the `wald_estimate_and_ci` function to see how well you can estimate $p$. Write a couple of sentences to explain this.\n",
    "\n",
    "### Exercise 2 part II\n",
    "\n",
    "Repeat the process about 100000 times and see what proportion of the CIs capture the true value of $p$. Is it what you expect? Write a couple of sentences to explain what you found."
   ]
  },
  {
   "cell_type": "code",
   "execution_count": 3,
   "metadata": {},
   "outputs": [
    {
     "data": {
      "text/plain": [
       "0.94882"
      ]
     },
     "execution_count": 3,
     "metadata": {},
     "output_type": "execute_result"
    }
   ],
   "source": [
    "rand_xs = stats.binom.rvs(n = 100, p = 0.6, size = 100000)\n",
    "\n",
    "def ci_contains_value(ci: CI, p: float) -> bool:\n",
    "    lower,upper = ci\n",
    "    return lower < p and p < upper\n",
    "\n",
    "p_in_ci_bools = [ci_contains_value(wald_estimate_and_ci(100, x)[1], 0.6) for x in rand_xs]\n",
    "\n",
    "reduce(lambda a, b: a + 1 if b else a, p_in_ci_bools, 0) / 100000"
   ]
  },
  {
   "cell_type": "markdown",
   "metadata": {},
   "source": [
    "### Exercise 2 part III\n",
    "\n",
    "Are credible intervals and confidence intervals the same thing?"
   ]
  },
  {
   "cell_type": "markdown",
   "metadata": {},
   "source": [
    "### Partial answer\n",
    "\n",
    "No confidence intervals are talk about repeated experiments in frequentist statistics while credible intervals talk about posterior probability in Bayesian statistics."
   ]
  },
  {
   "cell_type": "markdown",
   "metadata": {},
   "source": [
    "## Central limit theorem\n",
    "\n",
    "The central limit theorem tells us about the limiting distribution of the sample mean for distribution for an IID sample with a finite variance. It underpins many results in statistics and is important for reasoning about stochastic processes.\n",
    "\n",
    "### Exercise 3 part I\n",
    "\n",
    "Professor Mittens *really* likes to sound fancy and use the name of important theorems. Write down a statement of the law of large numbers. Write down a statement of the central limit theorem. Make sure you understand what each of them tells you."
   ]
  },
  {
   "cell_type": "markdown",
   "metadata": {},
   "source": [
    "### Partial answer\n",
    "\n",
    "- $\\hat{X}$ converges to $\\mu$.\n",
    "- $\\sqrt{n}(\\hat{X} - \\mu) / \\sigma$ converges in distribution to the standard normal distribution as the sample size increases.\n",
    "- The LLN tells you what the limiting value is, the CLT tells you about how about the fluctuations."
   ]
  },
  {
   "cell_type": "markdown",
   "metadata": {},
   "source": [
    "### Exercise 3 part II\n",
    "\n",
    "To see that the distribution of the sample mean converges to a normal distribution we will do a simulation study and compare the results with a Q-Q plot to see if it looks normally distributed. This will also demonstrate how to construct a Q-Q plot from first principles, not that you really want to do that. Carry out the following steps:\n",
    "\n",
    "1. Write down the distribution of the sample mean given an IID sample of exponential random variables\n",
    "2. Generate 100 sample means each based on a sample of 100 exponential random variables\n",
    "3. Make a histogram and a Q-Q plot to see if the sample means do appear to follow a normal distribution"
   ]
  },
  {
   "cell_type": "code",
   "execution_count": 4,
   "metadata": {},
   "outputs": [],
   "source": [
    "sample_size = 1000\n",
    "num_replicates = 1000\n",
    "\n",
    "sample_means = [stats.expon.rvs(scale = 5, size = sample_size).mean() for _ in range(num_replicates)]\n",
    "\n",
    "plot_df = pd.DataFrame({\"sample_mean\": sample_means})\n",
    "\n",
    "mesh_size = 100\n",
    "x_vals = [0.02 * ix + 4 for ix in range(0,mesh_size)]\n",
    "\n",
    "clt_scale = 5 / math.sqrt(sample_size)\n",
    "\n",
    "clt_pdf = [mesh_size * stats.norm.pdf(x, loc = 5, scale = clt_scale) for x in x_vals]\n",
    "clt_df = pd.DataFrame({\"x\": x_vals, \"pdf\": clt_pdf})"
   ]
  },
  {
   "cell_type": "code",
   "execution_count": 5,
   "metadata": {},
   "outputs": [
    {
     "data": {
      "application/vnd.vegalite.v2+json": {
       "$schema": "https://vega.github.io/schema/vega-lite/v2.6.0.json",
       "config": {
        "view": {
         "height": 300,
         "width": 400
        }
       },
       "datasets": {
        "data-ab5dba75d60772b52ee6d8e727d2b0c8": [
         {
          "sample_mean": 4.945146756905104
         },
         {
          "sample_mean": 4.954336691333146
         },
         {
          "sample_mean": 5.022435188587456
         },
         {
          "sample_mean": 5.1423159768363185
         },
         {
          "sample_mean": 4.699739178898602
         },
         {
          "sample_mean": 4.868474579304013
         },
         {
          "sample_mean": 4.778465937273448
         },
         {
          "sample_mean": 4.955217818451924
         },
         {
          "sample_mean": 4.980211525290048
         },
         {
          "sample_mean": 4.9489633262589745
         },
         {
          "sample_mean": 5.240931325351336
         },
         {
          "sample_mean": 4.845726164234886
         },
         {
          "sample_mean": 4.833032419735164
         },
         {
          "sample_mean": 5.197549227660542
         },
         {
          "sample_mean": 4.822066574300342
         },
         {
          "sample_mean": 5.290174862873208
         },
         {
          "sample_mean": 5.084367805162441
         },
         {
          "sample_mean": 5.061348007697334
         },
         {
          "sample_mean": 4.9395747061360735
         },
         {
          "sample_mean": 4.805923002974984
         },
         {
          "sample_mean": 5.120983524400994
         },
         {
          "sample_mean": 5.087482903009957
         },
         {
          "sample_mean": 4.984311842657229
         },
         {
          "sample_mean": 4.834442422739331
         },
         {
          "sample_mean": 5.021246636866854
         },
         {
          "sample_mean": 4.8360240342302925
         },
         {
          "sample_mean": 4.985980714020767
         },
         {
          "sample_mean": 4.544766806179086
         },
         {
          "sample_mean": 4.9598902815626245
         },
         {
          "sample_mean": 4.989718522991061
         },
         {
          "sample_mean": 5.0507573816624465
         },
         {
          "sample_mean": 5.013928041696543
         },
         {
          "sample_mean": 5.249631393475171
         },
         {
          "sample_mean": 4.982436318588789
         },
         {
          "sample_mean": 5.073615502339726
         },
         {
          "sample_mean": 4.972315025875027
         },
         {
          "sample_mean": 4.746151432869779
         },
         {
          "sample_mean": 5.152539573473319
         },
         {
          "sample_mean": 5.196448338651164
         },
         {
          "sample_mean": 4.726023430612385
         },
         {
          "sample_mean": 5.10011415765308
         },
         {
          "sample_mean": 4.950704761412109
         },
         {
          "sample_mean": 4.852744714171023
         },
         {
          "sample_mean": 4.74472579893274
         },
         {
          "sample_mean": 5.048036901159234
         },
         {
          "sample_mean": 4.683652575456097
         },
         {
          "sample_mean": 4.950689738318004
         },
         {
          "sample_mean": 4.987507291557622
         },
         {
          "sample_mean": 5.3023864650734085
         },
         {
          "sample_mean": 5.043550994592868
         },
         {
          "sample_mean": 5.016926547396479
         },
         {
          "sample_mean": 5.146171503606658
         },
         {
          "sample_mean": 5.019414981995587
         },
         {
          "sample_mean": 5.007225138486665
         },
         {
          "sample_mean": 5.065058114493811
         },
         {
          "sample_mean": 4.821717013539428
         },
         {
          "sample_mean": 5.176712185382485
         },
         {
          "sample_mean": 4.905580988946513
         },
         {
          "sample_mean": 4.778986124544203
         },
         {
          "sample_mean": 5.1873925097057185
         },
         {
          "sample_mean": 4.871493833851514
         },
         {
          "sample_mean": 4.978517156563108
         },
         {
          "sample_mean": 4.799156077430218
         },
         {
          "sample_mean": 5.224843586255708
         },
         {
          "sample_mean": 5.131520361950832
         },
         {
          "sample_mean": 4.942103975285314
         },
         {
          "sample_mean": 5.279175567970575
         },
         {
          "sample_mean": 4.776104717283337
         },
         {
          "sample_mean": 4.976159473354957
         },
         {
          "sample_mean": 5.045984605149666
         },
         {
          "sample_mean": 4.884365747949369
         },
         {
          "sample_mean": 4.953441020715154
         },
         {
          "sample_mean": 5.09136397768606
         },
         {
          "sample_mean": 5.149824824714074
         },
         {
          "sample_mean": 4.832335270263675
         },
         {
          "sample_mean": 4.764156993551815
         },
         {
          "sample_mean": 5.171579790020827
         },
         {
          "sample_mean": 4.956609122909591
         },
         {
          "sample_mean": 5.165698603960202
         },
         {
          "sample_mean": 5.013150668635049
         },
         {
          "sample_mean": 4.95549121642929
         },
         {
          "sample_mean": 4.860646771745396
         },
         {
          "sample_mean": 5.165228884315395
         },
         {
          "sample_mean": 4.88059939587509
         },
         {
          "sample_mean": 5.0122449870095735
         },
         {
          "sample_mean": 5.11006167662486
         },
         {
          "sample_mean": 5.106932199582236
         },
         {
          "sample_mean": 4.995726623740429
         },
         {
          "sample_mean": 5.0532032990944495
         },
         {
          "sample_mean": 5.015530211117292
         },
         {
          "sample_mean": 4.765301819200978
         },
         {
          "sample_mean": 5.249249435035303
         },
         {
          "sample_mean": 5.108119960050742
         },
         {
          "sample_mean": 4.888695936531883
         },
         {
          "sample_mean": 5.1567738031657235
         },
         {
          "sample_mean": 4.877531827560236
         },
         {
          "sample_mean": 5.128649276091493
         },
         {
          "sample_mean": 4.944853609193283
         },
         {
          "sample_mean": 4.905008434162983
         },
         {
          "sample_mean": 4.882113105825609
         },
         {
          "sample_mean": 4.979909755006205
         },
         {
          "sample_mean": 5.141841794577346
         },
         {
          "sample_mean": 4.576060908296671
         },
         {
          "sample_mean": 5.071654727570183
         },
         {
          "sample_mean": 4.9362515799709525
         },
         {
          "sample_mean": 4.9247709929596315
         },
         {
          "sample_mean": 4.883889616676633
         },
         {
          "sample_mean": 4.568889550309316
         },
         {
          "sample_mean": 5.091861793304014
         },
         {
          "sample_mean": 4.853729682298537
         },
         {
          "sample_mean": 5.236843005699281
         },
         {
          "sample_mean": 5.04077666874755
         },
         {
          "sample_mean": 5.198601057767868
         },
         {
          "sample_mean": 5.044771214863967
         },
         {
          "sample_mean": 5.214843306597464
         },
         {
          "sample_mean": 4.783698070375383
         },
         {
          "sample_mean": 5.090216896172079
         },
         {
          "sample_mean": 4.9589512850567585
         },
         {
          "sample_mean": 5.207271379610613
         },
         {
          "sample_mean": 4.807753978562225
         },
         {
          "sample_mean": 4.844183098934725
         },
         {
          "sample_mean": 5.029180110838745
         },
         {
          "sample_mean": 4.816615850869411
         },
         {
          "sample_mean": 4.937729327662369
         },
         {
          "sample_mean": 4.9751779341590785
         },
         {
          "sample_mean": 4.959405928632768
         },
         {
          "sample_mean": 4.922774585681959
         },
         {
          "sample_mean": 4.864844505800078
         },
         {
          "sample_mean": 4.959487090256627
         },
         {
          "sample_mean": 5.120171565866327
         },
         {
          "sample_mean": 5.077497794805142
         },
         {
          "sample_mean": 4.991764880199135
         },
         {
          "sample_mean": 4.763374881283076
         },
         {
          "sample_mean": 4.976285795402993
         },
         {
          "sample_mean": 5.0776272313661215
         },
         {
          "sample_mean": 4.9459696242071445
         },
         {
          "sample_mean": 4.612736335026446
         },
         {
          "sample_mean": 4.965012445801753
         },
         {
          "sample_mean": 5.016976655995779
         },
         {
          "sample_mean": 5.001082495051685
         },
         {
          "sample_mean": 5.009960711219091
         },
         {
          "sample_mean": 5.134439583508322
         },
         {
          "sample_mean": 5.098929363015545
         },
         {
          "sample_mean": 5.0039012604996165
         },
         {
          "sample_mean": 5.113490555302016
         },
         {
          "sample_mean": 4.773755129196442
         },
         {
          "sample_mean": 4.901492604744057
         },
         {
          "sample_mean": 5.038181056946467
         },
         {
          "sample_mean": 4.908063123356298
         },
         {
          "sample_mean": 4.7003213613114365
         },
         {
          "sample_mean": 5.000665941641327
         },
         {
          "sample_mean": 4.773584229321925
         },
         {
          "sample_mean": 5.153342760012961
         },
         {
          "sample_mean": 4.934381083289337
         },
         {
          "sample_mean": 4.859307808549018
         },
         {
          "sample_mean": 5.104278697916204
         },
         {
          "sample_mean": 4.6341304598456805
         },
         {
          "sample_mean": 4.924379408833007
         },
         {
          "sample_mean": 5.192539114015274
         },
         {
          "sample_mean": 4.9280801144931665
         },
         {
          "sample_mean": 4.969111555696508
         },
         {
          "sample_mean": 5.022456508974288
         },
         {
          "sample_mean": 4.696672479285367
         },
         {
          "sample_mean": 4.735341117975058
         },
         {
          "sample_mean": 4.780269210115709
         },
         {
          "sample_mean": 5.076631701663029
         },
         {
          "sample_mean": 5.095495360949491
         },
         {
          "sample_mean": 4.7749091996967685
         },
         {
          "sample_mean": 4.929963649139585
         },
         {
          "sample_mean": 5.153715599685152
         },
         {
          "sample_mean": 4.8956133647322435
         },
         {
          "sample_mean": 4.806984834637388
         },
         {
          "sample_mean": 5.001293194835143
         },
         {
          "sample_mean": 5.077146411560172
         },
         {
          "sample_mean": 4.7108209030954935
         },
         {
          "sample_mean": 4.788644422130679
         },
         {
          "sample_mean": 5.024458396591526
         },
         {
          "sample_mean": 4.962499646520087
         },
         {
          "sample_mean": 5.131613469772634
         },
         {
          "sample_mean": 4.901039165163898
         },
         {
          "sample_mean": 5.037952545508063
         },
         {
          "sample_mean": 5.224393433058449
         },
         {
          "sample_mean": 4.968272806076001
         },
         {
          "sample_mean": 5.139891209108493
         },
         {
          "sample_mean": 4.925781640514022
         },
         {
          "sample_mean": 5.009174184650312
         },
         {
          "sample_mean": 4.691513070379745
         },
         {
          "sample_mean": 4.745075366207416
         },
         {
          "sample_mean": 4.8616708891275975
         },
         {
          "sample_mean": 4.899386031110815
         },
         {
          "sample_mean": 5.084823724045651
         },
         {
          "sample_mean": 4.830316299692884
         },
         {
          "sample_mean": 4.954484473815924
         },
         {
          "sample_mean": 4.8193627408701545
         },
         {
          "sample_mean": 4.883250805694315
         },
         {
          "sample_mean": 5.180547411301333
         },
         {
          "sample_mean": 4.9089670115770465
         },
         {
          "sample_mean": 4.95073104134182
         },
         {
          "sample_mean": 4.791452648171273
         },
         {
          "sample_mean": 5.0284094443432625
         },
         {
          "sample_mean": 4.933773257091647
         },
         {
          "sample_mean": 4.836542398289528
         },
         {
          "sample_mean": 5.215574280701781
         },
         {
          "sample_mean": 5.084112810705118
         },
         {
          "sample_mean": 5.053673895509621
         },
         {
          "sample_mean": 5.154357006738355
         },
         {
          "sample_mean": 5.020717551726872
         },
         {
          "sample_mean": 5.0874111643212325
         },
         {
          "sample_mean": 5.219736342826346
         },
         {
          "sample_mean": 4.8366757601778465
         },
         {
          "sample_mean": 4.93541079557124
         },
         {
          "sample_mean": 4.873631471285178
         },
         {
          "sample_mean": 4.986609753965957
         },
         {
          "sample_mean": 5.104919810618894
         },
         {
          "sample_mean": 5.107335897741611
         },
         {
          "sample_mean": 5.092070922664399
         },
         {
          "sample_mean": 4.982995398427675
         },
         {
          "sample_mean": 4.891085445565894
         },
         {
          "sample_mean": 4.924001524924203
         },
         {
          "sample_mean": 5.197328560974822
         },
         {
          "sample_mean": 5.008549124419595
         },
         {
          "sample_mean": 4.833665401959442
         },
         {
          "sample_mean": 4.871566807990377
         },
         {
          "sample_mean": 4.825959722320865
         },
         {
          "sample_mean": 5.07915503179854
         },
         {
          "sample_mean": 5.131329516527088
         },
         {
          "sample_mean": 5.00082861751051
         },
         {
          "sample_mean": 5.103256826138264
         },
         {
          "sample_mean": 5.144334628080289
         },
         {
          "sample_mean": 5.178446305749926
         },
         {
          "sample_mean": 5.002700602509101
         },
         {
          "sample_mean": 4.981373850541989
         },
         {
          "sample_mean": 5.044244118059696
         },
         {
          "sample_mean": 5.19788941558935
         },
         {
          "sample_mean": 4.885228624290032
         },
         {
          "sample_mean": 4.839742130918993
         },
         {
          "sample_mean": 4.981569904361969
         },
         {
          "sample_mean": 5.028685070406512
         },
         {
          "sample_mean": 5.159119516365781
         },
         {
          "sample_mean": 5.072566595204075
         },
         {
          "sample_mean": 5.126985132838643
         },
         {
          "sample_mean": 4.737283959610992
         },
         {
          "sample_mean": 5.1569114666817875
         },
         {
          "sample_mean": 5.013303598989733
         },
         {
          "sample_mean": 5.009304177424173
         },
         {
          "sample_mean": 4.884025260154446
         },
         {
          "sample_mean": 4.974849574569726
         },
         {
          "sample_mean": 5.189024874993835
         },
         {
          "sample_mean": 5.0466852827516835
         },
         {
          "sample_mean": 5.2039100766321145
         },
         {
          "sample_mean": 4.971791631346111
         },
         {
          "sample_mean": 5.076128803079437
         },
         {
          "sample_mean": 5.1448688730279
         },
         {
          "sample_mean": 5.003045733471395
         },
         {
          "sample_mean": 4.979293251615423
         },
         {
          "sample_mean": 5.072120566440803
         },
         {
          "sample_mean": 5.0694595319079845
         },
         {
          "sample_mean": 5.043117663172588
         },
         {
          "sample_mean": 4.974925495484444
         },
         {
          "sample_mean": 4.921559619524449
         },
         {
          "sample_mean": 5.13105432398536
         },
         {
          "sample_mean": 4.827738071209053
         },
         {
          "sample_mean": 4.990308395360921
         },
         {
          "sample_mean": 5.009969563210889
         },
         {
          "sample_mean": 5.2252205556501465
         },
         {
          "sample_mean": 5.122901687130847
         },
         {
          "sample_mean": 4.894196977519943
         },
         {
          "sample_mean": 4.841336468588164
         },
         {
          "sample_mean": 4.91450979203885
         },
         {
          "sample_mean": 5.066695429332568
         },
         {
          "sample_mean": 5.0388651281967025
         },
         {
          "sample_mean": 5.202492762826912
         },
         {
          "sample_mean": 5.062376970160066
         },
         {
          "sample_mean": 5.054836878712832
         },
         {
          "sample_mean": 4.61391067462941
         },
         {
          "sample_mean": 4.861589870400052
         },
         {
          "sample_mean": 5.080742310600098
         },
         {
          "sample_mean": 5.305642189832229
         },
         {
          "sample_mean": 4.972513587283219
         },
         {
          "sample_mean": 5.046253642597534
         },
         {
          "sample_mean": 5.212354261055734
         },
         {
          "sample_mean": 4.942689097685582
         },
         {
          "sample_mean": 5.21136583287594
         },
         {
          "sample_mean": 5.033050303311105
         },
         {
          "sample_mean": 4.8606106499739745
         },
         {
          "sample_mean": 4.980991939576615
         },
         {
          "sample_mean": 4.982560050881547
         },
         {
          "sample_mean": 4.9272115116869095
         },
         {
          "sample_mean": 4.870839239119841
         },
         {
          "sample_mean": 5.043626053124308
         },
         {
          "sample_mean": 4.824513246718156
         },
         {
          "sample_mean": 4.728782959358633
         },
         {
          "sample_mean": 4.900216558651021
         },
         {
          "sample_mean": 4.944488627674041
         },
         {
          "sample_mean": 5.084395325880208
         },
         {
          "sample_mean": 5.156095754831254
         },
         {
          "sample_mean": 4.878342572433029
         },
         {
          "sample_mean": 5.170110973652589
         },
         {
          "sample_mean": 5.2488593175565805
         },
         {
          "sample_mean": 5.051982107988338
         },
         {
          "sample_mean": 4.679411326592721
         },
         {
          "sample_mean": 4.964879461678108
         },
         {
          "sample_mean": 4.82689269239114
         },
         {
          "sample_mean": 4.871506449691551
         },
         {
          "sample_mean": 4.922445573754765
         },
         {
          "sample_mean": 4.978184367134765
         },
         {
          "sample_mean": 5.196682737790581
         },
         {
          "sample_mean": 5.167780718567546
         },
         {
          "sample_mean": 5.079455703004025
         },
         {
          "sample_mean": 5.313888729102519
         },
         {
          "sample_mean": 5.0733320916233495
         },
         {
          "sample_mean": 4.8131938166230075
         },
         {
          "sample_mean": 4.879929614755636
         },
         {
          "sample_mean": 5.057087223371295
         },
         {
          "sample_mean": 4.985293709117813
         },
         {
          "sample_mean": 4.923234841322084
         },
         {
          "sample_mean": 4.791427312488206
         },
         {
          "sample_mean": 4.758616769026102
         },
         {
          "sample_mean": 5.1757256419616295
         },
         {
          "sample_mean": 5.084816838657616
         },
         {
          "sample_mean": 4.595529998564007
         },
         {
          "sample_mean": 5.021600394174593
         },
         {
          "sample_mean": 4.8744375505999065
         },
         {
          "sample_mean": 5.226714735866882
         },
         {
          "sample_mean": 4.758189450200229
         },
         {
          "sample_mean": 5.352771917454778
         },
         {
          "sample_mean": 4.891419961102929
         },
         {
          "sample_mean": 5.2673289186023915
         },
         {
          "sample_mean": 4.964154260266774
         },
         {
          "sample_mean": 4.948267261733634
         },
         {
          "sample_mean": 4.944777132485903
         },
         {
          "sample_mean": 4.980334126213986
         },
         {
          "sample_mean": 5.029389449764394
         },
         {
          "sample_mean": 4.784904225565222
         },
         {
          "sample_mean": 5.005460478842533
         },
         {
          "sample_mean": 4.793532978730358
         },
         {
          "sample_mean": 5.075151335545553
         },
         {
          "sample_mean": 4.76908892365857
         },
         {
          "sample_mean": 4.86607544280514
         },
         {
          "sample_mean": 4.964896227488145
         },
         {
          "sample_mean": 4.876170545979251
         },
         {
          "sample_mean": 4.884835214654139
         },
         {
          "sample_mean": 4.735389250945067
         },
         {
          "sample_mean": 5.072352392621547
         },
         {
          "sample_mean": 5.138515718220048
         },
         {
          "sample_mean": 4.859624672423456
         },
         {
          "sample_mean": 4.9974277839633485
         },
         {
          "sample_mean": 4.983246830907572
         },
         {
          "sample_mean": 5.094717551637394
         },
         {
          "sample_mean": 5.146232354477832
         },
         {
          "sample_mean": 4.920188813314416
         },
         {
          "sample_mean": 5.027601773789984
         },
         {
          "sample_mean": 5.1020654079004055
         },
         {
          "sample_mean": 4.868930560520257
         },
         {
          "sample_mean": 4.876564640342275
         },
         {
          "sample_mean": 5.213291433488276
         },
         {
          "sample_mean": 4.784219663842387
         },
         {
          "sample_mean": 4.796961605823722
         },
         {
          "sample_mean": 4.872019433959789
         },
         {
          "sample_mean": 5.113844824318514
         },
         {
          "sample_mean": 5.014856520605928
         },
         {
          "sample_mean": 4.900490619065385
         },
         {
          "sample_mean": 4.987213573236646
         },
         {
          "sample_mean": 5.263377450067366
         },
         {
          "sample_mean": 5.2505474479354035
         },
         {
          "sample_mean": 5.015026342422452
         },
         {
          "sample_mean": 4.849675083205772
         },
         {
          "sample_mean": 4.8224634950019505
         },
         {
          "sample_mean": 4.809148982845467
         },
         {
          "sample_mean": 5.13925265793166
         },
         {
          "sample_mean": 5.226014713995512
         },
         {
          "sample_mean": 5.129609385395027
         },
         {
          "sample_mean": 4.993582469987565
         },
         {
          "sample_mean": 4.810732781372417
         },
         {
          "sample_mean": 5.167294703049767
         },
         {
          "sample_mean": 4.824558174793146
         },
         {
          "sample_mean": 5.272318918672759
         },
         {
          "sample_mean": 5.050126343630276
         },
         {
          "sample_mean": 5.108170907279857
         },
         {
          "sample_mean": 4.867550397542051
         },
         {
          "sample_mean": 5.053388188533713
         },
         {
          "sample_mean": 4.729805118352521
         },
         {
          "sample_mean": 5.094641114665203
         },
         {
          "sample_mean": 4.96618656054404
         },
         {
          "sample_mean": 4.9366751032656335
         },
         {
          "sample_mean": 5.219451836069378
         },
         {
          "sample_mean": 5.045861918469425
         },
         {
          "sample_mean": 4.982149347497244
         },
         {
          "sample_mean": 5.330331421857788
         },
         {
          "sample_mean": 5.048054781474108
         },
         {
          "sample_mean": 5.344744137802871
         },
         {
          "sample_mean": 5.101167682155519
         },
         {
          "sample_mean": 4.874843899153801
         },
         {
          "sample_mean": 4.788281648599834
         },
         {
          "sample_mean": 4.828800843854108
         },
         {
          "sample_mean": 5.053079086722263
         },
         {
          "sample_mean": 5.005608373133188
         },
         {
          "sample_mean": 5.04931807076959
         },
         {
          "sample_mean": 5.037211683802631
         },
         {
          "sample_mean": 5.2474865009961595
         },
         {
          "sample_mean": 5.078307178802741
         },
         {
          "sample_mean": 4.7928914115211905
         },
         {
          "sample_mean": 5.183434858710759
         },
         {
          "sample_mean": 4.920214198363812
         },
         {
          "sample_mean": 4.9512945910845545
         },
         {
          "sample_mean": 5.0850850368132035
         },
         {
          "sample_mean": 4.86896793796503
         },
         {
          "sample_mean": 5.184893043156282
         },
         {
          "sample_mean": 5.123361953405518
         },
         {
          "sample_mean": 4.802158562226744
         },
         {
          "sample_mean": 5.218096380353072
         },
         {
          "sample_mean": 5.283992766288547
         },
         {
          "sample_mean": 4.972042104492941
         },
         {
          "sample_mean": 5.358299417663257
         },
         {
          "sample_mean": 4.946613412623615
         },
         {
          "sample_mean": 4.947266569735923
         },
         {
          "sample_mean": 5.034627405067779
         },
         {
          "sample_mean": 5.1814776898632715
         },
         {
          "sample_mean": 5.124690839917251
         },
         {
          "sample_mean": 5.232018941973529
         },
         {
          "sample_mean": 5.302182059510083
         },
         {
          "sample_mean": 5.195993549409513
         },
         {
          "sample_mean": 5.001044403033868
         },
         {
          "sample_mean": 5.062445267420678
         },
         {
          "sample_mean": 4.931897755884917
         },
         {
          "sample_mean": 5.167776216234644
         },
         {
          "sample_mean": 5.001442225785468
         },
         {
          "sample_mean": 5.200071614099672
         },
         {
          "sample_mean": 5.021554734309931
         },
         {
          "sample_mean": 4.821871193955378
         },
         {
          "sample_mean": 5.009455855539627
         },
         {
          "sample_mean": 4.726025634970842
         },
         {
          "sample_mean": 5.246303416655079
         },
         {
          "sample_mean": 4.908888340794637
         },
         {
          "sample_mean": 5.206683010053197
         },
         {
          "sample_mean": 4.992602636635848
         },
         {
          "sample_mean": 5.044448104706931
         },
         {
          "sample_mean": 5.1384496281314425
         },
         {
          "sample_mean": 4.9545638888297585
         },
         {
          "sample_mean": 4.740973055175922
         },
         {
          "sample_mean": 4.871817026134317
         },
         {
          "sample_mean": 4.994175932902122
         },
         {
          "sample_mean": 4.9108990240928625
         },
         {
          "sample_mean": 5.085324090041275
         },
         {
          "sample_mean": 4.924380778763459
         },
         {
          "sample_mean": 5.159618989792285
         },
         {
          "sample_mean": 4.988013713484048
         },
         {
          "sample_mean": 4.947956579394666
         },
         {
          "sample_mean": 4.9555881267236455
         },
         {
          "sample_mean": 4.917510430846122
         },
         {
          "sample_mean": 5.094432953780347
         },
         {
          "sample_mean": 4.8587879950930875
         },
         {
          "sample_mean": 4.820561094540939
         },
         {
          "sample_mean": 4.71960726946085
         },
         {
          "sample_mean": 4.831987637855223
         },
         {
          "sample_mean": 4.906694817011367
         },
         {
          "sample_mean": 4.899372879103821
         },
         {
          "sample_mean": 5.335151511397659
         },
         {
          "sample_mean": 4.581616120554169
         },
         {
          "sample_mean": 4.785489724231579
         },
         {
          "sample_mean": 4.898219805713259
         },
         {
          "sample_mean": 4.992495604873046
         },
         {
          "sample_mean": 5.070726260493349
         },
         {
          "sample_mean": 4.8989606642309225
         },
         {
          "sample_mean": 4.951617308517674
         },
         {
          "sample_mean": 5.223030823949963
         },
         {
          "sample_mean": 4.963268498708379
         },
         {
          "sample_mean": 5.01685662265895
         },
         {
          "sample_mean": 5.190171101543506
         },
         {
          "sample_mean": 4.7833738647925355
         },
         {
          "sample_mean": 5.098652599511488
         },
         {
          "sample_mean": 5.3356858536247564
         },
         {
          "sample_mean": 5.206741125614399
         },
         {
          "sample_mean": 4.99806801524435
         },
         {
          "sample_mean": 5.101525374011622
         },
         {
          "sample_mean": 5.03638599663527
         },
         {
          "sample_mean": 5.074649608828855
         },
         {
          "sample_mean": 4.912669472701386
         },
         {
          "sample_mean": 4.840350144429563
         },
         {
          "sample_mean": 4.953093617075361
         },
         {
          "sample_mean": 5.015044593931414
         },
         {
          "sample_mean": 4.754171515113858
         },
         {
          "sample_mean": 5.186757802636197
         },
         {
          "sample_mean": 5.102292823365275
         },
         {
          "sample_mean": 5.055825616273829
         },
         {
          "sample_mean": 5.17891721444331
         },
         {
          "sample_mean": 4.950430602747573
         },
         {
          "sample_mean": 5.013420621756938
         },
         {
          "sample_mean": 5.022582454405351
         },
         {
          "sample_mean": 5.325025333222893
         },
         {
          "sample_mean": 5.079645892862568
         },
         {
          "sample_mean": 4.895331669608234
         },
         {
          "sample_mean": 5.081733771111282
         },
         {
          "sample_mean": 5.172465893410641
         },
         {
          "sample_mean": 5.012196623792173
         },
         {
          "sample_mean": 5.084588284486187
         },
         {
          "sample_mean": 5.017069391611178
         },
         {
          "sample_mean": 5.011511408983654
         },
         {
          "sample_mean": 5.158544535773812
         },
         {
          "sample_mean": 5.26370297925394
         },
         {
          "sample_mean": 4.881561433995615
         },
         {
          "sample_mean": 5.019471030749548
         },
         {
          "sample_mean": 5.27131546835526
         },
         {
          "sample_mean": 5.1054967454225
         },
         {
          "sample_mean": 4.846536887195797
         },
         {
          "sample_mean": 4.874554681856578
         },
         {
          "sample_mean": 5.10536900005946
         },
         {
          "sample_mean": 5.148391213867903
         },
         {
          "sample_mean": 4.964531912624036
         },
         {
          "sample_mean": 4.806163000555676
         },
         {
          "sample_mean": 4.916876448722549
         },
         {
          "sample_mean": 4.877084008370207
         },
         {
          "sample_mean": 4.92604966331396
         },
         {
          "sample_mean": 5.175237181986562
         },
         {
          "sample_mean": 4.910755050640293
         },
         {
          "sample_mean": 4.871110897277622
         },
         {
          "sample_mean": 4.809312277752273
         },
         {
          "sample_mean": 5.14969533520819
         },
         {
          "sample_mean": 4.936526206860197
         },
         {
          "sample_mean": 4.781459591875522
         },
         {
          "sample_mean": 5.061915092377967
         },
         {
          "sample_mean": 5.0099097306928595
         },
         {
          "sample_mean": 5.182660501768559
         },
         {
          "sample_mean": 4.955888890492064
         },
         {
          "sample_mean": 5.159297421874058
         },
         {
          "sample_mean": 4.920157193727713
         },
         {
          "sample_mean": 4.7858099679335435
         },
         {
          "sample_mean": 5.142542935302057
         },
         {
          "sample_mean": 4.811499673144797
         },
         {
          "sample_mean": 5.099340966841711
         },
         {
          "sample_mean": 5.155725943034873
         },
         {
          "sample_mean": 4.823956794536313
         },
         {
          "sample_mean": 5.172486336032477
         },
         {
          "sample_mean": 5.080571479658568
         },
         {
          "sample_mean": 4.817832654628189
         },
         {
          "sample_mean": 5.258401572089444
         },
         {
          "sample_mean": 5.28648100640797
         },
         {
          "sample_mean": 5.272609872791449
         },
         {
          "sample_mean": 5.01709544980167
         },
         {
          "sample_mean": 5.290059815998655
         },
         {
          "sample_mean": 5.149424778881341
         },
         {
          "sample_mean": 5.074567264162781
         },
         {
          "sample_mean": 4.853839709762924
         },
         {
          "sample_mean": 4.958482530100527
         },
         {
          "sample_mean": 5.060673587533426
         },
         {
          "sample_mean": 5.038509097099304
         },
         {
          "sample_mean": 4.919589398786807
         },
         {
          "sample_mean": 5.123650340364593
         },
         {
          "sample_mean": 4.992672426618368
         },
         {
          "sample_mean": 5.1322445267314345
         },
         {
          "sample_mean": 4.930013311963017
         },
         {
          "sample_mean": 4.906894016742614
         },
         {
          "sample_mean": 5.187757975417309
         },
         {
          "sample_mean": 5.023089450405223
         },
         {
          "sample_mean": 4.925431118635636
         },
         {
          "sample_mean": 5.06154955003332
         },
         {
          "sample_mean": 5.094422786560589
         },
         {
          "sample_mean": 5.139142566705445
         },
         {
          "sample_mean": 5.044960834791232
         },
         {
          "sample_mean": 4.947622245177068
         },
         {
          "sample_mean": 5.079954278490517
         },
         {
          "sample_mean": 5.1784480672936395
         },
         {
          "sample_mean": 5.253621544700576
         },
         {
          "sample_mean": 5.103665882363765
         },
         {
          "sample_mean": 4.875938537694586
         },
         {
          "sample_mean": 5.182299089976044
         },
         {
          "sample_mean": 4.948017552406279
         },
         {
          "sample_mean": 4.96573759979824
         },
         {
          "sample_mean": 4.961591280572542
         },
         {
          "sample_mean": 5.264552371792439
         },
         {
          "sample_mean": 4.987809274116833
         },
         {
          "sample_mean": 5.013988768757089
         },
         {
          "sample_mean": 4.959228852383593
         },
         {
          "sample_mean": 5.0279362686092215
         },
         {
          "sample_mean": 4.784431359435535
         },
         {
          "sample_mean": 4.889141426593629
         },
         {
          "sample_mean": 5.212807562631408
         },
         {
          "sample_mean": 4.8656308720551635
         },
         {
          "sample_mean": 4.860457477135372
         },
         {
          "sample_mean": 5.135151576125177
         },
         {
          "sample_mean": 5.137207669981978
         },
         {
          "sample_mean": 4.8748244359454835
         },
         {
          "sample_mean": 4.802034266883094
         },
         {
          "sample_mean": 5.030954583283211
         },
         {
          "sample_mean": 5.107541617123173
         },
         {
          "sample_mean": 4.846913316888338
         },
         {
          "sample_mean": 4.9798323730784615
         },
         {
          "sample_mean": 4.795778688274724
         },
         {
          "sample_mean": 4.951258598166193
         },
         {
          "sample_mean": 4.953664001431201
         },
         {
          "sample_mean": 5.008846287727688
         },
         {
          "sample_mean": 4.908684790329831
         },
         {
          "sample_mean": 4.9018893507967025
         },
         {
          "sample_mean": 5.213849426802283
         },
         {
          "sample_mean": 5.053876155889596
         },
         {
          "sample_mean": 4.798698443243123
         },
         {
          "sample_mean": 4.92432104048009
         },
         {
          "sample_mean": 5.1125349655006795
         },
         {
          "sample_mean": 5.175521034921612
         },
         {
          "sample_mean": 5.174194037401707
         },
         {
          "sample_mean": 4.936575635953026
         },
         {
          "sample_mean": 5.066840415102013
         },
         {
          "sample_mean": 5.102540210063634
         },
         {
          "sample_mean": 5.199209589517679
         },
         {
          "sample_mean": 4.759783383775879
         },
         {
          "sample_mean": 4.867446527620619
         },
         {
          "sample_mean": 5.135782213439075
         },
         {
          "sample_mean": 4.935708345294761
         },
         {
          "sample_mean": 4.840359361496988
         },
         {
          "sample_mean": 4.937601646403554
         },
         {
          "sample_mean": 4.959852952727456
         },
         {
          "sample_mean": 4.894099499380129
         },
         {
          "sample_mean": 4.673936489943562
         },
         {
          "sample_mean": 4.782578016642938
         },
         {
          "sample_mean": 5.060939022610634
         },
         {
          "sample_mean": 5.432481481517826
         },
         {
          "sample_mean": 5.185366957504339
         },
         {
          "sample_mean": 5.304619688991892
         },
         {
          "sample_mean": 4.911504146362843
         },
         {
          "sample_mean": 4.911764691569667
         },
         {
          "sample_mean": 5.153625178695316
         },
         {
          "sample_mean": 4.955709309577507
         },
         {
          "sample_mean": 5.002096341775694
         },
         {
          "sample_mean": 5.050988964928764
         },
         {
          "sample_mean": 4.906038835380924
         },
         {
          "sample_mean": 5.308488057695206
         },
         {
          "sample_mean": 5.098720159984975
         },
         {
          "sample_mean": 5.032383551116992
         },
         {
          "sample_mean": 4.7824294882796545
         },
         {
          "sample_mean": 4.999587423997879
         },
         {
          "sample_mean": 4.862768733421631
         },
         {
          "sample_mean": 4.947719712914042
         },
         {
          "sample_mean": 5.054048017961883
         },
         {
          "sample_mean": 5.202037671165951
         },
         {
          "sample_mean": 5.234972670829415
         },
         {
          "sample_mean": 5.1052377945266985
         },
         {
          "sample_mean": 5.070846642166899
         },
         {
          "sample_mean": 5.298991307294734
         },
         {
          "sample_mean": 4.9443062425824635
         },
         {
          "sample_mean": 5.287678313461598
         },
         {
          "sample_mean": 5.462840116535096
         },
         {
          "sample_mean": 5.015126774500469
         },
         {
          "sample_mean": 4.829339503620099
         },
         {
          "sample_mean": 4.678294862445828
         },
         {
          "sample_mean": 5.048384028214132
         },
         {
          "sample_mean": 4.959378744761543
         },
         {
          "sample_mean": 5.31199542473288
         },
         {
          "sample_mean": 5.127135239912021
         },
         {
          "sample_mean": 4.862065895842857
         },
         {
          "sample_mean": 5.039184448831782
         },
         {
          "sample_mean": 4.885016284498206
         },
         {
          "sample_mean": 5.09931178644878
         },
         {
          "sample_mean": 4.883390604901562
         },
         {
          "sample_mean": 5.020254762255355
         },
         {
          "sample_mean": 4.94418738064621
         },
         {
          "sample_mean": 4.6992062631827265
         },
         {
          "sample_mean": 5.001377389690009
         },
         {
          "sample_mean": 4.853726692542432
         },
         {
          "sample_mean": 4.808352655231298
         },
         {
          "sample_mean": 5.2275594826514125
         },
         {
          "sample_mean": 5.0695275005257265
         },
         {
          "sample_mean": 4.961459531987985
         },
         {
          "sample_mean": 4.924122983241746
         },
         {
          "sample_mean": 5.089134079782881
         },
         {
          "sample_mean": 5.060822835691616
         },
         {
          "sample_mean": 5.388816571797415
         },
         {
          "sample_mean": 4.736750465865296
         },
         {
          "sample_mean": 5.056559959935426
         },
         {
          "sample_mean": 5.10284970218932
         },
         {
          "sample_mean": 5.077627344049018
         },
         {
          "sample_mean": 5.266714513722415
         },
         {
          "sample_mean": 5.281311219941938
         },
         {
          "sample_mean": 4.942863897727633
         },
         {
          "sample_mean": 4.963761310967416
         },
         {
          "sample_mean": 4.898671856169102
         },
         {
          "sample_mean": 5.009971611305975
         },
         {
          "sample_mean": 4.7899090892262794
         },
         {
          "sample_mean": 4.939053954547241
         },
         {
          "sample_mean": 5.05450436379028
         },
         {
          "sample_mean": 4.943119158760616
         },
         {
          "sample_mean": 4.990180948176241
         },
         {
          "sample_mean": 4.859043863237303
         },
         {
          "sample_mean": 5.042534758399944
         },
         {
          "sample_mean": 5.053837651567484
         },
         {
          "sample_mean": 5.1409259687204445
         },
         {
          "sample_mean": 5.0469471556140375
         },
         {
          "sample_mean": 5.168851326110595
         },
         {
          "sample_mean": 4.851137155657742
         },
         {
          "sample_mean": 4.791525719329463
         },
         {
          "sample_mean": 4.786507840137572
         },
         {
          "sample_mean": 4.972762321817886
         },
         {
          "sample_mean": 4.770132600914223
         },
         {
          "sample_mean": 4.930889176207102
         },
         {
          "sample_mean": 5.066504185064081
         },
         {
          "sample_mean": 4.994348983575637
         },
         {
          "sample_mean": 5.028348762423634
         },
         {
          "sample_mean": 5.00252493117371
         },
         {
          "sample_mean": 4.977924213908978
         },
         {
          "sample_mean": 5.032366621987576
         },
         {
          "sample_mean": 4.970484408018172
         },
         {
          "sample_mean": 4.861368805933856
         },
         {
          "sample_mean": 4.999892654642314
         },
         {
          "sample_mean": 4.95699147625355
         },
         {
          "sample_mean": 4.974557733361402
         },
         {
          "sample_mean": 5.126506218526092
         },
         {
          "sample_mean": 5.122717261244727
         },
         {
          "sample_mean": 5.141273266128711
         },
         {
          "sample_mean": 5.347718206313083
         },
         {
          "sample_mean": 4.750035179447549
         },
         {
          "sample_mean": 5.1119987483879985
         },
         {
          "sample_mean": 5.024779230451426
         },
         {
          "sample_mean": 4.96281384185161
         },
         {
          "sample_mean": 5.076743184821798
         },
         {
          "sample_mean": 4.988895340167838
         },
         {
          "sample_mean": 5.088328155936006
         },
         {
          "sample_mean": 5.045596389653159
         },
         {
          "sample_mean": 4.996101094376674
         },
         {
          "sample_mean": 4.817544153442715
         },
         {
          "sample_mean": 5.074106683633021
         },
         {
          "sample_mean": 4.741685387639562
         },
         {
          "sample_mean": 4.83446787903846
         },
         {
          "sample_mean": 4.743057109351997
         },
         {
          "sample_mean": 4.92134911833204
         },
         {
          "sample_mean": 4.977589916800894
         },
         {
          "sample_mean": 4.779533555630942
         },
         {
          "sample_mean": 5.323247055338462
         },
         {
          "sample_mean": 4.992983264537388
         },
         {
          "sample_mean": 4.802549172903107
         },
         {
          "sample_mean": 5.163871696048769
         },
         {
          "sample_mean": 5.071207701887722
         },
         {
          "sample_mean": 4.933453264247093
         },
         {
          "sample_mean": 4.701198678508268
         },
         {
          "sample_mean": 5.2167145388458005
         },
         {
          "sample_mean": 4.943067544528833
         },
         {
          "sample_mean": 4.771028376169963
         },
         {
          "sample_mean": 5.0882420999387685
         },
         {
          "sample_mean": 4.984292969477504
         },
         {
          "sample_mean": 5.091839876862855
         },
         {
          "sample_mean": 5.01734414342337
         },
         {
          "sample_mean": 4.91584789067617
         },
         {
          "sample_mean": 4.83178327433688
         },
         {
          "sample_mean": 4.769357835695246
         },
         {
          "sample_mean": 4.756736681233043
         },
         {
          "sample_mean": 4.851874141503232
         },
         {
          "sample_mean": 5.209647374683984
         },
         {
          "sample_mean": 5.07354502452981
         },
         {
          "sample_mean": 4.818000454961255
         },
         {
          "sample_mean": 4.864459886397273
         },
         {
          "sample_mean": 4.885748574051566
         },
         {
          "sample_mean": 4.902164715160842
         },
         {
          "sample_mean": 5.214766909114503
         },
         {
          "sample_mean": 5.281356303273466
         },
         {
          "sample_mean": 4.949678423396201
         },
         {
          "sample_mean": 5.133605689910679
         },
         {
          "sample_mean": 5.0579550257694335
         },
         {
          "sample_mean": 5.037895063688275
         },
         {
          "sample_mean": 5.247449851498966
         },
         {
          "sample_mean": 4.484453083709983
         },
         {
          "sample_mean": 5.2280537913393
         },
         {
          "sample_mean": 4.9401944045282296
         },
         {
          "sample_mean": 4.950613667216923
         },
         {
          "sample_mean": 4.988147755666688
         },
         {
          "sample_mean": 4.931282824793183
         },
         {
          "sample_mean": 4.910791528762946
         },
         {
          "sample_mean": 5.106424686619148
         },
         {
          "sample_mean": 5.224875807568712
         },
         {
          "sample_mean": 4.9661750166471545
         },
         {
          "sample_mean": 5.278488698374862
         },
         {
          "sample_mean": 5.3077809018626425
         },
         {
          "sample_mean": 4.834524064310595
         },
         {
          "sample_mean": 4.755221663536934
         },
         {
          "sample_mean": 5.113757783655601
         },
         {
          "sample_mean": 5.294452230898905
         },
         {
          "sample_mean": 4.664267321299489
         },
         {
          "sample_mean": 4.631561589079199
         },
         {
          "sample_mean": 4.9814080300507415
         },
         {
          "sample_mean": 5.206041349557536
         },
         {
          "sample_mean": 5.131878146931125
         },
         {
          "sample_mean": 4.8634103233598385
         },
         {
          "sample_mean": 4.9553528381112155
         },
         {
          "sample_mean": 5.084056575165076
         },
         {
          "sample_mean": 5.098043087355225
         },
         {
          "sample_mean": 5.0718905054244185
         },
         {
          "sample_mean": 4.887744293645451
         },
         {
          "sample_mean": 4.8902627813885395
         },
         {
          "sample_mean": 4.950637656074858
         },
         {
          "sample_mean": 5.241244791348197
         },
         {
          "sample_mean": 5.036129466943435
         },
         {
          "sample_mean": 4.978279175438416
         },
         {
          "sample_mean": 5.149051501997314
         },
         {
          "sample_mean": 5.400061404179456
         },
         {
          "sample_mean": 5.062823127247627
         },
         {
          "sample_mean": 4.875196490924274
         },
         {
          "sample_mean": 4.864927078192296
         },
         {
          "sample_mean": 5.345611010663659
         },
         {
          "sample_mean": 5.058089644240277
         },
         {
          "sample_mean": 4.975948215176617
         },
         {
          "sample_mean": 5.117330126185098
         },
         {
          "sample_mean": 4.836437849555832
         },
         {
          "sample_mean": 4.921936876838001
         },
         {
          "sample_mean": 4.894377319735481
         },
         {
          "sample_mean": 5.194548671328072
         },
         {
          "sample_mean": 4.95785584290805
         },
         {
          "sample_mean": 5.154805445265838
         },
         {
          "sample_mean": 5.106560365362547
         },
         {
          "sample_mean": 5.174247121575286
         },
         {
          "sample_mean": 5.111658669571436
         },
         {
          "sample_mean": 5.013241289939497
         },
         {
          "sample_mean": 5.170004731059018
         },
         {
          "sample_mean": 4.985480281459907
         },
         {
          "sample_mean": 5.265616060572302
         },
         {
          "sample_mean": 4.8532851674577175
         },
         {
          "sample_mean": 5.0241869947783435
         },
         {
          "sample_mean": 5.000410491330365
         },
         {
          "sample_mean": 4.90409530745583
         },
         {
          "sample_mean": 5.018577906659714
         },
         {
          "sample_mean": 5.108232461450318
         },
         {
          "sample_mean": 4.8672572609761025
         },
         {
          "sample_mean": 4.929622733604301
         },
         {
          "sample_mean": 5.0554237602701475
         },
         {
          "sample_mean": 5.075509738079198
         },
         {
          "sample_mean": 5.099884145261547
         },
         {
          "sample_mean": 5.274098840838855
         },
         {
          "sample_mean": 5.1218348096059225
         },
         {
          "sample_mean": 4.877349171786678
         },
         {
          "sample_mean": 4.924950982714088
         },
         {
          "sample_mean": 4.637331010352044
         },
         {
          "sample_mean": 5.30074986792161
         },
         {
          "sample_mean": 5.061767535650211
         },
         {
          "sample_mean": 5.222825612974482
         },
         {
          "sample_mean": 5.180529340458011
         },
         {
          "sample_mean": 4.971496932607107
         },
         {
          "sample_mean": 5.166130356351689
         },
         {
          "sample_mean": 5.076809916587278
         },
         {
          "sample_mean": 4.992139796799366
         },
         {
          "sample_mean": 5.147618133820681
         },
         {
          "sample_mean": 5.143173211270694
         },
         {
          "sample_mean": 5.198421383969228
         },
         {
          "sample_mean": 5.28757899144376
         },
         {
          "sample_mean": 4.951351686903412
         },
         {
          "sample_mean": 5.072902732311744
         },
         {
          "sample_mean": 5.028000190346153
         },
         {
          "sample_mean": 4.883907860642806
         },
         {
          "sample_mean": 5.075775654327547
         },
         {
          "sample_mean": 5.044174555938562
         },
         {
          "sample_mean": 4.9589689396542
         },
         {
          "sample_mean": 5.016368150109297
         },
         {
          "sample_mean": 5.173434678599528
         },
         {
          "sample_mean": 5.089895453251561
         },
         {
          "sample_mean": 4.713374873788371
         },
         {
          "sample_mean": 5.015293381784472
         },
         {
          "sample_mean": 5.303305579959206
         },
         {
          "sample_mean": 5.142461072413667
         },
         {
          "sample_mean": 5.148773181033036
         },
         {
          "sample_mean": 5.235634158120462
         },
         {
          "sample_mean": 5.287419919806874
         },
         {
          "sample_mean": 4.843968903088589
         },
         {
          "sample_mean": 5.179549505484609
         },
         {
          "sample_mean": 4.625633303669125
         },
         {
          "sample_mean": 4.834588367472476
         },
         {
          "sample_mean": 5.166824830364158
         },
         {
          "sample_mean": 5.083311734097375
         },
         {
          "sample_mean": 5.181690236945578
         },
         {
          "sample_mean": 5.184731872025311
         },
         {
          "sample_mean": 5.006678147467771
         },
         {
          "sample_mean": 5.365907206303013
         },
         {
          "sample_mean": 4.9538527971843775
         },
         {
          "sample_mean": 5.035846509136907
         },
         {
          "sample_mean": 5.265353320073465
         },
         {
          "sample_mean": 4.993031467163235
         },
         {
          "sample_mean": 5.108490216268828
         },
         {
          "sample_mean": 4.996905302943032
         },
         {
          "sample_mean": 5.209943621415502
         },
         {
          "sample_mean": 4.879143393243357
         },
         {
          "sample_mean": 5.017312065036004
         },
         {
          "sample_mean": 5.122394660889882
         },
         {
          "sample_mean": 4.812164257982781
         },
         {
          "sample_mean": 5.107983433242716
         },
         {
          "sample_mean": 5.140069939565501
         },
         {
          "sample_mean": 5.38639083435057
         },
         {
          "sample_mean": 4.68191757566302
         },
         {
          "sample_mean": 5.17320585133682
         },
         {
          "sample_mean": 4.889059747451509
         },
         {
          "sample_mean": 5.002531277270849
         },
         {
          "sample_mean": 4.840268098854807
         },
         {
          "sample_mean": 5.063056121390697
         },
         {
          "sample_mean": 4.856277976492045
         },
         {
          "sample_mean": 4.687726699172389
         },
         {
          "sample_mean": 4.787497256751318
         },
         {
          "sample_mean": 4.984886730253437
         },
         {
          "sample_mean": 4.534458506734701
         },
         {
          "sample_mean": 4.970837777944494
         },
         {
          "sample_mean": 5.043609842010715
         },
         {
          "sample_mean": 4.935496391157882
         },
         {
          "sample_mean": 5.1149514822714375
         },
         {
          "sample_mean": 5.233455612491588
         },
         {
          "sample_mean": 4.922655849468974
         },
         {
          "sample_mean": 4.788346545187669
         },
         {
          "sample_mean": 4.791340903215232
         },
         {
          "sample_mean": 5.020940525764596
         },
         {
          "sample_mean": 4.86253497557883
         },
         {
          "sample_mean": 4.915639325683808
         },
         {
          "sample_mean": 4.806493603809622
         },
         {
          "sample_mean": 4.9737500569989805
         },
         {
          "sample_mean": 4.809863591409565
         },
         {
          "sample_mean": 5.0237894868323885
         },
         {
          "sample_mean": 4.960606072531477
         },
         {
          "sample_mean": 5.115607851298224
         },
         {
          "sample_mean": 5.022776353843184
         },
         {
          "sample_mean": 4.868482337981119
         },
         {
          "sample_mean": 5.392644119835561
         },
         {
          "sample_mean": 4.923050936183008
         },
         {
          "sample_mean": 4.84445897361287
         },
         {
          "sample_mean": 5.028325047484037
         },
         {
          "sample_mean": 4.865128933534988
         },
         {
          "sample_mean": 5.18166798861084
         },
         {
          "sample_mean": 4.938667898592326
         },
         {
          "sample_mean": 4.863622382097705
         },
         {
          "sample_mean": 4.782580115976085
         },
         {
          "sample_mean": 5.161896743205781
         },
         {
          "sample_mean": 5.3356635312498035
         },
         {
          "sample_mean": 5.078330420362179
         },
         {
          "sample_mean": 4.7559372120006875
         },
         {
          "sample_mean": 5.35838697949844
         },
         {
          "sample_mean": 4.869453937989678
         },
         {
          "sample_mean": 5.057773701543687
         },
         {
          "sample_mean": 5.1007558076660695
         },
         {
          "sample_mean": 5.108427630487077
         },
         {
          "sample_mean": 4.851459586459253
         },
         {
          "sample_mean": 5.1112585407913285
         },
         {
          "sample_mean": 5.214500633326762
         },
         {
          "sample_mean": 5.053750933347346
         },
         {
          "sample_mean": 5.101949387348248
         },
         {
          "sample_mean": 4.993656921483791
         },
         {
          "sample_mean": 4.9513256992695736
         },
         {
          "sample_mean": 4.9603511919690595
         },
         {
          "sample_mean": 4.793273865713414
         },
         {
          "sample_mean": 5.1346024215205865
         },
         {
          "sample_mean": 5.123439866508544
         },
         {
          "sample_mean": 4.75519202828945
         },
         {
          "sample_mean": 5.107344282330224
         },
         {
          "sample_mean": 5.093738004273156
         },
         {
          "sample_mean": 4.959775868333594
         },
         {
          "sample_mean": 5.118613923429337
         },
         {
          "sample_mean": 4.842747547892389
         },
         {
          "sample_mean": 5.0866351410970285
         },
         {
          "sample_mean": 4.951263767876914
         },
         {
          "sample_mean": 5.008813126734591
         },
         {
          "sample_mean": 4.719037999867465
         },
         {
          "sample_mean": 4.932136360283455
         },
         {
          "sample_mean": 5.006057114601537
         },
         {
          "sample_mean": 4.931960290360792
         },
         {
          "sample_mean": 4.990313247461841
         },
         {
          "sample_mean": 4.860543020682955
         },
         {
          "sample_mean": 4.921582138247495
         },
         {
          "sample_mean": 5.220695718990114
         },
         {
          "sample_mean": 5.146240090168824
         },
         {
          "sample_mean": 5.191522546792022
         },
         {
          "sample_mean": 4.8599516073587115
         },
         {
          "sample_mean": 5.166318876360853
         },
         {
          "sample_mean": 4.980530493400722
         },
         {
          "sample_mean": 5.070256123372381
         },
         {
          "sample_mean": 4.953065991367146
         },
         {
          "sample_mean": 4.959428092383277
         },
         {
          "sample_mean": 5.155780246364848
         },
         {
          "sample_mean": 5.3349614892059325
         },
         {
          "sample_mean": 4.9852811601129465
         },
         {
          "sample_mean": 4.990694042206035
         },
         {
          "sample_mean": 4.97286026929267
         },
         {
          "sample_mean": 4.767636333504595
         },
         {
          "sample_mean": 5.095810082456153
         },
         {
          "sample_mean": 4.895312476322927
         },
         {
          "sample_mean": 4.9345661356312895
         },
         {
          "sample_mean": 5.0429532108878306
         },
         {
          "sample_mean": 5.026205545185857
         },
         {
          "sample_mean": 5.078262926711731
         },
         {
          "sample_mean": 5.066305862709864
         },
         {
          "sample_mean": 5.009522515439833
         },
         {
          "sample_mean": 5.26007411255973
         },
         {
          "sample_mean": 5.279515431616082
         },
         {
          "sample_mean": 5.059779504052424
         },
         {
          "sample_mean": 4.978241682828286
         },
         {
          "sample_mean": 4.957911258087499
         },
         {
          "sample_mean": 5.171769964428464
         },
         {
          "sample_mean": 4.946748761058497
         },
         {
          "sample_mean": 4.755652041687771
         },
         {
          "sample_mean": 5.062858408846742
         },
         {
          "sample_mean": 4.978779159473034
         },
         {
          "sample_mean": 4.712677153420228
         },
         {
          "sample_mean": 5.001967229157599
         },
         {
          "sample_mean": 5.019816185708503
         },
         {
          "sample_mean": 4.777721782020713
         },
         {
          "sample_mean": 4.8214388466983955
         },
         {
          "sample_mean": 4.90381770711308
         },
         {
          "sample_mean": 5.130401943476072
         },
         {
          "sample_mean": 5.263974549491062
         },
         {
          "sample_mean": 5.222242851811584
         },
         {
          "sample_mean": 5.275501745433325
         },
         {
          "sample_mean": 5.03022281997326
         },
         {
          "sample_mean": 4.910422471508665
         }
        ],
        "data-d11c7646668d096f96fe9a781f61b4d2": [
         {
          "pdf": 5.200563737654406e-07,
          "x": 4
         },
         {
          "pdf": 1.1481844294265125e-06,
          "x": 4.02
         },
         {
          "pdf": 2.494733569686431e-06,
          "x": 4.04
         },
         {
          "pdf": 5.334429468535572e-06,
          "x": 4.06
         },
         {
          "pdf": 1.1225432217700519e-05,
          "x": 4.08
         },
         {
          "pdf": 2.3247135910605655e-05,
          "x": 4.1
         },
         {
          "pdf": 4.737913480522706e-05,
          "x": 4.12
         },
         {
          "pdf": 9.502898380986609e-05,
          "x": 4.14
         },
         {
          "pdf": 0.00018757559505878569,
          "x": 4.16
         },
         {
          "pdf": 0.00036437440996800257,
          "x": 4.18
         },
         {
          "pdf": 0.0006965795062408364,
          "x": 4.2
         },
         {
          "pdf": 0.0013105234778717847,
          "x": 4.22
         },
         {
          "pdf": 0.002426443630534741,
          "x": 4.24
         },
         {
          "pdf": 0.00442126855728509,
          "x": 4.26
         },
         {
          "pdf": 0.007928205034960797,
          "x": 4.28
         },
         {
          "pdf": 0.01399117339253598,
          "x": 4.3
         },
         {
          "pdf": 0.024298792525968404,
          "x": 4.32
         },
         {
          "pdf": 0.04153044026933313,
          "x": 4.34
         },
         {
          "pdf": 0.06985534883718736,
          "x": 4.36
         },
         {
          "pdf": 0.11563361010377396,
          "x": 4.38
         },
         {
          "pdf": 0.18837349335939274,
          "x": 4.4
         },
         {
          "pdf": 0.30199989171721053,
          "x": 4.42
         },
         {
          "pdf": 0.47648043327627315,
          "x": 4.44
         },
         {
          "pdf": 0.7398346082274715,
          "x": 4.46
         },
         {
          "pdf": 1.130512850584684,
          "x": 4.48
         },
         {
          "pdf": 1.7000733205040701,
          "x": 4.5
         },
         {
          "pdf": 2.516002619162861,
          "x": 4.52
         },
         {
          "pdf": 3.6644248032403253,
          "x": 4.54
         },
         {
          "pdf": 5.252327857928889,
          "x": 4.5600000000000005
         },
         {
          "pdf": 7.408821463076241,
          "x": 4.58
         },
         {
          "pdf": 10.284844252703476,
          "x": 4.6
         },
         {
          "pdf": 14.050688242908235,
          "x": 4.62
         },
         {
          "pdf": 18.890731025540994,
          "x": 4.64
         },
         {
          "pdf": 24.994889396741225,
          "x": 4.66
         },
         {
          "pdf": 32.54655024691881,
          "x": 4.68
         },
         {
          "pdf": 41.707100072566114,
          "x": 4.7
         },
         {
          "pdf": 52.59764673373031,
          "x": 4.72
         },
         {
          "pdf": 65.27906449106993,
          "x": 4.74
         },
         {
          "pdf": 79.73202941950808,
          "x": 4.76
         },
         {
          "pdf": 95.83916096982892,
          "x": 4.78
         },
         {
          "pdf": 113.37165224497896,
          "x": 4.8
         },
         {
          "pdf": 131.98276948221442,
          "x": 4.82
         },
         {
          "pdf": 151.2102692622771,
          "x": 4.84
         },
         {
          "pdf": 170.48910251968752,
          "x": 4.86
         },
         {
          "pdf": 189.17478571399423,
          "x": 4.88
         },
         {
          "pdf": 206.57661898691165,
          "x": 4.9
         },
         {
          "pdf": 221.9986675529185,
          "x": 4.92
         },
         {
          "pdf": 234.78527659658087,
          "x": 4.94
         },
         {
          "pdf": 244.3670455034611,
          "x": 4.96
         },
         {
          "pdf": 250.30279872073226,
          "x": 4.98
         },
         {
          "pdf": 252.31325220201603,
          "x": 5
         },
         {
          "pdf": 250.30279872073226,
          "x": 5.02
         },
         {
          "pdf": 244.3670455034611,
          "x": 5.04
         },
         {
          "pdf": 234.78527659658036,
          "x": 5.0600000000000005
         },
         {
          "pdf": 221.9986675529185,
          "x": 5.08
         },
         {
          "pdf": 206.57661898691165,
          "x": 5.1
         },
         {
          "pdf": 189.17478571399423,
          "x": 5.12
         },
         {
          "pdf": 170.48910251968667,
          "x": 5.140000000000001
         },
         {
          "pdf": 151.2102692622771,
          "x": 5.16
         },
         {
          "pdf": 131.98276948221442,
          "x": 5.18
         },
         {
          "pdf": 113.37165224497896,
          "x": 5.2
         },
         {
          "pdf": 95.83916096982892,
          "x": 5.22
         },
         {
          "pdf": 79.73202941950808,
          "x": 5.24
         },
         {
          "pdf": 65.27906449106993,
          "x": 5.26
         },
         {
          "pdf": 52.59764673373031,
          "x": 5.28
         },
         {
          "pdf": 41.707100072566114,
          "x": 5.3
         },
         {
          "pdf": 32.54655024691881,
          "x": 5.32
         },
         {
          "pdf": 24.994889396741225,
          "x": 5.34
         },
         {
          "pdf": 18.890731025540994,
          "x": 5.36
         },
         {
          "pdf": 14.050688242908235,
          "x": 5.38
         },
         {
          "pdf": 10.284844252703476,
          "x": 5.4
         },
         {
          "pdf": 7.408821463076241,
          "x": 5.42
         },
         {
          "pdf": 5.252327857928889,
          "x": 5.4399999999999995
         },
         {
          "pdf": 3.6644248032403253,
          "x": 5.46
         },
         {
          "pdf": 2.516002619162861,
          "x": 5.48
         },
         {
          "pdf": 1.7000733205040701,
          "x": 5.5
         },
         {
          "pdf": 1.130512850584684,
          "x": 5.52
         },
         {
          "pdf": 0.7398346082274715,
          "x": 5.54
         },
         {
          "pdf": 0.47648043327626344,
          "x": 5.5600000000000005
         },
         {
          "pdf": 0.30199989171721053,
          "x": 5.58
         },
         {
          "pdf": 0.18837349335939274,
          "x": 5.6
         },
         {
          "pdf": 0.11563361010377396,
          "x": 5.62
         },
         {
          "pdf": 0.06985534883718586,
          "x": 5.640000000000001
         },
         {
          "pdf": 0.04153044026933313,
          "x": 5.66
         },
         {
          "pdf": 0.024298792525968404,
          "x": 5.68
         },
         {
          "pdf": 0.01399117339253598,
          "x": 5.7
         },
         {
          "pdf": 0.007928205034960797,
          "x": 5.72
         },
         {
          "pdf": 0.00442126855728509,
          "x": 5.74
         },
         {
          "pdf": 0.002426443630534741,
          "x": 5.76
         },
         {
          "pdf": 0.0013105234778717847,
          "x": 5.78
         },
         {
          "pdf": 0.0006965795062408364,
          "x": 5.8
         },
         {
          "pdf": 0.00036437440996800257,
          "x": 5.82
         },
         {
          "pdf": 0.00018757559505878569,
          "x": 5.84
         },
         {
          "pdf": 9.502898380986609e-05,
          "x": 5.86
         },
         {
          "pdf": 4.737913480522706e-05,
          "x": 5.88
         },
         {
          "pdf": 2.3247135910605655e-05,
          "x": 5.9
         },
         {
          "pdf": 1.1225432217700519e-05,
          "x": 5.92
         },
         {
          "pdf": 5.3344294685357414e-06,
          "x": 5.9399999999999995
         },
         {
          "pdf": 2.494733569686431e-06,
          "x": 5.96
         },
         {
          "pdf": 1.1481844294265125e-06,
          "x": 5.98
         }
        ]
       },
       "layer": [
        {
         "data": {
          "name": "data-ab5dba75d60772b52ee6d8e727d2b0c8"
         },
         "encoding": {
          "x": {
           "bin": {
            "step": 0.1
           },
           "field": "sample_mean",
           "type": "quantitative"
          },
          "y": {
           "aggregate": "count",
           "type": "quantitative"
          }
         },
         "mark": "bar"
        },
        {
         "data": {
          "name": "data-d11c7646668d096f96fe9a781f61b4d2"
         },
         "encoding": {
          "x": {
           "field": "x",
           "type": "quantitative"
          },
          "y": {
           "field": "pdf",
           "type": "quantitative"
          }
         },
         "mark": {
          "color": "red",
          "type": "line"
         }
        }
       ]
      },
      "image/png": "[encoded data removed]",
      "text/plain": [
       "<VegaLite 2 object>\n",
       "\n",
       "If you see this message, it means the renderer has not been properly enabled\n",
       "for the frontend that you are using. For more information, see\n",
       "https://altair-viz.github.io/user_guide/troubleshooting.html\n"
      ]
     },
     "execution_count": 5,
     "metadata": {},
     "output_type": "execute_result"
    }
   ],
   "source": [
    "data_hist = (alt\n",
    "                .Chart(plot_df)\n",
    "                .mark_bar()\n",
    "                .encode(x = alt.X(\"sample_mean:Q\",\n",
    "                                  bin = alt.BinParams(step = 0.1)),\n",
    "                        y = alt.Y(\"count()\")))\n",
    "\n",
    "clt_line = (alt\n",
    "               .Chart(clt_df)\n",
    "               .mark_line(color = \"red\")\n",
    "               .encode(x = \"x\",\n",
    "                       y = \"pdf\"))\n",
    "\n",
    "data_hist + clt_line"
   ]
  },
  {
   "cell_type": "code",
   "execution_count": 6,
   "metadata": {},
   "outputs": [
    {
     "data": {
      "application/vnd.vegalite.v2+json": {
       "$schema": "https://vega.github.io/schema/vega-lite/v2.6.0.json",
       "config": {
        "view": {
         "height": 300,
         "width": 400
        }
       },
       "datasets": {
        "data-97e883dae8635bcdc2e6f7fe30fd1d59": [
         {
          "x": 4.3844530837099835,
          "y": 4.3844530837099835
         },
         {
          "x": 5.562840116535096,
          "y": 5.562840116535096
         }
        ],
        "data-e6c35615c61ddf10fbb64ca38dfe5697": [
         {
          "quantiles": 4.4797220413408105,
          "sample_means": 4.484453083709983
         },
         {
          "quantiles": 4.530759432872859,
          "sample_means": 4.534458506734701
         },
         {
          "quantiles": 4.556168991151405,
          "sample_means": 4.544766806179086
         },
         {
          "quantiles": 4.5735914820435895,
          "sample_means": 4.568889550309316
         },
         {
          "quantiles": 4.586997977102017,
          "sample_means": 4.576060908296671
         },
         {
          "quantiles": 4.5979640163438935,
          "sample_means": 4.581616120554169
         },
         {
          "quantiles": 4.607281592547081,
          "sample_means": 4.595529998564007
         },
         {
          "quantiles": 4.6154071020988505,
          "sample_means": 4.612736335026446
         },
         {
          "quantiles": 4.622628372493203,
          "sample_means": 4.61391067462941
         },
         {
          "quantiles": 4.62913899048925,
          "sample_means": 4.625633303669125
         },
         {
          "quantiles": 4.635075612743147,
          "sample_means": 4.631561589079199
         },
         {
          "quantiles": 4.640538419573548,
          "sample_means": 4.6341304598456805
         },
         {
          "quantiles": 4.64560311135272,
          "sample_means": 4.637331010352044
         },
         {
          "quantiles": 4.650328331847222,
          "sample_means": 4.664267321299489
         },
         {
          "quantiles": 4.654760466560312,
          "sample_means": 4.673936489943562
         },
         {
          "quantiles": 4.658936858763352,
          "sample_means": 4.678294862445828
         },
         {
          "quantiles": 4.662888031993216,
          "sample_means": 4.679411326592721
         },
         {
          "quantiles": 4.666639266733958,
          "sample_means": 4.68191757566302
         },
         {
          "quantiles": 4.670211744628824,
          "sample_means": 4.683652575456097
         },
         {
          "quantiles": 4.673623395503719,
          "sample_means": 4.687726699172389
         },
         {
          "quantiles": 4.676889535479461,
          "sample_means": 4.691513070379745
         },
         {
          "quantiles": 4.68002335525034,
          "sample_means": 4.696672479285367
         },
         {
          "quantiles": 4.683036298960168,
          "sample_means": 4.6992062631827265
         },
         {
          "quantiles": 4.685938361904681,
          "sample_means": 4.699739178898602
         },
         {
          "quantiles": 4.688738327126883,
          "sample_means": 4.7003213613114365
         },
         {
          "quantiles": 4.691443955403342,
          "sample_means": 4.701198678508268
         },
         {
          "quantiles": 4.6940621392518125,
          "sample_means": 4.7108209030954935
         },
         {
          "quantiles": 4.696599028860356,
          "sample_means": 4.712677153420228
         },
         {
          "quantiles": 4.699060135881988,
          "sample_means": 4.713374873788371
         },
         {
          "quantiles": 4.701450419618123,
          "sample_means": 4.719037999867465
         },
         {
          "quantiles": 4.703774359069131,
          "sample_means": 4.71960726946085
         },
         {
          "quantiles": 4.706036013552827,
          "sample_means": 4.726023430612385
         },
         {
          "quantiles": 4.708239074006985,
          "sample_means": 4.726025634970842
         },
         {
          "quantiles": 4.710386906647747,
          "sample_means": 4.728782959358633
         },
         {
          "quantiles": 4.712482590315228,
          "sample_means": 4.729805118352521
         },
         {
          "quantiles": 4.714528948574204,
          "sample_means": 4.735341117975058
         },
         {
          "quantiles": 4.716528577432335,
          "sample_means": 4.735389250945067
         },
         {
          "quantiles": 4.718483869377045,
          "sample_means": 4.736750465865296
         },
         {
          "quantiles": 4.720397034304381,
          "sample_means": 4.737283959610992
         },
         {
          "quantiles": 4.722270117811479,
          "sample_means": 4.740973055175922
         },
         {
          "quantiles": 4.724105017242607,
          "sample_means": 4.741685387639562
         },
         {
          "quantiles": 4.725903495812969,
          "sample_means": 4.743057109351997
         },
         {
          "quantiles": 4.7276671950810005,
          "sample_means": 4.74472579893274
         },
         {
          "quantiles": 4.729397645996362,
          "sample_means": 4.745075366207416
         },
         {
          "quantiles": 4.731096278715078,
          "sample_means": 4.746151432869779
         },
         {
          "quantiles": 4.73276443134385,
          "sample_means": 4.750035179447549
         },
         {
          "quantiles": 4.734403357751216,
          "sample_means": 4.754171515113858
         },
         {
          "quantiles": 4.736014234562931,
          "sample_means": 4.75519202828945
         },
         {
          "quantiles": 4.737598167442088,
          "sample_means": 4.755221663536934
         },
         {
          "quantiles": 4.739156196740244,
          "sample_means": 4.755652041687771
         },
         {
          "quantiles": 4.74068930259395,
          "sample_means": 4.7559372120006875
         },
         {
          "quantiles": 4.742198409530932,
          "sample_means": 4.756736681233043
         },
         {
          "quantiles": 4.743684390641698,
          "sample_means": 4.758189450200229
         },
         {
          "quantiles": 4.745148071364991,
          "sample_means": 4.758616769026102
         },
         {
          "quantiles": 4.746590232929385,
          "sample_means": 4.759783383775879
         },
         {
          "quantiles": 4.748011615487943,
          "sample_means": 4.763374881283076
         },
         {
          "quantiles": 4.749412920978341,
          "sample_means": 4.764156993551815
         },
         {
          "quantiles": 4.7507948157369055,
          "sample_means": 4.765301819200978
         },
         {
          "quantiles": 4.75215793289164,
          "sample_means": 4.767636333504595
         },
         {
          "quantiles": 4.753502874556365,
          "sample_means": 4.76908892365857
         },
         {
          "quantiles": 4.75483021384556,
          "sample_means": 4.769357835695246
         },
         {
          "quantiles": 4.756140496727255,
          "sample_means": 4.770132600914223
         },
         {
          "quantiles": 4.7574342437294295,
          "sample_means": 4.771028376169963
         },
         {
          "quantiles": 4.758711951513617,
          "sample_means": 4.773584229321925
         },
         {
          "quantiles": 4.759974094328,
          "sample_means": 4.773755129196442
         },
         {
          "quantiles": 4.761221125350926,
          "sample_means": 4.7749091996967685
         },
         {
          "quantiles": 4.762453477934658,
          "sample_means": 4.776104717283337
         },
         {
          "quantiles": 4.763671566758146,
          "sample_means": 4.777721782020713
         },
         {
          "quantiles": 4.76487578889673,
          "sample_means": 4.778465937273448
         },
         {
          "quantiles": 4.766066524815869,
          "sample_means": 4.778986124544203
         },
         {
          "quantiles": 4.767244139295316,
          "sample_means": 4.779533555630942
         },
         {
          "quantiles": 4.768408982289513,
          "sample_means": 4.780269210115709
         },
         {
          "quantiles": 4.769561389729445,
          "sample_means": 4.781459591875522
         },
         {
          "quantiles": 4.770701684270675,
          "sample_means": 4.7824294882796545
         },
         {
          "quantiles": 4.771830175991873,
          "sample_means": 4.782578016642938
         },
         {
          "quantiles": 4.772947163047706,
          "sample_means": 4.782580115976085
         },
         {
          "quantiles": 4.774052932279663,
          "sample_means": 4.7833738647925355
         },
         {
          "quantiles": 4.77514775978802,
          "sample_means": 4.783698070375383
         },
         {
          "quantiles": 4.776231911467887,
          "sample_means": 4.784219663842387
         },
         {
          "quantiles": 4.777305643512041,
          "sample_means": 4.784431359435535
         },
         {
          "quantiles": 4.77836920288296,
          "sample_means": 4.784904225565222
         },
         {
          "quantiles": 4.779422827756329,
          "sample_means": 4.785489724231579
         },
         {
          "quantiles": 4.780466747938064,
          "sample_means": 4.7858099679335435
         },
         {
          "quantiles": 4.781501185256732,
          "sample_means": 4.786507840137572
         },
         {
          "quantiles": 4.782526353933099,
          "sample_means": 4.787497256751318
         },
         {
          "quantiles": 4.783542460928392,
          "sample_means": 4.788281648599834
         },
         {
          "quantiles": 4.784549706272737,
          "sample_means": 4.788346545187669
         },
         {
          "quantiles": 4.785548283375118,
          "sample_means": 4.788644422130679
         },
         {
          "quantiles": 4.786538379316091,
          "sample_means": 4.7899090892262794
         },
         {
          "quantiles": 4.787520175124397,
          "sample_means": 4.791340903215232
         },
         {
          "quantiles": 4.788493846038546,
          "sample_means": 4.791427312488206
         },
         {
          "quantiles": 4.789459561754304,
          "sample_means": 4.791452648171273
         },
         {
          "quantiles": 4.79041748665905,
          "sample_means": 4.791525719329463
         },
         {
          "quantiles": 4.791367780053763,
          "sample_means": 4.7928914115211905
         },
         {
          "quantiles": 4.792310596363487,
          "sample_means": 4.793273865713414
         },
         {
          "quantiles": 4.793246085336926,
          "sample_means": 4.793532978730358
         },
         {
          "quantiles": 4.794174392235885,
          "sample_means": 4.795778688274724
         },
         {
          "quantiles": 4.795095658015144,
          "sample_means": 4.796961605823722
         },
         {
          "quantiles": 4.796010019493355,
          "sample_means": 4.798698443243123
         },
         {
          "quantiles": 4.796917609515498,
          "sample_means": 4.799156077430218
         },
         {
          "quantiles": 4.797818557107377,
          "sample_means": 4.802034266883094
         },
         {
          "quantiles": 4.798712987622641,
          "sample_means": 4.802158562226744
         },
         {
          "quantiles": 4.799601022882757,
          "sample_means": 4.802549172903107
         },
         {
          "quantiles": 4.8004827813103255,
          "sample_means": 4.805923002974984
         },
         {
          "quantiles": 4.801358378056133,
          "sample_means": 4.806163000555676
         },
         {
          "quantiles": 4.802227925120281,
          "sample_means": 4.806493603809622
         },
         {
          "quantiles": 4.803091531467731,
          "sample_means": 4.806984834637388
         },
         {
          "quantiles": 4.803949303138562,
          "sample_means": 4.807753978562225
         },
         {
          "quantiles": 4.804801343353237,
          "sample_means": 4.808352655231298
         },
         {
          "quantiles": 4.805647752613152,
          "sample_means": 4.809148982845467
         },
         {
          "quantiles": 4.806488628796704,
          "sample_means": 4.809312277752273
         },
         {
          "quantiles": 4.8073240672511375,
          "sample_means": 4.809863591409565
         },
         {
          "quantiles": 4.808154160880371,
          "sample_means": 4.810732781372417
         },
         {
          "quantiles": 4.808979000229032,
          "sample_means": 4.811499673144797
         },
         {
          "quantiles": 4.809798673562879,
          "sample_means": 4.812164257982781
         },
         {
          "quantiles": 4.810613266945815,
          "sample_means": 4.8131938166230075
         },
         {
          "quantiles": 4.811422864313642,
          "sample_means": 4.816615850869411
         },
         {
          "quantiles": 4.812227547544743,
          "sample_means": 4.817544153442715
         },
         {
          "quantiles": 4.813027396527832,
          "sample_means": 4.817832654628189
         },
         {
          "quantiles": 4.813822489226922,
          "sample_means": 4.818000454961255
         },
         {
          "quantiles": 4.814612901743645,
          "sample_means": 4.8193627408701545
         },
         {
          "quantiles": 4.815398708377055,
          "sample_means": 4.820561094540939
         },
         {
          "quantiles": 4.816179981681033,
          "sample_means": 4.8214388466983955
         },
         {
          "quantiles": 4.8169567925194166,
          "sample_means": 4.821717013539428
         },
         {
          "quantiles": 4.817729210118948,
          "sample_means": 4.821871193955378
         },
         {
          "quantiles": 4.818497302120157,
          "sample_means": 4.822066574300342
         },
         {
          "quantiles": 4.819261134626274,
          "sample_means": 4.8224634950019505
         },
         {
          "quantiles": 4.820020772250247,
          "sample_means": 4.823956794536313
         },
         {
          "quantiles": 4.820776278159982,
          "sample_means": 4.824513246718156
         },
         {
          "quantiles": 4.821527714121852,
          "sample_means": 4.824558174793146
         },
         {
          "quantiles": 4.822275140542584,
          "sample_means": 4.825959722320865
         },
         {
          "quantiles": 4.823018616509575,
          "sample_means": 4.82689269239114
         },
         {
          "quantiles": 4.823758199829722,
          "sample_means": 4.827738071209053
         },
         {
          "quantiles": 4.824493947066816,
          "sample_means": 4.828800843854108
         },
         {
          "quantiles": 4.825225913577584,
          "sample_means": 4.829339503620099
         },
         {
          "quantiles": 4.825954153546419,
          "sample_means": 4.830316299692884
         },
         {
          "quantiles": 4.826678720018865,
          "sample_means": 4.83178327433688
         },
         {
          "quantiles": 4.827399664933907,
          "sample_means": 4.831987637855223
         },
         {
          "quantiles": 4.828117039155115,
          "sample_means": 4.832335270263675
         },
         {
          "quantiles": 4.828830892500704,
          "sample_means": 4.833032419735164
         },
         {
          "quantiles": 4.8295412737725325,
          "sample_means": 4.833665401959442
         },
         {
          "quantiles": 4.8302482307841,
          "sample_means": 4.834442422739331
         },
         {
          "quantiles": 4.830951810387589,
          "sample_means": 4.83446787903846
         },
         {
          "quantiles": 4.831652058499972,
          "sample_means": 4.834524064310595
         },
         {
          "quantiles": 4.83234902012824,
          "sample_means": 4.834588367472476
         },
         {
          "quantiles": 4.833042739393783,
          "sample_means": 4.8360240342302925
         },
         {
          "quantiles": 4.833733259555946,
          "sample_means": 4.836437849555832
         },
         {
          "quantiles": 4.83442062303481,
          "sample_means": 4.836542398289528
         },
         {
          "quantiles": 4.835104871433221,
          "sample_means": 4.8366757601778465
         },
         {
          "quantiles": 4.835786045558092,
          "sample_means": 4.839742130918993
         },
         {
          "quantiles": 4.836464185441018,
          "sample_means": 4.840268098854807
         },
         {
          "quantiles": 4.8371393303582195,
          "sample_means": 4.840350144429563
         },
         {
          "quantiles": 4.837811518849845,
          "sample_means": 4.840359361496988
         },
         {
          "quantiles": 4.8384807887386625,
          "sample_means": 4.841336468588164
         },
         {
          "quantiles": 4.8391471771481545,
          "sample_means": 4.842747547892389
         },
         {
          "quantiles": 4.83981072052004,
          "sample_means": 4.843968903088589
         },
         {
          "quantiles": 4.84047145463126,
          "sample_means": 4.844183098934725
         },
         {
          "quantiles": 4.841129414610417,
          "sample_means": 4.84445897361287
         },
         {
          "quantiles": 4.841784634953724,
          "sample_means": 4.845726164234886
         },
         {
          "quantiles": 4.842437149540452,
          "sample_means": 4.846536887195797
         },
         {
          "quantiles": 4.843086991647914,
          "sample_means": 4.846913316888338
         },
         {
          "quantiles": 4.843734193965983,
          "sample_means": 4.849675083205772
         },
         {
          "quantiles": 4.844378788611194,
          "sample_means": 4.851137155657742
         },
         {
          "quantiles": 4.845020807140396,
          "sample_means": 4.851459586459253
         },
         {
          "quantiles": 4.845660280564022,
          "sample_means": 4.851874141503232
         },
         {
          "quantiles": 4.846297239358952,
          "sample_means": 4.852744714171023
         },
         {
          "quantiles": 4.8469317134810055,
          "sample_means": 4.8532851674577175
         },
         {
          "quantiles": 4.847563732377061,
          "sample_means": 4.853726692542432
         },
         {
          "quantiles": 4.848193324996834,
          "sample_means": 4.853729682298537
         },
         {
          "quantiles": 4.848820519804306,
          "sample_means": 4.853839709762924
         },
         {
          "quantiles": 4.849445344788828,
          "sample_means": 4.856277976492045
         },
         {
          "quantiles": 4.850067827475909,
          "sample_means": 4.8587879950930875
         },
         {
          "quantiles": 4.8506879949377,
          "sample_means": 4.859043863237303
         },
         {
          "quantiles": 4.851305873803175,
          "sample_means": 4.859307808549018
         },
         {
          "quantiles": 4.851921490268032,
          "sample_means": 4.859624672423456
         },
         {
          "quantiles": 4.852534870104322,
          "sample_means": 4.8599516073587115
         },
         {
          "quantiles": 4.853146038669801,
          "sample_means": 4.860457477135372
         },
         {
          "quantiles": 4.853755020917031,
          "sample_means": 4.860543020682955
         },
         {
          "quantiles": 4.854361841402231,
          "sample_means": 4.8606106499739745
         },
         {
          "quantiles": 4.854966524293887,
          "sample_means": 4.860646771745396
         },
         {
          "quantiles": 4.8555690933811215,
          "sample_means": 4.861368805933856
         },
         {
          "quantiles": 4.856169572081853,
          "sample_means": 4.861589870400052
         },
         {
          "quantiles": 4.856767983450724,
          "sample_means": 4.8616708891275975
         },
         {
          "quantiles": 4.857364350186816,
          "sample_means": 4.862065895842857
         },
         {
          "quantiles": 4.857958694641172,
          "sample_means": 4.86253497557883
         },
         {
          "quantiles": 4.858551038824111,
          "sample_means": 4.862768733421631
         },
         {
          "quantiles": 4.859141404412355,
          "sample_means": 4.8634103233598385
         },
         {
          "quantiles": 4.859729812755968,
          "sample_means": 4.863622382097705
         },
         {
          "quantiles": 4.860316284885116,
          "sample_means": 4.864459886397273
         },
         {
          "quantiles": 4.860900841516653,
          "sample_means": 4.864844505800078
         },
         {
          "quantiles": 4.861483503060538,
          "sample_means": 4.864927078192296
         },
         {
          "quantiles": 4.862064289626089,
          "sample_means": 4.865128933534988
         },
         {
          "quantiles": 4.862643221028072,
          "sample_means": 4.8656308720551635
         },
         {
          "quantiles": 4.863220316792648,
          "sample_means": 4.86607544280514
         },
         {
          "quantiles": 4.863795596163162,
          "sample_means": 4.8672572609761025
         },
         {
          "quantiles": 4.864369078105784,
          "sample_means": 4.867446527620619
         },
         {
          "quantiles": 4.864940781315023,
          "sample_means": 4.867550397542051
         },
         {
          "quantiles": 4.865510724219091,
          "sample_means": 4.868474579304013
         },
         {
          "quantiles": 4.8660789249851435,
          "sample_means": 4.868482337981119
         },
         {
          "quantiles": 4.866645401524387,
          "sample_means": 4.868930560520257
         },
         {
          "quantiles": 4.867210171497065,
          "sample_means": 4.86896793796503
         },
         {
          "quantiles": 4.867773252317321,
          "sample_means": 4.869453937989678
         },
         {
          "quantiles": 4.868334661157948,
          "sample_means": 4.870839239119841
         },
         {
          "quantiles": 4.868894414955015,
          "sample_means": 4.871110897277622
         },
         {
          "quantiles": 4.869452530412399,
          "sample_means": 4.871493833851514
         },
         {
          "quantiles": 4.87000902400619,
          "sample_means": 4.871506449691551
         },
         {
          "quantiles": 4.8705639119890085,
          "sample_means": 4.871566807990377
         },
         {
          "quantiles": 4.871117210394208,
          "sample_means": 4.871817026134317
         },
         {
          "quantiles": 4.871668935039993,
          "sample_means": 4.872019433959789
         },
         {
          "quantiles": 4.872219101533427,
          "sample_means": 4.873631471285178
         },
         {
          "quantiles": 4.872767725274359,
          "sample_means": 4.8744375505999065
         },
         {
          "quantiles": 4.873314821459253,
          "sample_means": 4.874554681856578
         },
         {
          "quantiles": 4.873860405084929,
          "sample_means": 4.8748244359454835
         },
         {
          "quantiles": 4.874404490952222,
          "sample_means": 4.874843899153801
         },
         {
          "quantiles": 4.874947093669559,
          "sample_means": 4.875196490924274
         },
         {
          "quantiles": 4.875488227656451,
          "sample_means": 4.875938537694586
         },
         {
          "quantiles": 4.876027907146903,
          "sample_means": 4.876170545979251
         },
         {
          "quantiles": 4.876566146192762,
          "sample_means": 4.876564640342275
         },
         {
          "quantiles": 4.877102958666972,
          "sample_means": 4.877084008370207
         },
         {
          "quantiles": 4.87763835826677,
          "sample_means": 4.877349171786678
         },
         {
          "quantiles": 4.878172358516805,
          "sample_means": 4.877531827560236
         },
         {
          "quantiles": 4.878704972772188,
          "sample_means": 4.878342572433029
         },
         {
          "quantiles": 4.879236214221484,
          "sample_means": 4.879143393243357
         },
         {
          "quantiles": 4.879766095889623,
          "sample_means": 4.879929614755636
         },
         {
          "quantiles": 4.8802946306407655,
          "sample_means": 4.88059939587509
         },
         {
          "quantiles": 4.8808218311810885,
          "sample_means": 4.881561433995615
         },
         {
          "quantiles": 4.881347710061529,
          "sample_means": 4.882113105825609
         },
         {
          "quantiles": 4.881872279680453,
          "sample_means": 4.883250805694315
         },
         {
          "quantiles": 4.88239555228628,
          "sample_means": 4.883390604901562
         },
         {
          "quantiles": 4.882917539980042,
          "sample_means": 4.883889616676633
         },
         {
          "quantiles": 4.883438254717898,
          "sample_means": 4.883907860642806
         },
         {
          "quantiles": 4.883957708313587,
          "sample_means": 4.884025260154446
         },
         {
          "quantiles": 4.884475912440834,
          "sample_means": 4.884365747949369
         },
         {
          "quantiles": 4.884992878635705,
          "sample_means": 4.884835214654139
         },
         {
          "quantiles": 4.885508618298913,
          "sample_means": 4.885016284498206
         },
         {
          "quantiles": 4.886023142698078,
          "sample_means": 4.885228624290032
         },
         {
          "quantiles": 4.886536462969938,
          "sample_means": 4.885748574051566
         },
         {
          "quantiles": 4.8870485901225145,
          "sample_means": 4.887744293645451
         },
         {
          "quantiles": 4.887559535037238,
          "sample_means": 4.888695936531883
         },
         {
          "quantiles": 4.888069308471023,
          "sample_means": 4.889059747451509
         },
         {
          "quantiles": 4.888577921058311,
          "sample_means": 4.889141426593629
         },
         {
          "quantiles": 4.889085383313061,
          "sample_means": 4.8902627813885395
         },
         {
          "quantiles": 4.889591705630712,
          "sample_means": 4.891085445565894
         },
         {
          "quantiles": 4.890096898290094,
          "sample_means": 4.891419961102929
         },
         {
          "quantiles": 4.89060097145531,
          "sample_means": 4.894099499380129
         },
         {
          "quantiles": 4.891103935177582,
          "sample_means": 4.894196977519943
         },
         {
          "quantiles": 4.891605799397047,
          "sample_means": 4.894377319735481
         },
         {
          "quantiles": 4.892106573944538,
          "sample_means": 4.895312476322927
         },
         {
          "quantiles": 4.892606268543311,
          "sample_means": 4.895331669608234
         },
         {
          "quantiles": 4.893104892810753,
          "sample_means": 4.8956133647322435
         },
         {
          "quantiles": 4.893602456260045,
          "sample_means": 4.898219805713259
         },
         {
          "quantiles": 4.8940989683018055,
          "sample_means": 4.898671856169102
         },
         {
          "quantiles": 4.89459443824569,
          "sample_means": 4.8989606642309225
         },
         {
          "quantiles": 4.895088875301967,
          "sample_means": 4.899372879103821
         },
         {
          "quantiles": 4.895582288583064,
          "sample_means": 4.899386031110815
         },
         {
          "quantiles": 4.896074687105082,
          "sample_means": 4.900216558651021
         },
         {
          "quantiles": 4.896566079789279,
          "sample_means": 4.900490619065385
         },
         {
          "quantiles": 4.8970564754635335,
          "sample_means": 4.901039165163898
         },
         {
          "quantiles": 4.897545882863772,
          "sample_means": 4.901492604744057
         },
         {
          "quantiles": 4.898034310635375,
          "sample_means": 4.9018893507967025
         },
         {
          "quantiles": 4.898521767334555,
          "sample_means": 4.902164715160842
         },
         {
          "quantiles": 4.899008261429706,
          "sample_means": 4.90381770711308
         },
         {
          "quantiles": 4.899493801302739,
          "sample_means": 4.90409530745583
         },
         {
          "quantiles": 4.899978395250379,
          "sample_means": 4.905008434162983
         },
         {
          "quantiles": 4.9004620514854444,
          "sample_means": 4.905580988946513
         },
         {
          "quantiles": 4.900944778138107,
          "sample_means": 4.906038835380924
         },
         {
          "quantiles": 4.901426583257122,
          "sample_means": 4.906694817011367
         },
         {
          "quantiles": 4.901907474811044,
          "sample_means": 4.906894016742614
         },
         {
          "quantiles": 4.902387460689409,
          "sample_means": 4.908063123356298
         },
         {
          "quantiles": 4.902866548703908,
          "sample_means": 4.908684790329831
         },
         {
          "quantiles": 4.903344746589532,
          "sample_means": 4.908888340794637
         },
         {
          "quantiles": 4.9038220620057,
          "sample_means": 4.9089670115770465
         },
         {
          "quantiles": 4.9042985025373635,
          "sample_means": 4.910422471508665
         },
         {
          "quantiles": 4.904774075696096,
          "sample_means": 4.910755050640293
         },
         {
          "quantiles": 4.905248788921161,
          "sample_means": 4.910791528762946
         },
         {
          "quantiles": 4.9057226495805555,
          "sample_means": 4.9108990240928625
         },
         {
          "quantiles": 4.906195664972053,
          "sample_means": 4.911504146362843
         },
         {
          "quantiles": 4.906667842324204,
          "sample_means": 4.911764691569667
         },
         {
          "quantiles": 4.9071391887973395,
          "sample_means": 4.912669472701386
         },
         {
          "quantiles": 4.907609711484548,
          "sample_means": 4.91450979203885
         },
         {
          "quantiles": 4.908079417412633,
          "sample_means": 4.915639325683808
         },
         {
          "quantiles": 4.908548313543066,
          "sample_means": 4.91584789067617
         },
         {
          "quantiles": 4.909016406772906,
          "sample_means": 4.916876448722549
         },
         {
          "quantiles": 4.909483703935721,
          "sample_means": 4.917510430846122
         },
         {
          "quantiles": 4.9099502118024825,
          "sample_means": 4.919589398786807
         },
         {
          "quantiles": 4.910415937082448,
          "sample_means": 4.920157193727713
         },
         {
          "quantiles": 4.910880886424025,
          "sample_means": 4.920188813314416
         },
         {
          "quantiles": 4.911345066415637,
          "sample_means": 4.920214198363812
         },
         {
          "quantiles": 4.911808483586548,
          "sample_means": 4.92134911833204
         },
         {
          "quantiles": 4.912271144407695,
          "sample_means": 4.921559619524449
         },
         {
          "quantiles": 4.912733055292502,
          "sample_means": 4.921582138247495
         },
         {
          "quantiles": 4.913194222597672,
          "sample_means": 4.921936876838001
         },
         {
          "quantiles": 4.913654652623976,
          "sample_means": 4.922445573754765
         },
         {
          "quantiles": 4.914114351617026,
          "sample_means": 4.922655849468974
         },
         {
          "quantiles": 4.914573325768033,
          "sample_means": 4.922774585681959
         },
         {
          "quantiles": 4.915031581214554,
          "sample_means": 4.923050936183008
         },
         {
          "quantiles": 4.91548912404123,
          "sample_means": 4.923234841322084
         },
         {
          "quantiles": 4.915945960280508,
          "sample_means": 4.924001524924203
         },
         {
          "quantiles": 4.916402095913355,
          "sample_means": 4.924122983241746
         },
         {
          "quantiles": 4.916857536869953,
          "sample_means": 4.92432104048009
         },
         {
          "quantiles": 4.917312289030396,
          "sample_means": 4.924379408833007
         },
         {
          "quantiles": 4.9177663582253635,
          "sample_means": 4.924380778763459
         },
         {
          "quantiles": 4.918219750236792,
          "sample_means": 4.9247709929596315
         },
         {
          "quantiles": 4.91867247079853,
          "sample_means": 4.924950982714088
         },
         {
          "quantiles": 4.919124525596984,
          "sample_means": 4.925431118635636
         },
         {
          "quantiles": 4.91957592027176,
          "sample_means": 4.925781640514022
         },
         {
          "quantiles": 4.920026660416288,
          "sample_means": 4.92604966331396
         },
         {
          "quantiles": 4.920476751578437,
          "sample_means": 4.9272115116869095
         },
         {
          "quantiles": 4.920926199261129,
          "sample_means": 4.9280801144931665
         },
         {
          "quantiles": 4.921375008922932,
          "sample_means": 4.929622733604301
         },
         {
          "quantiles": 4.921823185978653,
          "sample_means": 4.929963649139585
         },
         {
          "quantiles": 4.922270735799917,
          "sample_means": 4.930013311963017
         },
         {
          "quantiles": 4.922717663715741,
          "sample_means": 4.930889176207102
         },
         {
          "quantiles": 4.9231639750130896,
          "sample_means": 4.931282824793183
         },
         {
          "quantiles": 4.923609674937443,
          "sample_means": 4.931897755884917
         },
         {
          "quantiles": 4.924054768693329,
          "sample_means": 4.931960290360792
         },
         {
          "quantiles": 4.924499261444872,
          "sample_means": 4.932136360283455
         },
         {
          "quantiles": 4.924943158316316,
          "sample_means": 4.933453264247093
         },
         {
          "quantiles": 4.925386464392553,
          "sample_means": 4.933773257091647
         },
         {
          "quantiles": 4.925829184719631,
          "sample_means": 4.934381083289337
         },
         {
          "quantiles": 4.926271324305266,
          "sample_means": 4.9345661356312895
         },
         {
          "quantiles": 4.926712888119341,
          "sample_means": 4.93541079557124
         },
         {
          "quantiles": 4.927153881094395,
          "sample_means": 4.935496391157882
         },
         {
          "quantiles": 4.927594308126114,
          "sample_means": 4.935708345294761
         },
         {
          "quantiles": 4.928034174073801,
          "sample_means": 4.9362515799709525
         },
         {
          "quantiles": 4.9284734837608575,
          "sample_means": 4.936526206860197
         },
         {
          "quantiles": 4.9289122419752385,
          "sample_means": 4.936575635953026
         },
         {
          "quantiles": 4.929350453469915,
          "sample_means": 4.9366751032656335
         },
         {
          "quantiles": 4.929788122963328,
          "sample_means": 4.937601646403554
         },
         {
          "quantiles": 4.930225255139826,
          "sample_means": 4.937729327662369
         },
         {
          "quantiles": 4.930661854650111,
          "sample_means": 4.938667898592326
         },
         {
          "quantiles": 4.931097926111667,
          "sample_means": 4.939053954547241
         },
         {
          "quantiles": 4.9315334741091865,
          "sample_means": 4.9395747061360735
         },
         {
          "quantiles": 4.931968503194994,
          "sample_means": 4.9401944045282296
         },
         {
          "quantiles": 4.932403017889458,
          "sample_means": 4.942103975285314
         },
         {
          "quantiles": 4.932837022681399,
          "sample_means": 4.942689097685582
         },
         {
          "quantiles": 4.933270522028497,
          "sample_means": 4.942863897727633
         },
         {
          "quantiles": 4.933703520357685,
          "sample_means": 4.943067544528833
         },
         {
          "quantiles": 4.9341360220655455,
          "sample_means": 4.943119158760616
         },
         {
          "quantiles": 4.934568031518692,
          "sample_means": 4.94418738064621
         },
         {
          "quantiles": 4.934999553054156,
          "sample_means": 4.9443062425824635
         },
         {
          "quantiles": 4.9354305909797604,
          "sample_means": 4.944488627674041
         },
         {
          "quantiles": 4.935861149574494,
          "sample_means": 4.944777132485903
         },
         {
          "quantiles": 4.936291233088875,
          "sample_means": 4.944853609193283
         },
         {
          "quantiles": 4.936720845745315,
          "sample_means": 4.945146756905104
         },
         {
          "quantiles": 4.937149991738473,
          "sample_means": 4.9459696242071445
         },
         {
          "quantiles": 4.9375786752356134,
          "sample_means": 4.946613412623615
         },
         {
          "quantiles": 4.938006900376947,
          "sample_means": 4.946748761058497
         },
         {
          "quantiles": 4.938434671275977,
          "sample_means": 4.947266569735923
         },
         {
          "quantiles": 4.938861992019839,
          "sample_means": 4.947622245177068
         },
         {
          "quantiles": 4.939288866669634,
          "sample_means": 4.947719712914042
         },
         {
          "quantiles": 4.939715299260757,
          "sample_means": 4.947956579394666
         },
         {
          "quantiles": 4.940141293803223,
          "sample_means": 4.948017552406279
         },
         {
          "quantiles": 4.940566854281992,
          "sample_means": 4.948267261733634
         },
         {
          "quantiles": 4.9409919846572805,
          "sample_means": 4.9489633262589745
         },
         {
          "quantiles": 4.94141668886488,
          "sample_means": 4.949678423396201
         },
         {
          "quantiles": 4.941840970816464,
          "sample_means": 4.950430602747573
         },
         {
          "quantiles": 4.942264834399893,
          "sample_means": 4.950613667216923
         },
         {
          "quantiles": 4.9426882834795185,
          "sample_means": 4.950637656074858
         },
         {
          "quantiles": 4.943111321896479,
          "sample_means": 4.950689738318004
         },
         {
          "quantiles": 4.943533953468996,
          "sample_means": 4.950704761412109
         },
         {
          "quantiles": 4.943956181992662,
          "sample_means": 4.95073104134182
         },
         {
          "quantiles": 4.94437801124073,
          "sample_means": 4.951258598166193
         },
         {
          "quantiles": 4.944799444964395,
          "sample_means": 4.951263767876914
         },
         {
          "quantiles": 4.945220486893079,
          "sample_means": 4.9512945910845545
         },
         {
          "quantiles": 4.9456411407347,
          "sample_means": 4.9513256992695736
         },
         {
          "quantiles": 4.946061410175952,
          "sample_means": 4.951351686903412
         },
         {
          "quantiles": 4.946481298882572,
          "sample_means": 4.951617308517674
         },
         {
          "quantiles": 4.946900810499609,
          "sample_means": 4.953065991367146
         },
         {
          "quantiles": 4.9473199486516855,
          "sample_means": 4.953093617075361
         },
         {
          "quantiles": 4.947738716943259,
          "sample_means": 4.953441020715154
         },
         {
          "quantiles": 4.948157118958879,
          "sample_means": 4.953664001431201
         },
         {
          "quantiles": 4.948575158263447,
          "sample_means": 4.9538527971843775
         },
         {
          "quantiles": 4.948992838402457,
          "sample_means": 4.954336691333146
         },
         {
          "quantiles": 4.949410162902257,
          "sample_means": 4.954484473815924
         },
         {
          "quantiles": 4.949827135270286,
          "sample_means": 4.9545638888297585
         },
         {
          "quantiles": 4.950243758995319,
          "sample_means": 4.955217818451924
         },
         {
          "quantiles": 4.9506600375477126,
          "sample_means": 4.9553528381112155
         },
         {
          "quantiles": 4.951075974379633,
          "sample_means": 4.95549121642929
         },
         {
          "quantiles": 4.951491572925301,
          "sample_means": 4.9555881267236455
         },
         {
          "quantiles": 4.951906836601217,
          "sample_means": 4.955709309577507
         },
         {
          "quantiles": 4.952321768806395,
          "sample_means": 4.955888890492064
         },
         {
          "quantiles": 4.952736372922589,
          "sample_means": 4.956609122909591
         },
         {
          "quantiles": 4.9531506523145135,
          "sample_means": 4.95699147625355
         },
         {
          "quantiles": 4.9535646103300754,
          "sample_means": 4.95785584290805
         },
         {
          "quantiles": 4.953978250300583,
          "sample_means": 4.957911258087499
         },
         {
          "quantiles": 4.954391575540972,
          "sample_means": 4.958482530100527
         },
         {
          "quantiles": 4.954804589350015,
          "sample_means": 4.9589512850567585
         },
         {
          "quantiles": 4.955217295010538,
          "sample_means": 4.9589689396542
         },
         {
          "quantiles": 4.955629695789629,
          "sample_means": 4.959228852383593
         },
         {
          "quantiles": 4.956041794938847,
          "sample_means": 4.959378744761543
         },
         {
          "quantiles": 4.956453595694431,
          "sample_means": 4.959405928632768
         },
         {
          "quantiles": 4.956865101277499,
          "sample_means": 4.959428092383277
         },
         {
          "quantiles": 4.957276314894253,
          "sample_means": 4.959487090256627
         },
         {
          "quantiles": 4.95768723973618,
          "sample_means": 4.959775868333594
         },
         {
          "quantiles": 4.958097878980248,
          "sample_means": 4.959852952727456
         },
         {
          "quantiles": 4.958508235789102,
          "sample_means": 4.9598902815626245
         },
         {
          "quantiles": 4.95891831331126,
          "sample_means": 4.9603511919690595
         },
         {
          "quantiles": 4.959328114681303,
          "sample_means": 4.960606072531477
         },
         {
          "quantiles": 4.959737643020065,
          "sample_means": 4.961459531987985
         },
         {
          "quantiles": 4.960146901434823,
          "sample_means": 4.961591280572542
         },
         {
          "quantiles": 4.960555893019483,
          "sample_means": 4.962499646520087
         },
         {
          "quantiles": 4.960964620854762,
          "sample_means": 4.96281384185161
         },
         {
          "quantiles": 4.961373088008376,
          "sample_means": 4.963268498708379
         },
         {
          "quantiles": 4.961781297535215,
          "sample_means": 4.963761310967416
         },
         {
          "quantiles": 4.96218925247753,
          "sample_means": 4.964154260266774
         },
         {
          "quantiles": 4.962596955865101,
          "sample_means": 4.964531912624036
         },
         {
          "quantiles": 4.963004410715423,
          "sample_means": 4.964879461678108
         },
         {
          "quantiles": 4.963411620033874,
          "sample_means": 4.964896227488145
         },
         {
          "quantiles": 4.963818586813888,
          "sample_means": 4.965012445801753
         },
         {
          "quantiles": 4.964225314037132,
          "sample_means": 4.96573759979824
         },
         {
          "quantiles": 4.96463180467367,
          "sample_means": 4.9661750166471545
         },
         {
          "quantiles": 4.96503806168213,
          "sample_means": 4.96618656054404
         },
         {
          "quantiles": 4.965444088009878,
          "sample_means": 4.968272806076001
         },
         {
          "quantiles": 4.965849886593179,
          "sample_means": 4.969111555696508
         },
         {
          "quantiles": 4.966255460357357,
          "sample_means": 4.970484408018172
         },
         {
          "quantiles": 4.966660812216965,
          "sample_means": 4.970837777944494
         },
         {
          "quantiles": 4.96706594507594,
          "sample_means": 4.971496932607107
         },
         {
          "quantiles": 4.967470861827767,
          "sample_means": 4.971791631346111
         },
         {
          "quantiles": 4.967875565355635,
          "sample_means": 4.972042104492941
         },
         {
          "quantiles": 4.968280058532591,
          "sample_means": 4.972315025875027
         },
         {
          "quantiles": 4.968684344221704,
          "sample_means": 4.972513587283219
         },
         {
          "quantiles": 4.969088425276212,
          "sample_means": 4.972762321817886
         },
         {
          "quantiles": 4.969492304539678,
          "sample_means": 4.97286026929267
         },
         {
          "quantiles": 4.969895984846141,
          "sample_means": 4.9737500569989805
         },
         {
          "quantiles": 4.9702994690202695,
          "sample_means": 4.974557733361402
         },
         {
          "quantiles": 4.970702759877507,
          "sample_means": 4.974849574569726
         },
         {
          "quantiles": 4.971105860224223,
          "sample_means": 4.974925495484444
         },
         {
          "quantiles": 4.971508772857861,
          "sample_means": 4.9751779341590785
         },
         {
          "quantiles": 4.971911500567084,
          "sample_means": 4.975948215176617
         },
         {
          "quantiles": 4.972314046131917,
          "sample_means": 4.976159473354957
         },
         {
          "quantiles": 4.972716412323894,
          "sample_means": 4.976285795402993
         },
         {
          "quantiles": 4.973118601906202,
          "sample_means": 4.977589916800894
         },
         {
          "quantiles": 4.9735206176338185,
          "sample_means": 4.977924213908978
         },
         {
          "quantiles": 4.973922462253657,
          "sample_means": 4.978184367134765
         },
         {
          "quantiles": 4.974324138504704,
          "sample_means": 4.978241682828286
         },
         {
          "quantiles": 4.974725649118159,
          "sample_means": 4.978279175438416
         },
         {
          "quantiles": 4.975126996817573,
          "sample_means": 4.978517156563108
         },
         {
          "quantiles": 4.975528184318986,
          "sample_means": 4.978779159473034
         },
         {
          "quantiles": 4.97592921433106,
          "sample_means": 4.979293251615423
         },
         {
          "quantiles": 4.976330089555219,
          "sample_means": 4.9798323730784615
         },
         {
          "quantiles": 4.97673081268578,
          "sample_means": 4.979909755006205
         },
         {
          "quantiles": 4.977131386410085,
          "sample_means": 4.980211525290048
         },
         {
          "quantiles": 4.97753181340864,
          "sample_means": 4.980334126213986
         },
         {
          "quantiles": 4.977932096355241,
          "sample_means": 4.980530493400722
         },
         {
          "quantiles": 4.978332237917107,
          "sample_means": 4.980991939576615
         },
         {
          "quantiles": 4.978732240755011,
          "sample_means": 4.981373850541989
         },
         {
          "quantiles": 4.979132107523409,
          "sample_means": 4.9814080300507415
         },
         {
          "quantiles": 4.979531840870566,
          "sample_means": 4.981569904361969
         },
         {
          "quantiles": 4.979931443438689,
          "sample_means": 4.982149347497244
         },
         {
          "quantiles": 4.980330917864051,
          "sample_means": 4.982436318588789
         },
         {
          "quantiles": 4.980730266777119,
          "sample_means": 4.982560050881547
         },
         {
          "quantiles": 4.981129492802678,
          "sample_means": 4.982995398427675
         },
         {
          "quantiles": 4.981528598559958,
          "sample_means": 4.983246830907572
         },
         {
          "quantiles": 4.981927586662756,
          "sample_means": 4.984292969477504
         },
         {
          "quantiles": 4.982326459719565,
          "sample_means": 4.984311842657229
         },
         {
          "quantiles": 4.982725220333693,
          "sample_means": 4.984886730253437
         },
         {
          "quantiles": 4.983123871103383,
          "sample_means": 4.9852811601129465
         },
         {
          "quantiles": 4.983522414621945,
          "sample_means": 4.985293709117813
         },
         {
          "quantiles": 4.983920853477865,
          "sample_means": 4.985480281459907
         },
         {
          "quantiles": 4.9843191902549355,
          "sample_means": 4.985980714020767
         },
         {
          "quantiles": 4.984717427532372,
          "sample_means": 4.986609753965957
         },
         {
          "quantiles": 4.985115567884933,
          "sample_means": 4.987213573236646
         },
         {
          "quantiles": 4.98551361388304,
          "sample_means": 4.987507291557622
         },
         {
          "quantiles": 4.985911568092893,
          "sample_means": 4.987809274116833
         },
         {
          "quantiles": 4.986309433076595,
          "sample_means": 4.988013713484048
         },
         {
          "quantiles": 4.9867072113922655,
          "sample_means": 4.988147755666688
         },
         {
          "quantiles": 4.987104905594157,
          "sample_means": 4.988895340167838
         },
         {
          "quantiles": 4.987502518232776,
          "sample_means": 4.989718522991061
         },
         {
          "quantiles": 4.987900051854995,
          "sample_means": 4.990180948176241
         },
         {
          "quantiles": 4.9882975090041715,
          "sample_means": 4.990308395360921
         },
         {
          "quantiles": 4.988694892220264,
          "sample_means": 4.990313247461841
         },
         {
          "quantiles": 4.989092204039943,
          "sample_means": 4.990694042206035
         },
         {
          "quantiles": 4.9894894469967115,
          "sample_means": 4.991764880199135
         },
         {
          "quantiles": 4.989886623621016,
          "sample_means": 4.992139796799366
         },
         {
          "quantiles": 4.990283736440362,
          "sample_means": 4.992495604873046
         },
         {
          "quantiles": 4.990680787979426,
          "sample_means": 4.992602636635848
         },
         {
          "quantiles": 4.991077780760171,
          "sample_means": 4.992672426618368
         },
         {
          "quantiles": 4.9914747173019585,
          "sample_means": 4.992983264537388
         },
         {
          "quantiles": 4.991871600121663,
          "sample_means": 4.993031467163235
         },
         {
          "quantiles": 4.992268431733782,
          "sample_means": 4.993582469987565
         },
         {
          "quantiles": 4.99266521465055,
          "sample_means": 4.993656921483791
         },
         {
          "quantiles": 4.993061951382051,
          "sample_means": 4.994175932902122
         },
         {
          "quantiles": 4.99345864443633,
          "sample_means": 4.994348983575637
         },
         {
          "quantiles": 4.9938552963194995,
          "sample_means": 4.995726623740429
         },
         {
          "quantiles": 4.994251909535862,
          "sample_means": 4.996101094376674
         },
         {
          "quantiles": 4.9946484865880105,
          "sample_means": 4.996905302943032
         },
         {
          "quantiles": 4.995045029976944,
          "sample_means": 4.9974277839633485
         },
         {
          "quantiles": 4.995441542202179,
          "sample_means": 4.99806801524435
         },
         {
          "quantiles": 4.995838025761857,
          "sample_means": 4.999587423997879
         },
         {
          "quantiles": 4.996234483152858,
          "sample_means": 4.999892654642314
         },
         {
          "quantiles": 4.9966309168709095,
          "sample_means": 5.000410491330365
         },
         {
          "quantiles": 4.997027329410696,
          "sample_means": 5.000665941641327
         },
         {
          "quantiles": 4.997423723265972,
          "sample_means": 5.00082861751051
         },
         {
          "quantiles": 4.9978201009296646,
          "sample_means": 5.001044403033868
         },
         {
          "quantiles": 4.998216464893995,
          "sample_means": 5.001082495051685
         },
         {
          "quantiles": 4.998612817650576,
          "sample_means": 5.001293194835143
         },
         {
          "quantiles": 4.99900916169053,
          "sample_means": 5.001377389690009
         },
         {
          "quantiles": 4.999405499504596,
          "sample_means": 5.001442225785468
         },
         {
          "quantiles": 4.9998018335832395,
          "sample_means": 5.001967229157599
         },
         {
          "quantiles": 5.0001981664167605,
          "sample_means": 5.002096341775694
         },
         {
          "quantiles": 5.000594500495403,
          "sample_means": 5.00252493117371
         },
         {
          "quantiles": 5.00099083830947,
          "sample_means": 5.002531277270849
         },
         {
          "quantiles": 5.001387182349424,
          "sample_means": 5.002700602509101
         },
         {
          "quantiles": 5.001783535106005,
          "sample_means": 5.003045733471395
         },
         {
          "quantiles": 5.002179899070335,
          "sample_means": 5.0039012604996165
         },
         {
          "quantiles": 5.002576276734028,
          "sample_means": 5.005460478842533
         },
         {
          "quantiles": 5.002972670589304,
          "sample_means": 5.005608373133188
         },
         {
          "quantiles": 5.0033690831290905,
          "sample_means": 5.006057114601537
         },
         {
          "quantiles": 5.0037655168471415,
          "sample_means": 5.006678147467771
         },
         {
          "quantiles": 5.004161974238143,
          "sample_means": 5.007225138486665
         },
         {
          "quantiles": 5.004558457797821,
          "sample_means": 5.008549124419595
         },
         {
          "quantiles": 5.004954970023056,
          "sample_means": 5.008813126734591
         },
         {
          "quantiles": 5.0053515134119895,
          "sample_means": 5.008846287727688
         },
         {
          "quantiles": 5.005748090464138,
          "sample_means": 5.009174184650312
         },
         {
          "quantiles": 5.0061447036805005,
          "sample_means": 5.009304177424173
         },
         {
          "quantiles": 5.00654135556367,
          "sample_means": 5.009455855539627
         },
         {
          "quantiles": 5.006938048617949,
          "sample_means": 5.009522515439833
         },
         {
          "quantiles": 5.00733478534945,
          "sample_means": 5.0099097306928595
         },
         {
          "quantiles": 5.007731568266218,
          "sample_means": 5.009960711219091
         },
         {
          "quantiles": 5.008128399878337,
          "sample_means": 5.009969563210889
         },
         {
          "quantiles": 5.0085252826980415,
          "sample_means": 5.009971611305975
         },
         {
          "quantiles": 5.008922219239829,
          "sample_means": 5.011511408983654
         },
         {
          "quantiles": 5.009319212020574,
          "sample_means": 5.012196623792173
         },
         {
          "quantiles": 5.009716263559638,
          "sample_means": 5.0122449870095735
         },
         {
          "quantiles": 5.010113376378984,
          "sample_means": 5.013150668635049
         },
         {
          "quantiles": 5.0105105530032885,
          "sample_means": 5.013241289939497
         },
         {
          "quantiles": 5.010907795960057,
          "sample_means": 5.013303598989733
         },
         {
          "quantiles": 5.011305107779736,
          "sample_means": 5.013420621756938
         },
         {
          "quantiles": 5.0117024909958285,
          "sample_means": 5.013928041696543
         },
         {
          "quantiles": 5.012099948145005,
          "sample_means": 5.013988768757089
         },
         {
          "quantiles": 5.012497481767224,
          "sample_means": 5.014856520605928
         },
         {
          "quantiles": 5.012895094405843,
          "sample_means": 5.015026342422452
         },
         {
          "quantiles": 5.0132927886077345,
          "sample_means": 5.015044593931414
         },
         {
          "quantiles": 5.013690566923405,
          "sample_means": 5.015126774500469
         },
         {
          "quantiles": 5.014088431907107,
          "sample_means": 5.015293381784472
         },
         {
          "quantiles": 5.01448638611696,
          "sample_means": 5.015530211117292
         },
         {
          "quantiles": 5.014884432115067,
          "sample_means": 5.016368150109297
         },
         {
          "quantiles": 5.015282572467628,
          "sample_means": 5.01685662265895
         },
         {
          "quantiles": 5.0156808097450645,
          "sample_means": 5.016926547396479
         },
         {
          "quantiles": 5.016079146522135,
          "sample_means": 5.016976655995779
         },
         {
          "quantiles": 5.016477585378055,
          "sample_means": 5.017069391611178
         },
         {
          "quantiles": 5.016876128896617,
          "sample_means": 5.01709544980167
         },
         {
          "quantiles": 5.017274779666307,
          "sample_means": 5.017312065036004
         },
         {
          "quantiles": 5.017673540280435,
          "sample_means": 5.01734414342337
         },
         {
          "quantiles": 5.018072413337244,
          "sample_means": 5.018577906659714
         },
         {
          "quantiles": 5.018471401440042,
          "sample_means": 5.019414981995587
         },
         {
          "quantiles": 5.018870507197322,
          "sample_means": 5.019471030749548
         },
         {
          "quantiles": 5.019269733222881,
          "sample_means": 5.019816185708503
         },
         {
          "quantiles": 5.019669082135949,
          "sample_means": 5.020254762255355
         },
         {
          "quantiles": 5.020068556561311,
          "sample_means": 5.020717551726872
         },
         {
          "quantiles": 5.020468159129434,
          "sample_means": 5.020940525764596
         },
         {
          "quantiles": 5.020867892476591,
          "sample_means": 5.021246636866854
         },
         {
          "quantiles": 5.021267759244989,
          "sample_means": 5.021554734309931
         },
         {
          "quantiles": 5.021667762082893,
          "sample_means": 5.021600394174593
         },
         {
          "quantiles": 5.022067903644759,
          "sample_means": 5.022435188587456
         },
         {
          "quantiles": 5.02246818659136,
          "sample_means": 5.022456508974288
         },
         {
          "quantiles": 5.022868613589915,
          "sample_means": 5.022582454405351
         },
         {
          "quantiles": 5.02326918731422,
          "sample_means": 5.022776353843184
         },
         {
          "quantiles": 5.023669910444781,
          "sample_means": 5.023089450405223
         },
         {
          "quantiles": 5.02407078566894,
          "sample_means": 5.0237894868323885
         },
         {
          "quantiles": 5.0244718156810135,
          "sample_means": 5.0241869947783435
         },
         {
          "quantiles": 5.024873003182427,
          "sample_means": 5.024458396591526
         },
         {
          "quantiles": 5.025274350881841,
          "sample_means": 5.024779230451426
         },
         {
          "quantiles": 5.025675861495297,
          "sample_means": 5.026205545185857
         },
         {
          "quantiles": 5.026077537746343,
          "sample_means": 5.027601773789984
         },
         {
          "quantiles": 5.0264793823661815,
          "sample_means": 5.0279362686092215
         },
         {
          "quantiles": 5.026881398093797,
          "sample_means": 5.028000190346153
         },
         {
          "quantiles": 5.027283587676106,
          "sample_means": 5.028325047484037
         },
         {
          "quantiles": 5.027685953868083,
          "sample_means": 5.028348762423634
         },
         {
          "quantiles": 5.028088499432916,
          "sample_means": 5.0284094443432625
         },
         {
          "quantiles": 5.028491227142139,
          "sample_means": 5.028685070406512
         },
         {
          "quantiles": 5.028894139775777,
          "sample_means": 5.029180110838745
         },
         {
          "quantiles": 5.029297240122493,
          "sample_means": 5.029389449764394
         },
         {
          "quantiles": 5.0297005309797305,
          "sample_means": 5.03022281997326
         },
         {
          "quantiles": 5.030104015153859,
          "sample_means": 5.030954583283211
         },
         {
          "quantiles": 5.030507695460322,
          "sample_means": 5.032366621987576
         },
         {
          "quantiles": 5.030911574723787,
          "sample_means": 5.032383551116992
         },
         {
          "quantiles": 5.031315655778296,
          "sample_means": 5.033050303311105
         },
         {
          "quantiles": 5.031719941467409,
          "sample_means": 5.034627405067779
         },
         {
          "quantiles": 5.032124434644365,
          "sample_means": 5.035846509136907
         },
         {
          "quantiles": 5.032529138172233,
          "sample_means": 5.036129466943435
         },
         {
          "quantiles": 5.03293405492406,
          "sample_means": 5.03638599663527
         },
         {
          "quantiles": 5.033339187783035,
          "sample_means": 5.037211683802631
         },
         {
          "quantiles": 5.033744539642643,
          "sample_means": 5.037895063688275
         },
         {
          "quantiles": 5.034150113406821,
          "sample_means": 5.037952545508063
         },
         {
          "quantiles": 5.034555911990122,
          "sample_means": 5.038181056946467
         },
         {
          "quantiles": 5.03496193831787,
          "sample_means": 5.038509097099304
         },
         {
          "quantiles": 5.03536819532633,
          "sample_means": 5.0388651281967025
         },
         {
          "quantiles": 5.035774685962868,
          "sample_means": 5.039184448831782
         },
         {
          "quantiles": 5.036181413186112,
          "sample_means": 5.04077666874755
         },
         {
          "quantiles": 5.036588379966126,
          "sample_means": 5.042534758399944
         },
         {
          "quantiles": 5.036995589284577,
          "sample_means": 5.0429532108878306
         },
         {
          "quantiles": 5.037403044134899,
          "sample_means": 5.043117663172588
         },
         {
          "quantiles": 5.03781074752247,
          "sample_means": 5.043550994592868
         },
         {
          "quantiles": 5.038218702464785,
          "sample_means": 5.043609842010715
         },
         {
          "quantiles": 5.038626911991624,
          "sample_means": 5.043626053124308
         },
         {
          "quantiles": 5.039035379145238,
          "sample_means": 5.044174555938562
         },
         {
          "quantiles": 5.039444106980517,
          "sample_means": 5.044244118059696
         },
         {
          "quantiles": 5.039853098565177,
          "sample_means": 5.044448104706931
         },
         {
          "quantiles": 5.040262356979935,
          "sample_means": 5.044771214863967
         },
         {
          "quantiles": 5.040671885318697,
          "sample_means": 5.044960834791232
         },
         {
          "quantiles": 5.04108168668874,
          "sample_means": 5.045596389653159
         },
         {
          "quantiles": 5.041491764210898,
          "sample_means": 5.045861918469425
         },
         {
          "quantiles": 5.041902121019752,
          "sample_means": 5.045984605149666
         },
         {
          "quantiles": 5.04231276026382,
          "sample_means": 5.046253642597534
         },
         {
          "quantiles": 5.042723685105747,
          "sample_means": 5.0466852827516835
         },
         {
          "quantiles": 5.043134898722501,
          "sample_means": 5.0469471556140375
         },
         {
          "quantiles": 5.043546404305569,
          "sample_means": 5.048036901159234
         },
         {
          "quantiles": 5.043958205061153,
          "sample_means": 5.048054781474108
         },
         {
          "quantiles": 5.044370304210371,
          "sample_means": 5.048384028214132
         },
         {
          "quantiles": 5.044782704989462,
          "sample_means": 5.04931807076959
         },
         {
          "quantiles": 5.045195410649985,
          "sample_means": 5.050126343630276
         },
         {
          "quantiles": 5.045608424459028,
          "sample_means": 5.0507573816624465
         },
         {
          "quantiles": 5.046021749699417,
          "sample_means": 5.050988964928764
         },
         {
          "quantiles": 5.0464353896699246,
          "sample_means": 5.051982107988338
         },
         {
          "quantiles": 5.0468493476854865,
          "sample_means": 5.053079086722263
         },
         {
          "quantiles": 5.047263627077411,
          "sample_means": 5.0532032990944495
         },
         {
          "quantiles": 5.047678231193605,
          "sample_means": 5.053388188533713
         },
         {
          "quantiles": 5.048093163398783,
          "sample_means": 5.053673895509621
         },
         {
          "quantiles": 5.048508427074699,
          "sample_means": 5.053750933347346
         },
         {
          "quantiles": 5.048924025620367,
          "sample_means": 5.053837651567484
         },
         {
          "quantiles": 5.0493399624522874,
          "sample_means": 5.053876155889596
         },
         {
          "quantiles": 5.049756241004681,
          "sample_means": 5.054048017961883
         },
         {
          "quantiles": 5.050172864729714,
          "sample_means": 5.05450436379028
         },
         {
          "quantiles": 5.050589837097743,
          "sample_means": 5.054836878712832
         },
         {
          "quantiles": 5.051007161597543,
          "sample_means": 5.0554237602701475
         },
         {
          "quantiles": 5.051424841736553,
          "sample_means": 5.055825616273829
         },
         {
          "quantiles": 5.051842881041121,
          "sample_means": 5.056559959935426
         },
         {
          "quantiles": 5.052261283056741,
          "sample_means": 5.057087223371295
         },
         {
          "quantiles": 5.0526800513483145,
          "sample_means": 5.057773701543687
         },
         {
          "quantiles": 5.053099189500391,
          "sample_means": 5.0579550257694335
         },
         {
          "quantiles": 5.053518701117428,
          "sample_means": 5.058089644240277
         },
         {
          "quantiles": 5.053938589824048,
          "sample_means": 5.059779504052424
         },
         {
          "quantiles": 5.0543588592653,
          "sample_means": 5.060673587533426
         },
         {
          "quantiles": 5.054779513106921,
          "sample_means": 5.060822835691616
         },
         {
          "quantiles": 5.055200555035605,
          "sample_means": 5.060939022610634
         },
         {
          "quantiles": 5.05562198875927,
          "sample_means": 5.061348007697334
         },
         {
          "quantiles": 5.056043818007338,
          "sample_means": 5.06154955003332
         },
         {
          "quantiles": 5.056466046531004,
          "sample_means": 5.061767535650211
         },
         {
          "quantiles": 5.056888678103521,
          "sample_means": 5.061915092377967
         },
         {
          "quantiles": 5.0573117165204815,
          "sample_means": 5.062376970160066
         },
         {
          "quantiles": 5.057735165600107,
          "sample_means": 5.062445267420678
         },
         {
          "quantiles": 5.058159029183536,
          "sample_means": 5.062823127247627
         },
         {
          "quantiles": 5.05858331113512,
          "sample_means": 5.062858408846742
         },
         {
          "quantiles": 5.0590080153427195,
          "sample_means": 5.063056121390697
         },
         {
          "quantiles": 5.059433145718008,
          "sample_means": 5.065058114493811
         },
         {
          "quantiles": 5.059858706196777,
          "sample_means": 5.066305862709864
         },
         {
          "quantiles": 5.060284700739243,
          "sample_means": 5.066504185064081
         },
         {
          "quantiles": 5.060711133330366,
          "sample_means": 5.066695429332568
         },
         {
          "quantiles": 5.061138007980161,
          "sample_means": 5.066840415102013
         },
         {
          "quantiles": 5.061565328724023,
          "sample_means": 5.0694595319079845
         },
         {
          "quantiles": 5.061993099623053,
          "sample_means": 5.0695275005257265
         },
         {
          "quantiles": 5.0624213247643866,
          "sample_means": 5.070256123372381
         },
         {
          "quantiles": 5.062850008261527,
          "sample_means": 5.070726260493349
         },
         {
          "quantiles": 5.063279154254685,
          "sample_means": 5.070846642166899
         },
         {
          "quantiles": 5.063708766911125,
          "sample_means": 5.071207701887722
         },
         {
          "quantiles": 5.064138850425506,
          "sample_means": 5.071654727570183
         },
         {
          "quantiles": 5.0645694090202396,
          "sample_means": 5.0718905054244185
         },
         {
          "quantiles": 5.065000446945844,
          "sample_means": 5.072120566440803
         },
         {
          "quantiles": 5.065431968481308,
          "sample_means": 5.072352392621547
         },
         {
          "quantiles": 5.0658639779344545,
          "sample_means": 5.072566595204075
         },
         {
          "quantiles": 5.066296479642315,
          "sample_means": 5.072902732311744
         },
         {
          "quantiles": 5.066729477971503,
          "sample_means": 5.0733320916233495
         },
         {
          "quantiles": 5.067162977318601,
          "sample_means": 5.07354502452981
         },
         {
          "quantiles": 5.067596982110542,
          "sample_means": 5.073615502339726
         },
         {
          "quantiles": 5.0680314968050055,
          "sample_means": 5.074106683633021
         },
         {
          "quantiles": 5.0684665258908135,
          "sample_means": 5.074567264162781
         },
         {
          "quantiles": 5.068902073888333,
          "sample_means": 5.074649608828855
         },
         {
          "quantiles": 5.069338145349889,
          "sample_means": 5.075151335545553
         },
         {
          "quantiles": 5.069774744860174,
          "sample_means": 5.075509738079198
         },
         {
          "quantiles": 5.070211877036672,
          "sample_means": 5.075775654327547
         },
         {
          "quantiles": 5.070649546530085,
          "sample_means": 5.076128803079437
         },
         {
          "quantiles": 5.0710877580247615,
          "sample_means": 5.076631701663029
         },
         {
          "quantiles": 5.0715265162391425,
          "sample_means": 5.076743184821798
         },
         {
          "quantiles": 5.071965825926199,
          "sample_means": 5.076809916587278
         },
         {
          "quantiles": 5.072405691873886,
          "sample_means": 5.077146411560172
         },
         {
          "quantiles": 5.072846118905605,
          "sample_means": 5.077497794805142
         },
         {
          "quantiles": 5.073287111880659,
          "sample_means": 5.0776272313661215
         },
         {
          "quantiles": 5.073728675694734,
          "sample_means": 5.077627344049018
         },
         {
          "quantiles": 5.074170815280369,
          "sample_means": 5.078262926711731
         },
         {
          "quantiles": 5.074613535607447,
          "sample_means": 5.078307178802741
         },
         {
          "quantiles": 5.075056841683684,
          "sample_means": 5.078330420362179
         },
         {
          "quantiles": 5.075500738555128,
          "sample_means": 5.07915503179854
         },
         {
          "quantiles": 5.075945231306671,
          "sample_means": 5.079455703004025
         },
         {
          "quantiles": 5.076390325062557,
          "sample_means": 5.079645892862568
         },
         {
          "quantiles": 5.0768360249869104,
          "sample_means": 5.079954278490517
         },
         {
          "quantiles": 5.077282336284259,
          "sample_means": 5.080571479658568
         },
         {
          "quantiles": 5.077729264200083,
          "sample_means": 5.080742310600098
         },
         {
          "quantiles": 5.078176814021347,
          "sample_means": 5.081733771111282
         },
         {
          "quantiles": 5.078624991077068,
          "sample_means": 5.083311734097375
         },
         {
          "quantiles": 5.079073800738871,
          "sample_means": 5.084056575165076
         },
         {
          "quantiles": 5.079523248421563,
          "sample_means": 5.084112810705118
         },
         {
          "quantiles": 5.079973339583712,
          "sample_means": 5.084367805162441
         },
         {
          "quantiles": 5.08042407972824,
          "sample_means": 5.084395325880208
         },
         {
          "quantiles": 5.080875474403016,
          "sample_means": 5.084588284486187
         },
         {
          "quantiles": 5.08132752920147,
          "sample_means": 5.084816838657616
         },
         {
          "quantiles": 5.081780249763208,
          "sample_means": 5.084823724045651
         },
         {
          "quantiles": 5.0822336417746365,
          "sample_means": 5.0850850368132035
         },
         {
          "quantiles": 5.082687710969604,
          "sample_means": 5.085324090041275
         },
         {
          "quantiles": 5.083142463130047,
          "sample_means": 5.0866351410970285
         },
         {
          "quantiles": 5.083597904086645,
          "sample_means": 5.0874111643212325
         },
         {
          "quantiles": 5.084054039719491,
          "sample_means": 5.087482903009957
         },
         {
          "quantiles": 5.08451087595877,
          "sample_means": 5.0882420999387685
         },
         {
          "quantiles": 5.084968418785446,
          "sample_means": 5.088328155936006
         },
         {
          "quantiles": 5.085426674231967,
          "sample_means": 5.089134079782881
         },
         {
          "quantiles": 5.085885648382973,
          "sample_means": 5.089895453251561
         },
         {
          "quantiles": 5.086345347376024,
          "sample_means": 5.090216896172079
         },
         {
          "quantiles": 5.086805777402327,
          "sample_means": 5.09136397768606
         },
         {
          "quantiles": 5.087266944707498,
          "sample_means": 5.091839876862855
         },
         {
          "quantiles": 5.087728855592304,
          "sample_means": 5.091861793304014
         },
         {
          "quantiles": 5.088191516413452,
          "sample_means": 5.092070922664399
         },
         {
          "quantiles": 5.088654933584363,
          "sample_means": 5.093738004273156
         },
         {
          "quantiles": 5.089119113575975,
          "sample_means": 5.094422786560589
         },
         {
          "quantiles": 5.089584062917552,
          "sample_means": 5.094432953780347
         },
         {
          "quantiles": 5.090049788197517,
          "sample_means": 5.094641114665203
         },
         {
          "quantiles": 5.090516296064279,
          "sample_means": 5.094717551637394
         },
         {
          "quantiles": 5.090983593227094,
          "sample_means": 5.095495360949491
         },
         {
          "quantiles": 5.091451686456934,
          "sample_means": 5.095810082456153
         },
         {
          "quantiles": 5.091920582587367,
          "sample_means": 5.098043087355225
         },
         {
          "quantiles": 5.092390288515452,
          "sample_means": 5.098652599511488
         },
         {
          "quantiles": 5.0928608112026605,
          "sample_means": 5.098720159984975
         },
         {
          "quantiles": 5.093332157675796,
          "sample_means": 5.098929363015545
         },
         {
          "quantiles": 5.093804335027947,
          "sample_means": 5.09931178644878
         },
         {
          "quantiles": 5.0942773504194445,
          "sample_means": 5.099340966841711
         },
         {
          "quantiles": 5.094751211078839,
          "sample_means": 5.099884145261547
         },
         {
          "quantiles": 5.095225924303904,
          "sample_means": 5.10011415765308
         },
         {
          "quantiles": 5.095701497462636,
          "sample_means": 5.1007558076660695
         },
         {
          "quantiles": 5.0961779379943,
          "sample_means": 5.101167682155519
         },
         {
          "quantiles": 5.096655253410468,
          "sample_means": 5.101525374011622
         },
         {
          "quantiles": 5.0971334512960915,
          "sample_means": 5.101949387348248
         },
         {
          "quantiles": 5.097612539310591,
          "sample_means": 5.1020654079004055
         },
         {
          "quantiles": 5.098092525188956,
          "sample_means": 5.102292823365275
         },
         {
          "quantiles": 5.098573416742878,
          "sample_means": 5.102540210063634
         },
         {
          "quantiles": 5.099055221861893,
          "sample_means": 5.10284970218932
         },
         {
          "quantiles": 5.0995379485145556,
          "sample_means": 5.103256826138264
         },
         {
          "quantiles": 5.100021604749621,
          "sample_means": 5.103665882363765
         },
         {
          "quantiles": 5.100506198697261,
          "sample_means": 5.104278697916204
         },
         {
          "quantiles": 5.100991738570294,
          "sample_means": 5.104919810618894
         },
         {
          "quantiles": 5.101478232665445,
          "sample_means": 5.1052377945266985
         },
         {
          "quantiles": 5.101965689364625,
          "sample_means": 5.10536900005946
         },
         {
          "quantiles": 5.102454117136228,
          "sample_means": 5.1054967454225
         },
         {
          "quantiles": 5.1029435245364665,
          "sample_means": 5.106424686619148
         },
         {
          "quantiles": 5.103433920210721,
          "sample_means": 5.106560365362547
         },
         {
          "quantiles": 5.103925312894918,
          "sample_means": 5.106932199582236
         },
         {
          "quantiles": 5.104417711416936,
          "sample_means": 5.107335897741611
         },
         {
          "quantiles": 5.104911124698033,
          "sample_means": 5.107344282330224
         },
         {
          "quantiles": 5.10540556175431,
          "sample_means": 5.107541617123173
         },
         {
          "quantiles": 5.1059010316981945,
          "sample_means": 5.107983433242716
         },
         {
          "quantiles": 5.106397543739955,
          "sample_means": 5.108119960050742
         },
         {
          "quantiles": 5.106895107189247,
          "sample_means": 5.108170907279857
         },
         {
          "quantiles": 5.107393731456689,
          "sample_means": 5.108232461450318
         },
         {
          "quantiles": 5.107893426055462,
          "sample_means": 5.108427630487077
         },
         {
          "quantiles": 5.108394200602953,
          "sample_means": 5.108490216268828
         },
         {
          "quantiles": 5.108896064822418,
          "sample_means": 5.11006167662486
         },
         {
          "quantiles": 5.10939902854469,
          "sample_means": 5.1112585407913285
         },
         {
          "quantiles": 5.109903101709906,
          "sample_means": 5.111658669571436
         },
         {
          "quantiles": 5.110408294369288,
          "sample_means": 5.1119987483879985
         },
         {
          "quantiles": 5.110914616686939,
          "sample_means": 5.1125349655006795
         },
         {
          "quantiles": 5.111422078941689,
          "sample_means": 5.113490555302016
         },
         {
          "quantiles": 5.111930691528977,
          "sample_means": 5.113757783655601
         },
         {
          "quantiles": 5.112440464962762,
          "sample_means": 5.113844824318514
         },
         {
          "quantiles": 5.1129514098774855,
          "sample_means": 5.1149514822714375
         },
         {
          "quantiles": 5.113463537030062,
          "sample_means": 5.115607851298224
         },
         {
          "quantiles": 5.113976857301922,
          "sample_means": 5.117330126185098
         },
         {
          "quantiles": 5.114491381701087,
          "sample_means": 5.118613923429337
         },
         {
          "quantiles": 5.115007121364295,
          "sample_means": 5.120171565866327
         },
         {
          "quantiles": 5.115524087559166,
          "sample_means": 5.120983524400994
         },
         {
          "quantiles": 5.116042291686413,
          "sample_means": 5.1218348096059225
         },
         {
          "quantiles": 5.116561745282102,
          "sample_means": 5.122394660889882
         },
         {
          "quantiles": 5.117082460019958,
          "sample_means": 5.122717261244727
         },
         {
          "quantiles": 5.11760444771372,
          "sample_means": 5.122901687130847
         },
         {
          "quantiles": 5.118127720319547,
          "sample_means": 5.123361953405518
         },
         {
          "quantiles": 5.118652289938471,
          "sample_means": 5.123439866508544
         },
         {
          "quantiles": 5.1191781688189115,
          "sample_means": 5.123650340364593
         },
         {
          "quantiles": 5.1197053693592345,
          "sample_means": 5.124690839917251
         },
         {
          "quantiles": 5.120233904110377,
          "sample_means": 5.126506218526092
         },
         {
          "quantiles": 5.120763785778516,
          "sample_means": 5.126985132838643
         },
         {
          "quantiles": 5.121295027227812,
          "sample_means": 5.127135239912021
         },
         {
          "quantiles": 5.121827641483195,
          "sample_means": 5.128649276091493
         },
         {
          "quantiles": 5.12236164173323,
          "sample_means": 5.129609385395027
         },
         {
          "quantiles": 5.122897041333028,
          "sample_means": 5.130401943476072
         },
         {
          "quantiles": 5.123433853807238,
          "sample_means": 5.13105432398536
         },
         {
          "quantiles": 5.123972092853097,
          "sample_means": 5.131329516527088
         },
         {
          "quantiles": 5.124511772343549,
          "sample_means": 5.131520361950832
         },
         {
          "quantiles": 5.125052906330441,
          "sample_means": 5.131613469772634
         },
         {
          "quantiles": 5.125595509047778,
          "sample_means": 5.131878146931125
         },
         {
          "quantiles": 5.126139594915071,
          "sample_means": 5.1322445267314345
         },
         {
          "quantiles": 5.126685178540747,
          "sample_means": 5.133605689910679
         },
         {
          "quantiles": 5.127232274725641,
          "sample_means": 5.134439583508322
         },
         {
          "quantiles": 5.127780898466573,
          "sample_means": 5.1346024215205865
         },
         {
          "quantiles": 5.128331064960007,
          "sample_means": 5.135151576125177
         },
         {
          "quantiles": 5.128882789605792,
          "sample_means": 5.135782213439075
         },
         {
          "quantiles": 5.1294360880109915,
          "sample_means": 5.137207669981978
         },
         {
          "quantiles": 5.12999097599381,
          "sample_means": 5.1384496281314425
         },
         {
          "quantiles": 5.130547469587601,
          "sample_means": 5.138515718220048
         },
         {
          "quantiles": 5.131105585044985,
          "sample_means": 5.139142566705445
         },
         {
          "quantiles": 5.131665338842052,
          "sample_means": 5.13925265793166
         },
         {
          "quantiles": 5.132226747682679,
          "sample_means": 5.139891209108493
         },
         {
          "quantiles": 5.132789828502935,
          "sample_means": 5.140069939565501
         },
         {
          "quantiles": 5.133354598475613,
          "sample_means": 5.1409259687204445
         },
         {
          "quantiles": 5.1339210750148565,
          "sample_means": 5.141273266128711
         },
         {
          "quantiles": 5.134489275780909,
          "sample_means": 5.141841794577346
         },
         {
          "quantiles": 5.135059218684977,
          "sample_means": 5.1423159768363185
         },
         {
          "quantiles": 5.135630921894216,
          "sample_means": 5.142461072413667
         },
         {
          "quantiles": 5.136204403836838,
          "sample_means": 5.142542935302057
         },
         {
          "quantiles": 5.136779683207352,
          "sample_means": 5.143173211270694
         },
         {
          "quantiles": 5.137356778971928,
          "sample_means": 5.144334628080289
         },
         {
          "quantiles": 5.137935710373911,
          "sample_means": 5.1448688730279
         },
         {
          "quantiles": 5.138516496939462,
          "sample_means": 5.146171503606658
         },
         {
          "quantiles": 5.139099158483347,
          "sample_means": 5.146232354477832
         },
         {
          "quantiles": 5.139683715114884,
          "sample_means": 5.146240090168824
         },
         {
          "quantiles": 5.140270187244032,
          "sample_means": 5.147618133820681
         },
         {
          "quantiles": 5.140858595587645,
          "sample_means": 5.148391213867903
         },
         {
          "quantiles": 5.141448961175889,
          "sample_means": 5.148773181033036
         },
         {
          "quantiles": 5.142041305358828,
          "sample_means": 5.149051501997314
         },
         {
          "quantiles": 5.142635649813184,
          "sample_means": 5.149424778881341
         },
         {
          "quantiles": 5.143232016549276,
          "sample_means": 5.14969533520819
         },
         {
          "quantiles": 5.143830427918147,
          "sample_means": 5.149824824714074
         },
         {
          "quantiles": 5.1444309066188785,
          "sample_means": 5.152539573473319
         },
         {
          "quantiles": 5.145033475706113,
          "sample_means": 5.153342760012961
         },
         {
          "quantiles": 5.145638158597769,
          "sample_means": 5.153625178695316
         },
         {
          "quantiles": 5.146244979082969,
          "sample_means": 5.153715599685152
         },
         {
          "quantiles": 5.146853961330199,
          "sample_means": 5.154357006738355
         },
         {
          "quantiles": 5.147465129895678,
          "sample_means": 5.154805445265838
         },
         {
          "quantiles": 5.148078509731968,
          "sample_means": 5.155725943034873
         },
         {
          "quantiles": 5.148694126196825,
          "sample_means": 5.155780246364848
         },
         {
          "quantiles": 5.1493120050623,
          "sample_means": 5.156095754831254
         },
         {
          "quantiles": 5.149932172524091,
          "sample_means": 5.1567738031657235
         },
         {
          "quantiles": 5.150554655211172,
          "sample_means": 5.1569114666817875
         },
         {
          "quantiles": 5.151179480195694,
          "sample_means": 5.158544535773812
         },
         {
          "quantiles": 5.151806675003166,
          "sample_means": 5.159119516365781
         },
         {
          "quantiles": 5.152436267622939,
          "sample_means": 5.159297421874058
         },
         {
          "quantiles": 5.1530682865189945,
          "sample_means": 5.159618989792285
         },
         {
          "quantiles": 5.153702760641048,
          "sample_means": 5.161896743205781
         },
         {
          "quantiles": 5.154339719435978,
          "sample_means": 5.163871696048769
         },
         {
          "quantiles": 5.154979192859604,
          "sample_means": 5.165228884315395
         },
         {
          "quantiles": 5.155621211388806,
          "sample_means": 5.165698603960202
         },
         {
          "quantiles": 5.156265806034017,
          "sample_means": 5.166130356351689
         },
         {
          "quantiles": 5.156913008352086,
          "sample_means": 5.166318876360853
         },
         {
          "quantiles": 5.157562850459548,
          "sample_means": 5.166824830364158
         },
         {
          "quantiles": 5.158215365046276,
          "sample_means": 5.167294703049767
         },
         {
          "quantiles": 5.158870585389583,
          "sample_means": 5.167776216234644
         },
         {
          "quantiles": 5.15952854536874,
          "sample_means": 5.167780718567546
         },
         {
          "quantiles": 5.16018927947996,
          "sample_means": 5.168851326110595
         },
         {
          "quantiles": 5.1608528228518455,
          "sample_means": 5.170004731059018
         },
         {
          "quantiles": 5.1615192112613375,
          "sample_means": 5.170110973652589
         },
         {
          "quantiles": 5.162188481150155,
          "sample_means": 5.171579790020827
         },
         {
          "quantiles": 5.1628606696417805,
          "sample_means": 5.171769964428464
         },
         {
          "quantiles": 5.163535814558982,
          "sample_means": 5.172465893410641
         },
         {
          "quantiles": 5.164213954441908,
          "sample_means": 5.172486336032477
         },
         {
          "quantiles": 5.164895128566779,
          "sample_means": 5.17320585133682
         },
         {
          "quantiles": 5.16557937696519,
          "sample_means": 5.173434678599528
         },
         {
          "quantiles": 5.166266740444054,
          "sample_means": 5.174194037401707
         },
         {
          "quantiles": 5.166957260606217,
          "sample_means": 5.174247121575286
         },
         {
          "quantiles": 5.16765097987176,
          "sample_means": 5.175237181986562
         },
         {
          "quantiles": 5.168347941500029,
          "sample_means": 5.175521034921612
         },
         {
          "quantiles": 5.169048189612411,
          "sample_means": 5.1757256419616295
         },
         {
          "quantiles": 5.1697517692159,
          "sample_means": 5.176712185382485
         },
         {
          "quantiles": 5.1704587262274675,
          "sample_means": 5.178446305749926
         },
         {
          "quantiles": 5.171169107499296,
          "sample_means": 5.1784480672936395
         },
         {
          "quantiles": 5.171882960844885,
          "sample_means": 5.17891721444331
         },
         {
          "quantiles": 5.172600335066093,
          "sample_means": 5.179549505484609
         },
         {
          "quantiles": 5.173321279981135,
          "sample_means": 5.180529340458011
         },
         {
          "quantiles": 5.174045846453581,
          "sample_means": 5.180547411301333
         },
         {
          "quantiles": 5.174774086422416,
          "sample_means": 5.1814776898632715
         },
         {
          "quantiles": 5.175506052933184,
          "sample_means": 5.18166798861084
         },
         {
          "quantiles": 5.176241800170278,
          "sample_means": 5.181690236945578
         },
         {
          "quantiles": 5.176981383490425,
          "sample_means": 5.182299089976044
         },
         {
          "quantiles": 5.177724859457416,
          "sample_means": 5.182660501768559
         },
         {
          "quantiles": 5.178472285878148,
          "sample_means": 5.183434858710759
         },
         {
          "quantiles": 5.179223721840018,
          "sample_means": 5.184731872025311
         },
         {
          "quantiles": 5.179979227749753,
          "sample_means": 5.184893043156282
         },
         {
          "quantiles": 5.180738865373726,
          "sample_means": 5.185366957504339
         },
         {
          "quantiles": 5.181502697879843,
          "sample_means": 5.186757802636197
         },
         {
          "quantiles": 5.182270789881052,
          "sample_means": 5.1873925097057185
         },
         {
          "quantiles": 5.1830432074805834,
          "sample_means": 5.187757975417309
         },
         {
          "quantiles": 5.183820018318967,
          "sample_means": 5.189024874993835
         },
         {
          "quantiles": 5.184601291622945,
          "sample_means": 5.190171101543506
         },
         {
          "quantiles": 5.185387098256355,
          "sample_means": 5.191522546792022
         },
         {
          "quantiles": 5.186177510773078,
          "sample_means": 5.192539114015274
         },
         {
          "quantiles": 5.186972603472168,
          "sample_means": 5.194548671328072
         },
         {
          "quantiles": 5.187772452455257,
          "sample_means": 5.195993549409513
         },
         {
          "quantiles": 5.188577135686358,
          "sample_means": 5.196448338651164
         },
         {
          "quantiles": 5.189386733054184,
          "sample_means": 5.196682737790581
         },
         {
          "quantiles": 5.190201326437121,
          "sample_means": 5.197328560974822
         },
         {
          "quantiles": 5.191020999770968,
          "sample_means": 5.197549227660542
         },
         {
          "quantiles": 5.191845839119629,
          "sample_means": 5.19788941558935
         },
         {
          "quantiles": 5.1926759327488625,
          "sample_means": 5.198421383969228
         },
         {
          "quantiles": 5.193511371203296,
          "sample_means": 5.198601057767868
         },
         {
          "quantiles": 5.194352247386848,
          "sample_means": 5.199209589517679
         },
         {
          "quantiles": 5.195198656646763,
          "sample_means": 5.200071614099672
         },
         {
          "quantiles": 5.196050696861438,
          "sample_means": 5.202037671165951
         },
         {
          "quantiles": 5.196908468532269,
          "sample_means": 5.202492762826912
         },
         {
          "quantiles": 5.197772074879719,
          "sample_means": 5.2039100766321145
         },
         {
          "quantiles": 5.1986416219438665,
          "sample_means": 5.206041349557536
         },
         {
          "quantiles": 5.1995172186896745,
          "sample_means": 5.206683010053197
         },
         {
          "quantiles": 5.200398977117243,
          "sample_means": 5.206741125614399
         },
         {
          "quantiles": 5.201287012377359,
          "sample_means": 5.207271379610613
         },
         {
          "quantiles": 5.202181442892623,
          "sample_means": 5.209647374683984
         },
         {
          "quantiles": 5.203082390484502,
          "sample_means": 5.209943621415502
         },
         {
          "quantiles": 5.203989980506645,
          "sample_means": 5.21136583287594
         },
         {
          "quantiles": 5.204904341984856,
          "sample_means": 5.212354261055734
         },
         {
          "quantiles": 5.205825607764115,
          "sample_means": 5.212807562631408
         },
         {
          "quantiles": 5.206753914663074,
          "sample_means": 5.213291433488276
         },
         {
          "quantiles": 5.207689403636513,
          "sample_means": 5.213849426802283
         },
         {
          "quantiles": 5.208632219946236,
          "sample_means": 5.214500633326762
         },
         {
          "quantiles": 5.20958251334095,
          "sample_means": 5.214766909114503
         },
         {
          "quantiles": 5.210540438245696,
          "sample_means": 5.214843306597464
         },
         {
          "quantiles": 5.211506153961454,
          "sample_means": 5.215574280701781
         },
         {
          "quantiles": 5.212479824875603,
          "sample_means": 5.2167145388458005
         },
         {
          "quantiles": 5.213461620683909,
          "sample_means": 5.218096380353072
         },
         {
          "quantiles": 5.214451716624882,
          "sample_means": 5.219451836069378
         },
         {
          "quantiles": 5.215450293727263,
          "sample_means": 5.219736342826346
         },
         {
          "quantiles": 5.216457539071608,
          "sample_means": 5.220695718990114
         },
         {
          "quantiles": 5.217473646066901,
          "sample_means": 5.222242851811584
         },
         {
          "quantiles": 5.218498814743268,
          "sample_means": 5.222825612974482
         },
         {
          "quantiles": 5.219533252061936,
          "sample_means": 5.223030823949963
         },
         {
          "quantiles": 5.220577172243671,
          "sample_means": 5.224393433058449
         },
         {
          "quantiles": 5.22163079711704,
          "sample_means": 5.224843586255708
         },
         {
          "quantiles": 5.222694356487959,
          "sample_means": 5.224875807568712
         },
         {
          "quantiles": 5.223768088532113,
          "sample_means": 5.2252205556501465
         },
         {
          "quantiles": 5.22485224021198,
          "sample_means": 5.226014713995512
         },
         {
          "quantiles": 5.225947067720337,
          "sample_means": 5.226714735866882
         },
         {
          "quantiles": 5.227052836952294,
          "sample_means": 5.2275594826514125
         },
         {
          "quantiles": 5.228169824008127,
          "sample_means": 5.2280537913393
         },
         {
          "quantiles": 5.229298315729325,
          "sample_means": 5.232018941973529
         },
         {
          "quantiles": 5.230438610270555,
          "sample_means": 5.233455612491588
         },
         {
          "quantiles": 5.231591017710486,
          "sample_means": 5.234972670829415
         },
         {
          "quantiles": 5.232755860704684,
          "sample_means": 5.235634158120462
         },
         {
          "quantiles": 5.233933475184131,
          "sample_means": 5.236843005699281
         },
         {
          "quantiles": 5.23512421110327,
          "sample_means": 5.240931325351336
         },
         {
          "quantiles": 5.236328433241854,
          "sample_means": 5.241244791348197
         },
         {
          "quantiles": 5.237546522065342,
          "sample_means": 5.246303416655079
         },
         {
          "quantiles": 5.238778874649074,
          "sample_means": 5.247449851498966
         },
         {
          "quantiles": 5.240025905672,
          "sample_means": 5.2474865009961595
         },
         {
          "quantiles": 5.241288048486383,
          "sample_means": 5.2488593175565805
         },
         {
          "quantiles": 5.2425657562705705,
          "sample_means": 5.249249435035303
         },
         {
          "quantiles": 5.243859503272745,
          "sample_means": 5.249631393475171
         },
         {
          "quantiles": 5.245169786154441,
          "sample_means": 5.2505474479354035
         },
         {
          "quantiles": 5.246497125443635,
          "sample_means": 5.253621544700576
         },
         {
          "quantiles": 5.24784206710836,
          "sample_means": 5.258401572089444
         },
         {
          "quantiles": 5.249205184263095,
          "sample_means": 5.26007411255973
         },
         {
          "quantiles": 5.25058707902166,
          "sample_means": 5.263377450067366
         },
         {
          "quantiles": 5.251988384512057,
          "sample_means": 5.26370297925394
         },
         {
          "quantiles": 5.2534097670706155,
          "sample_means": 5.263974549491062
         },
         {
          "quantiles": 5.254851928635009,
          "sample_means": 5.264552371792439
         },
         {
          "quantiles": 5.256315609358302,
          "sample_means": 5.265353320073465
         },
         {
          "quantiles": 5.257801590469068,
          "sample_means": 5.265616060572302
         },
         {
          "quantiles": 5.25931069740605,
          "sample_means": 5.266714513722415
         },
         {
          "quantiles": 5.260843803259756,
          "sample_means": 5.2673289186023915
         },
         {
          "quantiles": 5.262401832557913,
          "sample_means": 5.27131546835526
         },
         {
          "quantiles": 5.263985765437069,
          "sample_means": 5.272318918672759
         },
         {
          "quantiles": 5.265596642248784,
          "sample_means": 5.272609872791449
         },
         {
          "quantiles": 5.26723556865615,
          "sample_means": 5.274098840838855
         },
         {
          "quantiles": 5.268903721284922,
          "sample_means": 5.275501745433325
         },
         {
          "quantiles": 5.270602354003638,
          "sample_means": 5.278488698374862
         },
         {
          "quantiles": 5.2723328049189995,
          "sample_means": 5.279175567970575
         },
         {
          "quantiles": 5.274096504187032,
          "sample_means": 5.279515431616082
         },
         {
          "quantiles": 5.275894982757393,
          "sample_means": 5.281311219941938
         },
         {
          "quantiles": 5.277729882188521,
          "sample_means": 5.281356303273466
         },
         {
          "quantiles": 5.279602965695618,
          "sample_means": 5.283992766288547
         },
         {
          "quantiles": 5.281516130622955,
          "sample_means": 5.28648100640797
         },
         {
          "quantiles": 5.283471422567664,
          "sample_means": 5.287419919806874
         },
         {
          "quantiles": 5.285471051425796,
          "sample_means": 5.28757899144376
         },
         {
          "quantiles": 5.287517409684772,
          "sample_means": 5.287678313461598
         },
         {
          "quantiles": 5.289613093352253,
          "sample_means": 5.290059815998655
         },
         {
          "quantiles": 5.291760925993015,
          "sample_means": 5.290174862873208
         },
         {
          "quantiles": 5.293963986447173,
          "sample_means": 5.294452230898905
         },
         {
          "quantiles": 5.296225640930869,
          "sample_means": 5.298991307294734
         },
         {
          "quantiles": 5.298549580381877,
          "sample_means": 5.30074986792161
         },
         {
          "quantiles": 5.300939864118012,
          "sample_means": 5.302182059510083
         },
         {
          "quantiles": 5.303400971139644,
          "sample_means": 5.3023864650734085
         },
         {
          "quantiles": 5.305937860748187,
          "sample_means": 5.303305579959206
         },
         {
          "quantiles": 5.308556044596658,
          "sample_means": 5.304619688991892
         },
         {
          "quantiles": 5.311261672873117,
          "sample_means": 5.305642189832229
         },
         {
          "quantiles": 5.3140616380953185,
          "sample_means": 5.3077809018626425
         },
         {
          "quantiles": 5.316963701039832,
          "sample_means": 5.308488057695206
         },
         {
          "quantiles": 5.31997664474966,
          "sample_means": 5.31199542473288
         },
         {
          "quantiles": 5.323110464520539,
          "sample_means": 5.313888729102519
         },
         {
          "quantiles": 5.326376604496281,
          "sample_means": 5.323247055338462
         },
         {
          "quantiles": 5.329788255371176,
          "sample_means": 5.325025333222893
         },
         {
          "quantiles": 5.3333607332660415,
          "sample_means": 5.330331421857788
         },
         {
          "quantiles": 5.337111968006784,
          "sample_means": 5.3349614892059325
         },
         {
          "quantiles": 5.341063141236647,
          "sample_means": 5.335151511397659
         },
         {
          "quantiles": 5.345239533439688,
          "sample_means": 5.3356635312498035
         },
         {
          "quantiles": 5.349671668152778,
          "sample_means": 5.3356858536247564
         },
         {
          "quantiles": 5.35439688864728,
          "sample_means": 5.344744137802871
         },
         {
          "quantiles": 5.359461580426451,
          "sample_means": 5.345611010663659
         },
         {
          "quantiles": 5.364924387256853,
          "sample_means": 5.347718206313083
         },
         {
          "quantiles": 5.37086100951075,
          "sample_means": 5.352771917454778
         },
         {
          "quantiles": 5.377371627506796,
          "sample_means": 5.358299417663257
         },
         {
          "quantiles": 5.3845928979011495,
          "sample_means": 5.35838697949844
         },
         {
          "quantiles": 5.392718407452918,
          "sample_means": 5.365907206303013
         },
         {
          "quantiles": 5.402035983656106,
          "sample_means": 5.38639083435057
         },
         {
          "quantiles": 5.413002022897983,
          "sample_means": 5.388816571797415
         },
         {
          "quantiles": 5.4264085179564105,
          "sample_means": 5.392644119835561
         },
         {
          "quantiles": 5.443831008848593,
          "sample_means": 5.400061404179456
         },
         {
          "quantiles": 5.469240567127139,
          "sample_means": 5.432481481517826
         },
         {
          "quantiles": 5.520277958659184,
          "sample_means": 5.462840116535096
         }
        ]
       },
       "layer": [
        {
         "data": {
          "name": "data-e6c35615c61ddf10fbb64ca38dfe5697"
         },
         "encoding": {
          "x": {
           "field": "sample_means",
           "scale": {
            "zero": false
           },
           "title": "Sample mean quantile",
           "type": "quantitative"
          },
          "y": {
           "field": "quantiles",
           "scale": {
            "zero": false
           },
           "title": "Normal quantile",
           "type": "quantitative"
          }
         },
         "mark": "point"
        },
        {
         "data": {
          "name": "data-97e883dae8635bcdc2e6f7fe30fd1d59"
         },
         "encoding": {
          "x": {
           "field": "x",
           "type": "quantitative"
          },
          "y": {
           "field": "y",
           "type": "quantitative"
          }
         },
         "mark": {
          "color": "red",
          "type": "line"
         }
        }
       ]
      },
      "image/png": "[encoded data removed]",
      "text/plain": [
       "<VegaLite 2 object>\n",
       "\n",
       "If you see this message, it means the renderer has not been properly enabled\n",
       "for the frontend that you are using. For more information, see\n",
       "https://altair-viz.github.io/user_guide/troubleshooting.html\n"
      ]
     },
     "execution_count": 6,
     "metadata": {},
     "output_type": "execute_result"
    }
   ],
   "source": [
    "unit_mesh = [1 - (1 / len(sample_means)) * ix - (0.5 / len(sample_means)) for ix in range(0,len(sample_means))]\n",
    "quantile_vals = [stats.norm.isf(u, loc = 5, scale = clt_scale) for u in unit_mesh]\n",
    "sample_means.sort()\n",
    "quant_df = pd.DataFrame({\n",
    "    \"sample_means\": sample_means,\n",
    "    \"quantiles\": quantile_vals})\n",
    "\n",
    "ab_lims = [min(sample_means)-0.1, max(sample_means)+0.1]\n",
    "abline_df = pd.DataFrame({\"x\": ab_lims, \"y\": ab_lims})\n",
    "\n",
    "quant_points = (alt\n",
    "                   .Chart(quant_df)\n",
    "                   .mark_point()\n",
    "                   .encode(x =  alt.X('sample_means:Q',\n",
    "                                      scale=alt.Scale(zero=False),\n",
    "                                      title = \"Sample mean quantile\"),\n",
    "                           y = alt.Y('quantiles:Q',\n",
    "                                      scale=alt.Scale(zero=False),\n",
    "                                      title = \"Normal quantile\")))\n",
    "\n",
    "ab_line = (alt\n",
    "          .Chart(abline_df)\n",
    "          .mark_line(color = \"red\")\n",
    "          .encode(x = \"x\", y = \"y\"))\n",
    "\n",
    "quant_points + ab_line"
   ]
  },
  {
   "cell_type": "markdown",
   "metadata": {},
   "source": [
    "## Experimental results: flipping coins in series\n",
    "\n",
    "Professor Mittens asked 15 of his students to each take turns flipping a coin 30 times and recording how many heads they got. He has a sneaking suspicion that some of the students did not actually do this properly, that they just wrote down some garbage and went to lunch early. We will help Mittens work out whether the coin that was used was fair, i.e. has an equal chance of showing heads or tails.\n",
    "\n",
    "### Exercise 3 part I\n",
    "\n",
    "Read the data in `experiement1.csv` into a `DataFrame`."
   ]
  },
  {
   "cell_type": "code",
   "execution_count": 7,
   "metadata": {},
   "outputs": [],
   "source": [
    "exp1 = pd.read_csv(\"experiment1.csv\")"
   ]
  },
  {
   "cell_type": "markdown",
   "metadata": {},
   "source": [
    "### Exercise 3 part II\n",
    "\n",
    "Compute the point estimate and CI using the function you wrote above. Write a sentence explaining whether you think the coin is a _fair_ coin."
   ]
  },
  {
   "cell_type": "code",
   "execution_count": 8,
   "metadata": {},
   "outputs": [
    {
     "name": "stdout",
     "output_type": "stream",
     "text": [
      "(0.49333333333333335, (0.44713979693549655, 0.5395268697311701))\n"
     ]
    }
   ],
   "source": [
    "head_counts = exp1.drop(columns=\"flip_number\").groupby(\"name\").sum()\n",
    "head_counts[\"name\"] = head_counts.index.copy()\n",
    "\n",
    "total_heads = int(head_counts[\"outcome\"].sum())\n",
    "num_people = int(head_counts[\"name\"].unique().size)\n",
    "num_flips = int(exp1[\"name\"].value_counts().unique())\n",
    "\n",
    "est_and_ci = wald_estimate_and_ci(num_success=total_heads, \n",
    "                                  num_trials=num_people * num_flips)\n",
    "\n",
    "print(est_and_ci)"
   ]
  },
  {
   "cell_type": "markdown",
   "metadata": {},
   "source": [
    "### Partial answer\n",
    "\n",
    "We estimate the probability of heads as 0.49 with a $95\\%$ CI of (0.45,0.54). We are not able to reject the null hypothesis that the coin is fair."
   ]
  },
  {
   "cell_type": "markdown",
   "metadata": {},
   "source": [
    "### Exercise 3 part III\n",
    "\n",
    "Generate a histogram of the number of heads from each student. As an extension, include the binomial distribution supported by your estimate that is most amenable to large value outcomes."
   ]
  },
  {
   "cell_type": "code",
   "execution_count": 9,
   "metadata": {},
   "outputs": [
    {
     "data": {
      "application/vnd.vegalite.v2+json": {
       "$schema": "https://vega.github.io/schema/vega-lite/v2.6.0.json",
       "config": {
        "view": {
         "height": 300,
         "width": 400
        }
       },
       "datasets": {
        "data-3e36b5971c6b02f0d186c5079c3e0618": [
         {
          "name": 0,
          "outcome": 9
         },
         {
          "name": 1,
          "outcome": 13
         },
         {
          "name": 2,
          "outcome": 17
         },
         {
          "name": 3,
          "outcome": 17
         },
         {
          "name": 4,
          "outcome": 14
         },
         {
          "name": 5,
          "outcome": 7
         },
         {
          "name": 6,
          "outcome": 13
         },
         {
          "name": 7,
          "outcome": 13
         },
         {
          "name": 8,
          "outcome": 12
         },
         {
          "name": 9,
          "outcome": 14
         },
         {
          "name": 10,
          "outcome": 10
         },
         {
          "name": 11,
          "outcome": 11
         },
         {
          "name": 12,
          "outcome": 12
         },
         {
          "name": 13,
          "outcome": 30
         },
         {
          "name": 14,
          "outcome": 30
         }
        ],
        "data-cfdea387a9d3fe79a5e21938a28ab58a": [
         {
          "prob": 1.1450546362065415e-09,
          "value": 0
         },
         {
          "prob": 4.032583718814352e-08,
          "value": 1
         },
         {
          "prob": 6.86415880832954e-07,
          "value": 2
         },
         {
          "prob": 7.520730520430741e-06,
          "value": 3
         },
         {
          "prob": 5.959361466732567e-05,
          "value": 4
         },
         {
          "prob": 0.0003637801521431553,
          "value": 5
         },
         {
          "prob": 0.0017793594398306492,
          "value": 6
         },
         {
          "prob": 0.007161645447268646,
          "value": 7
         },
         {
          "prob": 0.024170553384531716,
          "value": 8
         },
         {
          "prob": 0.06935897927735199,
          "value": 9
         },
         {
          "prob": 0.17098496195764634,
          "value": 10
         },
         {
          "prob": 0.3649481401467542,
          "value": 11
         },
         {
          "prob": 0.678327521359728,
          "value": 12
         },
         {
          "prob": 1.1025658039492623,
          "value": 13
         },
         {
          "prob": 1.571669888238224,
          "value": 14
         },
         {
          "prob": 1.9680040339678633,
          "value": 15
         },
         {
          "prob": 2.1658740047744147,
          "value": 16
         },
         {
          "prob": 2.093862848605462,
          "value": 17
         },
         {
          "prob": 1.7752315455567964,
          "value": 18
         },
         {
          "prob": 1.316189978856755,
          "value": 19
         },
         {
          "prob": 0.8498009211314287,
          "value": 20
         },
         {
          "prob": 0.47504399317905865,
          "value": 21
         },
         {
          "prob": 0.2281337753804567,
          "value": 22
         },
         {
          "prob": 0.09315103115723739,
          "value": 23
         },
         {
          "prob": 0.031894103059271685,
          "value": 24
         },
         {
          "prob": 0.008985816861916563,
          "value": 25
         },
         {
          "prob": 0.00202857069625205,
          "value": 26
         },
         {
          "prob": 0.00035279490369601377,
          "value": 27
         },
         {
          "prob": 4.437327204872156e-05,
          "value": 28
         },
         {
          "prob": 3.592438816538233e-06,
          "value": 29
         },
         {
          "prob": 1.4057369282106098e-07,
          "value": 30
         }
        ]
       },
       "layer": [
        {
         "data": {
          "name": "data-3e36b5971c6b02f0d186c5079c3e0618"
         },
         "encoding": {
          "x": {
           "bin": {
            "step": 1
           },
           "field": "outcome",
           "title": "Number of heads",
           "type": "quantitative"
          },
          "y": {
           "aggregate": "count",
           "title": "Number of occurences",
           "type": "quantitative"
          }
         },
         "mark": "bar"
        },
        {
         "data": {
          "name": "data-cfdea387a9d3fe79a5e21938a28ab58a"
         },
         "encoding": {
          "x": {
           "field": "value",
           "type": "quantitative"
          },
          "y": {
           "field": "prob",
           "type": "quantitative"
          }
         },
         "mark": {
          "color": "firebrick",
          "type": "line"
         }
        }
       ]
      },
      "image/png": "[encoded data removed]",
      "text/plain": [
       "<VegaLite 2 object>\n",
       "\n",
       "If you see this message, it means the renderer has not been properly enabled\n",
       "for the frontend that you are using. For more information, see\n",
       "https://altair-viz.github.io/user_guide/troubleshooting.html\n"
      ]
     },
     "execution_count": 9,
     "metadata": {},
     "output_type": "execute_result"
    }
   ],
   "source": [
    "fig_1_a = (alt\n",
    "           .Chart(head_counts)\n",
    "           .mark_bar()\n",
    "           .encode(alt.X(\"outcome:Q\",\n",
    "                         bin = alt.BinParams(step = 1),\n",
    "                         title = \"Number of heads\"),\n",
    "                   y = alt.Y(\"count()\",\n",
    "                            title = \"Number of occurences\")))\n",
    "\n",
    "k_vals = range(0,31)\n",
    "k_probs = [num_people * stats.binom.pmf(k = k, n = num_flips, p = 0.540) for k in k_vals]\n",
    "binom_dist_df = pd.DataFrame({\"value\": k_vals,\n",
    "                              \"prob\": k_probs})\n",
    "\n",
    "fig_1_b = (alt\n",
    "           .Chart(binom_dist_df)\n",
    "           .mark_line(color= \"firebrick\")\n",
    "           .encode(x = \"value\", \n",
    "                   y = \"prob\"))\n",
    "\n",
    "\n",
    "fig_1_a + fig_1_b"
   ]
  },
  {
   "cell_type": "markdown",
   "metadata": {},
   "source": [
    "### Exercise 4 part I\n",
    "\n",
    "It looks like there might be a couple of strange points in this dataset as Mittens suspected. Using the upper bound on $p$ calculate the probability of someone getting all heads. Write a couple of sentences explaining whether you think it is reasonable to remove those data points."
   ]
  },
  {
   "cell_type": "code",
   "execution_count": 10,
   "metadata": {},
   "outputs": [
    {
     "data": {
      "text/plain": [
       "9.371579521404065e-09"
      ]
     },
     "execution_count": 10,
     "metadata": {},
     "output_type": "execute_result"
    }
   ],
   "source": [
    "stats.binom.pmf(k = 30, n = 30, p = 0.54)"
   ]
  },
  {
   "cell_type": "markdown",
   "metadata": {},
   "source": [
    "### Exercise 4 part II\n",
    "\n",
    "Remove the outliers and repeat the process of plotting the data and estimating the parameters and CI. Once you have done this, plot the distribution of the estimated binomial distribution on top of the histogram. Write a couple of sentences explaining what you think about the coin now."
   ]
  },
  {
   "cell_type": "code",
   "execution_count": 11,
   "metadata": {},
   "outputs": [
    {
     "data": {
      "text/plain": [
       "(0.4153846153846154, (0.3664761437453554, 0.4642930870238754))"
      ]
     },
     "execution_count": 11,
     "metadata": {},
     "output_type": "execute_result"
    }
   ],
   "source": [
    "head_counts_clean = head_counts.loc[head_counts[\"outcome\"] < 30]\n",
    "\n",
    "total_heads_clean = int(head_counts_clean[\"outcome\"].sum())\n",
    "num_people_clean = int(head_counts_clean[\"name\"].unique().size)\n",
    "\n",
    "wald_estimate_and_ci(num_success=total_heads_clean, num_trials=num_people_clean * num_flips)"
   ]
  },
  {
   "cell_type": "code",
   "execution_count": 12,
   "metadata": {},
   "outputs": [
    {
     "data": {
      "application/vnd.vegalite.v2+json": {
       "$schema": "https://vega.github.io/schema/vega-lite/v2.6.0.json",
       "config": {
        "view": {
         "height": 300,
         "width": 400
        }
       },
       "datasets": {
        "data-651c4f148c5a2518b55f662c52a2ece8": [
         {
          "name": 0,
          "outcome": 9
         },
         {
          "name": 1,
          "outcome": 13
         },
         {
          "name": 2,
          "outcome": 17
         },
         {
          "name": 3,
          "outcome": 17
         },
         {
          "name": 4,
          "outcome": 14
         },
         {
          "name": 5,
          "outcome": 7
         },
         {
          "name": 6,
          "outcome": 13
         },
         {
          "name": 7,
          "outcome": 13
         },
         {
          "name": 8,
          "outcome": 12
         },
         {
          "name": 9,
          "outcome": 14
         },
         {
          "name": 10,
          "outcome": 10
         },
         {
          "name": 11,
          "outcome": 11
         },
         {
          "name": 12,
          "outcome": 12
         }
        ],
        "data-9fc575678913ae2cd8cec04951321779": [
         {
          "prob": 1.3446812053531815e-06,
          "value": 0
         },
         {
          "prob": 2.861757437033696e-05,
          "value": 1
         },
         {
          "prob": 0.0002943696645700855,
          "value": 2
         },
         {
          "prob": 0.0019490458702589434,
          "value": 3
         },
         {
          "prob": 0.00933293118643215,
          "value": 4
         },
         {
          "prob": 0.03442814615439438,
          "value": 5
         },
         {
          "prob": 0.10176410722274656,
          "value": 6
         },
         {
          "prob": 0.2475141655527599,
          "value": 7
         },
         {
          "prob": 0.5048125449147636,
          "value": 8
         },
         {
          "prob": 0.8753919344865728,
          "value": 9
         },
         {
          "prob": 1.3041095229146151,
          "value": 10
         },
         {
          "prob": 1.682068226913952,
          "value": 11
         },
         {
          "prob": 1.889331619546509,
          "value": 12
         },
         {
          "prob": 1.8557931884303078,
          "value": 13
         },
         {
          "prob": 1.5986106159188909,
          "value": 14
         },
         {
          "prob": 1.2096609105072862,
          "value": 15
         },
         {
          "prob": 0.804502047853403,
          "value": 16
         },
         {
          "prob": 0.47000069361772845,
          "value": 17
         },
         {
          "prob": 0.24080282450784724,
          "value": 18
         },
         {
          "prob": 0.10789006442186948,
          "value": 19
         },
         {
          "prob": 0.0420955678705843,
          "value": 20
         },
         {
          "prob": 0.014220318002680022,
          "value": 21
         },
         {
          "prob": 0.004126875504274278,
          "value": 22
         },
         {
          "prob": 0.0010183000129461565,
          "value": 23
         },
         {
          "prob": 0.0002106952662114393,
          "value": 24
         },
         {
          "prob": 3.587221968317836e-05,
          "value": 25
         },
         {
          "prob": 4.893810377553899e-06,
          "value": 26
         },
         {
          "prob": 5.143225847888285e-07,
          "value": 27
         },
         {
          "prob": 3.909228437497448e-08,
          "value": 28
         },
         {
          "prob": 1.912560921381039e-09,
          "value": 29
         },
         {
          "prob": 4.522579956542049e-11,
          "value": 30
         }
        ]
       },
       "layer": [
        {
         "data": {
          "name": "data-651c4f148c5a2518b55f662c52a2ece8"
         },
         "encoding": {
          "x": {
           "bin": {
            "step": 1
           },
           "field": "outcome",
           "title": "Number of heads",
           "type": "quantitative"
          },
          "y": {
           "aggregate": "count",
           "title": "Number of occurences",
           "type": "quantitative"
          }
         },
         "mark": "bar"
        },
        {
         "data": {
          "name": "data-9fc575678913ae2cd8cec04951321779"
         },
         "encoding": {
          "x": {
           "field": "value",
           "type": "quantitative"
          },
          "y": {
           "field": "prob",
           "type": "quantitative"
          }
         },
         "mark": {
          "color": "firebrick",
          "type": "line"
         }
        }
       ]
      },
      "image/png": "[encoded data removed]",
      "text/plain": [
       "<VegaLite 2 object>\n",
       "\n",
       "If you see this message, it means the renderer has not been properly enabled\n",
       "for the frontend that you are using. For more information, see\n",
       "https://altair-viz.github.io/user_guide/troubleshooting.html\n"
      ]
     },
     "execution_count": 12,
     "metadata": {},
     "output_type": "execute_result"
    }
   ],
   "source": [
    "k_vals = range(0,31)\n",
    "k_probs = [num_people_clean * stats.binom.pmf(k = k, n = num_flips, p = 0.415) for k in k_vals]\n",
    "binom_dist_df = pd.DataFrame({\"value\": k_vals,\n",
    "                              \"prob\": k_probs})\n",
    "\n",
    "fig_2_a = (alt\n",
    "           .Chart(head_counts_clean)\n",
    "           .mark_bar()\n",
    "           .encode(alt.X(\"outcome:Q\",\n",
    "                         bin = alt.BinParams(step = 1),\n",
    "                         title = \"Number of heads\"),\n",
    "                   y = alt.Y(\"count()\",\n",
    "                            title = \"Number of occurences\")))\n",
    "\n",
    "fig_2_b = (alt\n",
    "           .Chart(binom_dist_df)\n",
    "           .mark_line(color= \"firebrick\")\n",
    "           .encode(x = \"value\", y = \"prob\"))\n",
    "\n",
    "fig_2_a + fig_2_b"
   ]
  },
  {
   "cell_type": "markdown",
   "metadata": {},
   "source": [
    "## Experimental results: flipping coins in parallel\n",
    "\n",
    "After the success of his first experiment, Mittens was lauded as a statistical wizard. The royal mint has become interested and is providing additional funds to obtain an additional 49 coins and repeat the experiment to gather more data about the fascinating topic of coin bias. Now he gives each of 50 students a coin each and asks them to flip the coin 30 times and record the results. We will help Mittens work out whether the coins are fair.\n",
    "\n",
    "### Excercise 5 part I\n",
    "\n",
    "Do we need to change anything about how we analyse this data? If so, why, if not, why not? **Hint:** there are good arguments that can be given for each answer. Once you have answered one way, try to answer the other way. "
   ]
  },
  {
   "cell_type": "markdown",
   "metadata": {},
   "source": [
    "### Partial answer\n",
    "\n",
    "If you assume the coins have the same probability of heads it is fine. If you assume that the coins vary then you would need to adjust the model."
   ]
  },
  {
   "cell_type": "markdown",
   "metadata": {},
   "source": [
    "### Exercise 5 part II\n",
    "\n",
    "Using the data in `experiment2.csv` explore the data set using the methodology devised above and write a couple of sentences to explain what you found."
   ]
  },
  {
   "cell_type": "code",
   "execution_count": 13,
   "metadata": {},
   "outputs": [
    {
     "name": "stdout",
     "output_type": "stream",
     "text": [
      "(0.4013333333333333, (0.37652739859779666, 0.42613926806887))\n"
     ]
    }
   ],
   "source": [
    "exp2 = pd.read_csv(\"experiment2.csv\")\n",
    "\n",
    "head_counts = exp2.drop(columns=\"flip_number\").groupby(\"name\").sum()\n",
    "head_counts[\"name\"] = head_counts.index.copy()\n",
    "\n",
    "total_heads = int(head_counts[\"outcome\"].sum())\n",
    "num_people = int(head_counts[\"name\"].unique().size)\n",
    "num_flips = int(exp2[\"name\"].value_counts().unique())\n",
    "\n",
    "wald_estimate = wald_estimate_and_ci(num_success=total_heads, \n",
    "                                     num_trials=num_people * num_flips)\n",
    "\n",
    "print(wald_estimate)"
   ]
  },
  {
   "cell_type": "markdown",
   "metadata": {},
   "source": [
    "### Exercise 5 part III\n",
    "\n",
    "Visualise the number of heads each student got and compare the variance in this to what is predicted by theory. Revise your answer to part I of this exercise."
   ]
  },
  {
   "cell_type": "code",
   "execution_count": 14,
   "metadata": {},
   "outputs": [
    {
     "name": "stdout",
     "output_type": "stream",
     "text": [
      "18.69224489795919 7.2079466666666665\n"
     ]
    },
    {
     "data": {
      "application/vnd.vegalite.v2+json": {
       "$schema": "https://vega.github.io/schema/vega-lite/v2.6.0.json",
       "config": {
        "view": {
         "height": 300,
         "width": 400
        }
       },
       "data": {
        "name": "data-6848c08f6b43d814c683ff191c0a1025"
       },
       "datasets": {
        "data-6848c08f6b43d814c683ff191c0a1025": [
         {
          "name": 0,
          "outcome": 7
         },
         {
          "name": 1,
          "outcome": 7
         },
         {
          "name": 2,
          "outcome": 4
         },
         {
          "name": 3,
          "outcome": 7
         },
         {
          "name": 4,
          "outcome": 4
         },
         {
          "name": 5,
          "outcome": 4
         },
         {
          "name": 6,
          "outcome": 10
         },
         {
          "name": 7,
          "outcome": 7
         },
         {
          "name": 8,
          "outcome": 11
         },
         {
          "name": 9,
          "outcome": 3
         },
         {
          "name": 10,
          "outcome": 12
         },
         {
          "name": 11,
          "outcome": 10
         },
         {
          "name": 12,
          "outcome": 12
         },
         {
          "name": 13,
          "outcome": 12
         },
         {
          "name": 14,
          "outcome": 9
         },
         {
          "name": 15,
          "outcome": 14
         },
         {
          "name": 16,
          "outcome": 9
         },
         {
          "name": 17,
          "outcome": 6
         },
         {
          "name": 18,
          "outcome": 9
         },
         {
          "name": 19,
          "outcome": 10
         },
         {
          "name": 20,
          "outcome": 13
         },
         {
          "name": 21,
          "outcome": 15
         },
         {
          "name": 22,
          "outcome": 10
         },
         {
          "name": 23,
          "outcome": 15
         },
         {
          "name": 24,
          "outcome": 12
         },
         {
          "name": 25,
          "outcome": 13
         },
         {
          "name": 26,
          "outcome": 15
         },
         {
          "name": 27,
          "outcome": 15
         },
         {
          "name": 28,
          "outcome": 8
         },
         {
          "name": 29,
          "outcome": 9
         },
         {
          "name": 30,
          "outcome": 13
         },
         {
          "name": 31,
          "outcome": 11
         },
         {
          "name": 32,
          "outcome": 13
         },
         {
          "name": 33,
          "outcome": 13
         },
         {
          "name": 34,
          "outcome": 19
         },
         {
          "name": 35,
          "outcome": 16
         },
         {
          "name": 36,
          "outcome": 20
         },
         {
          "name": 37,
          "outcome": 16
         },
         {
          "name": 38,
          "outcome": 17
         },
         {
          "name": 39,
          "outcome": 11
         },
         {
          "name": 40,
          "outcome": 17
         },
         {
          "name": 41,
          "outcome": 11
         },
         {
          "name": 42,
          "outcome": 16
         },
         {
          "name": 43,
          "outcome": 15
         },
         {
          "name": 44,
          "outcome": 15
         },
         {
          "name": 45,
          "outcome": 18
         },
         {
          "name": 46,
          "outcome": 15
         },
         {
          "name": 47,
          "outcome": 16
         },
         {
          "name": 48,
          "outcome": 18
         },
         {
          "name": 49,
          "outcome": 20
         }
        ]
       },
       "encoding": {
        "x": {
         "field": "name",
         "type": "quantitative"
        },
        "y": {
         "field": "outcome",
         "type": "quantitative"
        }
       },
       "mark": "point"
      },
      "image/png": "[encoded data removed]",
      "text/plain": [
       "<VegaLite 2 object>\n",
       "\n",
       "If you see this message, it means the renderer has not been properly enabled\n",
       "for the frontend that you are using. For more information, see\n",
       "https://altair-viz.github.io/user_guide/troubleshooting.html\n"
      ]
     },
     "execution_count": 14,
     "metadata": {},
     "output_type": "execute_result"
    }
   ],
   "source": [
    "emp_var = head_counts[\"outcome\"].var()\n",
    "thry_var = stats.binom.var(n = num_flips, p = wald_estimate[0])\n",
    "\n",
    "print(emp_var,thry_var)\n",
    "\n",
    "alt.Chart(head_counts).mark_point().encode(\n",
    "    x = \"name\",\n",
    "    y = \"outcome\"\n",
    ")"
   ]
  },
  {
   "cell_type": "markdown",
   "metadata": {},
   "source": [
    "### Partial answer\n",
    "\n",
    "- There appears to be systematic differences in the number of heads obtained.\n",
    "- The variance is too great.\n",
    "- It seems that we should not consider all the coins as identical.\n",
    "\n"
   ]
  },
  {
   "cell_type": "markdown",
   "metadata": {},
   "source": [
    "### Exercise 5 part IV (Extension)\n",
    "\n",
    "Consider how you might analyse this data. Over the following weeks you will learn a couple of approaches."
   ]
  },
  {
   "cell_type": "markdown",
   "metadata": {},
   "source": [
    "### Partial answer\n",
    "\n",
    "One could use a negative binomial distribution if one were interested in an empirical analysis or a hierarchical model if one were interested in a structural analysis."
   ]
  },
  {
   "cell_type": "markdown",
   "metadata": {},
   "source": [
    "## Epilogue\n",
    "\n",
    "Professor Mittens' work was published in a top tier journal and he was lauded as a statistical wizard. Rumour has it he will soon be elected to the British Acadmey."
   ]
  }
 ],
 "metadata": {
  "kernelspec": {
   "display_name": "Python3 - python",
   "language": "python",
   "name": "ipython_python"
  },
  "language_info": {
   "codemirror_mode": {
    "name": "ipython",
    "version": 3
   },
   "file_extension": ".py",
   "mimetype": "text/x-python",
   "name": "python",
   "nbconvert_exporter": "python",
   "pygments_lexer": "ipython3",
   "version": "3.7.2"
  }
 },
 "nbformat": 4,
 "nbformat_minor": 2
}
