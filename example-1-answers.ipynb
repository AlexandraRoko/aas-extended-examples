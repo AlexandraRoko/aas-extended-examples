{
 "cells": [
  {
   "cell_type": "markdown",
   "metadata": {},
   "source": [
    "# Example 1: Coin flipping\n",
    "\n",
    "In this lab we will consider two data sets collected by the esteemed Professor Mittens and help her interrogate the bais in the results of coin flips."
   ]
  },
  {
   "cell_type": "code",
   "execution_count": 1,
   "metadata": {},
   "outputs": [],
   "source": [
    "import pandas as pd\n",
    "from scipy import stats\n",
    "import altair as alt\n",
    "from typing import List, Any, Tuple\n",
    "from functools import reduce\n",
    "import math as math"
   ]
  },
  {
   "cell_type": "markdown",
   "metadata": {},
   "source": [
    "Since we will be working with the binomial distribution, the following function which estimates the probability based on the number of successes in a given number of trials and also a CI for this based on the Wald method will be useful"
   ]
  },
  {
   "cell_type": "markdown",
   "metadata": {},
   "source": [
    "## Parameter estimation of the binomial distribution\n",
    "\n",
    "Let $X$ be a binomial random variable (RV) which results from the number of heads when a coin is flipped $n$ times and the probability of coming up heads is $p$. For the time being we will assume that $n$ is know. The expected value of $X$ is $np$. So a simple way to estimate $p$ is to divide the number of heads, $X$, by the number of flips, $n$. This gives the estimate \n",
    "\n",
    "$$\n",
    "\\hat{p} = X / n.\n",
    "$$\n",
    "\n",
    "It turns out that this is a very sensible thing to do. The resulting estimate is called the maximum likelihood estimate (MLE) of $p$.\n",
    "\n",
    "Given an estimator though, we want to know how confident we are in this estimate. Here we will use the Wald method to get the $95\\%$ CI. It is a very simple method but is acceptable when we have a fair bit of data. The estimated standard error of $\\hat{p}$ is $\\sqrt{\\hat{p}(1-\\hat{p})/n}$, so the Wald CI is given by\n",
    "\n",
    "$$\n",
    "\\hat{p} \\pm z \\sqrt{\\frac{\\hat{p}(1-\\hat{p})}{n}}\n",
    "$$\n",
    "\n",
    "where $z$ is the appropriate quantile of the standard normal distribution. In the case of a $95\\%$ distribution this is just $1.96$.\n",
    "\n",
    "This is stated on the [wikipedia](https://en.wikipedia.org/wiki/Binomial_distribution#Estimation_of_parameters) but there is also a reasonably clear description in [All of Statistics](https://link.springer.com/book/10.1007/978-0-387-21736-9) which you can get via SOLO."
   ]
  },
  {
   "cell_type": "markdown",
   "metadata": {},
   "source": [
    "### Exercise 1\n",
    "\n",
    "Implement a function called `wald_estimate_and_ci` which takes two arguments: `num_trials` which is $n$ in the description above, and `num_success` which is $X$ above. The function should return `(p_hat,(wald_lower,wald_upper))` where `p_hat` is $\\hat{p}$ and `wald_x` are the limits on the $95\\%$ CI using the Wald method."
   ]
  },
  {
   "cell_type": "code",
   "execution_count": 2,
   "metadata": {},
   "outputs": [],
   "source": [
    "CI = Tuple[float,float]\n",
    "EstimateAndCI = Tuple[float,CI]\n",
    "\n",
    "def wald_estimate_and_ci(num_trials: int, num_success: int) -> EstimateAndCI:\n",
    "    p_hat = num_success / num_trials\n",
    "    z = 1.96\n",
    "    delta = z * math.sqrt(p_hat * (1 - p_hat) / num_trials)\n",
    "    return (p_hat,(p_hat - delta, p_hat + delta))"
   ]
  },
  {
   "cell_type": "markdown",
   "metadata": {},
   "source": [
    "### Exercise 2 part I\n",
    "\n",
    "Look up how to simulate a random variable from a binomial distribution (it tells you [here](https://docs.scipy.org/doc/scipy/reference/generated/scipy.stats.binom.html#scipy.stats.binom) if you want to use `scipy`). Then simulate a binomial random variable with $n=100$ and $p=0.6$. Then use the value and the `wald_estimate_and_ci` function to see how well you can estimate $p$. Write a couple of sentences to explain this.\n",
    "\n",
    "### Exercise 2 part II\n",
    "\n",
    "Repeat the process about 100000 times and see what proportion of the CIs capture the true value of $p$. Is it what you expect? Write a couple of sentences to explain what you found."
   ]
  },
  {
   "cell_type": "code",
   "execution_count": 3,
   "metadata": {},
   "outputs": [
    {
     "data": {
      "text/plain": [
       "0.94846"
      ]
     },
     "execution_count": 3,
     "metadata": {},
     "output_type": "execute_result"
    }
   ],
   "source": [
    "rand_xs = stats.binom.rvs(n = 100, p = 0.6, size = 100000)\n",
    "\n",
    "def ci_contains_value(ci: CI, p: float) -> bool:\n",
    "    lower,upper = ci\n",
    "    return lower < p and p < upper\n",
    "\n",
    "p_in_ci_bools = [ci_contains_value(wald_estimate_and_ci(100, x)[1], 0.6) for x in rand_xs]\n",
    "\n",
    "reduce(lambda a, b: a + 1 if b else a, p_in_ci_bools, 0) / 100000"
   ]
  },
  {
   "cell_type": "markdown",
   "metadata": {},
   "source": [
    "## Experiment 1\n",
    "\n",
    "Professor Mittens asked 15 of her students to each take turns flipping a coin 30 times and recording how many heads they got. She has some suspicions that some of the students did not actually do this properly. We will help Mittens work out whether the coin that was used was fair, i.e. has an equal chance of showing heads or tails.\n",
    "\n",
    "### Exercise 3 part I\n",
    "\n",
    "Read the data in `experiement1.csv` into a `DataFrame`.\n",
    "\n",
    "### Exercise 3 part II\n",
    "\n",
    "Compute the point estimate and CI using the function you wrote above. Write a sentence explaining whether you think the coin is a _fair_ coin.\n",
    "\n",
    "### Exercise 3 part III\n",
    "\n",
    "Generate a histogram of the number of heads from each student. As an extension, include the binomial distribution supported by your estimate that is most amenable to large value outcomes."
   ]
  },
  {
   "cell_type": "code",
   "execution_count": 4,
   "metadata": {},
   "outputs": [],
   "source": [
    "exp1 = pd.read_csv(\"experiment1.csv\")"
   ]
  },
  {
   "cell_type": "code",
   "execution_count": 5,
   "metadata": {},
   "outputs": [
    {
     "name": "stdout",
     "output_type": "stream",
     "text": [
      "(0.49333333333333335, (0.44713979693549655, 0.5395268697311701))\n"
     ]
    }
   ],
   "source": [
    "head_counts = exp1.drop(columns=\"flip_number\").groupby(\"name\").sum()\n",
    "head_counts[\"name\"] = head_counts.index.copy()\n",
    "\n",
    "total_heads = int(head_counts[\"outcome\"].sum())\n",
    "num_people = int(head_counts[\"name\"].unique().size)\n",
    "num_flips = int(exp1[\"name\"].value_counts().unique())\n",
    "\n",
    "est_and_ci = wald_estimate_and_ci(num_success=total_heads, \n",
    "                                  num_trials=num_people * num_flips)\n",
    "\n",
    "print(est_and_ci)"
   ]
  },
  {
   "cell_type": "code",
   "execution_count": 6,
   "metadata": {},
   "outputs": [
    {
     "data": {
      "application/vnd.vegalite.v2+json": {
       "$schema": "https://vega.github.io/schema/vega-lite/v2.6.0.json",
       "config": {
        "view": {
         "height": 300,
         "width": 400
        }
       },
       "datasets": {
        "data-3e36b5971c6b02f0d186c5079c3e0618": [
         {
          "name": 0,
          "outcome": 9
         },
         {
          "name": 1,
          "outcome": 13
         },
         {
          "name": 2,
          "outcome": 17
         },
         {
          "name": 3,
          "outcome": 17
         },
         {
          "name": 4,
          "outcome": 14
         },
         {
          "name": 5,
          "outcome": 7
         },
         {
          "name": 6,
          "outcome": 13
         },
         {
          "name": 7,
          "outcome": 13
         },
         {
          "name": 8,
          "outcome": 12
         },
         {
          "name": 9,
          "outcome": 14
         },
         {
          "name": 10,
          "outcome": 10
         },
         {
          "name": 11,
          "outcome": 11
         },
         {
          "name": 12,
          "outcome": 12
         },
         {
          "name": 13,
          "outcome": 30
         },
         {
          "name": 14,
          "outcome": 30
         }
        ],
        "data-cfdea387a9d3fe79a5e21938a28ab58a": [
         {
          "prob": 1.1450546362065415e-09,
          "value": 0
         },
         {
          "prob": 4.032583718814352e-08,
          "value": 1
         },
         {
          "prob": 6.86415880832954e-07,
          "value": 2
         },
         {
          "prob": 7.520730520430741e-06,
          "value": 3
         },
         {
          "prob": 5.959361466732567e-05,
          "value": 4
         },
         {
          "prob": 0.0003637801521431553,
          "value": 5
         },
         {
          "prob": 0.0017793594398306492,
          "value": 6
         },
         {
          "prob": 0.007161645447268646,
          "value": 7
         },
         {
          "prob": 0.024170553384531716,
          "value": 8
         },
         {
          "prob": 0.06935897927735199,
          "value": 9
         },
         {
          "prob": 0.17098496195764634,
          "value": 10
         },
         {
          "prob": 0.3649481401467542,
          "value": 11
         },
         {
          "prob": 0.678327521359728,
          "value": 12
         },
         {
          "prob": 1.1025658039492623,
          "value": 13
         },
         {
          "prob": 1.571669888238224,
          "value": 14
         },
         {
          "prob": 1.9680040339678633,
          "value": 15
         },
         {
          "prob": 2.1658740047744147,
          "value": 16
         },
         {
          "prob": 2.093862848605462,
          "value": 17
         },
         {
          "prob": 1.7752315455567964,
          "value": 18
         },
         {
          "prob": 1.316189978856755,
          "value": 19
         },
         {
          "prob": 0.8498009211314287,
          "value": 20
         },
         {
          "prob": 0.47504399317905865,
          "value": 21
         },
         {
          "prob": 0.2281337753804567,
          "value": 22
         },
         {
          "prob": 0.09315103115723739,
          "value": 23
         },
         {
          "prob": 0.031894103059271685,
          "value": 24
         },
         {
          "prob": 0.008985816861916563,
          "value": 25
         },
         {
          "prob": 0.00202857069625205,
          "value": 26
         },
         {
          "prob": 0.00035279490369601377,
          "value": 27
         },
         {
          "prob": 4.437327204872156e-05,
          "value": 28
         },
         {
          "prob": 3.592438816538233e-06,
          "value": 29
         },
         {
          "prob": 1.4057369282106098e-07,
          "value": 30
         }
        ]
       },
       "layer": [
        {
         "data": {
          "name": "data-3e36b5971c6b02f0d186c5079c3e0618"
         },
         "encoding": {
          "x": {
           "bin": {
            "step": 1
           },
           "field": "outcome",
           "title": "Number of heads",
           "type": "quantitative"
          },
          "y": {
           "aggregate": "count",
           "title": "Number of occurences",
           "type": "quantitative"
          }
         },
         "mark": "bar"
        },
        {
         "data": {
          "name": "data-cfdea387a9d3fe79a5e21938a28ab58a"
         },
         "encoding": {
          "x": {
           "field": "value",
           "type": "quantitative"
          },
          "y": {
           "field": "prob",
           "type": "quantitative"
          }
         },
         "mark": {
          "color": "firebrick",
          "type": "line"
         }
        }
       ]
      },
      "image/png": "[encoded data removed]",
      "text/plain": [
       "<VegaLite 2 object>\n",
       "\n",
       "If you see this message, it means the renderer has not been properly enabled\n",
       "for the frontend that you are using. For more information, see\n",
       "https://altair-viz.github.io/user_guide/troubleshooting.html\n"
      ]
     },
     "execution_count": 6,
     "metadata": {},
     "output_type": "execute_result"
    }
   ],
   "source": [
    "fig_1_a = (alt\n",
    "           .Chart(head_counts)\n",
    "           .mark_bar()\n",
    "           .encode(alt.X(\"outcome:Q\",\n",
    "                         bin = alt.BinParams(step = 1),\n",
    "                         title = \"Number of heads\"),\n",
    "                   y = alt.Y(\"count()\",\n",
    "                            title = \"Number of occurences\")))\n",
    "\n",
    "k_vals = range(0,31)\n",
    "k_probs = [num_people * stats.binom.pmf(k = k, n = num_flips, p = 0.540) for k in k_vals]\n",
    "binom_dist_df = pd.DataFrame({\"value\": k_vals,\n",
    "                              \"prob\": k_probs})\n",
    "\n",
    "fig_1_b = (alt\n",
    "           .Chart(binom_dist_df)\n",
    "           .mark_line(color= \"firebrick\")\n",
    "           .encode(x = \"value\", \n",
    "                   y = \"prob\"))\n",
    "\n",
    "\n",
    "fig_1_a + fig_1_b"
   ]
  },
  {
   "cell_type": "markdown",
   "metadata": {},
   "source": [
    "### Exercise 4 part I\n",
    "\n",
    "It looks like there might be a couple of strange points in this dataset as Mittens suspected. Using the upper bound on $p$ calculate the probability of someone getting all heads. Write a couple of sentences explaining whether you think it is reasonable to remove those data points.\n",
    "\n",
    "### Exercise 4 part II\n",
    "\n",
    "Remove the outliers and repeat the process of plotting the data and estimating the parameters and CI. Once you have done this, plot the distribution of the estimated binomial distribution on top of the histogram. Write a couple of sentences explaining what you think about the coin now."
   ]
  },
  {
   "cell_type": "code",
   "execution_count": 7,
   "metadata": {},
   "outputs": [
    {
     "data": {
      "text/plain": [
       "9.371579521404065e-09"
      ]
     },
     "execution_count": 7,
     "metadata": {},
     "output_type": "execute_result"
    }
   ],
   "source": [
    "stats.binom.pmf(k = 30, n = 30, p = 0.54)"
   ]
  },
  {
   "cell_type": "code",
   "execution_count": 8,
   "metadata": {},
   "outputs": [
    {
     "data": {
      "text/plain": [
       "(0.4153846153846154, (0.3664761437453554, 0.4642930870238754))"
      ]
     },
     "execution_count": 8,
     "metadata": {},
     "output_type": "execute_result"
    }
   ],
   "source": [
    "head_counts_clean = head_counts.loc[head_counts[\"outcome\"] < 30]\n",
    "\n",
    "total_heads_clean = int(head_counts_clean[\"outcome\"].sum())\n",
    "num_people_clean = int(head_counts_clean[\"name\"].unique().size)\n",
    "\n",
    "wald_estimate_and_ci(num_success=total_heads_clean, num_trials=num_people_clean * num_flips)"
   ]
  },
  {
   "cell_type": "code",
   "execution_count": 9,
   "metadata": {},
   "outputs": [
    {
     "data": {
      "application/vnd.vegalite.v2+json": {
       "$schema": "https://vega.github.io/schema/vega-lite/v2.6.0.json",
       "config": {
        "view": {
         "height": 300,
         "width": 400
        }
       },
       "datasets": {
        "data-651c4f148c5a2518b55f662c52a2ece8": [
         {
          "name": 0,
          "outcome": 9
         },
         {
          "name": 1,
          "outcome": 13
         },
         {
          "name": 2,
          "outcome": 17
         },
         {
          "name": 3,
          "outcome": 17
         },
         {
          "name": 4,
          "outcome": 14
         },
         {
          "name": 5,
          "outcome": 7
         },
         {
          "name": 6,
          "outcome": 13
         },
         {
          "name": 7,
          "outcome": 13
         },
         {
          "name": 8,
          "outcome": 12
         },
         {
          "name": 9,
          "outcome": 14
         },
         {
          "name": 10,
          "outcome": 10
         },
         {
          "name": 11,
          "outcome": 11
         },
         {
          "name": 12,
          "outcome": 12
         }
        ],
        "data-9fc575678913ae2cd8cec04951321779": [
         {
          "prob": 1.3446812053531815e-06,
          "value": 0
         },
         {
          "prob": 2.861757437033696e-05,
          "value": 1
         },
         {
          "prob": 0.0002943696645700855,
          "value": 2
         },
         {
          "prob": 0.0019490458702589434,
          "value": 3
         },
         {
          "prob": 0.00933293118643215,
          "value": 4
         },
         {
          "prob": 0.03442814615439438,
          "value": 5
         },
         {
          "prob": 0.10176410722274656,
          "value": 6
         },
         {
          "prob": 0.2475141655527599,
          "value": 7
         },
         {
          "prob": 0.5048125449147636,
          "value": 8
         },
         {
          "prob": 0.8753919344865728,
          "value": 9
         },
         {
          "prob": 1.3041095229146151,
          "value": 10
         },
         {
          "prob": 1.682068226913952,
          "value": 11
         },
         {
          "prob": 1.889331619546509,
          "value": 12
         },
         {
          "prob": 1.8557931884303078,
          "value": 13
         },
         {
          "prob": 1.5986106159188909,
          "value": 14
         },
         {
          "prob": 1.2096609105072862,
          "value": 15
         },
         {
          "prob": 0.804502047853403,
          "value": 16
         },
         {
          "prob": 0.47000069361772845,
          "value": 17
         },
         {
          "prob": 0.24080282450784724,
          "value": 18
         },
         {
          "prob": 0.10789006442186948,
          "value": 19
         },
         {
          "prob": 0.0420955678705843,
          "value": 20
         },
         {
          "prob": 0.014220318002680022,
          "value": 21
         },
         {
          "prob": 0.004126875504274278,
          "value": 22
         },
         {
          "prob": 0.0010183000129461565,
          "value": 23
         },
         {
          "prob": 0.0002106952662114393,
          "value": 24
         },
         {
          "prob": 3.587221968317836e-05,
          "value": 25
         },
         {
          "prob": 4.893810377553899e-06,
          "value": 26
         },
         {
          "prob": 5.143225847888285e-07,
          "value": 27
         },
         {
          "prob": 3.909228437497448e-08,
          "value": 28
         },
         {
          "prob": 1.912560921381039e-09,
          "value": 29
         },
         {
          "prob": 4.522579956542049e-11,
          "value": 30
         }
        ]
       },
       "layer": [
        {
         "data": {
          "name": "data-651c4f148c5a2518b55f662c52a2ece8"
         },
         "encoding": {
          "x": {
           "bin": {
            "step": 1
           },
           "field": "outcome",
           "title": "Number of heads",
           "type": "quantitative"
          },
          "y": {
           "aggregate": "count",
           "title": "Number of occurences",
           "type": "quantitative"
          }
         },
         "mark": "bar"
        },
        {
         "data": {
          "name": "data-9fc575678913ae2cd8cec04951321779"
         },
         "encoding": {
          "x": {
           "field": "value",
           "type": "quantitative"
          },
          "y": {
           "field": "prob",
           "type": "quantitative"
          }
         },
         "mark": {
          "color": "firebrick",
          "type": "line"
         }
        }
       ]
      },
      "image/png": "[encoded data removed]",
      "text/plain": [
       "<VegaLite 2 object>\n",
       "\n",
       "If you see this message, it means the renderer has not been properly enabled\n",
       "for the frontend that you are using. For more information, see\n",
       "https://altair-viz.github.io/user_guide/troubleshooting.html\n"
      ]
     },
     "execution_count": 9,
     "metadata": {},
     "output_type": "execute_result"
    }
   ],
   "source": [
    "k_vals = range(0,31)\n",
    "k_probs = [num_people_clean * stats.binom.pmf(k = k, n = num_flips, p = 0.415) for k in k_vals]\n",
    "binom_dist_df = pd.DataFrame({\"value\": k_vals,\n",
    "                              \"prob\": k_probs})\n",
    "\n",
    "fig_2_a = (alt\n",
    "           .Chart(head_counts_clean)\n",
    "           .mark_bar()\n",
    "           .encode(alt.X(\"outcome:Q\",\n",
    "                         bin = alt.BinParams(step = 1),\n",
    "                         title = \"Number of heads\"),\n",
    "                   y = alt.Y(\"count()\",\n",
    "                            title = \"Number of occurences\")))\n",
    "\n",
    "fig_2_b = (alt\n",
    "           .Chart(binom_dist_df)\n",
    "           .mark_line(color= \"firebrick\")\n",
    "           .encode(x = \"value\", y = \"prob\"))\n",
    "\n",
    "fig_2_a + fig_2_b"
   ]
  },
  {
   "cell_type": "markdown",
   "metadata": {},
   "source": [
    "## Experiment 2\n",
    "\n",
    "After the success of her first experiment, Mittens was awarded funds to obtain an additional 49 coins and repeat the experiment to gather more data about the fascinating topic of coin bias. Now she gives each of 50 students a coin each and asks them to flip the coin 30 times and record the results. We will help Mittens work out whether the coins are fair.\n",
    "\n",
    "### Excercise 5 part I\n",
    "\n",
    "Do we need to change anything about how we analyse this data? If so, why, if not, why not? **Hint:** there are good arguments that can be given for each answer. Once you have answered one way, try to answer the other way.\n",
    "\n",
    "### Exercise 5 part II\n",
    "\n",
    "Using the data in `experiment2.csv` explore the data set using the methodology devised above and write a couple of sentences to explain what you found.\n",
    "\n",
    "### Exercise 5 part III (Extension)\n",
    "\n",
    "Consider how you might analyse this data. Over the following weeks you will learn a couple of approaches."
   ]
  },
  {
   "cell_type": "code",
   "execution_count": 28,
   "metadata": {},
   "outputs": [
    {
     "name": "stdout",
     "output_type": "stream",
     "text": [
      "(0.4086666666666667, (0.3837889091781136, 0.43354442415521977))\n"
     ]
    }
   ],
   "source": [
    "exp2 = pd.read_csv(\"experiment2.csv\")\n",
    "\n",
    "head_counts = exp2.drop(columns=\"flip_number\").groupby(\"name\").sum()\n",
    "head_counts[\"name\"] = head_counts.index.copy()\n",
    "\n",
    "total_heads = int(head_counts[\"outcome\"].sum())\n",
    "num_people = int(head_counts[\"name\"].unique().size)\n",
    "num_flips = int(exp2[\"name\"].value_counts().unique())\n",
    "\n",
    "wald_estimate = wald_estimate_and_ci(num_success=total_heads, \n",
    "                                     num_trials=num_people * num_flips)\n",
    "\n",
    "print(wald_estimate)"
   ]
  },
  {
   "cell_type": "code",
   "execution_count": 32,
   "metadata": {},
   "outputs": [
    {
     "name": "stdout",
     "output_type": "stream",
     "text": [
      "16.97183673469388 7.249746666666666\n"
     ]
    },
    {
     "data": {
      "application/vnd.vegalite.v2+json": {
       "$schema": "https://vega.github.io/schema/vega-lite/v2.6.0.json",
       "config": {
        "view": {
         "height": 300,
         "width": 400
        }
       },
       "data": {
        "name": "data-2652cb161828bf43e217f188f9dba983"
       },
       "datasets": {
        "data-2652cb161828bf43e217f188f9dba983": [
         {
          "name": 0,
          "outcome": 5
         },
         {
          "name": 1,
          "outcome": 7
         },
         {
          "name": 2,
          "outcome": 8
         },
         {
          "name": 3,
          "outcome": 12
         },
         {
          "name": 4,
          "outcome": 10
         },
         {
          "name": 5,
          "outcome": 11
         },
         {
          "name": 6,
          "outcome": 6
         },
         {
          "name": 7,
          "outcome": 7
         },
         {
          "name": 8,
          "outcome": 11
         },
         {
          "name": 9,
          "outcome": 7
         },
         {
          "name": 10,
          "outcome": 8
         },
         {
          "name": 11,
          "outcome": 6
         },
         {
          "name": 12,
          "outcome": 9
         },
         {
          "name": 13,
          "outcome": 8
         },
         {
          "name": 14,
          "outcome": 8
         },
         {
          "name": 15,
          "outcome": 12
         },
         {
          "name": 16,
          "outcome": 10
         },
         {
          "name": 17,
          "outcome": 14
         },
         {
          "name": 18,
          "outcome": 8
         },
         {
          "name": 19,
          "outcome": 10
         },
         {
          "name": 20,
          "outcome": 13
         },
         {
          "name": 21,
          "outcome": 10
         },
         {
          "name": 22,
          "outcome": 12
         },
         {
          "name": 23,
          "outcome": 12
         },
         {
          "name": 24,
          "outcome": 10
         },
         {
          "name": 25,
          "outcome": 12
         },
         {
          "name": 26,
          "outcome": 16
         },
         {
          "name": 27,
          "outcome": 13
         },
         {
          "name": 28,
          "outcome": 18
         },
         {
          "name": 29,
          "outcome": 14
         },
         {
          "name": 30,
          "outcome": 14
         },
         {
          "name": 31,
          "outcome": 11
         },
         {
          "name": 32,
          "outcome": 10
         },
         {
          "name": 33,
          "outcome": 15
         },
         {
          "name": 34,
          "outcome": 11
         },
         {
          "name": 35,
          "outcome": 10
         },
         {
          "name": 36,
          "outcome": 16
         },
         {
          "name": 37,
          "outcome": 16
         },
         {
          "name": 38,
          "outcome": 18
         },
         {
          "name": 39,
          "outcome": 16
         },
         {
          "name": 40,
          "outcome": 18
         },
         {
          "name": 41,
          "outcome": 12
         },
         {
          "name": 42,
          "outcome": 14
         },
         {
          "name": 43,
          "outcome": 12
         },
         {
          "name": 44,
          "outcome": 15
         },
         {
          "name": 45,
          "outcome": 20
         },
         {
          "name": 46,
          "outcome": 21
         },
         {
          "name": 47,
          "outcome": 19
         },
         {
          "name": 48,
          "outcome": 22
         },
         {
          "name": 49,
          "outcome": 16
         }
        ]
       },
       "encoding": {
        "x": {
         "field": "name",
         "type": "quantitative"
        },
        "y": {
         "field": "outcome",
         "type": "quantitative"
        }
       },
       "mark": "point"
      },
      "image/png": "[encoded data removed]",
      "text/plain": [
       "<VegaLite 2 object>\n",
       "\n",
       "If you see this message, it means the renderer has not been properly enabled\n",
       "for the frontend that you are using. For more information, see\n",
       "https://altair-viz.github.io/user_guide/troubleshooting.html\n"
      ]
     },
     "execution_count": 32,
     "metadata": {},
     "output_type": "execute_result"
    }
   ],
   "source": [
    "emp_var = head_counts[\"outcome\"].var()\n",
    "thry_var = stats.binom.var(n = num_flips, p = wald_estimate[0])\n",
    "\n",
    "print(emp_var,thry_var)\n",
    "\n",
    "alt.Chart(head_counts).mark_point().encode(\n",
    "    x = \"name\",\n",
    "    y = \"outcome\"\n",
    ")"
   ]
  }
 ],
 "metadata": {
  "kernelspec": {
   "display_name": "Python3 - python",
   "language": "python",
   "name": "ipython_python"
  },
  "language_info": {
   "codemirror_mode": {
    "name": "ipython",
    "version": 3
   },
   "file_extension": ".py",
   "mimetype": "text/x-python",
   "name": "python",
   "nbconvert_exporter": "python",
   "pygments_lexer": "ipython3",
   "version": "3.7.2"
  }
 },
 "nbformat": 4,
 "nbformat_minor": 2
}
