{
 "cells": [
  {
   "cell_type": "markdown",
   "metadata": {},
   "source": [
    "# Example 1: Coin flipping\n",
    "\n",
    "In this lab we will consider two data sets collected by the esteemed Professor Mittens and help her interrogate the bais in the results of coin flips."
   ]
  },
  {
   "cell_type": "code",
   "execution_count": 1,
   "metadata": {},
   "outputs": [],
   "source": [
    "import pandas as pd\n",
    "from scipy import stats\n",
    "import altair as alt\n",
    "from typing import List, Any, Tuple\n",
    "from functools import reduce\n",
    "from itertools import repeat\n",
    "import math as math"
   ]
  },
  {
   "cell_type": "markdown",
   "metadata": {},
   "source": [
    "Since we will be working with the binomial distribution, the following function which estimates the probability based on the number of successes in a given number of trials and also a CI for this based on the Wald method will be useful"
   ]
  },
  {
   "cell_type": "markdown",
   "metadata": {},
   "source": [
    "## Parameter estimation of the binomial distribution\n",
    "\n",
    "Let $X$ be a binomial random variable (RV) which results from the number of heads when a coin is flipped $n$ times and the probability of coming up heads is $p$. For the time being we will assume that $n$ is know. The expected value of $X$ is $np$. So a simple way to estimate $p$ is to divide the number of heads, $X$, by the number of flips, $n$. This gives the estimate \n",
    "\n",
    "$$\n",
    "\\hat{p} = X / n.\n",
    "$$\n",
    "\n",
    "It turns out that this is a very sensible thing to do. The resulting estimate is called the maximum likelihood estimate (MLE) of $p$.\n",
    "\n",
    "Given an estimator though, we want to know how confident we are in this estimate. Here we will use the Wald method to get the $95\\%$ CI. It is a very simple method but is acceptable when we have a fair bit of data. The estimated standard error of $\\hat{p}$ is $\\sqrt{\\hat{p}(1-\\hat{p})/n}$, so the Wald CI is given by\n",
    "\n",
    "$$\n",
    "\\hat{p} \\pm z \\sqrt{\\frac{\\hat{p}(1-\\hat{p})}{n}}\n",
    "$$\n",
    "\n",
    "where $z$ is the appropriate quantile of the standard normal distribution. In the case of a $95\\%$ distribution this is just $1.96$.\n",
    "\n",
    "This is stated on the [wikipedia](https://en.wikipedia.org/wiki/Binomial_distribution#Estimation_of_parameters) but there is also a reasonably clear description in [All of Statistics](https://link.springer.com/book/10.1007/978-0-387-21736-9) which you can get via SOLO."
   ]
  },
  {
   "cell_type": "markdown",
   "metadata": {},
   "source": [
    "### Exercise 1\n",
    "\n",
    "Implement a function called `wald_estimate_and_ci` which takes two arguments: `num_trials` which is $n$ in the description above, and `num_success` which is $X$ above. The function should return `(p_hat,(wald_lower,wald_upper))` where `p_hat` is $\\hat{p}$ and `wald_x` are the limits on the $95\\%$ CI using the Wald method."
   ]
  },
  {
   "cell_type": "code",
   "execution_count": 2,
   "metadata": {},
   "outputs": [],
   "source": [
    "CI = Tuple[float,float]\n",
    "EstimateAndCI = Tuple[float,CI]\n",
    "\n",
    "def wald_estimate_and_ci(num_trials: int, num_success: int) -> EstimateAndCI:\n",
    "    p_hat = num_success / num_trials\n",
    "    z = 1.96\n",
    "    delta = z * math.sqrt(p_hat * (1 - p_hat) / num_trials)\n",
    "    return (p_hat,(p_hat - delta, p_hat + delta))"
   ]
  },
  {
   "cell_type": "markdown",
   "metadata": {},
   "source": [
    "### Exercise 2 part I\n",
    "\n",
    "Look up how to simulate a random variable from a binomial distribution (it tells you [here](https://docs.scipy.org/doc/scipy/reference/generated/scipy.stats.binom.html#scipy.stats.binom) if you want to use `scipy`). Then simulate a binomial random variable with $n=100$ and $p=0.6$. Then use the value and the `wald_estimate_and_ci` function to see how well you can estimate $p$. Write a couple of sentences to explain this.\n",
    "\n",
    "### Exercise 2 part II\n",
    "\n",
    "Repeat the process about 100000 times and see what proportion of the CIs capture the true value of $p$. Is it what you expect? Write a couple of sentences to explain what you found."
   ]
  },
  {
   "cell_type": "code",
   "execution_count": 3,
   "metadata": {},
   "outputs": [
    {
     "data": {
      "text/plain": [
       "0.9484"
      ]
     },
     "execution_count": 3,
     "metadata": {},
     "output_type": "execute_result"
    }
   ],
   "source": [
    "rand_xs = stats.binom.rvs(n = 100, p = 0.6, size = 100000)\n",
    "\n",
    "def ci_contains_value(ci: CI, p: float) -> bool:\n",
    "    lower,upper = ci\n",
    "    return lower < p and p < upper\n",
    "\n",
    "p_in_ci_bools = [ci_contains_value(wald_estimate_and_ci(100, x)[1], 0.6) for x in rand_xs]\n",
    "\n",
    "reduce(lambda a, b: a + 1 if b else a, p_in_ci_bools, 0) / 100000"
   ]
  },
  {
   "cell_type": "markdown",
   "metadata": {},
   "source": [
    "## Central limit theorem\n",
    "\n",
    "The central limit theorem tells us about the limiting distribution of the sample mean for distribution for an IID sample with a finite variance. \n",
    "\n",
    "### Exercise 2 (again?)\n",
    "\n",
    "To see that the distribution of the sample mean converges to a normal distribution we will do a simulation study and compare the results with a Q-Q plot to see if it looks normally distributed. This will also demonstrate how to construct a Q-Q plot from first principles, not that you really want to do that. Anyway try to follow the steps and see how you go.\n",
    "\n",
    "1. Write down the distribution of the sample mean given an IID sample of exponential random variables\n",
    "2. Generate 100 sample means each based on a sample of 100 exponential random variables\n",
    "3. Make a histogram and a Q-Q plot to see if the sample means do appear to follow a normal distribution"
   ]
  },
  {
   "cell_type": "code",
   "execution_count": 4,
   "metadata": {},
   "outputs": [],
   "source": [
    "sample_size = 1000\n",
    "num_replicates = 1000\n",
    "\n",
    "sample_means = [stats.expon.rvs(scale = 5, size = sample_size).mean() for _ in range(num_replicates)]\n",
    "\n",
    "plot_df = pd.DataFrame({\"sample_mean\": sample_means})\n",
    "\n",
    "mesh_size = 100\n",
    "x_vals = [0.02 * ix + 4 for ix in range(0,mesh_size)]\n",
    "\n",
    "clt_scale = 5 / math.sqrt(sample_size)\n",
    "\n",
    "clt_pdf = [mesh_size * stats.norm.pdf(x, loc = 5, scale = clt_scale) for x in x_vals]\n",
    "clt_df = pd.DataFrame({\"x\": x_vals, \"pdf\": clt_pdf})"
   ]
  },
  {
   "cell_type": "code",
   "execution_count": 5,
   "metadata": {},
   "outputs": [
    {
     "data": {
      "application/vnd.vegalite.v2+json": {
       "$schema": "https://vega.github.io/schema/vega-lite/v2.6.0.json",
       "config": {
        "view": {
         "height": 300,
         "width": 400
        }
       },
       "datasets": {
        "data-d11c7646668d096f96fe9a781f61b4d2": [
         {
          "pdf": 5.200563737654406e-07,
          "x": 4
         },
         {
          "pdf": 1.1481844294265125e-06,
          "x": 4.02
         },
         {
          "pdf": 2.494733569686431e-06,
          "x": 4.04
         },
         {
          "pdf": 5.334429468535572e-06,
          "x": 4.06
         },
         {
          "pdf": 1.1225432217700519e-05,
          "x": 4.08
         },
         {
          "pdf": 2.3247135910605655e-05,
          "x": 4.1
         },
         {
          "pdf": 4.737913480522706e-05,
          "x": 4.12
         },
         {
          "pdf": 9.502898380986609e-05,
          "x": 4.14
         },
         {
          "pdf": 0.00018757559505878569,
          "x": 4.16
         },
         {
          "pdf": 0.00036437440996800257,
          "x": 4.18
         },
         {
          "pdf": 0.0006965795062408364,
          "x": 4.2
         },
         {
          "pdf": 0.0013105234778717847,
          "x": 4.22
         },
         {
          "pdf": 0.002426443630534741,
          "x": 4.24
         },
         {
          "pdf": 0.00442126855728509,
          "x": 4.26
         },
         {
          "pdf": 0.007928205034960797,
          "x": 4.28
         },
         {
          "pdf": 0.01399117339253598,
          "x": 4.3
         },
         {
          "pdf": 0.024298792525968404,
          "x": 4.32
         },
         {
          "pdf": 0.04153044026933313,
          "x": 4.34
         },
         {
          "pdf": 0.06985534883718736,
          "x": 4.36
         },
         {
          "pdf": 0.11563361010377396,
          "x": 4.38
         },
         {
          "pdf": 0.18837349335939274,
          "x": 4.4
         },
         {
          "pdf": 0.30199989171721053,
          "x": 4.42
         },
         {
          "pdf": 0.47648043327627315,
          "x": 4.44
         },
         {
          "pdf": 0.7398346082274715,
          "x": 4.46
         },
         {
          "pdf": 1.130512850584684,
          "x": 4.48
         },
         {
          "pdf": 1.7000733205040701,
          "x": 4.5
         },
         {
          "pdf": 2.516002619162861,
          "x": 4.52
         },
         {
          "pdf": 3.6644248032403253,
          "x": 4.54
         },
         {
          "pdf": 5.252327857928889,
          "x": 4.5600000000000005
         },
         {
          "pdf": 7.408821463076241,
          "x": 4.58
         },
         {
          "pdf": 10.284844252703476,
          "x": 4.6
         },
         {
          "pdf": 14.050688242908235,
          "x": 4.62
         },
         {
          "pdf": 18.890731025540994,
          "x": 4.64
         },
         {
          "pdf": 24.994889396741225,
          "x": 4.66
         },
         {
          "pdf": 32.54655024691881,
          "x": 4.68
         },
         {
          "pdf": 41.707100072566114,
          "x": 4.7
         },
         {
          "pdf": 52.59764673373031,
          "x": 4.72
         },
         {
          "pdf": 65.27906449106993,
          "x": 4.74
         },
         {
          "pdf": 79.73202941950808,
          "x": 4.76
         },
         {
          "pdf": 95.83916096982892,
          "x": 4.78
         },
         {
          "pdf": 113.37165224497896,
          "x": 4.8
         },
         {
          "pdf": 131.98276948221442,
          "x": 4.82
         },
         {
          "pdf": 151.2102692622771,
          "x": 4.84
         },
         {
          "pdf": 170.48910251968752,
          "x": 4.86
         },
         {
          "pdf": 189.17478571399423,
          "x": 4.88
         },
         {
          "pdf": 206.57661898691165,
          "x": 4.9
         },
         {
          "pdf": 221.9986675529185,
          "x": 4.92
         },
         {
          "pdf": 234.78527659658087,
          "x": 4.94
         },
         {
          "pdf": 244.3670455034611,
          "x": 4.96
         },
         {
          "pdf": 250.30279872073226,
          "x": 4.98
         },
         {
          "pdf": 252.31325220201603,
          "x": 5
         },
         {
          "pdf": 250.30279872073226,
          "x": 5.02
         },
         {
          "pdf": 244.3670455034611,
          "x": 5.04
         },
         {
          "pdf": 234.78527659658036,
          "x": 5.0600000000000005
         },
         {
          "pdf": 221.9986675529185,
          "x": 5.08
         },
         {
          "pdf": 206.57661898691165,
          "x": 5.1
         },
         {
          "pdf": 189.17478571399423,
          "x": 5.12
         },
         {
          "pdf": 170.48910251968667,
          "x": 5.140000000000001
         },
         {
          "pdf": 151.2102692622771,
          "x": 5.16
         },
         {
          "pdf": 131.98276948221442,
          "x": 5.18
         },
         {
          "pdf": 113.37165224497896,
          "x": 5.2
         },
         {
          "pdf": 95.83916096982892,
          "x": 5.22
         },
         {
          "pdf": 79.73202941950808,
          "x": 5.24
         },
         {
          "pdf": 65.27906449106993,
          "x": 5.26
         },
         {
          "pdf": 52.59764673373031,
          "x": 5.28
         },
         {
          "pdf": 41.707100072566114,
          "x": 5.3
         },
         {
          "pdf": 32.54655024691881,
          "x": 5.32
         },
         {
          "pdf": 24.994889396741225,
          "x": 5.34
         },
         {
          "pdf": 18.890731025540994,
          "x": 5.36
         },
         {
          "pdf": 14.050688242908235,
          "x": 5.38
         },
         {
          "pdf": 10.284844252703476,
          "x": 5.4
         },
         {
          "pdf": 7.408821463076241,
          "x": 5.42
         },
         {
          "pdf": 5.252327857928889,
          "x": 5.4399999999999995
         },
         {
          "pdf": 3.6644248032403253,
          "x": 5.46
         },
         {
          "pdf": 2.516002619162861,
          "x": 5.48
         },
         {
          "pdf": 1.7000733205040701,
          "x": 5.5
         },
         {
          "pdf": 1.130512850584684,
          "x": 5.52
         },
         {
          "pdf": 0.7398346082274715,
          "x": 5.54
         },
         {
          "pdf": 0.47648043327626344,
          "x": 5.5600000000000005
         },
         {
          "pdf": 0.30199989171721053,
          "x": 5.58
         },
         {
          "pdf": 0.18837349335939274,
          "x": 5.6
         },
         {
          "pdf": 0.11563361010377396,
          "x": 5.62
         },
         {
          "pdf": 0.06985534883718586,
          "x": 5.640000000000001
         },
         {
          "pdf": 0.04153044026933313,
          "x": 5.66
         },
         {
          "pdf": 0.024298792525968404,
          "x": 5.68
         },
         {
          "pdf": 0.01399117339253598,
          "x": 5.7
         },
         {
          "pdf": 0.007928205034960797,
          "x": 5.72
         },
         {
          "pdf": 0.00442126855728509,
          "x": 5.74
         },
         {
          "pdf": 0.002426443630534741,
          "x": 5.76
         },
         {
          "pdf": 0.0013105234778717847,
          "x": 5.78
         },
         {
          "pdf": 0.0006965795062408364,
          "x": 5.8
         },
         {
          "pdf": 0.00036437440996800257,
          "x": 5.82
         },
         {
          "pdf": 0.00018757559505878569,
          "x": 5.84
         },
         {
          "pdf": 9.502898380986609e-05,
          "x": 5.86
         },
         {
          "pdf": 4.737913480522706e-05,
          "x": 5.88
         },
         {
          "pdf": 2.3247135910605655e-05,
          "x": 5.9
         },
         {
          "pdf": 1.1225432217700519e-05,
          "x": 5.92
         },
         {
          "pdf": 5.3344294685357414e-06,
          "x": 5.9399999999999995
         },
         {
          "pdf": 2.494733569686431e-06,
          "x": 5.96
         },
         {
          "pdf": 1.1481844294265125e-06,
          "x": 5.98
         }
        ],
        "data-fe7760dea7bb101a28171246874b3688": [
         {
          "sample_mean": 5.3377754503578325
         },
         {
          "sample_mean": 4.8208027301505725
         },
         {
          "sample_mean": 4.948945001236218
         },
         {
          "sample_mean": 4.916014512862892
         },
         {
          "sample_mean": 4.897983175010509
         },
         {
          "sample_mean": 4.832483411971371
         },
         {
          "sample_mean": 4.918905820211409
         },
         {
          "sample_mean": 5.208236075434452
         },
         {
          "sample_mean": 4.9636341618288755
         },
         {
          "sample_mean": 5.261344078695631
         },
         {
          "sample_mean": 4.986142671213944
         },
         {
          "sample_mean": 5.171754479395868
         },
         {
          "sample_mean": 4.934080594138271
         },
         {
          "sample_mean": 4.566408038373365
         },
         {
          "sample_mean": 5.07474047852701
         },
         {
          "sample_mean": 5.049920808623367
         },
         {
          "sample_mean": 5.091811540806008
         },
         {
          "sample_mean": 5.0829460392581876
         },
         {
          "sample_mean": 5.120653095812757
         },
         {
          "sample_mean": 4.896165443198995
         },
         {
          "sample_mean": 4.7810215011532655
         },
         {
          "sample_mean": 4.9887370692412745
         },
         {
          "sample_mean": 4.814225208273791
         },
         {
          "sample_mean": 5.044569585042247
         },
         {
          "sample_mean": 4.740474993009604
         },
         {
          "sample_mean": 4.763120153072914
         },
         {
          "sample_mean": 5.037145854329392
         },
         {
          "sample_mean": 4.916788128333717
         },
         {
          "sample_mean": 5.040912298088535
         },
         {
          "sample_mean": 5.027140588573627
         },
         {
          "sample_mean": 4.902475209319118
         },
         {
          "sample_mean": 4.716882650643778
         },
         {
          "sample_mean": 5.070725990617551
         },
         {
          "sample_mean": 4.944064997003824
         },
         {
          "sample_mean": 5.026055064564346
         },
         {
          "sample_mean": 4.933315373518293
         },
         {
          "sample_mean": 5.113927335244476
         },
         {
          "sample_mean": 4.971124972683497
         },
         {
          "sample_mean": 4.812388090561576
         },
         {
          "sample_mean": 4.943240955666898
         },
         {
          "sample_mean": 4.926847088890161
         },
         {
          "sample_mean": 4.836905329284689
         },
         {
          "sample_mean": 5.024049097143061
         },
         {
          "sample_mean": 5.087294064514288
         },
         {
          "sample_mean": 4.786497531655554
         },
         {
          "sample_mean": 4.892239372708788
         },
         {
          "sample_mean": 5.230281816678071
         },
         {
          "sample_mean": 5.164905066671373
         },
         {
          "sample_mean": 5.330993265117375
         },
         {
          "sample_mean": 4.750632151041083
         },
         {
          "sample_mean": 4.884475624422412
         },
         {
          "sample_mean": 5.043338784307909
         },
         {
          "sample_mean": 5.3454715210765045
         },
         {
          "sample_mean": 4.9967960179423025
         },
         {
          "sample_mean": 4.918634387793903
         },
         {
          "sample_mean": 5.300649232753814
         },
         {
          "sample_mean": 5.077773135103206
         },
         {
          "sample_mean": 5.120105138669204
         },
         {
          "sample_mean": 4.997694237610087
         },
         {
          "sample_mean": 5.083760404443099
         },
         {
          "sample_mean": 5.1215558674079675
         },
         {
          "sample_mean": 4.789426819997771
         },
         {
          "sample_mean": 5.055379698883857
         },
         {
          "sample_mean": 5.1083448414481225
         },
         {
          "sample_mean": 4.862772356287678
         },
         {
          "sample_mean": 5.247003018956641
         },
         {
          "sample_mean": 4.88114176462278
         },
         {
          "sample_mean": 5.204980321758435
         },
         {
          "sample_mean": 4.977512286850744
         },
         {
          "sample_mean": 5.0974078095518935
         },
         {
          "sample_mean": 4.9020047226499734
         },
         {
          "sample_mean": 4.954699415652167
         },
         {
          "sample_mean": 5.117050518394357
         },
         {
          "sample_mean": 4.870065032012499
         },
         {
          "sample_mean": 5.017466775842155
         },
         {
          "sample_mean": 4.830117324818926
         },
         {
          "sample_mean": 4.784918429424544
         },
         {
          "sample_mean": 5.241412581294645
         },
         {
          "sample_mean": 5.365320116431894
         },
         {
          "sample_mean": 4.803424993832465
         },
         {
          "sample_mean": 4.935529470712847
         },
         {
          "sample_mean": 5.3455304853169
         },
         {
          "sample_mean": 5.022444437286883
         },
         {
          "sample_mean": 5.057926670796454
         },
         {
          "sample_mean": 5.25889583324465
         },
         {
          "sample_mean": 5.158571193637623
         },
         {
          "sample_mean": 5.075683885850078
         },
         {
          "sample_mean": 4.951597606242867
         },
         {
          "sample_mean": 4.904090593577537
         },
         {
          "sample_mean": 5.119181959912457
         },
         {
          "sample_mean": 4.814086761561843
         },
         {
          "sample_mean": 5.037045211192591
         },
         {
          "sample_mean": 4.991863902266867
         },
         {
          "sample_mean": 5.2834445056199435
         },
         {
          "sample_mean": 4.886605718641456
         },
         {
          "sample_mean": 5.3716351685656205
         },
         {
          "sample_mean": 4.8017721173566565
         },
         {
          "sample_mean": 5.406181468605484
         },
         {
          "sample_mean": 4.99339293663492
         },
         {
          "sample_mean": 4.956393703504892
         },
         {
          "sample_mean": 5.041072716776809
         },
         {
          "sample_mean": 5.161028281344428
         },
         {
          "sample_mean": 4.877103771366387
         },
         {
          "sample_mean": 5.221160110340355
         },
         {
          "sample_mean": 4.921554936292983
         },
         {
          "sample_mean": 4.993618369342517
         },
         {
          "sample_mean": 5.1085109107394375
         },
         {
          "sample_mean": 4.901509262958499
         },
         {
          "sample_mean": 4.910796839716864
         },
         {
          "sample_mean": 4.935571585631118
         },
         {
          "sample_mean": 4.990736155946751
         },
         {
          "sample_mean": 5.104678226753849
         },
         {
          "sample_mean": 4.982880135341973
         },
         {
          "sample_mean": 5.0078597587662514
         },
         {
          "sample_mean": 4.963813033279447
         },
         {
          "sample_mean": 4.835872113889947
         },
         {
          "sample_mean": 5.098557871402237
         },
         {
          "sample_mean": 4.950528022355177
         },
         {
          "sample_mean": 5.1177010474743865
         },
         {
          "sample_mean": 4.908785106932943
         },
         {
          "sample_mean": 5.213590774504201
         },
         {
          "sample_mean": 5.070484105219648
         },
         {
          "sample_mean": 4.784556944217155
         },
         {
          "sample_mean": 4.821617182248425
         },
         {
          "sample_mean": 4.758081406920089
         },
         {
          "sample_mean": 4.963674463835438
         },
         {
          "sample_mean": 5.209408106760817
         },
         {
          "sample_mean": 4.80711194057815
         },
         {
          "sample_mean": 5.112452798478961
         },
         {
          "sample_mean": 4.869051993464375
         },
         {
          "sample_mean": 4.926557334494385
         },
         {
          "sample_mean": 4.866383156607195
         },
         {
          "sample_mean": 5.07482893425525
         },
         {
          "sample_mean": 4.955941662129489
         },
         {
          "sample_mean": 4.860344818508868
         },
         {
          "sample_mean": 5.102646901268157
         },
         {
          "sample_mean": 4.947911078087874
         },
         {
          "sample_mean": 4.940416074952606
         },
         {
          "sample_mean": 4.900738416921049
         },
         {
          "sample_mean": 4.964436555945206
         },
         {
          "sample_mean": 4.977398603811313
         },
         {
          "sample_mean": 5.387793297297405
         },
         {
          "sample_mean": 4.694973047281722
         },
         {
          "sample_mean": 5.090536021587863
         },
         {
          "sample_mean": 5.191260789393411
         },
         {
          "sample_mean": 5.063227818648893
         },
         {
          "sample_mean": 4.901289085022986
         },
         {
          "sample_mean": 4.869079412864772
         },
         {
          "sample_mean": 5.198552810868974
         },
         {
          "sample_mean": 5.098405383995632
         },
         {
          "sample_mean": 4.7605329553445035
         },
         {
          "sample_mean": 5.18516883435527
         },
         {
          "sample_mean": 5.108918232994056
         },
         {
          "sample_mean": 5.189517234012106
         },
         {
          "sample_mean": 4.946101715553659
         },
         {
          "sample_mean": 4.936431282635718
         },
         {
          "sample_mean": 4.847058715678236
         },
         {
          "sample_mean": 5.103635035649092
         },
         {
          "sample_mean": 4.878127397023891
         },
         {
          "sample_mean": 4.780737629473612
         },
         {
          "sample_mean": 4.784904680096883
         },
         {
          "sample_mean": 4.784649776252538
         },
         {
          "sample_mean": 5.1439237810298435
         },
         {
          "sample_mean": 4.886564706938856
         },
         {
          "sample_mean": 5.241475159098888
         },
         {
          "sample_mean": 5.155707257102813
         },
         {
          "sample_mean": 4.980382931571708
         },
         {
          "sample_mean": 5.08043414994325
         },
         {
          "sample_mean": 5.008493958006719
         },
         {
          "sample_mean": 5.0229760592585775
         },
         {
          "sample_mean": 4.848340272517782
         },
         {
          "sample_mean": 4.9204449528057905
         },
         {
          "sample_mean": 4.761510795183727
         },
         {
          "sample_mean": 5.021978448696941
         },
         {
          "sample_mean": 4.985981275538501
         },
         {
          "sample_mean": 5.1072701895376635
         },
         {
          "sample_mean": 5.028117972762522
         },
         {
          "sample_mean": 4.741724204210401
         },
         {
          "sample_mean": 5.121321300735403
         },
         {
          "sample_mean": 4.968916401480658
         },
         {
          "sample_mean": 4.975824163564632
         },
         {
          "sample_mean": 4.86612124808923
         },
         {
          "sample_mean": 4.82277481393402
         },
         {
          "sample_mean": 5.200011353673724
         },
         {
          "sample_mean": 5.013803281860053
         },
         {
          "sample_mean": 5.14797625900782
         },
         {
          "sample_mean": 5.306475658357496
         },
         {
          "sample_mean": 5.328776092420187
         },
         {
          "sample_mean": 5.133246972591672
         },
         {
          "sample_mean": 4.7687435423315545
         },
         {
          "sample_mean": 4.861455865321615
         },
         {
          "sample_mean": 5.014472910901557
         },
         {
          "sample_mean": 4.963107361802576
         },
         {
          "sample_mean": 4.75979936836854
         },
         {
          "sample_mean": 5.162949275082996
         },
         {
          "sample_mean": 4.88719730325895
         },
         {
          "sample_mean": 4.797052406302008
         },
         {
          "sample_mean": 4.705882321374556
         },
         {
          "sample_mean": 4.9899358785389145
         },
         {
          "sample_mean": 4.958995123154658
         },
         {
          "sample_mean": 5.098452548540035
         },
         {
          "sample_mean": 5.1756340620870125
         },
         {
          "sample_mean": 5.204660275616584
         },
         {
          "sample_mean": 5.101108901393967
         },
         {
          "sample_mean": 4.600016129904436
         },
         {
          "sample_mean": 5.012162036773614
         },
         {
          "sample_mean": 4.787013067033987
         },
         {
          "sample_mean": 5.111311975736683
         },
         {
          "sample_mean": 5.047070292796161
         },
         {
          "sample_mean": 4.887337873997212
         },
         {
          "sample_mean": 5.1911365936917475
         },
         {
          "sample_mean": 4.977265182566134
         },
         {
          "sample_mean": 5.103050817647159
         },
         {
          "sample_mean": 4.913078224442055
         },
         {
          "sample_mean": 5.088316579058546
         },
         {
          "sample_mean": 4.7795673077112815
         },
         {
          "sample_mean": 4.864872101285868
         },
         {
          "sample_mean": 4.790993160709948
         },
         {
          "sample_mean": 5.118846128012352
         },
         {
          "sample_mean": 4.846889896157348
         },
         {
          "sample_mean": 5.210668728999503
         },
         {
          "sample_mean": 5.026950395784123
         },
         {
          "sample_mean": 5.057546657121404
         },
         {
          "sample_mean": 5.092692450300859
         },
         {
          "sample_mean": 5.0262339221780135
         },
         {
          "sample_mean": 5.234263871317679
         },
         {
          "sample_mean": 4.902384274201593
         },
         {
          "sample_mean": 5.10525127196546
         },
         {
          "sample_mean": 5.077934674816774
         },
         {
          "sample_mean": 4.710012674055592
         },
         {
          "sample_mean": 5.004733783820751
         },
         {
          "sample_mean": 5.046099395885613
         },
         {
          "sample_mean": 4.708309435581033
         },
         {
          "sample_mean": 5.227323071203098
         },
         {
          "sample_mean": 5.157450007410806
         },
         {
          "sample_mean": 5.06522929770183
         },
         {
          "sample_mean": 5.016746952929945
         },
         {
          "sample_mean": 4.768653917899779
         },
         {
          "sample_mean": 5.1694836106325965
         },
         {
          "sample_mean": 4.883718317271863
         },
         {
          "sample_mean": 5.3099808731703595
         },
         {
          "sample_mean": 4.9955838828723955
         },
         {
          "sample_mean": 5.1175514455433095
         },
         {
          "sample_mean": 4.815861040015409
         },
         {
          "sample_mean": 5.054627883139476
         },
         {
          "sample_mean": 4.988730370601357
         },
         {
          "sample_mean": 5.16632576490818
         },
         {
          "sample_mean": 4.909947717172659
         },
         {
          "sample_mean": 5.18362664705944
         },
         {
          "sample_mean": 5.281773721910832
         },
         {
          "sample_mean": 4.921708147552421
         },
         {
          "sample_mean": 5.229004055007516
         },
         {
          "sample_mean": 5.080749281988472
         },
         {
          "sample_mean": 5.007339289984956
         },
         {
          "sample_mean": 4.898847583901332
         },
         {
          "sample_mean": 5.227834356608082
         },
         {
          "sample_mean": 4.806343715834589
         },
         {
          "sample_mean": 4.986395124326392
         },
         {
          "sample_mean": 4.774772631862308
         },
         {
          "sample_mean": 5.241586221650652
         },
         {
          "sample_mean": 5.121388136354684
         },
         {
          "sample_mean": 4.902242024488672
         },
         {
          "sample_mean": 5.061787465930876
         },
         {
          "sample_mean": 5.191633028840141
         },
         {
          "sample_mean": 4.693801270086621
         },
         {
          "sample_mean": 5.085731593645475
         },
         {
          "sample_mean": 4.964619164023891
         },
         {
          "sample_mean": 5.180124277147712
         },
         {
          "sample_mean": 4.897912000796376
         },
         {
          "sample_mean": 5.196685934012071
         },
         {
          "sample_mean": 4.957161633814237
         },
         {
          "sample_mean": 5.043562795381934
         },
         {
          "sample_mean": 4.803351184702831
         },
         {
          "sample_mean": 5.002795380419337
         },
         {
          "sample_mean": 5.1925373236005
         },
         {
          "sample_mean": 5.075777028096898
         },
         {
          "sample_mean": 5.1993752385064465
         },
         {
          "sample_mean": 5.16793460887278
         },
         {
          "sample_mean": 4.784055460448241
         },
         {
          "sample_mean": 4.738771747810604
         },
         {
          "sample_mean": 4.852611566209254
         },
         {
          "sample_mean": 5.179846146427506
         },
         {
          "sample_mean": 5.140688358142063
         },
         {
          "sample_mean": 4.9789514607455585
         },
         {
          "sample_mean": 4.625316719071394
         },
         {
          "sample_mean": 4.763382621977281
         },
         {
          "sample_mean": 5.0673078811320815
         },
         {
          "sample_mean": 4.992561058330915
         },
         {
          "sample_mean": 5.035952317671372
         },
         {
          "sample_mean": 4.779306411791857
         },
         {
          "sample_mean": 5.000025044284508
         },
         {
          "sample_mean": 5.024198876936541
         },
         {
          "sample_mean": 5.117928014229826
         },
         {
          "sample_mean": 5.106457364172804
         },
         {
          "sample_mean": 5.030647942270396
         },
         {
          "sample_mean": 4.90498824089403
         },
         {
          "sample_mean": 4.921246788694371
         },
         {
          "sample_mean": 5.224435019799135
         },
         {
          "sample_mean": 5.176666105950401
         },
         {
          "sample_mean": 4.721890205772842
         },
         {
          "sample_mean": 4.884608361425865
         },
         {
          "sample_mean": 5.018344694109209
         },
         {
          "sample_mean": 4.959720994202578
         },
         {
          "sample_mean": 5.214927144347126
         },
         {
          "sample_mean": 4.959994106980237
         },
         {
          "sample_mean": 5.02077872896007
         },
         {
          "sample_mean": 4.918030124739122
         },
         {
          "sample_mean": 5.166851025210521
         },
         {
          "sample_mean": 4.92338952175405
         },
         {
          "sample_mean": 5.047668693555137
         },
         {
          "sample_mean": 4.805055594854184
         },
         {
          "sample_mean": 5.094903905713673
         },
         {
          "sample_mean": 5.016221374293684
         },
         {
          "sample_mean": 5.064820212851363
         },
         {
          "sample_mean": 4.914987766126849
         },
         {
          "sample_mean": 5.226758847753142
         },
         {
          "sample_mean": 5.18495306337596
         },
         {
          "sample_mean": 5.067847784872217
         },
         {
          "sample_mean": 4.723056215557375
         },
         {
          "sample_mean": 4.836594058207103
         },
         {
          "sample_mean": 5.0990520432378705
         },
         {
          "sample_mean": 4.848496526242489
         },
         {
          "sample_mean": 5.114319025624474
         },
         {
          "sample_mean": 4.908424375914414
         },
         {
          "sample_mean": 4.865145878982265
         },
         {
          "sample_mean": 4.89210143785995
         },
         {
          "sample_mean": 4.8973379808797235
         },
         {
          "sample_mean": 5.0561849387280065
         },
         {
          "sample_mean": 5.123340298088882
         },
         {
          "sample_mean": 5.186412901774284
         },
         {
          "sample_mean": 5.0595473835091145
         },
         {
          "sample_mean": 5.170671754250088
         },
         {
          "sample_mean": 4.976958299074408
         },
         {
          "sample_mean": 4.942828689027798
         },
         {
          "sample_mean": 4.866908309686264
         },
         {
          "sample_mean": 5.2206129325493125
         },
         {
          "sample_mean": 4.828710526915771
         },
         {
          "sample_mean": 5.009812407701295
         },
         {
          "sample_mean": 5.004470756012143
         },
         {
          "sample_mean": 4.723129784358586
         },
         {
          "sample_mean": 5.111841079103281
         },
         {
          "sample_mean": 5.027379707792557
         },
         {
          "sample_mean": 4.843354069746361
         },
         {
          "sample_mean": 4.959864752624372
         },
         {
          "sample_mean": 5.100912535688313
         },
         {
          "sample_mean": 4.867667034523321
         },
         {
          "sample_mean": 5.241039605009436
         },
         {
          "sample_mean": 5.02013142032178
         },
         {
          "sample_mean": 4.892030147178504
         },
         {
          "sample_mean": 5.110432263584367
         },
         {
          "sample_mean": 4.913595896784302
         },
         {
          "sample_mean": 4.969214977864157
         },
         {
          "sample_mean": 4.98907007342607
         },
         {
          "sample_mean": 5.118869089647953
         },
         {
          "sample_mean": 4.890248070976286
         },
         {
          "sample_mean": 4.89079219899087
         },
         {
          "sample_mean": 5.004635575073485
         },
         {
          "sample_mean": 4.992515840083942
         },
         {
          "sample_mean": 5.083027744131744
         },
         {
          "sample_mean": 5.0737586289923655
         },
         {
          "sample_mean": 4.955517000756947
         },
         {
          "sample_mean": 5.00363640983333
         },
         {
          "sample_mean": 5.040438888606207
         },
         {
          "sample_mean": 5.021731865714494
         },
         {
          "sample_mean": 4.963888048330004
         },
         {
          "sample_mean": 5.111741653566204
         },
         {
          "sample_mean": 4.993389637388091
         },
         {
          "sample_mean": 5.097013459316347
         },
         {
          "sample_mean": 4.974699989070675
         },
         {
          "sample_mean": 5.064769723592161
         },
         {
          "sample_mean": 5.170565534939379
         },
         {
          "sample_mean": 4.945112832722579
         },
         {
          "sample_mean": 4.845683506258809
         },
         {
          "sample_mean": 4.89866885774978
         },
         {
          "sample_mean": 4.8090311445507234
         },
         {
          "sample_mean": 4.9486137545262565
         },
         {
          "sample_mean": 5.0385652009228
         },
         {
          "sample_mean": 4.909739524684544
         },
         {
          "sample_mean": 5.244158678717112
         },
         {
          "sample_mean": 4.967140514203967
         },
         {
          "sample_mean": 4.874009274631275
         },
         {
          "sample_mean": 4.750046247940091
         },
         {
          "sample_mean": 4.889350992669855
         },
         {
          "sample_mean": 5.0829166964170165
         },
         {
          "sample_mean": 5.017036688622853
         },
         {
          "sample_mean": 4.82005007131137
         },
         {
          "sample_mean": 4.65413578495585
         },
         {
          "sample_mean": 5.013508864418909
         },
         {
          "sample_mean": 4.801486444355937
         },
         {
          "sample_mean": 5.077197995823311
         },
         {
          "sample_mean": 5.299910959930458
         },
         {
          "sample_mean": 4.794054434760885
         },
         {
          "sample_mean": 5.0528369978779315
         },
         {
          "sample_mean": 4.986819017527067
         },
         {
          "sample_mean": 4.826597179819479
         },
         {
          "sample_mean": 4.990780460821491
         },
         {
          "sample_mean": 4.779053277842077
         },
         {
          "sample_mean": 5.01414746350046
         },
         {
          "sample_mean": 5.095789687570103
         },
         {
          "sample_mean": 5.053294411818268
         },
         {
          "sample_mean": 4.777827329161033
         },
         {
          "sample_mean": 5.251981114576656
         },
         {
          "sample_mean": 5.267808742131482
         },
         {
          "sample_mean": 4.897351916254196
         },
         {
          "sample_mean": 5.183054743935869
         },
         {
          "sample_mean": 5.240163409288308
         },
         {
          "sample_mean": 5.156814314817619
         },
         {
          "sample_mean": 4.841166991163037
         },
         {
          "sample_mean": 5.1889250986211195
         },
         {
          "sample_mean": 5.021267580857091
         },
         {
          "sample_mean": 4.930652138351904
         },
         {
          "sample_mean": 4.677213447798376
         },
         {
          "sample_mean": 5.064443656307278
         },
         {
          "sample_mean": 4.936136109290188
         },
         {
          "sample_mean": 4.993432369863749
         },
         {
          "sample_mean": 4.969619789026252
         },
         {
          "sample_mean": 5.088223216123094
         },
         {
          "sample_mean": 5.064971620701981
         },
         {
          "sample_mean": 4.7984297652184535
         },
         {
          "sample_mean": 5.013514686566834
         },
         {
          "sample_mean": 4.688892832899033
         },
         {
          "sample_mean": 4.7817394487202165
         },
         {
          "sample_mean": 5.052657364983285
         },
         {
          "sample_mean": 4.794601963106852
         },
         {
          "sample_mean": 5.091294676200939
         },
         {
          "sample_mean": 5.012853137827728
         },
         {
          "sample_mean": 5.216040498825636
         },
         {
          "sample_mean": 5.066233438503376
         },
         {
          "sample_mean": 4.597481431539496
         },
         {
          "sample_mean": 5.12719150181994
         },
         {
          "sample_mean": 5.126124889189529
         },
         {
          "sample_mean": 5.082804542717357
         },
         {
          "sample_mean": 5.029965320872422
         },
         {
          "sample_mean": 5.1400995734851564
         },
         {
          "sample_mean": 5.062039582299347
         },
         {
          "sample_mean": 5.024277298677806
         },
         {
          "sample_mean": 5.074218338525592
         },
         {
          "sample_mean": 4.776838166120345
         },
         {
          "sample_mean": 5.006586849872505
         },
         {
          "sample_mean": 4.791106502826966
         },
         {
          "sample_mean": 5.143158692404713
         },
         {
          "sample_mean": 4.730457142993692
         },
         {
          "sample_mean": 5.170512108868412
         },
         {
          "sample_mean": 5.078884390899131
         },
         {
          "sample_mean": 4.987541913396682
         },
         {
          "sample_mean": 5.355251048383479
         },
         {
          "sample_mean": 4.784232282152319
         },
         {
          "sample_mean": 4.803934427123188
         },
         {
          "sample_mean": 4.867917982982897
         },
         {
          "sample_mean": 5.135084519000501
         },
         {
          "sample_mean": 4.937779498884553
         },
         {
          "sample_mean": 5.161905180852574
         },
         {
          "sample_mean": 5.022106667923397
         },
         {
          "sample_mean": 4.943639949460932
         },
         {
          "sample_mean": 4.812104184074316
         },
         {
          "sample_mean": 5.114122227886541
         },
         {
          "sample_mean": 5.0191782679307
         },
         {
          "sample_mean": 5.110471366613336
         },
         {
          "sample_mean": 5.2869104182722735
         },
         {
          "sample_mean": 4.749201610159911
         },
         {
          "sample_mean": 4.883340445427384
         },
         {
          "sample_mean": 4.729971907780031
         },
         {
          "sample_mean": 5.025734081927897
         },
         {
          "sample_mean": 5.132352859392026
         },
         {
          "sample_mean": 5.051840324913398
         },
         {
          "sample_mean": 5.180026778764068
         },
         {
          "sample_mean": 4.8334900516078205
         },
         {
          "sample_mean": 5.0581859896016494
         },
         {
          "sample_mean": 4.962901641387427
         },
         {
          "sample_mean": 5.175713732513122
         },
         {
          "sample_mean": 5.03604544108806
         },
         {
          "sample_mean": 4.570979793297957
         },
         {
          "sample_mean": 5.030940574654933
         },
         {
          "sample_mean": 5.036686954061368
         },
         {
          "sample_mean": 4.986382577913615
         },
         {
          "sample_mean": 5.2221119025605445
         },
         {
          "sample_mean": 4.928683132681204
         },
         {
          "sample_mean": 4.855244861819002
         },
         {
          "sample_mean": 4.94579938409569
         },
         {
          "sample_mean": 4.905632088406249
         },
         {
          "sample_mean": 4.851402368815337
         },
         {
          "sample_mean": 4.944277735216119
         },
         {
          "sample_mean": 5.020007891189158
         },
         {
          "sample_mean": 4.986990522825494
         },
         {
          "sample_mean": 5.026662968639493
         },
         {
          "sample_mean": 5.055671165635445
         },
         {
          "sample_mean": 5.0935314896548745
         },
         {
          "sample_mean": 4.686213160893986
         },
         {
          "sample_mean": 4.977778409906359
         },
         {
          "sample_mean": 5.135005193066507
         },
         {
          "sample_mean": 5.150435078791337
         },
         {
          "sample_mean": 5.01562242248448
         },
         {
          "sample_mean": 5.310549845968941
         },
         {
          "sample_mean": 5.071365449712863
         },
         {
          "sample_mean": 4.927172992041274
         },
         {
          "sample_mean": 5.1040521428269985
         },
         {
          "sample_mean": 4.8889311892059775
         },
         {
          "sample_mean": 5.207459943441144
         },
         {
          "sample_mean": 4.974995113691006
         },
         {
          "sample_mean": 5.049766307967108
         },
         {
          "sample_mean": 5.231997748269125
         },
         {
          "sample_mean": 4.762537159606956
         },
         {
          "sample_mean": 4.824109853696109
         },
         {
          "sample_mean": 5.221291186795788
         },
         {
          "sample_mean": 4.7554525446122815
         },
         {
          "sample_mean": 5.092238749141326
         },
         {
          "sample_mean": 5.214913715686721
         },
         {
          "sample_mean": 4.892690712712824
         },
         {
          "sample_mean": 5.099632897786182
         },
         {
          "sample_mean": 4.823118914964539
         },
         {
          "sample_mean": 4.769358871287432
         },
         {
          "sample_mean": 5.006454057007846
         },
         {
          "sample_mean": 5.057073417927426
         },
         {
          "sample_mean": 4.971743892834423
         },
         {
          "sample_mean": 5.084982952568326
         },
         {
          "sample_mean": 4.962230703123573
         },
         {
          "sample_mean": 4.880359378373513
         },
         {
          "sample_mean": 5.0136148930940605
         },
         {
          "sample_mean": 4.80984520179925
         },
         {
          "sample_mean": 5.0526023522131736
         },
         {
          "sample_mean": 4.910588866225701
         },
         {
          "sample_mean": 5.056860819997681
         },
         {
          "sample_mean": 5.036403708317318
         },
         {
          "sample_mean": 5.208611826923714
         },
         {
          "sample_mean": 5.003305717129109
         },
         {
          "sample_mean": 5.189125159452606
         },
         {
          "sample_mean": 5.075516938927583
         },
         {
          "sample_mean": 4.933129734180575
         },
         {
          "sample_mean": 4.98795739483475
         },
         {
          "sample_mean": 4.857122150248242
         },
         {
          "sample_mean": 5.075983418894209
         },
         {
          "sample_mean": 5.221986346085675
         },
         {
          "sample_mean": 5.235621556608421
         },
         {
          "sample_mean": 5.190753383299485
         },
         {
          "sample_mean": 4.738328124450276
         },
         {
          "sample_mean": 5.173735908934559
         },
         {
          "sample_mean": 4.905167814541985
         },
         {
          "sample_mean": 4.862881127453336
         },
         {
          "sample_mean": 5.0448213008555065
         },
         {
          "sample_mean": 4.989275983988615
         },
         {
          "sample_mean": 5.018946769179468
         },
         {
          "sample_mean": 5.2640455454583055
         },
         {
          "sample_mean": 4.641526739750372
         },
         {
          "sample_mean": 5.205051446397365
         },
         {
          "sample_mean": 5.283659520208326
         },
         {
          "sample_mean": 4.954146135073411
         },
         {
          "sample_mean": 5.0889120559697085
         },
         {
          "sample_mean": 5.186899761203897
         },
         {
          "sample_mean": 4.929953510989692
         },
         {
          "sample_mean": 5.271473469045197
         },
         {
          "sample_mean": 4.741495925640673
         },
         {
          "sample_mean": 4.792977457346304
         },
         {
          "sample_mean": 4.975720746638772
         },
         {
          "sample_mean": 5.08470162835357
         },
         {
          "sample_mean": 4.848649213502457
         },
         {
          "sample_mean": 4.883142681168476
         },
         {
          "sample_mean": 4.955112478254282
         },
         {
          "sample_mean": 5.16805191861383
         },
         {
          "sample_mean": 4.90957471177126
         },
         {
          "sample_mean": 4.729495391733192
         },
         {
          "sample_mean": 4.897760112185853
         },
         {
          "sample_mean": 5.1230830909223
         },
         {
          "sample_mean": 4.901304760222141
         },
         {
          "sample_mean": 4.9015607849262315
         },
         {
          "sample_mean": 5.153344768476219
         },
         {
          "sample_mean": 5.085465494057569
         },
         {
          "sample_mean": 5.276507388250027
         },
         {
          "sample_mean": 4.937424349892777
         },
         {
          "sample_mean": 5.11758789674555
         },
         {
          "sample_mean": 5.188303980765153
         },
         {
          "sample_mean": 4.707766300290657
         },
         {
          "sample_mean": 5.210813514533013
         },
         {
          "sample_mean": 5.0077571207792655
         },
         {
          "sample_mean": 4.768769148811177
         },
         {
          "sample_mean": 4.929364375524183
         },
         {
          "sample_mean": 5.125513557448889
         },
         {
          "sample_mean": 4.898171085805725
         },
         {
          "sample_mean": 5.073014797519682
         },
         {
          "sample_mean": 4.994325352397769
         },
         {
          "sample_mean": 4.865945828359259
         },
         {
          "sample_mean": 5.177388169713739
         },
         {
          "sample_mean": 4.904390261009841
         },
         {
          "sample_mean": 4.8909743014520926
         },
         {
          "sample_mean": 5.195702841056429
         },
         {
          "sample_mean": 5.063491088754177
         },
         {
          "sample_mean": 4.759327713674071
         },
         {
          "sample_mean": 5.214428809951414
         },
         {
          "sample_mean": 5.124509768540691
         },
         {
          "sample_mean": 5.098437355568658
         },
         {
          "sample_mean": 4.901714008021933
         },
         {
          "sample_mean": 5.000969993610487
         },
         {
          "sample_mean": 5.120718053818549
         },
         {
          "sample_mean": 4.901921248865881
         },
         {
          "sample_mean": 4.979463170502198
         },
         {
          "sample_mean": 5.13880003933771
         },
         {
          "sample_mean": 5.026242915733002
         },
         {
          "sample_mean": 5.049134927582234
         },
         {
          "sample_mean": 5.198985101523276
         },
         {
          "sample_mean": 4.995156303532058
         },
         {
          "sample_mean": 4.8977782505555405
         },
         {
          "sample_mean": 4.983900406499824
         },
         {
          "sample_mean": 5.0592673209975985
         },
         {
          "sample_mean": 4.989222623876226
         },
         {
          "sample_mean": 4.98279566494964
         },
         {
          "sample_mean": 5.089877308839628
         },
         {
          "sample_mean": 4.931937695598341
         },
         {
          "sample_mean": 5.233486886133403
         },
         {
          "sample_mean": 5.313009226157321
         },
         {
          "sample_mean": 4.942781241009718
         },
         {
          "sample_mean": 5.093850790356529
         },
         {
          "sample_mean": 5.01823758886884
         },
         {
          "sample_mean": 5.022344147888479
         },
         {
          "sample_mean": 4.909563775315708
         },
         {
          "sample_mean": 5.007786208208747
         },
         {
          "sample_mean": 5.1111840025193365
         },
         {
          "sample_mean": 5.2338228730139456
         },
         {
          "sample_mean": 4.915803229994006
         },
         {
          "sample_mean": 4.80798524020213
         },
         {
          "sample_mean": 4.956516320610688
         },
         {
          "sample_mean": 5.148261652965458
         },
         {
          "sample_mean": 4.8775398181693514
         },
         {
          "sample_mean": 4.936126134731991
         },
         {
          "sample_mean": 4.911242798265019
         },
         {
          "sample_mean": 4.816854679131453
         },
         {
          "sample_mean": 5.025169157290429
         },
         {
          "sample_mean": 4.820486064036557
         },
         {
          "sample_mean": 4.908908542654826
         },
         {
          "sample_mean": 5.253839049056013
         },
         {
          "sample_mean": 4.821275727137484
         },
         {
          "sample_mean": 5.144845435726876
         },
         {
          "sample_mean": 4.993205219623905
         },
         {
          "sample_mean": 5.168055889745618
         },
         {
          "sample_mean": 5.247785686709994
         },
         {
          "sample_mean": 4.997763635075256
         },
         {
          "sample_mean": 5.008463595058198
         },
         {
          "sample_mean": 5.201913412581732
         },
         {
          "sample_mean": 4.990975396177897
         },
         {
          "sample_mean": 5.033054319124438
         },
         {
          "sample_mean": 5.021547286720577
         },
         {
          "sample_mean": 4.920856578357126
         },
         {
          "sample_mean": 4.9000794422218075
         },
         {
          "sample_mean": 4.7474582309649325
         },
         {
          "sample_mean": 4.8122629516438975
         },
         {
          "sample_mean": 5.229536457227906
         },
         {
          "sample_mean": 4.413151542633626
         },
         {
          "sample_mean": 5.042825365939851
         },
         {
          "sample_mean": 5.000183642197321
         },
         {
          "sample_mean": 5.222470352749839
         },
         {
          "sample_mean": 5.065560202136477
         },
         {
          "sample_mean": 5.293713425390382
         },
         {
          "sample_mean": 4.933816654440921
         },
         {
          "sample_mean": 5.175391910093531
         },
         {
          "sample_mean": 4.8783714584724125
         },
         {
          "sample_mean": 4.707112631804426
         },
         {
          "sample_mean": 4.9966510123454055
         },
         {
          "sample_mean": 5.23914246539743
         },
         {
          "sample_mean": 4.8202746484351335
         },
         {
          "sample_mean": 4.818947116371443
         },
         {
          "sample_mean": 5.142346078177837
         },
         {
          "sample_mean": 5.25130807101627
         },
         {
          "sample_mean": 4.916738033358819
         },
         {
          "sample_mean": 5.021209188941
         },
         {
          "sample_mean": 4.878044222391638
         },
         {
          "sample_mean": 5.009617841654146
         },
         {
          "sample_mean": 4.742890235099749
         },
         {
          "sample_mean": 5.078444488387395
         },
         {
          "sample_mean": 4.916428421003931
         },
         {
          "sample_mean": 4.856899817959831
         },
         {
          "sample_mean": 4.814997335379634
         },
         {
          "sample_mean": 5.11431010790377
         },
         {
          "sample_mean": 4.981534862826464
         },
         {
          "sample_mean": 4.829334807489292
         },
         {
          "sample_mean": 4.985190030506907
         },
         {
          "sample_mean": 4.848664467645229
         },
         {
          "sample_mean": 5.052929963199382
         },
         {
          "sample_mean": 4.981646378214131
         },
         {
          "sample_mean": 5.134436621438797
         },
         {
          "sample_mean": 5.196988111349036
         },
         {
          "sample_mean": 4.991795351987865
         },
         {
          "sample_mean": 5.088275166021987
         },
         {
          "sample_mean": 5.099172423423931
         },
         {
          "sample_mean": 5.020751437107977
         },
         {
          "sample_mean": 5.102466505695353
         },
         {
          "sample_mean": 5.107860948412417
         },
         {
          "sample_mean": 4.987058309399184
         },
         {
          "sample_mean": 5.21668337384952
         },
         {
          "sample_mean": 5.306098200476041
         },
         {
          "sample_mean": 4.855480377344951
         },
         {
          "sample_mean": 5.348923058454283
         },
         {
          "sample_mean": 5.130393676441183
         },
         {
          "sample_mean": 4.8564129114781265
         },
         {
          "sample_mean": 4.944104659753759
         },
         {
          "sample_mean": 4.856209098514672
         },
         {
          "sample_mean": 5.2491010884643385
         },
         {
          "sample_mean": 4.838001043283692
         },
         {
          "sample_mean": 5.007527845529791
         },
         {
          "sample_mean": 4.828552005791345
         },
         {
          "sample_mean": 4.97331082770783
         },
         {
          "sample_mean": 4.978854952745567
         },
         {
          "sample_mean": 5.141651060392122
         },
         {
          "sample_mean": 5.194287083642355
         },
         {
          "sample_mean": 4.725840859882865
         },
         {
          "sample_mean": 4.948994938112526
         },
         {
          "sample_mean": 5.0987143848952385
         },
         {
          "sample_mean": 5.038708729849535
         },
         {
          "sample_mean": 5.217869177821141
         },
         {
          "sample_mean": 4.792252390984107
         },
         {
          "sample_mean": 5.067061813765778
         },
         {
          "sample_mean": 4.987087252447381
         },
         {
          "sample_mean": 5.223722941349238
         },
         {
          "sample_mean": 5.0420823198155125
         },
         {
          "sample_mean": 5.246667215783344
         },
         {
          "sample_mean": 5.069138825653128
         },
         {
          "sample_mean": 4.888728705656976
         },
         {
          "sample_mean": 4.768140031806233
         },
         {
          "sample_mean": 5.012811573660958
         },
         {
          "sample_mean": 4.9250001144228275
         },
         {
          "sample_mean": 5.401548311646257
         },
         {
          "sample_mean": 4.8652712409336125
         },
         {
          "sample_mean": 5.063286380282428
         },
         {
          "sample_mean": 4.8198486587971425
         },
         {
          "sample_mean": 4.762430439597322
         },
         {
          "sample_mean": 4.906640896915858
         },
         {
          "sample_mean": 4.839705117752939
         },
         {
          "sample_mean": 5.030037604080177
         },
         {
          "sample_mean": 4.904886123128524
         },
         {
          "sample_mean": 4.803150861731363
         },
         {
          "sample_mean": 5.010945190752642
         },
         {
          "sample_mean": 4.860734687791998
         },
         {
          "sample_mean": 4.937549186103712
         },
         {
          "sample_mean": 5.237988877784457
         },
         {
          "sample_mean": 4.835653998921922
         },
         {
          "sample_mean": 4.904147985396725
         },
         {
          "sample_mean": 5.111775792696742
         },
         {
          "sample_mean": 4.967410819907051
         },
         {
          "sample_mean": 4.854904257421962
         },
         {
          "sample_mean": 5.06763468232251
         },
         {
          "sample_mean": 5.003374968381304
         },
         {
          "sample_mean": 5.017358488808482
         },
         {
          "sample_mean": 4.655153795207853
         },
         {
          "sample_mean": 4.916694555543114
         },
         {
          "sample_mean": 5.182230212084545
         },
         {
          "sample_mean": 4.908704720228098
         },
         {
          "sample_mean": 4.8167616936276
         },
         {
          "sample_mean": 4.865869647305371
         },
         {
          "sample_mean": 4.914405080396815
         },
         {
          "sample_mean": 4.960143114341638
         },
         {
          "sample_mean": 5.244662462663164
         },
         {
          "sample_mean": 5.042706032226252
         },
         {
          "sample_mean": 4.7404150536395155
         },
         {
          "sample_mean": 4.870863881356694
         },
         {
          "sample_mean": 5.167092344372801
         },
         {
          "sample_mean": 4.91456655047493
         },
         {
          "sample_mean": 4.943059411776686
         },
         {
          "sample_mean": 4.918974570493795
         },
         {
          "sample_mean": 5.097869387795332
         },
         {
          "sample_mean": 4.895187295762069
         },
         {
          "sample_mean": 4.965719120416611
         },
         {
          "sample_mean": 4.985454035742336
         },
         {
          "sample_mean": 5.010437193002957
         },
         {
          "sample_mean": 5.221543547995416
         },
         {
          "sample_mean": 4.978801214485512
         },
         {
          "sample_mean": 4.975877002837695
         },
         {
          "sample_mean": 4.922524505160216
         },
         {
          "sample_mean": 5.168357398951407
         },
         {
          "sample_mean": 5.181344539547127
         },
         {
          "sample_mean": 4.91971419375071
         },
         {
          "sample_mean": 4.997540109850133
         },
         {
          "sample_mean": 5.420946392908793
         },
         {
          "sample_mean": 4.842300320031289
         },
         {
          "sample_mean": 5.0133465779523805
         },
         {
          "sample_mean": 4.994187720664364
         },
         {
          "sample_mean": 4.845534013558919
         },
         {
          "sample_mean": 5.028799524068337
         },
         {
          "sample_mean": 4.712734111783187
         },
         {
          "sample_mean": 5.049908867870534
         },
         {
          "sample_mean": 5.023327708888503
         },
         {
          "sample_mean": 4.759154180132824
         },
         {
          "sample_mean": 5.149727202689395
         },
         {
          "sample_mean": 4.976975311206147
         },
         {
          "sample_mean": 4.908603012663407
         },
         {
          "sample_mean": 5.373936745115502
         },
         {
          "sample_mean": 4.873379250236525
         },
         {
          "sample_mean": 5.18210767456464
         },
         {
          "sample_mean": 4.949600561042392
         },
         {
          "sample_mean": 4.864559233117559
         },
         {
          "sample_mean": 4.923613705461818
         },
         {
          "sample_mean": 5.033383711884805
         },
         {
          "sample_mean": 5.141038277080137
         },
         {
          "sample_mean": 4.875583030625561
         },
         {
          "sample_mean": 5.083095776615361
         },
         {
          "sample_mean": 5.043751343466085
         },
         {
          "sample_mean": 5.08870797093402
         },
         {
          "sample_mean": 5.067565190011684
         },
         {
          "sample_mean": 4.986590698233894
         },
         {
          "sample_mean": 4.80696319271597
         },
         {
          "sample_mean": 4.924974578016309
         },
         {
          "sample_mean": 4.915084296909932
         },
         {
          "sample_mean": 4.865385526649739
         },
         {
          "sample_mean": 4.783648198853117
         },
         {
          "sample_mean": 5.045129093528731
         },
         {
          "sample_mean": 4.95710771819604
         },
         {
          "sample_mean": 4.977568503466681
         },
         {
          "sample_mean": 5.140469785879042
         },
         {
          "sample_mean": 5.373078105567304
         },
         {
          "sample_mean": 4.91168313164945
         },
         {
          "sample_mean": 5.01999917680915
         },
         {
          "sample_mean": 5.2000933931983635
         },
         {
          "sample_mean": 4.985125766301081
         },
         {
          "sample_mean": 5.068266047247327
         },
         {
          "sample_mean": 4.815914197589182
         },
         {
          "sample_mean": 5.006865718174782
         },
         {
          "sample_mean": 5.102915548184398
         },
         {
          "sample_mean": 4.912070179366062
         },
         {
          "sample_mean": 5.1193333831363965
         },
         {
          "sample_mean": 4.848306454515108
         },
         {
          "sample_mean": 5.079861744624408
         },
         {
          "sample_mean": 5.000984064969709
         },
         {
          "sample_mean": 4.936078974629705
         },
         {
          "sample_mean": 5.048859810950487
         },
         {
          "sample_mean": 4.920688410244333
         },
         {
          "sample_mean": 5.108107087670118
         },
         {
          "sample_mean": 5.113131600274376
         },
         {
          "sample_mean": 5.2132728694485335
         },
         {
          "sample_mean": 4.901590789545874
         },
         {
          "sample_mean": 4.995063891387938
         },
         {
          "sample_mean": 4.988879663339484
         },
         {
          "sample_mean": 4.860002652139021
         },
         {
          "sample_mean": 5.010112380167435
         },
         {
          "sample_mean": 5.085665476833741
         },
         {
          "sample_mean": 5.088758293554811
         },
         {
          "sample_mean": 4.9909050505680375
         },
         {
          "sample_mean": 4.954354177047333
         },
         {
          "sample_mean": 5.066389817876907
         },
         {
          "sample_mean": 4.904227569224132
         },
         {
          "sample_mean": 4.952918425461947
         },
         {
          "sample_mean": 4.977042966049123
         },
         {
          "sample_mean": 5.06106188545661
         },
         {
          "sample_mean": 4.883836522345747
         },
         {
          "sample_mean": 4.7786528704452795
         },
         {
          "sample_mean": 5.017616894826646
         },
         {
          "sample_mean": 4.735649195370964
         },
         {
          "sample_mean": 5.0870753652113105
         },
         {
          "sample_mean": 4.771249594772542
         },
         {
          "sample_mean": 5.142404269629486
         },
         {
          "sample_mean": 4.998132171679396
         },
         {
          "sample_mean": 5.0378353749594025
         },
         {
          "sample_mean": 5.078820976208877
         },
         {
          "sample_mean": 4.546935793870603
         },
         {
          "sample_mean": 4.873734937272431
         },
         {
          "sample_mean": 4.734839908624496
         },
         {
          "sample_mean": 5.009725051696879
         },
         {
          "sample_mean": 5.062947726003258
         },
         {
          "sample_mean": 5.00434534592998
         },
         {
          "sample_mean": 4.805811188969185
         },
         {
          "sample_mean": 5.1210473340656995
         },
         {
          "sample_mean": 5.082390638348711
         },
         {
          "sample_mean": 4.959364347690233
         },
         {
          "sample_mean": 5.189045398993003
         },
         {
          "sample_mean": 5.06516045557295
         },
         {
          "sample_mean": 4.991354954349676
         },
         {
          "sample_mean": 4.955652820774389
         },
         {
          "sample_mean": 5.001405699480896
         },
         {
          "sample_mean": 5.169488163771563
         },
         {
          "sample_mean": 4.9837419132130725
         },
         {
          "sample_mean": 4.747776885714076
         },
         {
          "sample_mean": 4.908215831494973
         },
         {
          "sample_mean": 4.838188018096662
         },
         {
          "sample_mean": 5.315557357084384
         },
         {
          "sample_mean": 4.966818954184571
         },
         {
          "sample_mean": 4.83311463858157
         },
         {
          "sample_mean": 5.128870611306767
         },
         {
          "sample_mean": 5.216025968410109
         },
         {
          "sample_mean": 5.09177163814588
         },
         {
          "sample_mean": 4.771274888314486
         },
         {
          "sample_mean": 4.907573906549894
         },
         {
          "sample_mean": 5.198631488469538
         },
         {
          "sample_mean": 4.954286989450151
         },
         {
          "sample_mean": 5.155550534651156
         },
         {
          "sample_mean": 4.881420014325353
         },
         {
          "sample_mean": 4.936593530388307
         },
         {
          "sample_mean": 4.72609665371477
         },
         {
          "sample_mean": 4.710818398612059
         },
         {
          "sample_mean": 5.118739592932183
         },
         {
          "sample_mean": 4.795286732645511
         },
         {
          "sample_mean": 5.002108548059186
         },
         {
          "sample_mean": 5.047042699557687
         },
         {
          "sample_mean": 4.778422969308589
         },
         {
          "sample_mean": 4.577409423335964
         },
         {
          "sample_mean": 5.002559149373653
         },
         {
          "sample_mean": 5.008505530339336
         },
         {
          "sample_mean": 4.751651542372575
         },
         {
          "sample_mean": 4.970198191895574
         },
         {
          "sample_mean": 4.8818311611587175
         },
         {
          "sample_mean": 4.886277458332549
         },
         {
          "sample_mean": 4.857733449462153
         },
         {
          "sample_mean": 4.837950093387082
         },
         {
          "sample_mean": 5.181459974932415
         },
         {
          "sample_mean": 4.929377565072668
         },
         {
          "sample_mean": 5.070625752595661
         },
         {
          "sample_mean": 5.237352289461158
         },
         {
          "sample_mean": 4.991338011246745
         },
         {
          "sample_mean": 5.105491624541624
         },
         {
          "sample_mean": 4.991231633893994
         },
         {
          "sample_mean": 5.214232367888041
         },
         {
          "sample_mean": 5.070807442501209
         },
         {
          "sample_mean": 5.184091796144929
         },
         {
          "sample_mean": 4.862158983423123
         },
         {
          "sample_mean": 4.9919831040241185
         },
         {
          "sample_mean": 4.8632741083705335
         },
         {
          "sample_mean": 5.100652587014103
         },
         {
          "sample_mean": 4.912799869604491
         },
         {
          "sample_mean": 5.297490235784427
         },
         {
          "sample_mean": 4.925903297854385
         },
         {
          "sample_mean": 5.074888570952533
         },
         {
          "sample_mean": 5.0416052541388545
         },
         {
          "sample_mean": 5.095556897209742
         },
         {
          "sample_mean": 5.139957493101658
         },
         {
          "sample_mean": 4.818933591490986
         },
         {
          "sample_mean": 5.452625507110023
         },
         {
          "sample_mean": 4.861000874426159
         },
         {
          "sample_mean": 5.177681730070794
         },
         {
          "sample_mean": 4.7903307777313024
         },
         {
          "sample_mean": 5.116083898867993
         },
         {
          "sample_mean": 5.023214588910767
         },
         {
          "sample_mean": 4.893133341870125
         },
         {
          "sample_mean": 4.938388021883513
         },
         {
          "sample_mean": 5.009010450550209
         },
         {
          "sample_mean": 5.054163125629498
         },
         {
          "sample_mean": 4.792479105350939
         },
         {
          "sample_mean": 5.135780086524606
         },
         {
          "sample_mean": 5.206701140738325
         },
         {
          "sample_mean": 4.983230814550172
         },
         {
          "sample_mean": 4.875759307902378
         },
         {
          "sample_mean": 5.093065913700917
         },
         {
          "sample_mean": 5.163860576069359
         },
         {
          "sample_mean": 5.0339213121707305
         },
         {
          "sample_mean": 5.011219855262298
         },
         {
          "sample_mean": 5.079510016621652
         },
         {
          "sample_mean": 4.794007969732646
         },
         {
          "sample_mean": 5.189659892772978
         },
         {
          "sample_mean": 5.118851841655089
         },
         {
          "sample_mean": 4.915895643740634
         },
         {
          "sample_mean": 5.42449697644184
         },
         {
          "sample_mean": 4.9003330602844954
         },
         {
          "sample_mean": 4.94354283111923
         },
         {
          "sample_mean": 4.885974198564033
         },
         {
          "sample_mean": 5.058319547463768
         },
         {
          "sample_mean": 4.786919174033582
         },
         {
          "sample_mean": 5.094575084875291
         },
         {
          "sample_mean": 4.941225202546668
         },
         {
          "sample_mean": 4.950228454899635
         },
         {
          "sample_mean": 5.071336877515579
         },
         {
          "sample_mean": 4.746402037887591
         },
         {
          "sample_mean": 4.7882004795383315
         },
         {
          "sample_mean": 4.9827737642199805
         },
         {
          "sample_mean": 4.594632546486292
         },
         {
          "sample_mean": 4.948457561879699
         },
         {
          "sample_mean": 5.024857533258341
         },
         {
          "sample_mean": 4.864418100237629
         },
         {
          "sample_mean": 4.725961196219471
         },
         {
          "sample_mean": 4.76732536237443
         },
         {
          "sample_mean": 4.881792889587705
         },
         {
          "sample_mean": 5.159293593388835
         },
         {
          "sample_mean": 4.994668111938907
         },
         {
          "sample_mean": 5.291887650706832
         },
         {
          "sample_mean": 5.065412439773627
         },
         {
          "sample_mean": 5.0214053737973945
         },
         {
          "sample_mean": 4.8130451027802374
         },
         {
          "sample_mean": 4.900770919257281
         },
         {
          "sample_mean": 5.0367794973052025
         },
         {
          "sample_mean": 4.901700015219772
         },
         {
          "sample_mean": 4.7223670279503205
         },
         {
          "sample_mean": 4.834069866882432
         },
         {
          "sample_mean": 5.050603838720926
         },
         {
          "sample_mean": 5.068524296104134
         },
         {
          "sample_mean": 4.872730767173096
         },
         {
          "sample_mean": 4.834785178483589
         },
         {
          "sample_mean": 5.091924670969434
         },
         {
          "sample_mean": 4.936152300592333
         },
         {
          "sample_mean": 5.10824239722144
         },
         {
          "sample_mean": 4.690893204758871
         },
         {
          "sample_mean": 4.87755911814493
         },
         {
          "sample_mean": 4.900418596252508
         },
         {
          "sample_mean": 4.583032563510311
         },
         {
          "sample_mean": 4.984536759655832
         },
         {
          "sample_mean": 4.9877978295270005
         },
         {
          "sample_mean": 5.138831027564969
         },
         {
          "sample_mean": 5.160410014185829
         },
         {
          "sample_mean": 4.896884319302111
         },
         {
          "sample_mean": 4.74358091458596
         },
         {
          "sample_mean": 4.995848671711434
         },
         {
          "sample_mean": 5.029309795881569
         },
         {
          "sample_mean": 5.155914764436344
         },
         {
          "sample_mean": 4.857996334165022
         },
         {
          "sample_mean": 4.924326559353252
         },
         {
          "sample_mean": 5.039583656783243
         },
         {
          "sample_mean": 5.086799779781715
         },
         {
          "sample_mean": 5.219307387233168
         },
         {
          "sample_mean": 5.071898502355181
         }
        ]
       },
       "layer": [
        {
         "data": {
          "name": "data-fe7760dea7bb101a28171246874b3688"
         },
         "encoding": {
          "x": {
           "bin": {
            "step": 0.1
           },
           "field": "sample_mean",
           "type": "quantitative"
          },
          "y": {
           "aggregate": "count",
           "type": "quantitative"
          }
         },
         "mark": "bar"
        },
        {
         "data": {
          "name": "data-d11c7646668d096f96fe9a781f61b4d2"
         },
         "encoding": {
          "x": {
           "field": "x",
           "type": "quantitative"
          },
          "y": {
           "field": "pdf",
           "type": "quantitative"
          }
         },
         "mark": {
          "color": "red",
          "type": "line"
         }
        }
       ]
      },
      "image/png": "[encoded data removed]",
      "text/plain": [
       "<VegaLite 2 object>\n",
       "\n",
       "If you see this message, it means the renderer has not been properly enabled\n",
       "for the frontend that you are using. For more information, see\n",
       "https://altair-viz.github.io/user_guide/troubleshooting.html\n"
      ]
     },
     "execution_count": 5,
     "metadata": {},
     "output_type": "execute_result"
    }
   ],
   "source": [
    "data_hist = (alt\n",
    "                .Chart(plot_df)\n",
    "                .mark_bar()\n",
    "                .encode(x = alt.X(\"sample_mean:Q\",\n",
    "                                  bin = alt.BinParams(step = 0.1)),\n",
    "                        y = alt.Y(\"count()\")))\n",
    "\n",
    "clt_line = (alt\n",
    "               .Chart(clt_df)\n",
    "               .mark_line(color = \"red\")\n",
    "               .encode(x = \"x\",\n",
    "                       y = \"pdf\"))\n",
    "\n",
    "data_hist + clt_line"
   ]
  },
  {
   "cell_type": "code",
   "execution_count": 6,
   "metadata": {},
   "outputs": [
    {
     "data": {
      "application/vnd.vegalite.v2+json": {
       "$schema": "https://vega.github.io/schema/vega-lite/v2.6.0.json",
       "config": {
        "view": {
         "height": 300,
         "width": 400
        }
       },
       "datasets": {
        "data-3c115d83baddc1a7e2a44fd99f9b9602": [
         {
          "x": 4.313151542633626,
          "y": 4.313151542633626
         },
         {
          "x": 5.552625507110022,
          "y": 5.552625507110022
         }
        ],
        "data-cdc5278c33a0db2c0d6d38672c042cf8": [
         {
          "quantiles": 4.4797220413408105,
          "sample_means": 4.413151542633626
         },
         {
          "quantiles": 4.530759432872859,
          "sample_means": 4.546935793870603
         },
         {
          "quantiles": 4.556168991151405,
          "sample_means": 4.566408038373365
         },
         {
          "quantiles": 4.5735914820435895,
          "sample_means": 4.570979793297957
         },
         {
          "quantiles": 4.586997977102017,
          "sample_means": 4.577409423335964
         },
         {
          "quantiles": 4.5979640163438935,
          "sample_means": 4.583032563510311
         },
         {
          "quantiles": 4.607281592547081,
          "sample_means": 4.594632546486292
         },
         {
          "quantiles": 4.6154071020988505,
          "sample_means": 4.597481431539496
         },
         {
          "quantiles": 4.622628372493203,
          "sample_means": 4.600016129904436
         },
         {
          "quantiles": 4.62913899048925,
          "sample_means": 4.625316719071394
         },
         {
          "quantiles": 4.635075612743147,
          "sample_means": 4.641526739750372
         },
         {
          "quantiles": 4.640538419573548,
          "sample_means": 4.65413578495585
         },
         {
          "quantiles": 4.64560311135272,
          "sample_means": 4.655153795207853
         },
         {
          "quantiles": 4.650328331847222,
          "sample_means": 4.677213447798376
         },
         {
          "quantiles": 4.654760466560312,
          "sample_means": 4.686213160893986
         },
         {
          "quantiles": 4.658936858763352,
          "sample_means": 4.688892832899033
         },
         {
          "quantiles": 4.662888031993216,
          "sample_means": 4.690893204758871
         },
         {
          "quantiles": 4.666639266733958,
          "sample_means": 4.693801270086621
         },
         {
          "quantiles": 4.670211744628824,
          "sample_means": 4.694973047281722
         },
         {
          "quantiles": 4.673623395503719,
          "sample_means": 4.705882321374556
         },
         {
          "quantiles": 4.676889535479461,
          "sample_means": 4.707112631804426
         },
         {
          "quantiles": 4.68002335525034,
          "sample_means": 4.707766300290657
         },
         {
          "quantiles": 4.683036298960168,
          "sample_means": 4.708309435581033
         },
         {
          "quantiles": 4.685938361904681,
          "sample_means": 4.710012674055592
         },
         {
          "quantiles": 4.688738327126883,
          "sample_means": 4.710818398612059
         },
         {
          "quantiles": 4.691443955403342,
          "sample_means": 4.712734111783187
         },
         {
          "quantiles": 4.6940621392518125,
          "sample_means": 4.716882650643778
         },
         {
          "quantiles": 4.696599028860356,
          "sample_means": 4.721890205772842
         },
         {
          "quantiles": 4.699060135881988,
          "sample_means": 4.7223670279503205
         },
         {
          "quantiles": 4.701450419618123,
          "sample_means": 4.723056215557375
         },
         {
          "quantiles": 4.703774359069131,
          "sample_means": 4.723129784358586
         },
         {
          "quantiles": 4.706036013552827,
          "sample_means": 4.725840859882865
         },
         {
          "quantiles": 4.708239074006985,
          "sample_means": 4.725961196219471
         },
         {
          "quantiles": 4.710386906647747,
          "sample_means": 4.72609665371477
         },
         {
          "quantiles": 4.712482590315228,
          "sample_means": 4.729495391733192
         },
         {
          "quantiles": 4.714528948574204,
          "sample_means": 4.729971907780031
         },
         {
          "quantiles": 4.716528577432335,
          "sample_means": 4.730457142993692
         },
         {
          "quantiles": 4.718483869377045,
          "sample_means": 4.734839908624496
         },
         {
          "quantiles": 4.720397034304381,
          "sample_means": 4.735649195370964
         },
         {
          "quantiles": 4.722270117811479,
          "sample_means": 4.738328124450276
         },
         {
          "quantiles": 4.724105017242607,
          "sample_means": 4.738771747810604
         },
         {
          "quantiles": 4.725903495812969,
          "sample_means": 4.7404150536395155
         },
         {
          "quantiles": 4.7276671950810005,
          "sample_means": 4.740474993009604
         },
         {
          "quantiles": 4.729397645996362,
          "sample_means": 4.741495925640673
         },
         {
          "quantiles": 4.731096278715078,
          "sample_means": 4.741724204210401
         },
         {
          "quantiles": 4.73276443134385,
          "sample_means": 4.742890235099749
         },
         {
          "quantiles": 4.734403357751216,
          "sample_means": 4.74358091458596
         },
         {
          "quantiles": 4.736014234562931,
          "sample_means": 4.746402037887591
         },
         {
          "quantiles": 4.737598167442088,
          "sample_means": 4.7474582309649325
         },
         {
          "quantiles": 4.739156196740244,
          "sample_means": 4.747776885714076
         },
         {
          "quantiles": 4.74068930259395,
          "sample_means": 4.749201610159911
         },
         {
          "quantiles": 4.742198409530932,
          "sample_means": 4.750046247940091
         },
         {
          "quantiles": 4.743684390641698,
          "sample_means": 4.750632151041083
         },
         {
          "quantiles": 4.745148071364991,
          "sample_means": 4.751651542372575
         },
         {
          "quantiles": 4.746590232929385,
          "sample_means": 4.7554525446122815
         },
         {
          "quantiles": 4.748011615487943,
          "sample_means": 4.758081406920089
         },
         {
          "quantiles": 4.749412920978341,
          "sample_means": 4.759154180132824
         },
         {
          "quantiles": 4.7507948157369055,
          "sample_means": 4.759327713674071
         },
         {
          "quantiles": 4.75215793289164,
          "sample_means": 4.75979936836854
         },
         {
          "quantiles": 4.753502874556365,
          "sample_means": 4.7605329553445035
         },
         {
          "quantiles": 4.75483021384556,
          "sample_means": 4.761510795183727
         },
         {
          "quantiles": 4.756140496727255,
          "sample_means": 4.762430439597322
         },
         {
          "quantiles": 4.7574342437294295,
          "sample_means": 4.762537159606956
         },
         {
          "quantiles": 4.758711951513617,
          "sample_means": 4.763120153072914
         },
         {
          "quantiles": 4.759974094328,
          "sample_means": 4.763382621977281
         },
         {
          "quantiles": 4.761221125350926,
          "sample_means": 4.76732536237443
         },
         {
          "quantiles": 4.762453477934658,
          "sample_means": 4.768140031806233
         },
         {
          "quantiles": 4.763671566758146,
          "sample_means": 4.768653917899779
         },
         {
          "quantiles": 4.76487578889673,
          "sample_means": 4.7687435423315545
         },
         {
          "quantiles": 4.766066524815869,
          "sample_means": 4.768769148811177
         },
         {
          "quantiles": 4.767244139295316,
          "sample_means": 4.769358871287432
         },
         {
          "quantiles": 4.768408982289513,
          "sample_means": 4.771249594772542
         },
         {
          "quantiles": 4.769561389729445,
          "sample_means": 4.771274888314486
         },
         {
          "quantiles": 4.770701684270675,
          "sample_means": 4.774772631862308
         },
         {
          "quantiles": 4.771830175991873,
          "sample_means": 4.776838166120345
         },
         {
          "quantiles": 4.772947163047706,
          "sample_means": 4.777827329161033
         },
         {
          "quantiles": 4.774052932279663,
          "sample_means": 4.778422969308589
         },
         {
          "quantiles": 4.77514775978802,
          "sample_means": 4.7786528704452795
         },
         {
          "quantiles": 4.776231911467887,
          "sample_means": 4.779053277842077
         },
         {
          "quantiles": 4.777305643512041,
          "sample_means": 4.779306411791857
         },
         {
          "quantiles": 4.77836920288296,
          "sample_means": 4.7795673077112815
         },
         {
          "quantiles": 4.779422827756329,
          "sample_means": 4.780737629473612
         },
         {
          "quantiles": 4.780466747938064,
          "sample_means": 4.7810215011532655
         },
         {
          "quantiles": 4.781501185256732,
          "sample_means": 4.7817394487202165
         },
         {
          "quantiles": 4.782526353933099,
          "sample_means": 4.783648198853117
         },
         {
          "quantiles": 4.783542460928392,
          "sample_means": 4.784055460448241
         },
         {
          "quantiles": 4.784549706272737,
          "sample_means": 4.784232282152319
         },
         {
          "quantiles": 4.785548283375118,
          "sample_means": 4.784556944217155
         },
         {
          "quantiles": 4.786538379316091,
          "sample_means": 4.784649776252538
         },
         {
          "quantiles": 4.787520175124397,
          "sample_means": 4.784904680096883
         },
         {
          "quantiles": 4.788493846038546,
          "sample_means": 4.784918429424544
         },
         {
          "quantiles": 4.789459561754304,
          "sample_means": 4.786497531655554
         },
         {
          "quantiles": 4.79041748665905,
          "sample_means": 4.786919174033582
         },
         {
          "quantiles": 4.791367780053763,
          "sample_means": 4.787013067033987
         },
         {
          "quantiles": 4.792310596363487,
          "sample_means": 4.7882004795383315
         },
         {
          "quantiles": 4.793246085336926,
          "sample_means": 4.789426819997771
         },
         {
          "quantiles": 4.794174392235885,
          "sample_means": 4.7903307777313024
         },
         {
          "quantiles": 4.795095658015144,
          "sample_means": 4.790993160709948
         },
         {
          "quantiles": 4.796010019493355,
          "sample_means": 4.791106502826966
         },
         {
          "quantiles": 4.796917609515498,
          "sample_means": 4.792252390984107
         },
         {
          "quantiles": 4.797818557107377,
          "sample_means": 4.792479105350939
         },
         {
          "quantiles": 4.798712987622641,
          "sample_means": 4.792977457346304
         },
         {
          "quantiles": 4.799601022882757,
          "sample_means": 4.794007969732646
         },
         {
          "quantiles": 4.8004827813103255,
          "sample_means": 4.794054434760885
         },
         {
          "quantiles": 4.801358378056133,
          "sample_means": 4.794601963106852
         },
         {
          "quantiles": 4.802227925120281,
          "sample_means": 4.795286732645511
         },
         {
          "quantiles": 4.803091531467731,
          "sample_means": 4.797052406302008
         },
         {
          "quantiles": 4.803949303138562,
          "sample_means": 4.7984297652184535
         },
         {
          "quantiles": 4.804801343353237,
          "sample_means": 4.801486444355937
         },
         {
          "quantiles": 4.805647752613152,
          "sample_means": 4.8017721173566565
         },
         {
          "quantiles": 4.806488628796704,
          "sample_means": 4.803150861731363
         },
         {
          "quantiles": 4.8073240672511375,
          "sample_means": 4.803351184702831
         },
         {
          "quantiles": 4.808154160880371,
          "sample_means": 4.803424993832465
         },
         {
          "quantiles": 4.808979000229032,
          "sample_means": 4.803934427123188
         },
         {
          "quantiles": 4.809798673562879,
          "sample_means": 4.805055594854184
         },
         {
          "quantiles": 4.810613266945815,
          "sample_means": 4.805811188969185
         },
         {
          "quantiles": 4.811422864313642,
          "sample_means": 4.806343715834589
         },
         {
          "quantiles": 4.812227547544743,
          "sample_means": 4.80696319271597
         },
         {
          "quantiles": 4.813027396527832,
          "sample_means": 4.80711194057815
         },
         {
          "quantiles": 4.813822489226922,
          "sample_means": 4.80798524020213
         },
         {
          "quantiles": 4.814612901743645,
          "sample_means": 4.8090311445507234
         },
         {
          "quantiles": 4.815398708377055,
          "sample_means": 4.80984520179925
         },
         {
          "quantiles": 4.816179981681033,
          "sample_means": 4.812104184074316
         },
         {
          "quantiles": 4.8169567925194166,
          "sample_means": 4.8122629516438975
         },
         {
          "quantiles": 4.817729210118948,
          "sample_means": 4.812388090561576
         },
         {
          "quantiles": 4.818497302120157,
          "sample_means": 4.8130451027802374
         },
         {
          "quantiles": 4.819261134626274,
          "sample_means": 4.814086761561843
         },
         {
          "quantiles": 4.820020772250247,
          "sample_means": 4.814225208273791
         },
         {
          "quantiles": 4.820776278159982,
          "sample_means": 4.814997335379634
         },
         {
          "quantiles": 4.821527714121852,
          "sample_means": 4.815861040015409
         },
         {
          "quantiles": 4.822275140542584,
          "sample_means": 4.815914197589182
         },
         {
          "quantiles": 4.823018616509575,
          "sample_means": 4.8167616936276
         },
         {
          "quantiles": 4.823758199829722,
          "sample_means": 4.816854679131453
         },
         {
          "quantiles": 4.824493947066816,
          "sample_means": 4.818933591490986
         },
         {
          "quantiles": 4.825225913577584,
          "sample_means": 4.818947116371443
         },
         {
          "quantiles": 4.825954153546419,
          "sample_means": 4.8198486587971425
         },
         {
          "quantiles": 4.826678720018865,
          "sample_means": 4.82005007131137
         },
         {
          "quantiles": 4.827399664933907,
          "sample_means": 4.8202746484351335
         },
         {
          "quantiles": 4.828117039155115,
          "sample_means": 4.820486064036557
         },
         {
          "quantiles": 4.828830892500704,
          "sample_means": 4.8208027301505725
         },
         {
          "quantiles": 4.8295412737725325,
          "sample_means": 4.821275727137484
         },
         {
          "quantiles": 4.8302482307841,
          "sample_means": 4.821617182248425
         },
         {
          "quantiles": 4.830951810387589,
          "sample_means": 4.82277481393402
         },
         {
          "quantiles": 4.831652058499972,
          "sample_means": 4.823118914964539
         },
         {
          "quantiles": 4.83234902012824,
          "sample_means": 4.824109853696109
         },
         {
          "quantiles": 4.833042739393783,
          "sample_means": 4.826597179819479
         },
         {
          "quantiles": 4.833733259555946,
          "sample_means": 4.828552005791345
         },
         {
          "quantiles": 4.83442062303481,
          "sample_means": 4.828710526915771
         },
         {
          "quantiles": 4.835104871433221,
          "sample_means": 4.829334807489292
         },
         {
          "quantiles": 4.835786045558092,
          "sample_means": 4.830117324818926
         },
         {
          "quantiles": 4.836464185441018,
          "sample_means": 4.832483411971371
         },
         {
          "quantiles": 4.8371393303582195,
          "sample_means": 4.83311463858157
         },
         {
          "quantiles": 4.837811518849845,
          "sample_means": 4.8334900516078205
         },
         {
          "quantiles": 4.8384807887386625,
          "sample_means": 4.834069866882432
         },
         {
          "quantiles": 4.8391471771481545,
          "sample_means": 4.834785178483589
         },
         {
          "quantiles": 4.83981072052004,
          "sample_means": 4.835653998921922
         },
         {
          "quantiles": 4.84047145463126,
          "sample_means": 4.835872113889947
         },
         {
          "quantiles": 4.841129414610417,
          "sample_means": 4.836594058207103
         },
         {
          "quantiles": 4.841784634953724,
          "sample_means": 4.836905329284689
         },
         {
          "quantiles": 4.842437149540452,
          "sample_means": 4.837950093387082
         },
         {
          "quantiles": 4.843086991647914,
          "sample_means": 4.838001043283692
         },
         {
          "quantiles": 4.843734193965983,
          "sample_means": 4.838188018096662
         },
         {
          "quantiles": 4.844378788611194,
          "sample_means": 4.839705117752939
         },
         {
          "quantiles": 4.845020807140396,
          "sample_means": 4.841166991163037
         },
         {
          "quantiles": 4.845660280564022,
          "sample_means": 4.842300320031289
         },
         {
          "quantiles": 4.846297239358952,
          "sample_means": 4.843354069746361
         },
         {
          "quantiles": 4.8469317134810055,
          "sample_means": 4.845534013558919
         },
         {
          "quantiles": 4.847563732377061,
          "sample_means": 4.845683506258809
         },
         {
          "quantiles": 4.848193324996834,
          "sample_means": 4.846889896157348
         },
         {
          "quantiles": 4.848820519804306,
          "sample_means": 4.847058715678236
         },
         {
          "quantiles": 4.849445344788828,
          "sample_means": 4.848306454515108
         },
         {
          "quantiles": 4.850067827475909,
          "sample_means": 4.848340272517782
         },
         {
          "quantiles": 4.8506879949377,
          "sample_means": 4.848496526242489
         },
         {
          "quantiles": 4.851305873803175,
          "sample_means": 4.848649213502457
         },
         {
          "quantiles": 4.851921490268032,
          "sample_means": 4.848664467645229
         },
         {
          "quantiles": 4.852534870104322,
          "sample_means": 4.851402368815337
         },
         {
          "quantiles": 4.853146038669801,
          "sample_means": 4.852611566209254
         },
         {
          "quantiles": 4.853755020917031,
          "sample_means": 4.854904257421962
         },
         {
          "quantiles": 4.854361841402231,
          "sample_means": 4.855244861819002
         },
         {
          "quantiles": 4.854966524293887,
          "sample_means": 4.855480377344951
         },
         {
          "quantiles": 4.8555690933811215,
          "sample_means": 4.856209098514672
         },
         {
          "quantiles": 4.856169572081853,
          "sample_means": 4.8564129114781265
         },
         {
          "quantiles": 4.856767983450724,
          "sample_means": 4.856899817959831
         },
         {
          "quantiles": 4.857364350186816,
          "sample_means": 4.857122150248242
         },
         {
          "quantiles": 4.857958694641172,
          "sample_means": 4.857733449462153
         },
         {
          "quantiles": 4.858551038824111,
          "sample_means": 4.857996334165022
         },
         {
          "quantiles": 4.859141404412355,
          "sample_means": 4.860002652139021
         },
         {
          "quantiles": 4.859729812755968,
          "sample_means": 4.860344818508868
         },
         {
          "quantiles": 4.860316284885116,
          "sample_means": 4.860734687791998
         },
         {
          "quantiles": 4.860900841516653,
          "sample_means": 4.861000874426159
         },
         {
          "quantiles": 4.861483503060538,
          "sample_means": 4.861455865321615
         },
         {
          "quantiles": 4.862064289626089,
          "sample_means": 4.862158983423123
         },
         {
          "quantiles": 4.862643221028072,
          "sample_means": 4.862772356287678
         },
         {
          "quantiles": 4.863220316792648,
          "sample_means": 4.862881127453336
         },
         {
          "quantiles": 4.863795596163162,
          "sample_means": 4.8632741083705335
         },
         {
          "quantiles": 4.864369078105784,
          "sample_means": 4.864418100237629
         },
         {
          "quantiles": 4.864940781315023,
          "sample_means": 4.864559233117559
         },
         {
          "quantiles": 4.865510724219091,
          "sample_means": 4.864872101285868
         },
         {
          "quantiles": 4.8660789249851435,
          "sample_means": 4.865145878982265
         },
         {
          "quantiles": 4.866645401524387,
          "sample_means": 4.8652712409336125
         },
         {
          "quantiles": 4.867210171497065,
          "sample_means": 4.865385526649739
         },
         {
          "quantiles": 4.867773252317321,
          "sample_means": 4.865869647305371
         },
         {
          "quantiles": 4.868334661157948,
          "sample_means": 4.865945828359259
         },
         {
          "quantiles": 4.868894414955015,
          "sample_means": 4.86612124808923
         },
         {
          "quantiles": 4.869452530412399,
          "sample_means": 4.866383156607195
         },
         {
          "quantiles": 4.87000902400619,
          "sample_means": 4.866908309686264
         },
         {
          "quantiles": 4.8705639119890085,
          "sample_means": 4.867667034523321
         },
         {
          "quantiles": 4.871117210394208,
          "sample_means": 4.867917982982897
         },
         {
          "quantiles": 4.871668935039993,
          "sample_means": 4.869051993464375
         },
         {
          "quantiles": 4.872219101533427,
          "sample_means": 4.869079412864772
         },
         {
          "quantiles": 4.872767725274359,
          "sample_means": 4.870065032012499
         },
         {
          "quantiles": 4.873314821459253,
          "sample_means": 4.870863881356694
         },
         {
          "quantiles": 4.873860405084929,
          "sample_means": 4.872730767173096
         },
         {
          "quantiles": 4.874404490952222,
          "sample_means": 4.873379250236525
         },
         {
          "quantiles": 4.874947093669559,
          "sample_means": 4.873734937272431
         },
         {
          "quantiles": 4.875488227656451,
          "sample_means": 4.874009274631275
         },
         {
          "quantiles": 4.876027907146903,
          "sample_means": 4.875583030625561
         },
         {
          "quantiles": 4.876566146192762,
          "sample_means": 4.875759307902378
         },
         {
          "quantiles": 4.877102958666972,
          "sample_means": 4.877103771366387
         },
         {
          "quantiles": 4.87763835826677,
          "sample_means": 4.8775398181693514
         },
         {
          "quantiles": 4.878172358516805,
          "sample_means": 4.87755911814493
         },
         {
          "quantiles": 4.878704972772188,
          "sample_means": 4.878044222391638
         },
         {
          "quantiles": 4.879236214221484,
          "sample_means": 4.878127397023891
         },
         {
          "quantiles": 4.879766095889623,
          "sample_means": 4.8783714584724125
         },
         {
          "quantiles": 4.8802946306407655,
          "sample_means": 4.880359378373513
         },
         {
          "quantiles": 4.8808218311810885,
          "sample_means": 4.88114176462278
         },
         {
          "quantiles": 4.881347710061529,
          "sample_means": 4.881420014325353
         },
         {
          "quantiles": 4.881872279680453,
          "sample_means": 4.881792889587705
         },
         {
          "quantiles": 4.88239555228628,
          "sample_means": 4.8818311611587175
         },
         {
          "quantiles": 4.882917539980042,
          "sample_means": 4.883142681168476
         },
         {
          "quantiles": 4.883438254717898,
          "sample_means": 4.883340445427384
         },
         {
          "quantiles": 4.883957708313587,
          "sample_means": 4.883718317271863
         },
         {
          "quantiles": 4.884475912440834,
          "sample_means": 4.883836522345747
         },
         {
          "quantiles": 4.884992878635705,
          "sample_means": 4.884475624422412
         },
         {
          "quantiles": 4.885508618298913,
          "sample_means": 4.884608361425865
         },
         {
          "quantiles": 4.886023142698078,
          "sample_means": 4.885974198564033
         },
         {
          "quantiles": 4.886536462969938,
          "sample_means": 4.886277458332549
         },
         {
          "quantiles": 4.8870485901225145,
          "sample_means": 4.886564706938856
         },
         {
          "quantiles": 4.887559535037238,
          "sample_means": 4.886605718641456
         },
         {
          "quantiles": 4.888069308471023,
          "sample_means": 4.88719730325895
         },
         {
          "quantiles": 4.888577921058311,
          "sample_means": 4.887337873997212
         },
         {
          "quantiles": 4.889085383313061,
          "sample_means": 4.888728705656976
         },
         {
          "quantiles": 4.889591705630712,
          "sample_means": 4.8889311892059775
         },
         {
          "quantiles": 4.890096898290094,
          "sample_means": 4.889350992669855
         },
         {
          "quantiles": 4.89060097145531,
          "sample_means": 4.890248070976286
         },
         {
          "quantiles": 4.891103935177582,
          "sample_means": 4.89079219899087
         },
         {
          "quantiles": 4.891605799397047,
          "sample_means": 4.8909743014520926
         },
         {
          "quantiles": 4.892106573944538,
          "sample_means": 4.892030147178504
         },
         {
          "quantiles": 4.892606268543311,
          "sample_means": 4.89210143785995
         },
         {
          "quantiles": 4.893104892810753,
          "sample_means": 4.892239372708788
         },
         {
          "quantiles": 4.893602456260045,
          "sample_means": 4.892690712712824
         },
         {
          "quantiles": 4.8940989683018055,
          "sample_means": 4.893133341870125
         },
         {
          "quantiles": 4.89459443824569,
          "sample_means": 4.895187295762069
         },
         {
          "quantiles": 4.895088875301967,
          "sample_means": 4.896165443198995
         },
         {
          "quantiles": 4.895582288583064,
          "sample_means": 4.896884319302111
         },
         {
          "quantiles": 4.896074687105082,
          "sample_means": 4.8973379808797235
         },
         {
          "quantiles": 4.896566079789279,
          "sample_means": 4.897351916254196
         },
         {
          "quantiles": 4.8970564754635335,
          "sample_means": 4.897760112185853
         },
         {
          "quantiles": 4.897545882863772,
          "sample_means": 4.8977782505555405
         },
         {
          "quantiles": 4.898034310635375,
          "sample_means": 4.897912000796376
         },
         {
          "quantiles": 4.898521767334555,
          "sample_means": 4.897983175010509
         },
         {
          "quantiles": 4.899008261429706,
          "sample_means": 4.898171085805725
         },
         {
          "quantiles": 4.899493801302739,
          "sample_means": 4.89866885774978
         },
         {
          "quantiles": 4.899978395250379,
          "sample_means": 4.898847583901332
         },
         {
          "quantiles": 4.9004620514854444,
          "sample_means": 4.9000794422218075
         },
         {
          "quantiles": 4.900944778138107,
          "sample_means": 4.9003330602844954
         },
         {
          "quantiles": 4.901426583257122,
          "sample_means": 4.900418596252508
         },
         {
          "quantiles": 4.901907474811044,
          "sample_means": 4.900738416921049
         },
         {
          "quantiles": 4.902387460689409,
          "sample_means": 4.900770919257281
         },
         {
          "quantiles": 4.902866548703908,
          "sample_means": 4.901289085022986
         },
         {
          "quantiles": 4.903344746589532,
          "sample_means": 4.901304760222141
         },
         {
          "quantiles": 4.9038220620057,
          "sample_means": 4.901509262958499
         },
         {
          "quantiles": 4.9042985025373635,
          "sample_means": 4.9015607849262315
         },
         {
          "quantiles": 4.904774075696096,
          "sample_means": 4.901590789545874
         },
         {
          "quantiles": 4.905248788921161,
          "sample_means": 4.901700015219772
         },
         {
          "quantiles": 4.9057226495805555,
          "sample_means": 4.901714008021933
         },
         {
          "quantiles": 4.906195664972053,
          "sample_means": 4.901921248865881
         },
         {
          "quantiles": 4.906667842324204,
          "sample_means": 4.9020047226499734
         },
         {
          "quantiles": 4.9071391887973395,
          "sample_means": 4.902242024488672
         },
         {
          "quantiles": 4.907609711484548,
          "sample_means": 4.902384274201593
         },
         {
          "quantiles": 4.908079417412633,
          "sample_means": 4.902475209319118
         },
         {
          "quantiles": 4.908548313543066,
          "sample_means": 4.904090593577537
         },
         {
          "quantiles": 4.909016406772906,
          "sample_means": 4.904147985396725
         },
         {
          "quantiles": 4.909483703935721,
          "sample_means": 4.904227569224132
         },
         {
          "quantiles": 4.9099502118024825,
          "sample_means": 4.904390261009841
         },
         {
          "quantiles": 4.910415937082448,
          "sample_means": 4.904886123128524
         },
         {
          "quantiles": 4.910880886424025,
          "sample_means": 4.90498824089403
         },
         {
          "quantiles": 4.911345066415637,
          "sample_means": 4.905167814541985
         },
         {
          "quantiles": 4.911808483586548,
          "sample_means": 4.905632088406249
         },
         {
          "quantiles": 4.912271144407695,
          "sample_means": 4.906640896915858
         },
         {
          "quantiles": 4.912733055292502,
          "sample_means": 4.907573906549894
         },
         {
          "quantiles": 4.913194222597672,
          "sample_means": 4.908215831494973
         },
         {
          "quantiles": 4.913654652623976,
          "sample_means": 4.908424375914414
         },
         {
          "quantiles": 4.914114351617026,
          "sample_means": 4.908603012663407
         },
         {
          "quantiles": 4.914573325768033,
          "sample_means": 4.908704720228098
         },
         {
          "quantiles": 4.915031581214554,
          "sample_means": 4.908785106932943
         },
         {
          "quantiles": 4.91548912404123,
          "sample_means": 4.908908542654826
         },
         {
          "quantiles": 4.915945960280508,
          "sample_means": 4.909563775315708
         },
         {
          "quantiles": 4.916402095913355,
          "sample_means": 4.90957471177126
         },
         {
          "quantiles": 4.916857536869953,
          "sample_means": 4.909739524684544
         },
         {
          "quantiles": 4.917312289030396,
          "sample_means": 4.909947717172659
         },
         {
          "quantiles": 4.9177663582253635,
          "sample_means": 4.910588866225701
         },
         {
          "quantiles": 4.918219750236792,
          "sample_means": 4.910796839716864
         },
         {
          "quantiles": 4.91867247079853,
          "sample_means": 4.911242798265019
         },
         {
          "quantiles": 4.919124525596984,
          "sample_means": 4.91168313164945
         },
         {
          "quantiles": 4.91957592027176,
          "sample_means": 4.912070179366062
         },
         {
          "quantiles": 4.920026660416288,
          "sample_means": 4.912799869604491
         },
         {
          "quantiles": 4.920476751578437,
          "sample_means": 4.913078224442055
         },
         {
          "quantiles": 4.920926199261129,
          "sample_means": 4.913595896784302
         },
         {
          "quantiles": 4.921375008922932,
          "sample_means": 4.914405080396815
         },
         {
          "quantiles": 4.921823185978653,
          "sample_means": 4.91456655047493
         },
         {
          "quantiles": 4.922270735799917,
          "sample_means": 4.914987766126849
         },
         {
          "quantiles": 4.922717663715741,
          "sample_means": 4.915084296909932
         },
         {
          "quantiles": 4.9231639750130896,
          "sample_means": 4.915803229994006
         },
         {
          "quantiles": 4.923609674937443,
          "sample_means": 4.915895643740634
         },
         {
          "quantiles": 4.924054768693329,
          "sample_means": 4.916014512862892
         },
         {
          "quantiles": 4.924499261444872,
          "sample_means": 4.916428421003931
         },
         {
          "quantiles": 4.924943158316316,
          "sample_means": 4.916694555543114
         },
         {
          "quantiles": 4.925386464392553,
          "sample_means": 4.916738033358819
         },
         {
          "quantiles": 4.925829184719631,
          "sample_means": 4.916788128333717
         },
         {
          "quantiles": 4.926271324305266,
          "sample_means": 4.918030124739122
         },
         {
          "quantiles": 4.926712888119341,
          "sample_means": 4.918634387793903
         },
         {
          "quantiles": 4.927153881094395,
          "sample_means": 4.918905820211409
         },
         {
          "quantiles": 4.927594308126114,
          "sample_means": 4.918974570493795
         },
         {
          "quantiles": 4.928034174073801,
          "sample_means": 4.91971419375071
         },
         {
          "quantiles": 4.9284734837608575,
          "sample_means": 4.9204449528057905
         },
         {
          "quantiles": 4.9289122419752385,
          "sample_means": 4.920688410244333
         },
         {
          "quantiles": 4.929350453469915,
          "sample_means": 4.920856578357126
         },
         {
          "quantiles": 4.929788122963328,
          "sample_means": 4.921246788694371
         },
         {
          "quantiles": 4.930225255139826,
          "sample_means": 4.921554936292983
         },
         {
          "quantiles": 4.930661854650111,
          "sample_means": 4.921708147552421
         },
         {
          "quantiles": 4.931097926111667,
          "sample_means": 4.922524505160216
         },
         {
          "quantiles": 4.9315334741091865,
          "sample_means": 4.92338952175405
         },
         {
          "quantiles": 4.931968503194994,
          "sample_means": 4.923613705461818
         },
         {
          "quantiles": 4.932403017889458,
          "sample_means": 4.924326559353252
         },
         {
          "quantiles": 4.932837022681399,
          "sample_means": 4.924974578016309
         },
         {
          "quantiles": 4.933270522028497,
          "sample_means": 4.9250001144228275
         },
         {
          "quantiles": 4.933703520357685,
          "sample_means": 4.925903297854385
         },
         {
          "quantiles": 4.9341360220655455,
          "sample_means": 4.926557334494385
         },
         {
          "quantiles": 4.934568031518692,
          "sample_means": 4.926847088890161
         },
         {
          "quantiles": 4.934999553054156,
          "sample_means": 4.927172992041274
         },
         {
          "quantiles": 4.9354305909797604,
          "sample_means": 4.928683132681204
         },
         {
          "quantiles": 4.935861149574494,
          "sample_means": 4.929364375524183
         },
         {
          "quantiles": 4.936291233088875,
          "sample_means": 4.929377565072668
         },
         {
          "quantiles": 4.936720845745315,
          "sample_means": 4.929953510989692
         },
         {
          "quantiles": 4.937149991738473,
          "sample_means": 4.930652138351904
         },
         {
          "quantiles": 4.9375786752356134,
          "sample_means": 4.931937695598341
         },
         {
          "quantiles": 4.938006900376947,
          "sample_means": 4.933129734180575
         },
         {
          "quantiles": 4.938434671275977,
          "sample_means": 4.933315373518293
         },
         {
          "quantiles": 4.938861992019839,
          "sample_means": 4.933816654440921
         },
         {
          "quantiles": 4.939288866669634,
          "sample_means": 4.934080594138271
         },
         {
          "quantiles": 4.939715299260757,
          "sample_means": 4.935529470712847
         },
         {
          "quantiles": 4.940141293803223,
          "sample_means": 4.935571585631118
         },
         {
          "quantiles": 4.940566854281992,
          "sample_means": 4.936078974629705
         },
         {
          "quantiles": 4.9409919846572805,
          "sample_means": 4.936126134731991
         },
         {
          "quantiles": 4.94141668886488,
          "sample_means": 4.936136109290188
         },
         {
          "quantiles": 4.941840970816464,
          "sample_means": 4.936152300592333
         },
         {
          "quantiles": 4.942264834399893,
          "sample_means": 4.936431282635718
         },
         {
          "quantiles": 4.9426882834795185,
          "sample_means": 4.936593530388307
         },
         {
          "quantiles": 4.943111321896479,
          "sample_means": 4.937424349892777
         },
         {
          "quantiles": 4.943533953468996,
          "sample_means": 4.937549186103712
         },
         {
          "quantiles": 4.943956181992662,
          "sample_means": 4.937779498884553
         },
         {
          "quantiles": 4.94437801124073,
          "sample_means": 4.938388021883513
         },
         {
          "quantiles": 4.944799444964395,
          "sample_means": 4.940416074952606
         },
         {
          "quantiles": 4.945220486893079,
          "sample_means": 4.941225202546668
         },
         {
          "quantiles": 4.9456411407347,
          "sample_means": 4.942781241009718
         },
         {
          "quantiles": 4.946061410175952,
          "sample_means": 4.942828689027798
         },
         {
          "quantiles": 4.946481298882572,
          "sample_means": 4.943059411776686
         },
         {
          "quantiles": 4.946900810499609,
          "sample_means": 4.943240955666898
         },
         {
          "quantiles": 4.9473199486516855,
          "sample_means": 4.94354283111923
         },
         {
          "quantiles": 4.947738716943259,
          "sample_means": 4.943639949460932
         },
         {
          "quantiles": 4.948157118958879,
          "sample_means": 4.944064997003824
         },
         {
          "quantiles": 4.948575158263447,
          "sample_means": 4.944104659753759
         },
         {
          "quantiles": 4.948992838402457,
          "sample_means": 4.944277735216119
         },
         {
          "quantiles": 4.949410162902257,
          "sample_means": 4.945112832722579
         },
         {
          "quantiles": 4.949827135270286,
          "sample_means": 4.94579938409569
         },
         {
          "quantiles": 4.950243758995319,
          "sample_means": 4.946101715553659
         },
         {
          "quantiles": 4.9506600375477126,
          "sample_means": 4.947911078087874
         },
         {
          "quantiles": 4.951075974379633,
          "sample_means": 4.948457561879699
         },
         {
          "quantiles": 4.951491572925301,
          "sample_means": 4.9486137545262565
         },
         {
          "quantiles": 4.951906836601217,
          "sample_means": 4.948945001236218
         },
         {
          "quantiles": 4.952321768806395,
          "sample_means": 4.948994938112526
         },
         {
          "quantiles": 4.952736372922589,
          "sample_means": 4.949600561042392
         },
         {
          "quantiles": 4.9531506523145135,
          "sample_means": 4.950228454899635
         },
         {
          "quantiles": 4.9535646103300754,
          "sample_means": 4.950528022355177
         },
         {
          "quantiles": 4.953978250300583,
          "sample_means": 4.951597606242867
         },
         {
          "quantiles": 4.954391575540972,
          "sample_means": 4.952918425461947
         },
         {
          "quantiles": 4.954804589350015,
          "sample_means": 4.954146135073411
         },
         {
          "quantiles": 4.955217295010538,
          "sample_means": 4.954286989450151
         },
         {
          "quantiles": 4.955629695789629,
          "sample_means": 4.954354177047333
         },
         {
          "quantiles": 4.956041794938847,
          "sample_means": 4.954699415652167
         },
         {
          "quantiles": 4.956453595694431,
          "sample_means": 4.955112478254282
         },
         {
          "quantiles": 4.956865101277499,
          "sample_means": 4.955517000756947
         },
         {
          "quantiles": 4.957276314894253,
          "sample_means": 4.955652820774389
         },
         {
          "quantiles": 4.95768723973618,
          "sample_means": 4.955941662129489
         },
         {
          "quantiles": 4.958097878980248,
          "sample_means": 4.956393703504892
         },
         {
          "quantiles": 4.958508235789102,
          "sample_means": 4.956516320610688
         },
         {
          "quantiles": 4.95891831331126,
          "sample_means": 4.95710771819604
         },
         {
          "quantiles": 4.959328114681303,
          "sample_means": 4.957161633814237
         },
         {
          "quantiles": 4.959737643020065,
          "sample_means": 4.958995123154658
         },
         {
          "quantiles": 4.960146901434823,
          "sample_means": 4.959364347690233
         },
         {
          "quantiles": 4.960555893019483,
          "sample_means": 4.959720994202578
         },
         {
          "quantiles": 4.960964620854762,
          "sample_means": 4.959864752624372
         },
         {
          "quantiles": 4.961373088008376,
          "sample_means": 4.959994106980237
         },
         {
          "quantiles": 4.961781297535215,
          "sample_means": 4.960143114341638
         },
         {
          "quantiles": 4.96218925247753,
          "sample_means": 4.962230703123573
         },
         {
          "quantiles": 4.962596955865101,
          "sample_means": 4.962901641387427
         },
         {
          "quantiles": 4.963004410715423,
          "sample_means": 4.963107361802576
         },
         {
          "quantiles": 4.963411620033874,
          "sample_means": 4.9636341618288755
         },
         {
          "quantiles": 4.963818586813888,
          "sample_means": 4.963674463835438
         },
         {
          "quantiles": 4.964225314037132,
          "sample_means": 4.963813033279447
         },
         {
          "quantiles": 4.96463180467367,
          "sample_means": 4.963888048330004
         },
         {
          "quantiles": 4.96503806168213,
          "sample_means": 4.964436555945206
         },
         {
          "quantiles": 4.965444088009878,
          "sample_means": 4.964619164023891
         },
         {
          "quantiles": 4.965849886593179,
          "sample_means": 4.965719120416611
         },
         {
          "quantiles": 4.966255460357357,
          "sample_means": 4.966818954184571
         },
         {
          "quantiles": 4.966660812216965,
          "sample_means": 4.967140514203967
         },
         {
          "quantiles": 4.96706594507594,
          "sample_means": 4.967410819907051
         },
         {
          "quantiles": 4.967470861827767,
          "sample_means": 4.968916401480658
         },
         {
          "quantiles": 4.967875565355635,
          "sample_means": 4.969214977864157
         },
         {
          "quantiles": 4.968280058532591,
          "sample_means": 4.969619789026252
         },
         {
          "quantiles": 4.968684344221704,
          "sample_means": 4.970198191895574
         },
         {
          "quantiles": 4.969088425276212,
          "sample_means": 4.971124972683497
         },
         {
          "quantiles": 4.969492304539678,
          "sample_means": 4.971743892834423
         },
         {
          "quantiles": 4.969895984846141,
          "sample_means": 4.97331082770783
         },
         {
          "quantiles": 4.9702994690202695,
          "sample_means": 4.974699989070675
         },
         {
          "quantiles": 4.970702759877507,
          "sample_means": 4.974995113691006
         },
         {
          "quantiles": 4.971105860224223,
          "sample_means": 4.975720746638772
         },
         {
          "quantiles": 4.971508772857861,
          "sample_means": 4.975824163564632
         },
         {
          "quantiles": 4.971911500567084,
          "sample_means": 4.975877002837695
         },
         {
          "quantiles": 4.972314046131917,
          "sample_means": 4.976958299074408
         },
         {
          "quantiles": 4.972716412323894,
          "sample_means": 4.976975311206147
         },
         {
          "quantiles": 4.973118601906202,
          "sample_means": 4.977042966049123
         },
         {
          "quantiles": 4.9735206176338185,
          "sample_means": 4.977265182566134
         },
         {
          "quantiles": 4.973922462253657,
          "sample_means": 4.977398603811313
         },
         {
          "quantiles": 4.974324138504704,
          "sample_means": 4.977512286850744
         },
         {
          "quantiles": 4.974725649118159,
          "sample_means": 4.977568503466681
         },
         {
          "quantiles": 4.975126996817573,
          "sample_means": 4.977778409906359
         },
         {
          "quantiles": 4.975528184318986,
          "sample_means": 4.978801214485512
         },
         {
          "quantiles": 4.97592921433106,
          "sample_means": 4.978854952745567
         },
         {
          "quantiles": 4.976330089555219,
          "sample_means": 4.9789514607455585
         },
         {
          "quantiles": 4.97673081268578,
          "sample_means": 4.979463170502198
         },
         {
          "quantiles": 4.977131386410085,
          "sample_means": 4.980382931571708
         },
         {
          "quantiles": 4.97753181340864,
          "sample_means": 4.981534862826464
         },
         {
          "quantiles": 4.977932096355241,
          "sample_means": 4.981646378214131
         },
         {
          "quantiles": 4.978332237917107,
          "sample_means": 4.9827737642199805
         },
         {
          "quantiles": 4.978732240755011,
          "sample_means": 4.98279566494964
         },
         {
          "quantiles": 4.979132107523409,
          "sample_means": 4.982880135341973
         },
         {
          "quantiles": 4.979531840870566,
          "sample_means": 4.983230814550172
         },
         {
          "quantiles": 4.979931443438689,
          "sample_means": 4.9837419132130725
         },
         {
          "quantiles": 4.980330917864051,
          "sample_means": 4.983900406499824
         },
         {
          "quantiles": 4.980730266777119,
          "sample_means": 4.984536759655832
         },
         {
          "quantiles": 4.981129492802678,
          "sample_means": 4.985125766301081
         },
         {
          "quantiles": 4.981528598559958,
          "sample_means": 4.985190030506907
         },
         {
          "quantiles": 4.981927586662756,
          "sample_means": 4.985454035742336
         },
         {
          "quantiles": 4.982326459719565,
          "sample_means": 4.985981275538501
         },
         {
          "quantiles": 4.982725220333693,
          "sample_means": 4.986142671213944
         },
         {
          "quantiles": 4.983123871103383,
          "sample_means": 4.986382577913615
         },
         {
          "quantiles": 4.983522414621945,
          "sample_means": 4.986395124326392
         },
         {
          "quantiles": 4.983920853477865,
          "sample_means": 4.986590698233894
         },
         {
          "quantiles": 4.9843191902549355,
          "sample_means": 4.986819017527067
         },
         {
          "quantiles": 4.984717427532372,
          "sample_means": 4.986990522825494
         },
         {
          "quantiles": 4.985115567884933,
          "sample_means": 4.987058309399184
         },
         {
          "quantiles": 4.98551361388304,
          "sample_means": 4.987087252447381
         },
         {
          "quantiles": 4.985911568092893,
          "sample_means": 4.987541913396682
         },
         {
          "quantiles": 4.986309433076595,
          "sample_means": 4.9877978295270005
         },
         {
          "quantiles": 4.9867072113922655,
          "sample_means": 4.98795739483475
         },
         {
          "quantiles": 4.987104905594157,
          "sample_means": 4.988730370601357
         },
         {
          "quantiles": 4.987502518232776,
          "sample_means": 4.9887370692412745
         },
         {
          "quantiles": 4.987900051854995,
          "sample_means": 4.988879663339484
         },
         {
          "quantiles": 4.9882975090041715,
          "sample_means": 4.98907007342607
         },
         {
          "quantiles": 4.988694892220264,
          "sample_means": 4.989222623876226
         },
         {
          "quantiles": 4.989092204039943,
          "sample_means": 4.989275983988615
         },
         {
          "quantiles": 4.9894894469967115,
          "sample_means": 4.9899358785389145
         },
         {
          "quantiles": 4.989886623621016,
          "sample_means": 4.990736155946751
         },
         {
          "quantiles": 4.990283736440362,
          "sample_means": 4.990780460821491
         },
         {
          "quantiles": 4.990680787979426,
          "sample_means": 4.9909050505680375
         },
         {
          "quantiles": 4.991077780760171,
          "sample_means": 4.990975396177897
         },
         {
          "quantiles": 4.9914747173019585,
          "sample_means": 4.991231633893994
         },
         {
          "quantiles": 4.991871600121663,
          "sample_means": 4.991338011246745
         },
         {
          "quantiles": 4.992268431733782,
          "sample_means": 4.991354954349676
         },
         {
          "quantiles": 4.99266521465055,
          "sample_means": 4.991795351987865
         },
         {
          "quantiles": 4.993061951382051,
          "sample_means": 4.991863902266867
         },
         {
          "quantiles": 4.99345864443633,
          "sample_means": 4.9919831040241185
         },
         {
          "quantiles": 4.9938552963194995,
          "sample_means": 4.992515840083942
         },
         {
          "quantiles": 4.994251909535862,
          "sample_means": 4.992561058330915
         },
         {
          "quantiles": 4.9946484865880105,
          "sample_means": 4.993205219623905
         },
         {
          "quantiles": 4.995045029976944,
          "sample_means": 4.993389637388091
         },
         {
          "quantiles": 4.995441542202179,
          "sample_means": 4.99339293663492
         },
         {
          "quantiles": 4.995838025761857,
          "sample_means": 4.993432369863749
         },
         {
          "quantiles": 4.996234483152858,
          "sample_means": 4.993618369342517
         },
         {
          "quantiles": 4.9966309168709095,
          "sample_means": 4.994187720664364
         },
         {
          "quantiles": 4.997027329410696,
          "sample_means": 4.994325352397769
         },
         {
          "quantiles": 4.997423723265972,
          "sample_means": 4.994668111938907
         },
         {
          "quantiles": 4.9978201009296646,
          "sample_means": 4.995063891387938
         },
         {
          "quantiles": 4.998216464893995,
          "sample_means": 4.995156303532058
         },
         {
          "quantiles": 4.998612817650576,
          "sample_means": 4.9955838828723955
         },
         {
          "quantiles": 4.99900916169053,
          "sample_means": 4.995848671711434
         },
         {
          "quantiles": 4.999405499504596,
          "sample_means": 4.9966510123454055
         },
         {
          "quantiles": 4.9998018335832395,
          "sample_means": 4.9967960179423025
         },
         {
          "quantiles": 5.0001981664167605,
          "sample_means": 4.997540109850133
         },
         {
          "quantiles": 5.000594500495403,
          "sample_means": 4.997694237610087
         },
         {
          "quantiles": 5.00099083830947,
          "sample_means": 4.997763635075256
         },
         {
          "quantiles": 5.001387182349424,
          "sample_means": 4.998132171679396
         },
         {
          "quantiles": 5.001783535106005,
          "sample_means": 5.000025044284508
         },
         {
          "quantiles": 5.002179899070335,
          "sample_means": 5.000183642197321
         },
         {
          "quantiles": 5.002576276734028,
          "sample_means": 5.000969993610487
         },
         {
          "quantiles": 5.002972670589304,
          "sample_means": 5.000984064969709
         },
         {
          "quantiles": 5.0033690831290905,
          "sample_means": 5.001405699480896
         },
         {
          "quantiles": 5.0037655168471415,
          "sample_means": 5.002108548059186
         },
         {
          "quantiles": 5.004161974238143,
          "sample_means": 5.002559149373653
         },
         {
          "quantiles": 5.004558457797821,
          "sample_means": 5.002795380419337
         },
         {
          "quantiles": 5.004954970023056,
          "sample_means": 5.003305717129109
         },
         {
          "quantiles": 5.0053515134119895,
          "sample_means": 5.003374968381304
         },
         {
          "quantiles": 5.005748090464138,
          "sample_means": 5.00363640983333
         },
         {
          "quantiles": 5.0061447036805005,
          "sample_means": 5.00434534592998
         },
         {
          "quantiles": 5.00654135556367,
          "sample_means": 5.004470756012143
         },
         {
          "quantiles": 5.006938048617949,
          "sample_means": 5.004635575073485
         },
         {
          "quantiles": 5.00733478534945,
          "sample_means": 5.004733783820751
         },
         {
          "quantiles": 5.007731568266218,
          "sample_means": 5.006454057007846
         },
         {
          "quantiles": 5.008128399878337,
          "sample_means": 5.006586849872505
         },
         {
          "quantiles": 5.0085252826980415,
          "sample_means": 5.006865718174782
         },
         {
          "quantiles": 5.008922219239829,
          "sample_means": 5.007339289984956
         },
         {
          "quantiles": 5.009319212020574,
          "sample_means": 5.007527845529791
         },
         {
          "quantiles": 5.009716263559638,
          "sample_means": 5.0077571207792655
         },
         {
          "quantiles": 5.010113376378984,
          "sample_means": 5.007786208208747
         },
         {
          "quantiles": 5.0105105530032885,
          "sample_means": 5.0078597587662514
         },
         {
          "quantiles": 5.010907795960057,
          "sample_means": 5.008463595058198
         },
         {
          "quantiles": 5.011305107779736,
          "sample_means": 5.008493958006719
         },
         {
          "quantiles": 5.0117024909958285,
          "sample_means": 5.008505530339336
         },
         {
          "quantiles": 5.012099948145005,
          "sample_means": 5.009010450550209
         },
         {
          "quantiles": 5.012497481767224,
          "sample_means": 5.009617841654146
         },
         {
          "quantiles": 5.012895094405843,
          "sample_means": 5.009725051696879
         },
         {
          "quantiles": 5.0132927886077345,
          "sample_means": 5.009812407701295
         },
         {
          "quantiles": 5.013690566923405,
          "sample_means": 5.010112380167435
         },
         {
          "quantiles": 5.014088431907107,
          "sample_means": 5.010437193002957
         },
         {
          "quantiles": 5.01448638611696,
          "sample_means": 5.010945190752642
         },
         {
          "quantiles": 5.014884432115067,
          "sample_means": 5.011219855262298
         },
         {
          "quantiles": 5.015282572467628,
          "sample_means": 5.012162036773614
         },
         {
          "quantiles": 5.0156808097450645,
          "sample_means": 5.012811573660958
         },
         {
          "quantiles": 5.016079146522135,
          "sample_means": 5.012853137827728
         },
         {
          "quantiles": 5.016477585378055,
          "sample_means": 5.0133465779523805
         },
         {
          "quantiles": 5.016876128896617,
          "sample_means": 5.013508864418909
         },
         {
          "quantiles": 5.017274779666307,
          "sample_means": 5.013514686566834
         },
         {
          "quantiles": 5.017673540280435,
          "sample_means": 5.0136148930940605
         },
         {
          "quantiles": 5.018072413337244,
          "sample_means": 5.013803281860053
         },
         {
          "quantiles": 5.018471401440042,
          "sample_means": 5.01414746350046
         },
         {
          "quantiles": 5.018870507197322,
          "sample_means": 5.014472910901557
         },
         {
          "quantiles": 5.019269733222881,
          "sample_means": 5.01562242248448
         },
         {
          "quantiles": 5.019669082135949,
          "sample_means": 5.016221374293684
         },
         {
          "quantiles": 5.020068556561311,
          "sample_means": 5.016746952929945
         },
         {
          "quantiles": 5.020468159129434,
          "sample_means": 5.017036688622853
         },
         {
          "quantiles": 5.020867892476591,
          "sample_means": 5.017358488808482
         },
         {
          "quantiles": 5.021267759244989,
          "sample_means": 5.017466775842155
         },
         {
          "quantiles": 5.021667762082893,
          "sample_means": 5.017616894826646
         },
         {
          "quantiles": 5.022067903644759,
          "sample_means": 5.01823758886884
         },
         {
          "quantiles": 5.02246818659136,
          "sample_means": 5.018344694109209
         },
         {
          "quantiles": 5.022868613589915,
          "sample_means": 5.018946769179468
         },
         {
          "quantiles": 5.02326918731422,
          "sample_means": 5.0191782679307
         },
         {
          "quantiles": 5.023669910444781,
          "sample_means": 5.01999917680915
         },
         {
          "quantiles": 5.02407078566894,
          "sample_means": 5.020007891189158
         },
         {
          "quantiles": 5.0244718156810135,
          "sample_means": 5.02013142032178
         },
         {
          "quantiles": 5.024873003182427,
          "sample_means": 5.020751437107977
         },
         {
          "quantiles": 5.025274350881841,
          "sample_means": 5.02077872896007
         },
         {
          "quantiles": 5.025675861495297,
          "sample_means": 5.021209188941
         },
         {
          "quantiles": 5.026077537746343,
          "sample_means": 5.021267580857091
         },
         {
          "quantiles": 5.0264793823661815,
          "sample_means": 5.0214053737973945
         },
         {
          "quantiles": 5.026881398093797,
          "sample_means": 5.021547286720577
         },
         {
          "quantiles": 5.027283587676106,
          "sample_means": 5.021731865714494
         },
         {
          "quantiles": 5.027685953868083,
          "sample_means": 5.021978448696941
         },
         {
          "quantiles": 5.028088499432916,
          "sample_means": 5.022106667923397
         },
         {
          "quantiles": 5.028491227142139,
          "sample_means": 5.022344147888479
         },
         {
          "quantiles": 5.028894139775777,
          "sample_means": 5.022444437286883
         },
         {
          "quantiles": 5.029297240122493,
          "sample_means": 5.0229760592585775
         },
         {
          "quantiles": 5.0297005309797305,
          "sample_means": 5.023214588910767
         },
         {
          "quantiles": 5.030104015153859,
          "sample_means": 5.023327708888503
         },
         {
          "quantiles": 5.030507695460322,
          "sample_means": 5.024049097143061
         },
         {
          "quantiles": 5.030911574723787,
          "sample_means": 5.024198876936541
         },
         {
          "quantiles": 5.031315655778296,
          "sample_means": 5.024277298677806
         },
         {
          "quantiles": 5.031719941467409,
          "sample_means": 5.024857533258341
         },
         {
          "quantiles": 5.032124434644365,
          "sample_means": 5.025169157290429
         },
         {
          "quantiles": 5.032529138172233,
          "sample_means": 5.025734081927897
         },
         {
          "quantiles": 5.03293405492406,
          "sample_means": 5.026055064564346
         },
         {
          "quantiles": 5.033339187783035,
          "sample_means": 5.0262339221780135
         },
         {
          "quantiles": 5.033744539642643,
          "sample_means": 5.026242915733002
         },
         {
          "quantiles": 5.034150113406821,
          "sample_means": 5.026662968639493
         },
         {
          "quantiles": 5.034555911990122,
          "sample_means": 5.026950395784123
         },
         {
          "quantiles": 5.03496193831787,
          "sample_means": 5.027140588573627
         },
         {
          "quantiles": 5.03536819532633,
          "sample_means": 5.027379707792557
         },
         {
          "quantiles": 5.035774685962868,
          "sample_means": 5.028117972762522
         },
         {
          "quantiles": 5.036181413186112,
          "sample_means": 5.028799524068337
         },
         {
          "quantiles": 5.036588379966126,
          "sample_means": 5.029309795881569
         },
         {
          "quantiles": 5.036995589284577,
          "sample_means": 5.029965320872422
         },
         {
          "quantiles": 5.037403044134899,
          "sample_means": 5.030037604080177
         },
         {
          "quantiles": 5.03781074752247,
          "sample_means": 5.030647942270396
         },
         {
          "quantiles": 5.038218702464785,
          "sample_means": 5.030940574654933
         },
         {
          "quantiles": 5.038626911991624,
          "sample_means": 5.033054319124438
         },
         {
          "quantiles": 5.039035379145238,
          "sample_means": 5.033383711884805
         },
         {
          "quantiles": 5.039444106980517,
          "sample_means": 5.0339213121707305
         },
         {
          "quantiles": 5.039853098565177,
          "sample_means": 5.035952317671372
         },
         {
          "quantiles": 5.040262356979935,
          "sample_means": 5.03604544108806
         },
         {
          "quantiles": 5.040671885318697,
          "sample_means": 5.036403708317318
         },
         {
          "quantiles": 5.04108168668874,
          "sample_means": 5.036686954061368
         },
         {
          "quantiles": 5.041491764210898,
          "sample_means": 5.0367794973052025
         },
         {
          "quantiles": 5.041902121019752,
          "sample_means": 5.037045211192591
         },
         {
          "quantiles": 5.04231276026382,
          "sample_means": 5.037145854329392
         },
         {
          "quantiles": 5.042723685105747,
          "sample_means": 5.0378353749594025
         },
         {
          "quantiles": 5.043134898722501,
          "sample_means": 5.0385652009228
         },
         {
          "quantiles": 5.043546404305569,
          "sample_means": 5.038708729849535
         },
         {
          "quantiles": 5.043958205061153,
          "sample_means": 5.039583656783243
         },
         {
          "quantiles": 5.044370304210371,
          "sample_means": 5.040438888606207
         },
         {
          "quantiles": 5.044782704989462,
          "sample_means": 5.040912298088535
         },
         {
          "quantiles": 5.045195410649985,
          "sample_means": 5.041072716776809
         },
         {
          "quantiles": 5.045608424459028,
          "sample_means": 5.0416052541388545
         },
         {
          "quantiles": 5.046021749699417,
          "sample_means": 5.0420823198155125
         },
         {
          "quantiles": 5.0464353896699246,
          "sample_means": 5.042706032226252
         },
         {
          "quantiles": 5.0468493476854865,
          "sample_means": 5.042825365939851
         },
         {
          "quantiles": 5.047263627077411,
          "sample_means": 5.043338784307909
         },
         {
          "quantiles": 5.047678231193605,
          "sample_means": 5.043562795381934
         },
         {
          "quantiles": 5.048093163398783,
          "sample_means": 5.043751343466085
         },
         {
          "quantiles": 5.048508427074699,
          "sample_means": 5.044569585042247
         },
         {
          "quantiles": 5.048924025620367,
          "sample_means": 5.0448213008555065
         },
         {
          "quantiles": 5.0493399624522874,
          "sample_means": 5.045129093528731
         },
         {
          "quantiles": 5.049756241004681,
          "sample_means": 5.046099395885613
         },
         {
          "quantiles": 5.050172864729714,
          "sample_means": 5.047042699557687
         },
         {
          "quantiles": 5.050589837097743,
          "sample_means": 5.047070292796161
         },
         {
          "quantiles": 5.051007161597543,
          "sample_means": 5.047668693555137
         },
         {
          "quantiles": 5.051424841736553,
          "sample_means": 5.048859810950487
         },
         {
          "quantiles": 5.051842881041121,
          "sample_means": 5.049134927582234
         },
         {
          "quantiles": 5.052261283056741,
          "sample_means": 5.049766307967108
         },
         {
          "quantiles": 5.0526800513483145,
          "sample_means": 5.049908867870534
         },
         {
          "quantiles": 5.053099189500391,
          "sample_means": 5.049920808623367
         },
         {
          "quantiles": 5.053518701117428,
          "sample_means": 5.050603838720926
         },
         {
          "quantiles": 5.053938589824048,
          "sample_means": 5.051840324913398
         },
         {
          "quantiles": 5.0543588592653,
          "sample_means": 5.0526023522131736
         },
         {
          "quantiles": 5.054779513106921,
          "sample_means": 5.052657364983285
         },
         {
          "quantiles": 5.055200555035605,
          "sample_means": 5.0528369978779315
         },
         {
          "quantiles": 5.05562198875927,
          "sample_means": 5.052929963199382
         },
         {
          "quantiles": 5.056043818007338,
          "sample_means": 5.053294411818268
         },
         {
          "quantiles": 5.056466046531004,
          "sample_means": 5.054163125629498
         },
         {
          "quantiles": 5.056888678103521,
          "sample_means": 5.054627883139476
         },
         {
          "quantiles": 5.0573117165204815,
          "sample_means": 5.055379698883857
         },
         {
          "quantiles": 5.057735165600107,
          "sample_means": 5.055671165635445
         },
         {
          "quantiles": 5.058159029183536,
          "sample_means": 5.0561849387280065
         },
         {
          "quantiles": 5.05858331113512,
          "sample_means": 5.056860819997681
         },
         {
          "quantiles": 5.0590080153427195,
          "sample_means": 5.057073417927426
         },
         {
          "quantiles": 5.059433145718008,
          "sample_means": 5.057546657121404
         },
         {
          "quantiles": 5.059858706196777,
          "sample_means": 5.057926670796454
         },
         {
          "quantiles": 5.060284700739243,
          "sample_means": 5.0581859896016494
         },
         {
          "quantiles": 5.060711133330366,
          "sample_means": 5.058319547463768
         },
         {
          "quantiles": 5.061138007980161,
          "sample_means": 5.0592673209975985
         },
         {
          "quantiles": 5.061565328724023,
          "sample_means": 5.0595473835091145
         },
         {
          "quantiles": 5.061993099623053,
          "sample_means": 5.06106188545661
         },
         {
          "quantiles": 5.0624213247643866,
          "sample_means": 5.061787465930876
         },
         {
          "quantiles": 5.062850008261527,
          "sample_means": 5.062039582299347
         },
         {
          "quantiles": 5.063279154254685,
          "sample_means": 5.062947726003258
         },
         {
          "quantiles": 5.063708766911125,
          "sample_means": 5.063227818648893
         },
         {
          "quantiles": 5.064138850425506,
          "sample_means": 5.063286380282428
         },
         {
          "quantiles": 5.0645694090202396,
          "sample_means": 5.063491088754177
         },
         {
          "quantiles": 5.065000446945844,
          "sample_means": 5.064443656307278
         },
         {
          "quantiles": 5.065431968481308,
          "sample_means": 5.064769723592161
         },
         {
          "quantiles": 5.0658639779344545,
          "sample_means": 5.064820212851363
         },
         {
          "quantiles": 5.066296479642315,
          "sample_means": 5.064971620701981
         },
         {
          "quantiles": 5.066729477971503,
          "sample_means": 5.06516045557295
         },
         {
          "quantiles": 5.067162977318601,
          "sample_means": 5.06522929770183
         },
         {
          "quantiles": 5.067596982110542,
          "sample_means": 5.065412439773627
         },
         {
          "quantiles": 5.0680314968050055,
          "sample_means": 5.065560202136477
         },
         {
          "quantiles": 5.0684665258908135,
          "sample_means": 5.066233438503376
         },
         {
          "quantiles": 5.068902073888333,
          "sample_means": 5.066389817876907
         },
         {
          "quantiles": 5.069338145349889,
          "sample_means": 5.067061813765778
         },
         {
          "quantiles": 5.069774744860174,
          "sample_means": 5.0673078811320815
         },
         {
          "quantiles": 5.070211877036672,
          "sample_means": 5.067565190011684
         },
         {
          "quantiles": 5.070649546530085,
          "sample_means": 5.06763468232251
         },
         {
          "quantiles": 5.0710877580247615,
          "sample_means": 5.067847784872217
         },
         {
          "quantiles": 5.0715265162391425,
          "sample_means": 5.068266047247327
         },
         {
          "quantiles": 5.071965825926199,
          "sample_means": 5.068524296104134
         },
         {
          "quantiles": 5.072405691873886,
          "sample_means": 5.069138825653128
         },
         {
          "quantiles": 5.072846118905605,
          "sample_means": 5.070484105219648
         },
         {
          "quantiles": 5.073287111880659,
          "sample_means": 5.070625752595661
         },
         {
          "quantiles": 5.073728675694734,
          "sample_means": 5.070725990617551
         },
         {
          "quantiles": 5.074170815280369,
          "sample_means": 5.070807442501209
         },
         {
          "quantiles": 5.074613535607447,
          "sample_means": 5.071336877515579
         },
         {
          "quantiles": 5.075056841683684,
          "sample_means": 5.071365449712863
         },
         {
          "quantiles": 5.075500738555128,
          "sample_means": 5.071898502355181
         },
         {
          "quantiles": 5.075945231306671,
          "sample_means": 5.073014797519682
         },
         {
          "quantiles": 5.076390325062557,
          "sample_means": 5.0737586289923655
         },
         {
          "quantiles": 5.0768360249869104,
          "sample_means": 5.074218338525592
         },
         {
          "quantiles": 5.077282336284259,
          "sample_means": 5.07474047852701
         },
         {
          "quantiles": 5.077729264200083,
          "sample_means": 5.07482893425525
         },
         {
          "quantiles": 5.078176814021347,
          "sample_means": 5.074888570952533
         },
         {
          "quantiles": 5.078624991077068,
          "sample_means": 5.075516938927583
         },
         {
          "quantiles": 5.079073800738871,
          "sample_means": 5.075683885850078
         },
         {
          "quantiles": 5.079523248421563,
          "sample_means": 5.075777028096898
         },
         {
          "quantiles": 5.079973339583712,
          "sample_means": 5.075983418894209
         },
         {
          "quantiles": 5.08042407972824,
          "sample_means": 5.077197995823311
         },
         {
          "quantiles": 5.080875474403016,
          "sample_means": 5.077773135103206
         },
         {
          "quantiles": 5.08132752920147,
          "sample_means": 5.077934674816774
         },
         {
          "quantiles": 5.081780249763208,
          "sample_means": 5.078444488387395
         },
         {
          "quantiles": 5.0822336417746365,
          "sample_means": 5.078820976208877
         },
         {
          "quantiles": 5.082687710969604,
          "sample_means": 5.078884390899131
         },
         {
          "quantiles": 5.083142463130047,
          "sample_means": 5.079510016621652
         },
         {
          "quantiles": 5.083597904086645,
          "sample_means": 5.079861744624408
         },
         {
          "quantiles": 5.084054039719491,
          "sample_means": 5.08043414994325
         },
         {
          "quantiles": 5.08451087595877,
          "sample_means": 5.080749281988472
         },
         {
          "quantiles": 5.084968418785446,
          "sample_means": 5.082390638348711
         },
         {
          "quantiles": 5.085426674231967,
          "sample_means": 5.082804542717357
         },
         {
          "quantiles": 5.085885648382973,
          "sample_means": 5.0829166964170165
         },
         {
          "quantiles": 5.086345347376024,
          "sample_means": 5.0829460392581876
         },
         {
          "quantiles": 5.086805777402327,
          "sample_means": 5.083027744131744
         },
         {
          "quantiles": 5.087266944707498,
          "sample_means": 5.083095776615361
         },
         {
          "quantiles": 5.087728855592304,
          "sample_means": 5.083760404443099
         },
         {
          "quantiles": 5.088191516413452,
          "sample_means": 5.08470162835357
         },
         {
          "quantiles": 5.088654933584363,
          "sample_means": 5.084982952568326
         },
         {
          "quantiles": 5.089119113575975,
          "sample_means": 5.085465494057569
         },
         {
          "quantiles": 5.089584062917552,
          "sample_means": 5.085665476833741
         },
         {
          "quantiles": 5.090049788197517,
          "sample_means": 5.085731593645475
         },
         {
          "quantiles": 5.090516296064279,
          "sample_means": 5.086799779781715
         },
         {
          "quantiles": 5.090983593227094,
          "sample_means": 5.0870753652113105
         },
         {
          "quantiles": 5.091451686456934,
          "sample_means": 5.087294064514288
         },
         {
          "quantiles": 5.091920582587367,
          "sample_means": 5.088223216123094
         },
         {
          "quantiles": 5.092390288515452,
          "sample_means": 5.088275166021987
         },
         {
          "quantiles": 5.0928608112026605,
          "sample_means": 5.088316579058546
         },
         {
          "quantiles": 5.093332157675796,
          "sample_means": 5.08870797093402
         },
         {
          "quantiles": 5.093804335027947,
          "sample_means": 5.088758293554811
         },
         {
          "quantiles": 5.0942773504194445,
          "sample_means": 5.0889120559697085
         },
         {
          "quantiles": 5.094751211078839,
          "sample_means": 5.089877308839628
         },
         {
          "quantiles": 5.095225924303904,
          "sample_means": 5.090536021587863
         },
         {
          "quantiles": 5.095701497462636,
          "sample_means": 5.091294676200939
         },
         {
          "quantiles": 5.0961779379943,
          "sample_means": 5.09177163814588
         },
         {
          "quantiles": 5.096655253410468,
          "sample_means": 5.091811540806008
         },
         {
          "quantiles": 5.0971334512960915,
          "sample_means": 5.091924670969434
         },
         {
          "quantiles": 5.097612539310591,
          "sample_means": 5.092238749141326
         },
         {
          "quantiles": 5.098092525188956,
          "sample_means": 5.092692450300859
         },
         {
          "quantiles": 5.098573416742878,
          "sample_means": 5.093065913700917
         },
         {
          "quantiles": 5.099055221861893,
          "sample_means": 5.0935314896548745
         },
         {
          "quantiles": 5.0995379485145556,
          "sample_means": 5.093850790356529
         },
         {
          "quantiles": 5.100021604749621,
          "sample_means": 5.094575084875291
         },
         {
          "quantiles": 5.100506198697261,
          "sample_means": 5.094903905713673
         },
         {
          "quantiles": 5.100991738570294,
          "sample_means": 5.095556897209742
         },
         {
          "quantiles": 5.101478232665445,
          "sample_means": 5.095789687570103
         },
         {
          "quantiles": 5.101965689364625,
          "sample_means": 5.097013459316347
         },
         {
          "quantiles": 5.102454117136228,
          "sample_means": 5.0974078095518935
         },
         {
          "quantiles": 5.1029435245364665,
          "sample_means": 5.097869387795332
         },
         {
          "quantiles": 5.103433920210721,
          "sample_means": 5.098405383995632
         },
         {
          "quantiles": 5.103925312894918,
          "sample_means": 5.098437355568658
         },
         {
          "quantiles": 5.104417711416936,
          "sample_means": 5.098452548540035
         },
         {
          "quantiles": 5.104911124698033,
          "sample_means": 5.098557871402237
         },
         {
          "quantiles": 5.10540556175431,
          "sample_means": 5.0987143848952385
         },
         {
          "quantiles": 5.1059010316981945,
          "sample_means": 5.0990520432378705
         },
         {
          "quantiles": 5.106397543739955,
          "sample_means": 5.099172423423931
         },
         {
          "quantiles": 5.106895107189247,
          "sample_means": 5.099632897786182
         },
         {
          "quantiles": 5.107393731456689,
          "sample_means": 5.100652587014103
         },
         {
          "quantiles": 5.107893426055462,
          "sample_means": 5.100912535688313
         },
         {
          "quantiles": 5.108394200602953,
          "sample_means": 5.101108901393967
         },
         {
          "quantiles": 5.108896064822418,
          "sample_means": 5.102466505695353
         },
         {
          "quantiles": 5.10939902854469,
          "sample_means": 5.102646901268157
         },
         {
          "quantiles": 5.109903101709906,
          "sample_means": 5.102915548184398
         },
         {
          "quantiles": 5.110408294369288,
          "sample_means": 5.103050817647159
         },
         {
          "quantiles": 5.110914616686939,
          "sample_means": 5.103635035649092
         },
         {
          "quantiles": 5.111422078941689,
          "sample_means": 5.1040521428269985
         },
         {
          "quantiles": 5.111930691528977,
          "sample_means": 5.104678226753849
         },
         {
          "quantiles": 5.112440464962762,
          "sample_means": 5.10525127196546
         },
         {
          "quantiles": 5.1129514098774855,
          "sample_means": 5.105491624541624
         },
         {
          "quantiles": 5.113463537030062,
          "sample_means": 5.106457364172804
         },
         {
          "quantiles": 5.113976857301922,
          "sample_means": 5.1072701895376635
         },
         {
          "quantiles": 5.114491381701087,
          "sample_means": 5.107860948412417
         },
         {
          "quantiles": 5.115007121364295,
          "sample_means": 5.108107087670118
         },
         {
          "quantiles": 5.115524087559166,
          "sample_means": 5.10824239722144
         },
         {
          "quantiles": 5.116042291686413,
          "sample_means": 5.1083448414481225
         },
         {
          "quantiles": 5.116561745282102,
          "sample_means": 5.1085109107394375
         },
         {
          "quantiles": 5.117082460019958,
          "sample_means": 5.108918232994056
         },
         {
          "quantiles": 5.11760444771372,
          "sample_means": 5.110432263584367
         },
         {
          "quantiles": 5.118127720319547,
          "sample_means": 5.110471366613336
         },
         {
          "quantiles": 5.118652289938471,
          "sample_means": 5.1111840025193365
         },
         {
          "quantiles": 5.1191781688189115,
          "sample_means": 5.111311975736683
         },
         {
          "quantiles": 5.1197053693592345,
          "sample_means": 5.111741653566204
         },
         {
          "quantiles": 5.120233904110377,
          "sample_means": 5.111775792696742
         },
         {
          "quantiles": 5.120763785778516,
          "sample_means": 5.111841079103281
         },
         {
          "quantiles": 5.121295027227812,
          "sample_means": 5.112452798478961
         },
         {
          "quantiles": 5.121827641483195,
          "sample_means": 5.113131600274376
         },
         {
          "quantiles": 5.12236164173323,
          "sample_means": 5.113927335244476
         },
         {
          "quantiles": 5.122897041333028,
          "sample_means": 5.114122227886541
         },
         {
          "quantiles": 5.123433853807238,
          "sample_means": 5.11431010790377
         },
         {
          "quantiles": 5.123972092853097,
          "sample_means": 5.114319025624474
         },
         {
          "quantiles": 5.124511772343549,
          "sample_means": 5.116083898867993
         },
         {
          "quantiles": 5.125052906330441,
          "sample_means": 5.117050518394357
         },
         {
          "quantiles": 5.125595509047778,
          "sample_means": 5.1175514455433095
         },
         {
          "quantiles": 5.126139594915071,
          "sample_means": 5.11758789674555
         },
         {
          "quantiles": 5.126685178540747,
          "sample_means": 5.1177010474743865
         },
         {
          "quantiles": 5.127232274725641,
          "sample_means": 5.117928014229826
         },
         {
          "quantiles": 5.127780898466573,
          "sample_means": 5.118739592932183
         },
         {
          "quantiles": 5.128331064960007,
          "sample_means": 5.118846128012352
         },
         {
          "quantiles": 5.128882789605792,
          "sample_means": 5.118851841655089
         },
         {
          "quantiles": 5.1294360880109915,
          "sample_means": 5.118869089647953
         },
         {
          "quantiles": 5.12999097599381,
          "sample_means": 5.119181959912457
         },
         {
          "quantiles": 5.130547469587601,
          "sample_means": 5.1193333831363965
         },
         {
          "quantiles": 5.131105585044985,
          "sample_means": 5.120105138669204
         },
         {
          "quantiles": 5.131665338842052,
          "sample_means": 5.120653095812757
         },
         {
          "quantiles": 5.132226747682679,
          "sample_means": 5.120718053818549
         },
         {
          "quantiles": 5.132789828502935,
          "sample_means": 5.1210473340656995
         },
         {
          "quantiles": 5.133354598475613,
          "sample_means": 5.121321300735403
         },
         {
          "quantiles": 5.1339210750148565,
          "sample_means": 5.121388136354684
         },
         {
          "quantiles": 5.134489275780909,
          "sample_means": 5.1215558674079675
         },
         {
          "quantiles": 5.135059218684977,
          "sample_means": 5.1230830909223
         },
         {
          "quantiles": 5.135630921894216,
          "sample_means": 5.123340298088882
         },
         {
          "quantiles": 5.136204403836838,
          "sample_means": 5.124509768540691
         },
         {
          "quantiles": 5.136779683207352,
          "sample_means": 5.125513557448889
         },
         {
          "quantiles": 5.137356778971928,
          "sample_means": 5.126124889189529
         },
         {
          "quantiles": 5.137935710373911,
          "sample_means": 5.12719150181994
         },
         {
          "quantiles": 5.138516496939462,
          "sample_means": 5.128870611306767
         },
         {
          "quantiles": 5.139099158483347,
          "sample_means": 5.130393676441183
         },
         {
          "quantiles": 5.139683715114884,
          "sample_means": 5.132352859392026
         },
         {
          "quantiles": 5.140270187244032,
          "sample_means": 5.133246972591672
         },
         {
          "quantiles": 5.140858595587645,
          "sample_means": 5.134436621438797
         },
         {
          "quantiles": 5.141448961175889,
          "sample_means": 5.135005193066507
         },
         {
          "quantiles": 5.142041305358828,
          "sample_means": 5.135084519000501
         },
         {
          "quantiles": 5.142635649813184,
          "sample_means": 5.135780086524606
         },
         {
          "quantiles": 5.143232016549276,
          "sample_means": 5.13880003933771
         },
         {
          "quantiles": 5.143830427918147,
          "sample_means": 5.138831027564969
         },
         {
          "quantiles": 5.1444309066188785,
          "sample_means": 5.139957493101658
         },
         {
          "quantiles": 5.145033475706113,
          "sample_means": 5.1400995734851564
         },
         {
          "quantiles": 5.145638158597769,
          "sample_means": 5.140469785879042
         },
         {
          "quantiles": 5.146244979082969,
          "sample_means": 5.140688358142063
         },
         {
          "quantiles": 5.146853961330199,
          "sample_means": 5.141038277080137
         },
         {
          "quantiles": 5.147465129895678,
          "sample_means": 5.141651060392122
         },
         {
          "quantiles": 5.148078509731968,
          "sample_means": 5.142346078177837
         },
         {
          "quantiles": 5.148694126196825,
          "sample_means": 5.142404269629486
         },
         {
          "quantiles": 5.1493120050623,
          "sample_means": 5.143158692404713
         },
         {
          "quantiles": 5.149932172524091,
          "sample_means": 5.1439237810298435
         },
         {
          "quantiles": 5.150554655211172,
          "sample_means": 5.144845435726876
         },
         {
          "quantiles": 5.151179480195694,
          "sample_means": 5.14797625900782
         },
         {
          "quantiles": 5.151806675003166,
          "sample_means": 5.148261652965458
         },
         {
          "quantiles": 5.152436267622939,
          "sample_means": 5.149727202689395
         },
         {
          "quantiles": 5.1530682865189945,
          "sample_means": 5.150435078791337
         },
         {
          "quantiles": 5.153702760641048,
          "sample_means": 5.153344768476219
         },
         {
          "quantiles": 5.154339719435978,
          "sample_means": 5.155550534651156
         },
         {
          "quantiles": 5.154979192859604,
          "sample_means": 5.155707257102813
         },
         {
          "quantiles": 5.155621211388806,
          "sample_means": 5.155914764436344
         },
         {
          "quantiles": 5.156265806034017,
          "sample_means": 5.156814314817619
         },
         {
          "quantiles": 5.156913008352086,
          "sample_means": 5.157450007410806
         },
         {
          "quantiles": 5.157562850459548,
          "sample_means": 5.158571193637623
         },
         {
          "quantiles": 5.158215365046276,
          "sample_means": 5.159293593388835
         },
         {
          "quantiles": 5.158870585389583,
          "sample_means": 5.160410014185829
         },
         {
          "quantiles": 5.15952854536874,
          "sample_means": 5.161028281344428
         },
         {
          "quantiles": 5.16018927947996,
          "sample_means": 5.161905180852574
         },
         {
          "quantiles": 5.1608528228518455,
          "sample_means": 5.162949275082996
         },
         {
          "quantiles": 5.1615192112613375,
          "sample_means": 5.163860576069359
         },
         {
          "quantiles": 5.162188481150155,
          "sample_means": 5.164905066671373
         },
         {
          "quantiles": 5.1628606696417805,
          "sample_means": 5.16632576490818
         },
         {
          "quantiles": 5.163535814558982,
          "sample_means": 5.166851025210521
         },
         {
          "quantiles": 5.164213954441908,
          "sample_means": 5.167092344372801
         },
         {
          "quantiles": 5.164895128566779,
          "sample_means": 5.16793460887278
         },
         {
          "quantiles": 5.16557937696519,
          "sample_means": 5.16805191861383
         },
         {
          "quantiles": 5.166266740444054,
          "sample_means": 5.168055889745618
         },
         {
          "quantiles": 5.166957260606217,
          "sample_means": 5.168357398951407
         },
         {
          "quantiles": 5.16765097987176,
          "sample_means": 5.1694836106325965
         },
         {
          "quantiles": 5.168347941500029,
          "sample_means": 5.169488163771563
         },
         {
          "quantiles": 5.169048189612411,
          "sample_means": 5.170512108868412
         },
         {
          "quantiles": 5.1697517692159,
          "sample_means": 5.170565534939379
         },
         {
          "quantiles": 5.1704587262274675,
          "sample_means": 5.170671754250088
         },
         {
          "quantiles": 5.171169107499296,
          "sample_means": 5.171754479395868
         },
         {
          "quantiles": 5.171882960844885,
          "sample_means": 5.173735908934559
         },
         {
          "quantiles": 5.172600335066093,
          "sample_means": 5.175391910093531
         },
         {
          "quantiles": 5.173321279981135,
          "sample_means": 5.1756340620870125
         },
         {
          "quantiles": 5.174045846453581,
          "sample_means": 5.175713732513122
         },
         {
          "quantiles": 5.174774086422416,
          "sample_means": 5.176666105950401
         },
         {
          "quantiles": 5.175506052933184,
          "sample_means": 5.177388169713739
         },
         {
          "quantiles": 5.176241800170278,
          "sample_means": 5.177681730070794
         },
         {
          "quantiles": 5.176981383490425,
          "sample_means": 5.179846146427506
         },
         {
          "quantiles": 5.177724859457416,
          "sample_means": 5.180026778764068
         },
         {
          "quantiles": 5.178472285878148,
          "sample_means": 5.180124277147712
         },
         {
          "quantiles": 5.179223721840018,
          "sample_means": 5.181344539547127
         },
         {
          "quantiles": 5.179979227749753,
          "sample_means": 5.181459974932415
         },
         {
          "quantiles": 5.180738865373726,
          "sample_means": 5.18210767456464
         },
         {
          "quantiles": 5.181502697879843,
          "sample_means": 5.182230212084545
         },
         {
          "quantiles": 5.182270789881052,
          "sample_means": 5.183054743935869
         },
         {
          "quantiles": 5.1830432074805834,
          "sample_means": 5.18362664705944
         },
         {
          "quantiles": 5.183820018318967,
          "sample_means": 5.184091796144929
         },
         {
          "quantiles": 5.184601291622945,
          "sample_means": 5.18495306337596
         },
         {
          "quantiles": 5.185387098256355,
          "sample_means": 5.18516883435527
         },
         {
          "quantiles": 5.186177510773078,
          "sample_means": 5.186412901774284
         },
         {
          "quantiles": 5.186972603472168,
          "sample_means": 5.186899761203897
         },
         {
          "quantiles": 5.187772452455257,
          "sample_means": 5.188303980765153
         },
         {
          "quantiles": 5.188577135686358,
          "sample_means": 5.1889250986211195
         },
         {
          "quantiles": 5.189386733054184,
          "sample_means": 5.189045398993003
         },
         {
          "quantiles": 5.190201326437121,
          "sample_means": 5.189125159452606
         },
         {
          "quantiles": 5.191020999770968,
          "sample_means": 5.189517234012106
         },
         {
          "quantiles": 5.191845839119629,
          "sample_means": 5.189659892772978
         },
         {
          "quantiles": 5.1926759327488625,
          "sample_means": 5.190753383299485
         },
         {
          "quantiles": 5.193511371203296,
          "sample_means": 5.1911365936917475
         },
         {
          "quantiles": 5.194352247386848,
          "sample_means": 5.191260789393411
         },
         {
          "quantiles": 5.195198656646763,
          "sample_means": 5.191633028840141
         },
         {
          "quantiles": 5.196050696861438,
          "sample_means": 5.1925373236005
         },
         {
          "quantiles": 5.196908468532269,
          "sample_means": 5.194287083642355
         },
         {
          "quantiles": 5.197772074879719,
          "sample_means": 5.195702841056429
         },
         {
          "quantiles": 5.1986416219438665,
          "sample_means": 5.196685934012071
         },
         {
          "quantiles": 5.1995172186896745,
          "sample_means": 5.196988111349036
         },
         {
          "quantiles": 5.200398977117243,
          "sample_means": 5.198552810868974
         },
         {
          "quantiles": 5.201287012377359,
          "sample_means": 5.198631488469538
         },
         {
          "quantiles": 5.202181442892623,
          "sample_means": 5.198985101523276
         },
         {
          "quantiles": 5.203082390484502,
          "sample_means": 5.1993752385064465
         },
         {
          "quantiles": 5.203989980506645,
          "sample_means": 5.200011353673724
         },
         {
          "quantiles": 5.204904341984856,
          "sample_means": 5.2000933931983635
         },
         {
          "quantiles": 5.205825607764115,
          "sample_means": 5.201913412581732
         },
         {
          "quantiles": 5.206753914663074,
          "sample_means": 5.204660275616584
         },
         {
          "quantiles": 5.207689403636513,
          "sample_means": 5.204980321758435
         },
         {
          "quantiles": 5.208632219946236,
          "sample_means": 5.205051446397365
         },
         {
          "quantiles": 5.20958251334095,
          "sample_means": 5.206701140738325
         },
         {
          "quantiles": 5.210540438245696,
          "sample_means": 5.207459943441144
         },
         {
          "quantiles": 5.211506153961454,
          "sample_means": 5.208236075434452
         },
         {
          "quantiles": 5.212479824875603,
          "sample_means": 5.208611826923714
         },
         {
          "quantiles": 5.213461620683909,
          "sample_means": 5.209408106760817
         },
         {
          "quantiles": 5.214451716624882,
          "sample_means": 5.210668728999503
         },
         {
          "quantiles": 5.215450293727263,
          "sample_means": 5.210813514533013
         },
         {
          "quantiles": 5.216457539071608,
          "sample_means": 5.2132728694485335
         },
         {
          "quantiles": 5.217473646066901,
          "sample_means": 5.213590774504201
         },
         {
          "quantiles": 5.218498814743268,
          "sample_means": 5.214232367888041
         },
         {
          "quantiles": 5.219533252061936,
          "sample_means": 5.214428809951414
         },
         {
          "quantiles": 5.220577172243671,
          "sample_means": 5.214913715686721
         },
         {
          "quantiles": 5.22163079711704,
          "sample_means": 5.214927144347126
         },
         {
          "quantiles": 5.222694356487959,
          "sample_means": 5.216025968410109
         },
         {
          "quantiles": 5.223768088532113,
          "sample_means": 5.216040498825636
         },
         {
          "quantiles": 5.22485224021198,
          "sample_means": 5.21668337384952
         },
         {
          "quantiles": 5.225947067720337,
          "sample_means": 5.217869177821141
         },
         {
          "quantiles": 5.227052836952294,
          "sample_means": 5.219307387233168
         },
         {
          "quantiles": 5.228169824008127,
          "sample_means": 5.2206129325493125
         },
         {
          "quantiles": 5.229298315729325,
          "sample_means": 5.221160110340355
         },
         {
          "quantiles": 5.230438610270555,
          "sample_means": 5.221291186795788
         },
         {
          "quantiles": 5.231591017710486,
          "sample_means": 5.221543547995416
         },
         {
          "quantiles": 5.232755860704684,
          "sample_means": 5.221986346085675
         },
         {
          "quantiles": 5.233933475184131,
          "sample_means": 5.2221119025605445
         },
         {
          "quantiles": 5.23512421110327,
          "sample_means": 5.222470352749839
         },
         {
          "quantiles": 5.236328433241854,
          "sample_means": 5.223722941349238
         },
         {
          "quantiles": 5.237546522065342,
          "sample_means": 5.224435019799135
         },
         {
          "quantiles": 5.238778874649074,
          "sample_means": 5.226758847753142
         },
         {
          "quantiles": 5.240025905672,
          "sample_means": 5.227323071203098
         },
         {
          "quantiles": 5.241288048486383,
          "sample_means": 5.227834356608082
         },
         {
          "quantiles": 5.2425657562705705,
          "sample_means": 5.229004055007516
         },
         {
          "quantiles": 5.243859503272745,
          "sample_means": 5.229536457227906
         },
         {
          "quantiles": 5.245169786154441,
          "sample_means": 5.230281816678071
         },
         {
          "quantiles": 5.246497125443635,
          "sample_means": 5.231997748269125
         },
         {
          "quantiles": 5.24784206710836,
          "sample_means": 5.233486886133403
         },
         {
          "quantiles": 5.249205184263095,
          "sample_means": 5.2338228730139456
         },
         {
          "quantiles": 5.25058707902166,
          "sample_means": 5.234263871317679
         },
         {
          "quantiles": 5.251988384512057,
          "sample_means": 5.235621556608421
         },
         {
          "quantiles": 5.2534097670706155,
          "sample_means": 5.237352289461158
         },
         {
          "quantiles": 5.254851928635009,
          "sample_means": 5.237988877784457
         },
         {
          "quantiles": 5.256315609358302,
          "sample_means": 5.23914246539743
         },
         {
          "quantiles": 5.257801590469068,
          "sample_means": 5.240163409288308
         },
         {
          "quantiles": 5.25931069740605,
          "sample_means": 5.241039605009436
         },
         {
          "quantiles": 5.260843803259756,
          "sample_means": 5.241412581294645
         },
         {
          "quantiles": 5.262401832557913,
          "sample_means": 5.241475159098888
         },
         {
          "quantiles": 5.263985765437069,
          "sample_means": 5.241586221650652
         },
         {
          "quantiles": 5.265596642248784,
          "sample_means": 5.244158678717112
         },
         {
          "quantiles": 5.26723556865615,
          "sample_means": 5.244662462663164
         },
         {
          "quantiles": 5.268903721284922,
          "sample_means": 5.246667215783344
         },
         {
          "quantiles": 5.270602354003638,
          "sample_means": 5.247003018956641
         },
         {
          "quantiles": 5.2723328049189995,
          "sample_means": 5.247785686709994
         },
         {
          "quantiles": 5.274096504187032,
          "sample_means": 5.2491010884643385
         },
         {
          "quantiles": 5.275894982757393,
          "sample_means": 5.25130807101627
         },
         {
          "quantiles": 5.277729882188521,
          "sample_means": 5.251981114576656
         },
         {
          "quantiles": 5.279602965695618,
          "sample_means": 5.253839049056013
         },
         {
          "quantiles": 5.281516130622955,
          "sample_means": 5.25889583324465
         },
         {
          "quantiles": 5.283471422567664,
          "sample_means": 5.261344078695631
         },
         {
          "quantiles": 5.285471051425796,
          "sample_means": 5.2640455454583055
         },
         {
          "quantiles": 5.287517409684772,
          "sample_means": 5.267808742131482
         },
         {
          "quantiles": 5.289613093352253,
          "sample_means": 5.271473469045197
         },
         {
          "quantiles": 5.291760925993015,
          "sample_means": 5.276507388250027
         },
         {
          "quantiles": 5.293963986447173,
          "sample_means": 5.281773721910832
         },
         {
          "quantiles": 5.296225640930869,
          "sample_means": 5.2834445056199435
         },
         {
          "quantiles": 5.298549580381877,
          "sample_means": 5.283659520208326
         },
         {
          "quantiles": 5.300939864118012,
          "sample_means": 5.2869104182722735
         },
         {
          "quantiles": 5.303400971139644,
          "sample_means": 5.291887650706832
         },
         {
          "quantiles": 5.305937860748187,
          "sample_means": 5.293713425390382
         },
         {
          "quantiles": 5.308556044596658,
          "sample_means": 5.297490235784427
         },
         {
          "quantiles": 5.311261672873117,
          "sample_means": 5.299910959930458
         },
         {
          "quantiles": 5.3140616380953185,
          "sample_means": 5.300649232753814
         },
         {
          "quantiles": 5.316963701039832,
          "sample_means": 5.306098200476041
         },
         {
          "quantiles": 5.31997664474966,
          "sample_means": 5.306475658357496
         },
         {
          "quantiles": 5.323110464520539,
          "sample_means": 5.3099808731703595
         },
         {
          "quantiles": 5.326376604496281,
          "sample_means": 5.310549845968941
         },
         {
          "quantiles": 5.329788255371176,
          "sample_means": 5.313009226157321
         },
         {
          "quantiles": 5.3333607332660415,
          "sample_means": 5.315557357084384
         },
         {
          "quantiles": 5.337111968006784,
          "sample_means": 5.328776092420187
         },
         {
          "quantiles": 5.341063141236647,
          "sample_means": 5.330993265117375
         },
         {
          "quantiles": 5.345239533439688,
          "sample_means": 5.3377754503578325
         },
         {
          "quantiles": 5.349671668152778,
          "sample_means": 5.3454715210765045
         },
         {
          "quantiles": 5.35439688864728,
          "sample_means": 5.3455304853169
         },
         {
          "quantiles": 5.359461580426451,
          "sample_means": 5.348923058454283
         },
         {
          "quantiles": 5.364924387256853,
          "sample_means": 5.355251048383479
         },
         {
          "quantiles": 5.37086100951075,
          "sample_means": 5.365320116431894
         },
         {
          "quantiles": 5.377371627506796,
          "sample_means": 5.3716351685656205
         },
         {
          "quantiles": 5.3845928979011495,
          "sample_means": 5.373078105567304
         },
         {
          "quantiles": 5.392718407452918,
          "sample_means": 5.373936745115502
         },
         {
          "quantiles": 5.402035983656106,
          "sample_means": 5.387793297297405
         },
         {
          "quantiles": 5.413002022897983,
          "sample_means": 5.401548311646257
         },
         {
          "quantiles": 5.4264085179564105,
          "sample_means": 5.406181468605484
         },
         {
          "quantiles": 5.443831008848593,
          "sample_means": 5.420946392908793
         },
         {
          "quantiles": 5.469240567127139,
          "sample_means": 5.42449697644184
         },
         {
          "quantiles": 5.520277958659184,
          "sample_means": 5.452625507110023
         }
        ]
       },
       "layer": [
        {
         "data": {
          "name": "data-cdc5278c33a0db2c0d6d38672c042cf8"
         },
         "encoding": {
          "x": {
           "field": "sample_means",
           "scale": {
            "zero": false
           },
           "title": "Sample mean quantile",
           "type": "quantitative"
          },
          "y": {
           "field": "quantiles",
           "scale": {
            "zero": false
           },
           "title": "Normal quantile",
           "type": "quantitative"
          }
         },
         "mark": "point"
        },
        {
         "data": {
          "name": "data-3c115d83baddc1a7e2a44fd99f9b9602"
         },
         "encoding": {
          "x": {
           "field": "x",
           "type": "quantitative"
          },
          "y": {
           "field": "y",
           "type": "quantitative"
          }
         },
         "mark": {
          "color": "red",
          "type": "line"
         }
        }
       ]
      },
      "image/png": "[encoded data removed]",
      "text/plain": [
       "<VegaLite 2 object>\n",
       "\n",
       "If you see this message, it means the renderer has not been properly enabled\n",
       "for the frontend that you are using. For more information, see\n",
       "https://altair-viz.github.io/user_guide/troubleshooting.html\n"
      ]
     },
     "execution_count": 6,
     "metadata": {},
     "output_type": "execute_result"
    }
   ],
   "source": [
    "unit_mesh = [1 - (1 / len(sample_means)) * ix - (0.5 / len(sample_means)) for ix in range(0,len(sample_means))]\n",
    "quantile_vals = [stats.norm.isf(u, loc = 5, scale = clt_scale) for u in unit_mesh]\n",
    "sample_means.sort()\n",
    "quant_df = pd.DataFrame({\n",
    "    \"sample_means\": sample_means,\n",
    "    \"quantiles\": quantile_vals})\n",
    "\n",
    "ab_lims = [min(sample_means)-0.1, max(sample_means)+0.1]\n",
    "abline_df = pd.DataFrame({\"x\": ab_lims, \"y\": ab_lims})\n",
    "\n",
    "quant_points = (alt\n",
    "                   .Chart(quant_df)\n",
    "                   .mark_point()\n",
    "                   .encode(x =  alt.X('sample_means:Q',\n",
    "                                      scale=alt.Scale(zero=False),\n",
    "                                      title = \"Sample mean quantile\"),\n",
    "                           y = alt.Y('quantiles:Q',\n",
    "                                      scale=alt.Scale(zero=False),\n",
    "                                      title = \"Normal quantile\")))\n",
    "\n",
    "ab_line = (alt\n",
    "          .Chart(abline_df)\n",
    "          .mark_line(color = \"red\")\n",
    "          .encode(x = \"x\", y = \"y\"))\n",
    "\n",
    "quant_points + ab_line"
   ]
  },
  {
   "cell_type": "markdown",
   "metadata": {},
   "source": [
    "## Experiment 1\n",
    "\n",
    "Professor Mittens asked 15 of her students to each take turns flipping a coin 30 times and recording how many heads they got. She has some suspicions that some of the students did not actually do this properly. We will help Mittens work out whether the coin that was used was fair, i.e. has an equal chance of showing heads or tails.\n",
    "\n",
    "### Exercise 3 part I\n",
    "\n",
    "Read the data in `experiement1.csv` into a `DataFrame`.\n",
    "\n",
    "### Exercise 3 part II\n",
    "\n",
    "Compute the point estimate and CI using the function you wrote above. Write a sentence explaining whether you think the coin is a _fair_ coin.\n",
    "\n",
    "### Exercise 3 part III\n",
    "\n",
    "Generate a histogram of the number of heads from each student. As an extension, include the binomial distribution supported by your estimate that is most amenable to large value outcomes."
   ]
  },
  {
   "cell_type": "code",
   "execution_count": 7,
   "metadata": {},
   "outputs": [],
   "source": [
    "exp1 = pd.read_csv(\"experiment1.csv\")"
   ]
  },
  {
   "cell_type": "code",
   "execution_count": 8,
   "metadata": {},
   "outputs": [
    {
     "name": "stdout",
     "output_type": "stream",
     "text": [
      "(0.49333333333333335, (0.44713979693549655, 0.5395268697311701))\n"
     ]
    }
   ],
   "source": [
    "head_counts = exp1.drop(columns=\"flip_number\").groupby(\"name\").sum()\n",
    "head_counts[\"name\"] = head_counts.index.copy()\n",
    "\n",
    "total_heads = int(head_counts[\"outcome\"].sum())\n",
    "num_people = int(head_counts[\"name\"].unique().size)\n",
    "num_flips = int(exp1[\"name\"].value_counts().unique())\n",
    "\n",
    "est_and_ci = wald_estimate_and_ci(num_success=total_heads, \n",
    "                                  num_trials=num_people * num_flips)\n",
    "\n",
    "print(est_and_ci)"
   ]
  },
  {
   "cell_type": "code",
   "execution_count": 9,
   "metadata": {},
   "outputs": [
    {
     "data": {
      "application/vnd.vegalite.v2+json": {
       "$schema": "https://vega.github.io/schema/vega-lite/v2.6.0.json",
       "config": {
        "view": {
         "height": 300,
         "width": 400
        }
       },
       "datasets": {
        "data-3e36b5971c6b02f0d186c5079c3e0618": [
         {
          "name": 0,
          "outcome": 9
         },
         {
          "name": 1,
          "outcome": 13
         },
         {
          "name": 2,
          "outcome": 17
         },
         {
          "name": 3,
          "outcome": 17
         },
         {
          "name": 4,
          "outcome": 14
         },
         {
          "name": 5,
          "outcome": 7
         },
         {
          "name": 6,
          "outcome": 13
         },
         {
          "name": 7,
          "outcome": 13
         },
         {
          "name": 8,
          "outcome": 12
         },
         {
          "name": 9,
          "outcome": 14
         },
         {
          "name": 10,
          "outcome": 10
         },
         {
          "name": 11,
          "outcome": 11
         },
         {
          "name": 12,
          "outcome": 12
         },
         {
          "name": 13,
          "outcome": 30
         },
         {
          "name": 14,
          "outcome": 30
         }
        ],
        "data-cfdea387a9d3fe79a5e21938a28ab58a": [
         {
          "prob": 1.1450546362065415e-09,
          "value": 0
         },
         {
          "prob": 4.032583718814352e-08,
          "value": 1
         },
         {
          "prob": 6.86415880832954e-07,
          "value": 2
         },
         {
          "prob": 7.520730520430741e-06,
          "value": 3
         },
         {
          "prob": 5.959361466732567e-05,
          "value": 4
         },
         {
          "prob": 0.0003637801521431553,
          "value": 5
         },
         {
          "prob": 0.0017793594398306492,
          "value": 6
         },
         {
          "prob": 0.007161645447268646,
          "value": 7
         },
         {
          "prob": 0.024170553384531716,
          "value": 8
         },
         {
          "prob": 0.06935897927735199,
          "value": 9
         },
         {
          "prob": 0.17098496195764634,
          "value": 10
         },
         {
          "prob": 0.3649481401467542,
          "value": 11
         },
         {
          "prob": 0.678327521359728,
          "value": 12
         },
         {
          "prob": 1.1025658039492623,
          "value": 13
         },
         {
          "prob": 1.571669888238224,
          "value": 14
         },
         {
          "prob": 1.9680040339678633,
          "value": 15
         },
         {
          "prob": 2.1658740047744147,
          "value": 16
         },
         {
          "prob": 2.093862848605462,
          "value": 17
         },
         {
          "prob": 1.7752315455567964,
          "value": 18
         },
         {
          "prob": 1.316189978856755,
          "value": 19
         },
         {
          "prob": 0.8498009211314287,
          "value": 20
         },
         {
          "prob": 0.47504399317905865,
          "value": 21
         },
         {
          "prob": 0.2281337753804567,
          "value": 22
         },
         {
          "prob": 0.09315103115723739,
          "value": 23
         },
         {
          "prob": 0.031894103059271685,
          "value": 24
         },
         {
          "prob": 0.008985816861916563,
          "value": 25
         },
         {
          "prob": 0.00202857069625205,
          "value": 26
         },
         {
          "prob": 0.00035279490369601377,
          "value": 27
         },
         {
          "prob": 4.437327204872156e-05,
          "value": 28
         },
         {
          "prob": 3.592438816538233e-06,
          "value": 29
         },
         {
          "prob": 1.4057369282106098e-07,
          "value": 30
         }
        ]
       },
       "layer": [
        {
         "data": {
          "name": "data-3e36b5971c6b02f0d186c5079c3e0618"
         },
         "encoding": {
          "x": {
           "bin": {
            "step": 1
           },
           "field": "outcome",
           "title": "Number of heads",
           "type": "quantitative"
          },
          "y": {
           "aggregate": "count",
           "title": "Number of occurences",
           "type": "quantitative"
          }
         },
         "mark": "bar"
        },
        {
         "data": {
          "name": "data-cfdea387a9d3fe79a5e21938a28ab58a"
         },
         "encoding": {
          "x": {
           "field": "value",
           "type": "quantitative"
          },
          "y": {
           "field": "prob",
           "type": "quantitative"
          }
         },
         "mark": {
          "color": "firebrick",
          "type": "line"
         }
        }
       ]
      },
      "image/png": "[encoded data removed]",
      "text/plain": [
       "<VegaLite 2 object>\n",
       "\n",
       "If you see this message, it means the renderer has not been properly enabled\n",
       "for the frontend that you are using. For more information, see\n",
       "https://altair-viz.github.io/user_guide/troubleshooting.html\n"
      ]
     },
     "execution_count": 9,
     "metadata": {},
     "output_type": "execute_result"
    }
   ],
   "source": [
    "fig_1_a = (alt\n",
    "           .Chart(head_counts)\n",
    "           .mark_bar()\n",
    "           .encode(alt.X(\"outcome:Q\",\n",
    "                         bin = alt.BinParams(step = 1),\n",
    "                         title = \"Number of heads\"),\n",
    "                   y = alt.Y(\"count()\",\n",
    "                            title = \"Number of occurences\")))\n",
    "\n",
    "k_vals = range(0,31)\n",
    "k_probs = [num_people * stats.binom.pmf(k = k, n = num_flips, p = 0.540) for k in k_vals]\n",
    "binom_dist_df = pd.DataFrame({\"value\": k_vals,\n",
    "                              \"prob\": k_probs})\n",
    "\n",
    "fig_1_b = (alt\n",
    "           .Chart(binom_dist_df)\n",
    "           .mark_line(color= \"firebrick\")\n",
    "           .encode(x = \"value\", \n",
    "                   y = \"prob\"))\n",
    "\n",
    "\n",
    "fig_1_a + fig_1_b"
   ]
  },
  {
   "cell_type": "markdown",
   "metadata": {},
   "source": [
    "### Exercise 4 part I\n",
    "\n",
    "It looks like there might be a couple of strange points in this dataset as Mittens suspected. Using the upper bound on $p$ calculate the probability of someone getting all heads. Write a couple of sentences explaining whether you think it is reasonable to remove those data points.\n",
    "\n",
    "### Exercise 4 part II\n",
    "\n",
    "Remove the outliers and repeat the process of plotting the data and estimating the parameters and CI. Once you have done this, plot the distribution of the estimated binomial distribution on top of the histogram. Write a couple of sentences explaining what you think about the coin now."
   ]
  },
  {
   "cell_type": "code",
   "execution_count": 10,
   "metadata": {},
   "outputs": [
    {
     "data": {
      "text/plain": [
       "9.371579521404065e-09"
      ]
     },
     "execution_count": 10,
     "metadata": {},
     "output_type": "execute_result"
    }
   ],
   "source": [
    "stats.binom.pmf(k = 30, n = 30, p = 0.54)"
   ]
  },
  {
   "cell_type": "code",
   "execution_count": 11,
   "metadata": {},
   "outputs": [
    {
     "data": {
      "text/plain": [
       "(0.4153846153846154, (0.3664761437453554, 0.4642930870238754))"
      ]
     },
     "execution_count": 11,
     "metadata": {},
     "output_type": "execute_result"
    }
   ],
   "source": [
    "head_counts_clean = head_counts.loc[head_counts[\"outcome\"] < 30]\n",
    "\n",
    "total_heads_clean = int(head_counts_clean[\"outcome\"].sum())\n",
    "num_people_clean = int(head_counts_clean[\"name\"].unique().size)\n",
    "\n",
    "wald_estimate_and_ci(num_success=total_heads_clean, num_trials=num_people_clean * num_flips)"
   ]
  },
  {
   "cell_type": "code",
   "execution_count": 12,
   "metadata": {},
   "outputs": [
    {
     "data": {
      "application/vnd.vegalite.v2+json": {
       "$schema": "https://vega.github.io/schema/vega-lite/v2.6.0.json",
       "config": {
        "view": {
         "height": 300,
         "width": 400
        }
       },
       "datasets": {
        "data-651c4f148c5a2518b55f662c52a2ece8": [
         {
          "name": 0,
          "outcome": 9
         },
         {
          "name": 1,
          "outcome": 13
         },
         {
          "name": 2,
          "outcome": 17
         },
         {
          "name": 3,
          "outcome": 17
         },
         {
          "name": 4,
          "outcome": 14
         },
         {
          "name": 5,
          "outcome": 7
         },
         {
          "name": 6,
          "outcome": 13
         },
         {
          "name": 7,
          "outcome": 13
         },
         {
          "name": 8,
          "outcome": 12
         },
         {
          "name": 9,
          "outcome": 14
         },
         {
          "name": 10,
          "outcome": 10
         },
         {
          "name": 11,
          "outcome": 11
         },
         {
          "name": 12,
          "outcome": 12
         }
        ],
        "data-9fc575678913ae2cd8cec04951321779": [
         {
          "prob": 1.3446812053531815e-06,
          "value": 0
         },
         {
          "prob": 2.861757437033696e-05,
          "value": 1
         },
         {
          "prob": 0.0002943696645700855,
          "value": 2
         },
         {
          "prob": 0.0019490458702589434,
          "value": 3
         },
         {
          "prob": 0.00933293118643215,
          "value": 4
         },
         {
          "prob": 0.03442814615439438,
          "value": 5
         },
         {
          "prob": 0.10176410722274656,
          "value": 6
         },
         {
          "prob": 0.2475141655527599,
          "value": 7
         },
         {
          "prob": 0.5048125449147636,
          "value": 8
         },
         {
          "prob": 0.8753919344865728,
          "value": 9
         },
         {
          "prob": 1.3041095229146151,
          "value": 10
         },
         {
          "prob": 1.682068226913952,
          "value": 11
         },
         {
          "prob": 1.889331619546509,
          "value": 12
         },
         {
          "prob": 1.8557931884303078,
          "value": 13
         },
         {
          "prob": 1.5986106159188909,
          "value": 14
         },
         {
          "prob": 1.2096609105072862,
          "value": 15
         },
         {
          "prob": 0.804502047853403,
          "value": 16
         },
         {
          "prob": 0.47000069361772845,
          "value": 17
         },
         {
          "prob": 0.24080282450784724,
          "value": 18
         },
         {
          "prob": 0.10789006442186948,
          "value": 19
         },
         {
          "prob": 0.0420955678705843,
          "value": 20
         },
         {
          "prob": 0.014220318002680022,
          "value": 21
         },
         {
          "prob": 0.004126875504274278,
          "value": 22
         },
         {
          "prob": 0.0010183000129461565,
          "value": 23
         },
         {
          "prob": 0.0002106952662114393,
          "value": 24
         },
         {
          "prob": 3.587221968317836e-05,
          "value": 25
         },
         {
          "prob": 4.893810377553899e-06,
          "value": 26
         },
         {
          "prob": 5.143225847888285e-07,
          "value": 27
         },
         {
          "prob": 3.909228437497448e-08,
          "value": 28
         },
         {
          "prob": 1.912560921381039e-09,
          "value": 29
         },
         {
          "prob": 4.522579956542049e-11,
          "value": 30
         }
        ]
       },
       "layer": [
        {
         "data": {
          "name": "data-651c4f148c5a2518b55f662c52a2ece8"
         },
         "encoding": {
          "x": {
           "bin": {
            "step": 1
           },
           "field": "outcome",
           "title": "Number of heads",
           "type": "quantitative"
          },
          "y": {
           "aggregate": "count",
           "title": "Number of occurences",
           "type": "quantitative"
          }
         },
         "mark": "bar"
        },
        {
         "data": {
          "name": "data-9fc575678913ae2cd8cec04951321779"
         },
         "encoding": {
          "x": {
           "field": "value",
           "type": "quantitative"
          },
          "y": {
           "field": "prob",
           "type": "quantitative"
          }
         },
         "mark": {
          "color": "firebrick",
          "type": "line"
         }
        }
       ]
      },
      "image/png": "[encoded data removed]",
      "text/plain": [
       "<VegaLite 2 object>\n",
       "\n",
       "If you see this message, it means the renderer has not been properly enabled\n",
       "for the frontend that you are using. For more information, see\n",
       "https://altair-viz.github.io/user_guide/troubleshooting.html\n"
      ]
     },
     "execution_count": 12,
     "metadata": {},
     "output_type": "execute_result"
    }
   ],
   "source": [
    "k_vals = range(0,31)\n",
    "k_probs = [num_people_clean * stats.binom.pmf(k = k, n = num_flips, p = 0.415) for k in k_vals]\n",
    "binom_dist_df = pd.DataFrame({\"value\": k_vals,\n",
    "                              \"prob\": k_probs})\n",
    "\n",
    "fig_2_a = (alt\n",
    "           .Chart(head_counts_clean)\n",
    "           .mark_bar()\n",
    "           .encode(alt.X(\"outcome:Q\",\n",
    "                         bin = alt.BinParams(step = 1),\n",
    "                         title = \"Number of heads\"),\n",
    "                   y = alt.Y(\"count()\",\n",
    "                            title = \"Number of occurences\")))\n",
    "\n",
    "fig_2_b = (alt\n",
    "           .Chart(binom_dist_df)\n",
    "           .mark_line(color= \"firebrick\")\n",
    "           .encode(x = \"value\", y = \"prob\"))\n",
    "\n",
    "fig_2_a + fig_2_b"
   ]
  },
  {
   "cell_type": "markdown",
   "metadata": {},
   "source": [
    "## Experiment 2\n",
    "\n",
    "After the success of her first experiment, Mittens was awarded funds to obtain an additional 49 coins and repeat the experiment to gather more data about the fascinating topic of coin bias. Now she gives each of 50 students a coin each and asks them to flip the coin 30 times and record the results. We will help Mittens work out whether the coins are fair.\n",
    "\n",
    "### Excercise 5 part I\n",
    "\n",
    "Do we need to change anything about how we analyse this data? If so, why, if not, why not? **Hint:** there are good arguments that can be given for each answer. Once you have answered one way, try to answer the other way.\n",
    "\n",
    "### Exercise 5 part II\n",
    "\n",
    "Using the data in `experiment2.csv` explore the data set using the methodology devised above and write a couple of sentences to explain what you found.\n",
    "\n",
    "### Exercise 5 part III (Extension)\n",
    "\n",
    "Consider how you might analyse this data. Over the following weeks you will learn a couple of approaches."
   ]
  },
  {
   "cell_type": "code",
   "execution_count": 13,
   "metadata": {},
   "outputs": [
    {
     "name": "stdout",
     "output_type": "stream",
     "text": [
      "(0.4013333333333333, (0.37652739859779666, 0.42613926806887))\n"
     ]
    }
   ],
   "source": [
    "exp2 = pd.read_csv(\"experiment2.csv\")\n",
    "\n",
    "head_counts = exp2.drop(columns=\"flip_number\").groupby(\"name\").sum()\n",
    "head_counts[\"name\"] = head_counts.index.copy()\n",
    "\n",
    "total_heads = int(head_counts[\"outcome\"].sum())\n",
    "num_people = int(head_counts[\"name\"].unique().size)\n",
    "num_flips = int(exp2[\"name\"].value_counts().unique())\n",
    "\n",
    "wald_estimate = wald_estimate_and_ci(num_success=total_heads, \n",
    "                                     num_trials=num_people * num_flips)\n",
    "\n",
    "print(wald_estimate)"
   ]
  },
  {
   "cell_type": "code",
   "execution_count": 14,
   "metadata": {},
   "outputs": [
    {
     "name": "stdout",
     "output_type": "stream",
     "text": [
      "18.69224489795919 7.2079466666666665\n"
     ]
    },
    {
     "data": {
      "application/vnd.vegalite.v2+json": {
       "$schema": "https://vega.github.io/schema/vega-lite/v2.6.0.json",
       "config": {
        "view": {
         "height": 300,
         "width": 400
        }
       },
       "data": {
        "name": "data-6848c08f6b43d814c683ff191c0a1025"
       },
       "datasets": {
        "data-6848c08f6b43d814c683ff191c0a1025": [
         {
          "name": 0,
          "outcome": 7
         },
         {
          "name": 1,
          "outcome": 7
         },
         {
          "name": 2,
          "outcome": 4
         },
         {
          "name": 3,
          "outcome": 7
         },
         {
          "name": 4,
          "outcome": 4
         },
         {
          "name": 5,
          "outcome": 4
         },
         {
          "name": 6,
          "outcome": 10
         },
         {
          "name": 7,
          "outcome": 7
         },
         {
          "name": 8,
          "outcome": 11
         },
         {
          "name": 9,
          "outcome": 3
         },
         {
          "name": 10,
          "outcome": 12
         },
         {
          "name": 11,
          "outcome": 10
         },
         {
          "name": 12,
          "outcome": 12
         },
         {
          "name": 13,
          "outcome": 12
         },
         {
          "name": 14,
          "outcome": 9
         },
         {
          "name": 15,
          "outcome": 14
         },
         {
          "name": 16,
          "outcome": 9
         },
         {
          "name": 17,
          "outcome": 6
         },
         {
          "name": 18,
          "outcome": 9
         },
         {
          "name": 19,
          "outcome": 10
         },
         {
          "name": 20,
          "outcome": 13
         },
         {
          "name": 21,
          "outcome": 15
         },
         {
          "name": 22,
          "outcome": 10
         },
         {
          "name": 23,
          "outcome": 15
         },
         {
          "name": 24,
          "outcome": 12
         },
         {
          "name": 25,
          "outcome": 13
         },
         {
          "name": 26,
          "outcome": 15
         },
         {
          "name": 27,
          "outcome": 15
         },
         {
          "name": 28,
          "outcome": 8
         },
         {
          "name": 29,
          "outcome": 9
         },
         {
          "name": 30,
          "outcome": 13
         },
         {
          "name": 31,
          "outcome": 11
         },
         {
          "name": 32,
          "outcome": 13
         },
         {
          "name": 33,
          "outcome": 13
         },
         {
          "name": 34,
          "outcome": 19
         },
         {
          "name": 35,
          "outcome": 16
         },
         {
          "name": 36,
          "outcome": 20
         },
         {
          "name": 37,
          "outcome": 16
         },
         {
          "name": 38,
          "outcome": 17
         },
         {
          "name": 39,
          "outcome": 11
         },
         {
          "name": 40,
          "outcome": 17
         },
         {
          "name": 41,
          "outcome": 11
         },
         {
          "name": 42,
          "outcome": 16
         },
         {
          "name": 43,
          "outcome": 15
         },
         {
          "name": 44,
          "outcome": 15
         },
         {
          "name": 45,
          "outcome": 18
         },
         {
          "name": 46,
          "outcome": 15
         },
         {
          "name": 47,
          "outcome": 16
         },
         {
          "name": 48,
          "outcome": 18
         },
         {
          "name": 49,
          "outcome": 20
         }
        ]
       },
       "encoding": {
        "x": {
         "field": "name",
         "type": "quantitative"
        },
        "y": {
         "field": "outcome",
         "type": "quantitative"
        }
       },
       "mark": "point"
      },
      "image/png": "[encoded data removed]",
      "text/plain": [
       "<VegaLite 2 object>\n",
       "\n",
       "If you see this message, it means the renderer has not been properly enabled\n",
       "for the frontend that you are using. For more information, see\n",
       "https://altair-viz.github.io/user_guide/troubleshooting.html\n"
      ]
     },
     "execution_count": 14,
     "metadata": {},
     "output_type": "execute_result"
    }
   ],
   "source": [
    "emp_var = head_counts[\"outcome\"].var()\n",
    "thry_var = stats.binom.var(n = num_flips, p = wald_estimate[0])\n",
    "\n",
    "print(emp_var,thry_var)\n",
    "\n",
    "alt.Chart(head_counts).mark_point().encode(\n",
    "    x = \"name\",\n",
    "    y = \"outcome\"\n",
    ")"
   ]
  }
 ],
 "metadata": {
  "kernelspec": {
   "display_name": "Python3 - python",
   "language": "python",
   "name": "ipython_python"
  },
  "language_info": {
   "codemirror_mode": {
    "name": "ipython",
    "version": 3
   },
   "file_extension": ".py",
   "mimetype": "text/x-python",
   "name": "python",
   "nbconvert_exporter": "python",
   "pygments_lexer": "ipython3",
   "version": "3.7.2"
  }
 },
 "nbformat": 4,
 "nbformat_minor": 2
}
